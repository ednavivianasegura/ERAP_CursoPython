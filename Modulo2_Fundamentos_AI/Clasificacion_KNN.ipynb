{
  "cells": [
    {
      "cell_type": "markdown",
      "metadata": {
        "id": "view-in-github",
        "colab_type": "text"
      },
      "source": [
        "<a href=\"https://colab.research.google.com/github/ednavivianasegura/ERAP_CursoPython/blob/main/Modulo2_Fundamentos_AI/Clasificacion_KNN.ipynb\" target=\"_parent\"><img src=\"https://colab.research.google.com/assets/colab-badge.svg\" alt=\"Open In Colab\"/></a>"
      ]
    },
    {
      "cell_type": "code",
      "source": [
        "!git clone https://github.com/ednavivianasegura/ERAP_CursoPython.git"
      ],
      "metadata": {
        "id": "wDnuSa0h7V9L"
      },
      "id": "wDnuSa0h7V9L",
      "execution_count": null,
      "outputs": []
    },
    {
      "cell_type": "code",
      "source": [
        "import os\n",
        "os.chdir(\"/content/ERAP_CursoPython/Modulo2_Fundamentos_AI\")"
      ],
      "metadata": {
        "id": "O5pcUvr27Vv4"
      },
      "id": "O5pcUvr27Vv4",
      "execution_count": null,
      "outputs": []
    },
    {
      "cell_type": "markdown",
      "id": "1cbfc4cf-0d8a-410a-984d-8a5d25a9c970",
      "metadata": {
        "id": "1cbfc4cf-0d8a-410a-984d-8a5d25a9c970"
      },
      "source": [
        "# KNN (K-Nearest Neighbors) - Clasificación con sklearn\n",
        "\n",
        "## Introducción\n",
        "\n",
        "El algoritmo KNN (K-Nearest Neighbors) es un método de clasificación supervisado que asigna una etiqueta\n",
        "a un nuevo punto de datos basándose en las etiquetas de sus vecinos más cercanos.\n",
        "Es simple pero efectivo, especialmente en problemas con pocas dimensiones."
      ]
    },
    {
      "cell_type": "code",
      "execution_count": null,
      "id": "fb81bd85-7384-40ed-8ef1-5fd2ca22d71b",
      "metadata": {
        "id": "fb81bd85-7384-40ed-8ef1-5fd2ca22d71b"
      },
      "outputs": [],
      "source": [
        "import matplotlib.pyplot as plt\n",
        "import matplotlib.image as mpimg\n",
        "plt.figure(figsize=(10, 6))\n",
        "img = mpimg.imread('Imagenes/KNN_1.png')\n",
        "plt.imshow(img)\n",
        "plt.axis('off')  # Opcional: oculta los ejes\n",
        "plt.show()"
      ]
    },
    {
      "cell_type": "code",
      "execution_count": null,
      "id": "5d740edc-3317-4623-a586-9898a0c4b662",
      "metadata": {
        "id": "5d740edc-3317-4623-a586-9898a0c4b662"
      },
      "outputs": [],
      "source": [
        "import matplotlib.pyplot as plt\n",
        "import matplotlib.image as mpimg\n",
        "plt.figure(figsize=(10, 6))\n",
        "img = mpimg.imread('Imagenes/KNN_2.png')\n",
        "plt.imshow(img)\n",
        "plt.axis('off')  # Opcional: oculta los ejes\n",
        "plt.show()"
      ]
    },
    {
      "cell_type": "markdown",
      "id": "416737da-edf4-465b-b903-063eadf79c86",
      "metadata": {
        "id": "416737da-edf4-465b-b903-063eadf79c86"
      },
      "source": [
        "**¿Cómo elegir la métrica?**\n",
        "\n",
        "Empezar con la **Euclidiana** si todo está escalado y normalizado.\n",
        "\n",
        "Probar **Manhattan** si los datos tienen:\n",
        "\n",
        "    - muchas variables categóricas codificadas,\n",
        "\n",
        "    - valores atípicos,\n",
        "\n",
        "    - gran dimensionalidad.\n",
        "\n",
        "Si no, probar  **Minkowski** para ajustar el “peso” de las diferencias."
      ]
    },
    {
      "cell_type": "code",
      "execution_count": null,
      "id": "9ff50cad-ccfd-427c-9b00-5bb141523212",
      "metadata": {
        "id": "9ff50cad-ccfd-427c-9b00-5bb141523212"
      },
      "outputs": [],
      "source": [
        "import matplotlib.pyplot as plt\n",
        "import matplotlib.image as mpimg\n",
        "plt.figure(figsize=(10, 6))\n",
        "img = mpimg.imread('Imagenes/LibreriaKNN.png')\n",
        "plt.imshow(img)\n",
        "plt.axis('off')  # Opcional: oculta los ejes\n",
        "plt.show()"
      ]
    },
    {
      "cell_type": "code",
      "execution_count": null,
      "id": "0df9372e-9f46-433c-b1c2-75c759330056",
      "metadata": {
        "id": "0df9372e-9f46-433c-b1c2-75c759330056"
      },
      "outputs": [],
      "source": [
        "## Importar librerías necesarias\n",
        "\n",
        "import numpy as np\n",
        "import pandas as pd\n",
        "import matplotlib.pyplot as plt\n",
        "from sklearn.model_selection import train_test_split\n",
        "from sklearn.preprocessing import StandardScaler\n",
        "from sklearn.neighbors import KNeighborsClassifier\n",
        "from sklearn.metrics import classification_report, confusion_matrix\n",
        "from sklearn.datasets import fetch_openml"
      ]
    },
    {
      "cell_type": "markdown",
      "id": "86ad26bf-7a93-41f7-9863-25acdbf7eba9",
      "metadata": {
        "id": "86ad26bf-7a93-41f7-9863-25acdbf7eba9"
      },
      "source": [
        "### Conjunto de datos: \"Banknote Authentication\"\n",
        "\n",
        "Este conjunto de datos de autenticación de billetes proporciona información para distinguir entre billetes auténticos y falsos. El conjunto de datos consta de características extraídas de imágenes de billetes, en las que cada imagen se procesó mediante técnicas estadísticas para captar detalles importantes para la clasificación. El conjunto de datos puede utilizarse en tareas de clasificación binaria para determinar si un billete es auténtico o falso.\n",
        "\n",
        "Características\n",
        "\n",
        "    -Varianza de la imagen transformada Wavelet: Mide la dispersión de los valores de la imagen.\n",
        "    \n",
        "    -Asimetría de la imagen transformada Wavelet: Mide la asimetría de la distribución de valores de la imagen.\n",
        "    \n",
        "    -Curtosis de la imagen transformada Wavelet (K): Describe las \"colas\" de la distribución de los valores de la        imagen.\n",
        "    \n",
        "    -Entropía de la imagen: Mide la aleatoriedad de la imagen."
      ]
    },
    {
      "cell_type": "code",
      "execution_count": null,
      "id": "cb1a64e0-64d5-49d3-9365-a9488bd3e87c",
      "metadata": {
        "id": "cb1a64e0-64d5-49d3-9365-a9488bd3e87c"
      },
      "outputs": [],
      "source": [
        "data = fetch_openml(name='banknote-authentication', version=1, as_frame=True)\n",
        "df = data.frame\n",
        "# Cambiar los nombres de las columnas\n",
        "nuevos_nombres = ['Varianza', 'Asimetría', 'Curtosis', 'Entropía', \"Clasificacion\"]\n",
        "df.columns = nuevos_nombres\n",
        "# Mostrar información básica\n",
        "df.head()\n",
        "#df[\"Class\"].dtypes"
      ]
    },
    {
      "cell_type": "code",
      "execution_count": null,
      "id": "ae27377c-57fd-4c81-b427-af53d0ab5306",
      "metadata": {
        "id": "ae27377c-57fd-4c81-b427-af53d0ab5306"
      },
      "outputs": [],
      "source": [
        "X = df.drop('Clasificacion', axis=1)\n",
        "y = df['Clasificacion'].astype(int)"
      ]
    },
    {
      "cell_type": "code",
      "execution_count": null,
      "id": "c2cb12b7-731c-4b7c-b503-5fcdd3c858e8",
      "metadata": {
        "id": "c2cb12b7-731c-4b7c-b503-5fcdd3c858e8"
      },
      "outputs": [],
      "source": [
        "## Dividir en datos de entrenamiento y prueba\n",
        "X_train, X_test, y_train, y_test = train_test_split(X, y, test_size=0.3, random_state=50)"
      ]
    },
    {
      "cell_type": "code",
      "execution_count": null,
      "id": "27c67bda-901f-4659-94ea-27f993732e42",
      "metadata": {
        "id": "27c67bda-901f-4659-94ea-27f993732e42"
      },
      "outputs": [],
      "source": [
        "## Normalizar los datos\n",
        "\n",
        "scaler = StandardScaler()\n",
        "X_train = scaler.fit_transform(X_train)\n",
        "X_test = scaler.transform(X_test)"
      ]
    },
    {
      "cell_type": "code",
      "execution_count": null,
      "id": "3690a1f3-fdb7-4226-8708-4ba05d0e796f",
      "metadata": {
        "id": "3690a1f3-fdb7-4226-8708-4ba05d0e796f"
      },
      "outputs": [],
      "source": [
        "## Entrenar el modelo KNN\n",
        "\n",
        "# Vamos a usar k=5 vecinos\n",
        "knn = KNeighborsClassifier(n_neighbors=5)\n",
        "knn.fit(X_train, y_train)"
      ]
    },
    {
      "cell_type": "code",
      "execution_count": null,
      "id": "7c744038-6c79-49ca-aa47-43864c476934",
      "metadata": {
        "id": "7c744038-6c79-49ca-aa47-43864c476934"
      },
      "outputs": [],
      "source": [
        "## Hacer predicciones\n",
        "y_pred = knn.predict(X_test)"
      ]
    },
    {
      "cell_type": "code",
      "execution_count": null,
      "id": "928f7002-348c-4d7c-b3c0-28219e3408a3",
      "metadata": {
        "id": "928f7002-348c-4d7c-b3c0-28219e3408a3"
      },
      "outputs": [],
      "source": [
        "## Evaluar el modelo\n",
        "\n",
        "print(\"Matriz de confusión:\")\n",
        "print(confusion_matrix(y_test, y_pred))\n",
        "print(\"\\nReporte de clasificación:\")\n",
        "print(classification_report(y_test, y_pred))"
      ]
    },
    {
      "cell_type": "code",
      "execution_count": null,
      "id": "98088e3a-c13e-4111-bd74-bee5b3809b2f",
      "metadata": {
        "id": "98088e3a-c13e-4111-bd74-bee5b3809b2f"
      },
      "outputs": [],
      "source": [
        "## Visualización sencilla (usando sólo 2 características para graficar)\n",
        "\n",
        "X_vis = X[['Varianza', 'Curtosis']]  # Usamos sólo las dos primeras características\n",
        "X_vis_train, X_vis_test, y_vis_train, y_vis_test = train_test_split(X_vis, y, test_size=0.3, random_state=42)\n",
        "scaler_vis = StandardScaler()\n",
        "X_vis_train = scaler_vis.fit_transform(X_vis_train)\n",
        "X_vis_test = scaler_vis.transform(X_vis_test)\n",
        "\n",
        "knn_vis = KNeighborsClassifier(n_neighbors=5)\n",
        "knn_vis.fit(X_vis_train, y_vis_train)\n",
        "\n",
        "# Predecir las etiquetas del conjunto de prueba (X_vis_test)\n",
        "y_vis_pred = knn_vis.predict(X_vis_test)\n",
        "\n",
        "# Crear una malla para graficar\n",
        "h = 0.05  # define la resolución de la malla.\n",
        "\n",
        "# Calcula los límites del gráfico para el eje X y Y.\n",
        "# Se agrega un margen de 1 unidad alrededor de los datos\n",
        "# para que la visualización no se recorte.\n",
        "\n",
        "x_min, x_max = X_vis_train[:, 0].min() - 1, X_vis_train[:, 0].max() + 1 # <-X_vis_train[:,0]:primera característica.\n",
        "y_min, y_max = X_vis_train[:, 1].min() - 1, X_vis_train[:, 1].max() + 1 # <-X_vis_train[:,1]:segunda característica.\n",
        "\n",
        "# Crea una rejilla de coordenadas (malla 2D) con todos los puntos del espacio\n",
        "# en los que se hacen las predicciones.\n",
        "\n",
        "xx, yy = np.meshgrid(np.arange(x_min, x_max, h),\n",
        "                     np.arange(y_min, y_max, h))\n",
        "\n",
        "# Hacer predicciones sobre todos los puntos de la malla.\n",
        "# Así se obtienen la clase que el modelo KNN asigna a cada punto.\n",
        "\n",
        "Z = knn_vis.predict(np.c_[xx.ravel(), yy.ravel()]) #<- ravel() convierte las matrices 2D en vectores 1D.\n",
        "                                                   #<- np.c_[] combina los vectores de coordenadas X e Y\n",
        "                                                   #   en una sola matriz de entrada para el modelo.\n",
        "\n",
        "\n",
        "Z = Z.reshape(xx.shape) # <- Convierte el vector Z de vuelta a la forma de la malla xx,\n",
        "                        #    para que coincida con la estructura de coordenadas y se pueda graficar correctamente.\n",
        "\n",
        "plt.figure(figsize=(10,6))\n",
        "plt.contourf(xx, yy, Z, cmap=plt.cm.Pastel1)\n",
        "\n",
        "# y_vis_train: colorea los puntos según su clase real.\n",
        "# plt.cm.Set1: usa una paleta de colores brillante y contrastante.\n",
        "# 'k': pone un borde negro alrededor de cada punto.\n",
        "\n",
        "\n",
        "plt.scatter(X_vis_train[:, 0], X_vis_train[:, 1], c=y_vis_train, cmap=plt.cm.Set1, edgecolor='k', s=40)\n",
        "\n",
        "\n",
        "plt.title(\"Fronteras de decisión del KNN (k=5) usando dos características\")\n",
        "plt.xlabel(\"Varianza\")\n",
        "plt.ylabel(\"Asimetria\")\n",
        "plt.show()"
      ]
    },
    {
      "cell_type": "code",
      "execution_count": null,
      "id": "33b40da6-0df7-41f8-910d-11a7080112a5",
      "metadata": {
        "id": "33b40da6-0df7-41f8-910d-11a7080112a5"
      },
      "outputs": [],
      "source": [
        "## Evaluar el modelo\n",
        "print(\"Matriz de confusión:\")\n",
        "print(confusion_matrix(y_vis_test, y_vis_pred))\n",
        "print(\"\\nReporte de clasificación:\")\n",
        "print(classification_report(y_vis_test, y_vis_pred))"
      ]
    }
  ],
  "metadata": {
    "kernelspec": {
      "display_name": "Python 3 (ipykernel)",
      "language": "python",
      "name": "python3"
    },
    "language_info": {
      "codemirror_mode": {
        "name": "ipython",
        "version": 3
      },
      "file_extension": ".py",
      "mimetype": "text/x-python",
      "name": "python",
      "nbconvert_exporter": "python",
      "pygments_lexer": "ipython3",
      "version": "3.13.2"
    },
    "colab": {
      "provenance": [],
      "include_colab_link": true
    }
  },
  "nbformat": 4,
  "nbformat_minor": 5
}