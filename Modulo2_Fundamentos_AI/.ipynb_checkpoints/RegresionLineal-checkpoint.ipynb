{
  "cells": [
    {
      "cell_type": "markdown",
      "metadata": {
        "id": "view-in-github",
        "colab_type": "text"
      },
      "source": [
        "<a href=\"https://colab.research.google.com/github/ednavivianasegura/ERAP_CursoPython/blob/main/Modulo2_Fundamentos_AI/.ipynb_checkpoints/RegresionLineal-checkpoint.ipynb\" target=\"_parent\"><img src=\"https://colab.research.google.com/assets/colab-badge.svg\" alt=\"Open In Colab\"/></a>"
      ]
    },
    {
      "cell_type": "code",
      "source": [
        "!git clone https://github.com/ednavivianasegura/ERAP_CursoPython.git"
      ],
      "metadata": {
        "id": "zOXaHSPf3jz5"
      },
      "id": "zOXaHSPf3jz5",
      "execution_count": null,
      "outputs": []
    },
    {
      "cell_type": "code",
      "source": [
        "import os\n",
        "os.chdir(\"/content/ERAP_CursoPython/Modulo2_Fundamentos_AI\")\n"
      ],
      "metadata": {
        "id": "UzCaOjVA34YD"
      },
      "id": "UzCaOjVA34YD",
      "execution_count": null,
      "outputs": []
    },
    {
      "cell_type": "markdown",
      "id": "f8352a48-556a-4906-a6d4-8cc2c301ba93",
      "metadata": {
        "id": "f8352a48-556a-4906-a6d4-8cc2c301ba93"
      },
      "source": [
        "# Regresión lineal\n",
        "$$\n",
        "y = \\underbrace{\\beta_0}_\\text{Intercepto} + \\underbrace{\\beta_1}_\\text{Coeficiente 1} x_1 + \\underbrace{\\beta_2}_\\text{Coeficiente 2}  x_2 + \\underbrace{\\beta_3}_\\text{Coeficiente 3}  x_3 + \\underbrace{\\beta_4}_\\text{Coeficiente 4}  x_4\n",
        "$$\n"
      ]
    },
    {
      "cell_type": "markdown",
      "id": "6abf3b14-a7f0-4550-8d3e-894ae8f68ff6",
      "metadata": {
        "id": "6abf3b14-a7f0-4550-8d3e-894ae8f68ff6"
      },
      "source": [
        "### Conceptos."
      ]
    },
    {
      "cell_type": "markdown",
      "id": "9a2860f0-60ad-4f7d-a220-5ab4c43f2046",
      "metadata": {
        "id": "9a2860f0-60ad-4f7d-a220-5ab4c43f2046"
      },
      "source": [
        "1. El término *regresión lineal* se refiere a que el modelo es lineal en sus parámetros:\n",
        "$$\n",
        "\\beta_1,\\beta_2,\\beta_3....\\beta_i\n",
        "$$\n",
        "\n",
        "2. Las variables:\n",
        "$$\n",
        "x_1,x_2,x_3...x_i\n",
        "$$\n",
        "reciben el nombre de variables independientes o explicativas.\n",
        "\n",
        "3. La variable:  **y**  recibe el nombre de variable dependiente o explicada.\n"
      ]
    },
    {
      "cell_type": "markdown",
      "id": "d1a1b0d5-7bcb-4b6f-b355-6ecd3777707a",
      "metadata": {
        "id": "d1a1b0d5-7bcb-4b6f-b355-6ecd3777707a"
      },
      "source": [
        "### Supuestos"
      ]
    },
    {
      "cell_type": "markdown",
      "id": "1b51dfc5-9194-4692-8b36-c5fbd5eef9c4",
      "metadata": {
        "id": "1b51dfc5-9194-4692-8b36-c5fbd5eef9c4"
      },
      "source": [
        "1. **Independencia de los errores:** los errores son independientes entre sí. No deben estar correlacionados.\n",
        "2. **Homoscedasticidad** (varianza constante del error): La varianza de los errores es constante para todos los valores de X.\n",
        "3. **Normalidad de los errores:** Los errores siguen una distribución normal(esto es importante para hacer inferencia, no tanto para estimar β).\n",
        "5. **No multicolinealidad** (en regresión múltiple): Las variables independientes no deben estar fuertemente correlacionadas entre sí."
      ]
    },
    {
      "cell_type": "code",
      "execution_count": null,
      "id": "d8354042-fc22-4313-9f43-7b56337fc7e6",
      "metadata": {
        "id": "d8354042-fc22-4313-9f43-7b56337fc7e6"
      },
      "outputs": [],
      "source": [
        "import pandas as pd\n",
        "import numpy as np\n",
        "import seaborn as sns\n",
        "from statsmodels.stats.outliers_influence import variance_inflation_factor\n",
        "from sklearn.model_selection import train_test_split\n",
        "from sklearn.preprocessing import StandardScaler\n",
        "import statsmodels.api as sm\n",
        "import matplotlib.pyplot as plt"
      ]
    },
    {
      "cell_type": "code",
      "execution_count": null,
      "id": "5942f4bb-222d-4c3d-a050-c8b18e2640a6",
      "metadata": {
        "id": "5942f4bb-222d-4c3d-a050-c8b18e2640a6"
      },
      "outputs": [],
      "source": [
        "print(\"--\"*65)"
      ]
    },
    {
      "cell_type": "markdown",
      "id": "c078d663-6227-41ae-9b34-973bfb96138e",
      "metadata": {
        "id": "c078d663-6227-41ae-9b34-973bfb96138e"
      },
      "source": [
        "# Ejemplo introductorio"
      ]
    },
    {
      "cell_type": "code",
      "execution_count": null,
      "id": "d903d007-28d6-448f-953d-40185659f9f7",
      "metadata": {
        "id": "d903d007-28d6-448f-953d-40185659f9f7"
      },
      "outputs": [],
      "source": [
        "# Definir los valores posibles y sus probabilidades\n",
        "\n",
        "# 1. Generar datos correctamente\n",
        "np.random.seed(42)\n",
        "s = 1000\n",
        "\n",
        "df = pd.DataFrame({\n",
        "    'MetrosCuadrados': np.random.randint(30, 110, s),\n",
        "    'Planta': np.random.randint(1, 11, s),\n",
        "    'DistanciaPlaya_km': np.random.randint(1, 11, s)\n",
        "})\n",
        "\n",
        "# Coeficientes balanceados\n",
        "df['Precio'] = (\n",
        "    2000 +\n",
        "    3500 * df['MetrosCuadrados'] +\n",
        "    2500 * df['Planta'] -\n",
        "    500  * df['DistanciaPlaya_km'] +\n",
        "    np.random.normal(0, 1000, s)*2  # Ruido SD=1000\n",
        ")\n",
        "\n",
        "# 2. Guardar sin índice (esto es crucial)\n",
        "df.to_csv(\"data/PrecioVivienda.csv\", index=False)"
      ]
    },
    {
      "cell_type": "code",
      "execution_count": null,
      "id": "83bde181-1b4c-44ad-bc8b-0867d4d15140",
      "metadata": {
        "id": "83bde181-1b4c-44ad-bc8b-0867d4d15140"
      },
      "outputs": [],
      "source": [
        "# Leer los datos\n",
        "data = pd.read_csv(\"data/PrecioVivienda.csv\")\n",
        "data"
      ]
    },
    {
      "cell_type": "code",
      "execution_count": null,
      "id": "dd27dc83-ff13-491b-8cc8-e8326fa847fc",
      "metadata": {
        "id": "dd27dc83-ff13-491b-8cc8-e8326fa847fc"
      },
      "outputs": [],
      "source": [
        "# Generar un diagrama de calor para observar la correlación entre variables\n",
        "corr = data.corr()\n",
        "sns.heatmap(corr, cmap = 'Wistia', annot= True);"
      ]
    },
    {
      "cell_type": "code",
      "execution_count": null,
      "id": "0eeb41ed-30b1-4491-8298-fdfa8004947a",
      "metadata": {
        "id": "0eeb41ed-30b1-4491-8298-fdfa8004947a"
      },
      "outputs": [],
      "source": [
        "# Separar las variables explicativas y la objetivo\n",
        "X = data.drop('Precio', axis=1)\n",
        "y = data['Precio']"
      ]
    },
    {
      "cell_type": "markdown",
      "id": "a3bbf941-3cfe-48ba-8141-5275d93add0d",
      "metadata": {
        "id": "a3bbf941-3cfe-48ba-8141-5275d93add0d"
      },
      "source": [
        "## Escalado (Standardization)\n",
        "$$ z = \\frac{x - \\mu}{\\sigma} $$"
      ]
    },
    {
      "cell_type": "code",
      "execution_count": null,
      "id": "737d9595-87c4-4445-80e3-a08e956b4f79",
      "metadata": {
        "id": "737d9595-87c4-4445-80e3-a08e956b4f79"
      },
      "outputs": [],
      "source": [
        "# Escalar características (opcional pero recomendado)\n",
        "# Manualmente (ejemplo)\n",
        "#X_train_scaled = (X - np.mean(X, axis=0)) / np.std(X, axis=0)\n",
        "#X_train_sm = sm.add_constant(X_train_scaled)                   # Añadir intercepto\n",
        "\n",
        "# Usando sklearn\n",
        "\n",
        "scaler = StandardScaler()\n",
        "X_scaled = scaler.fit_transform(X)\n",
        "X_scaled = pd.DataFrame(X_scaled, columns=X.columns)"
      ]
    },
    {
      "cell_type": "code",
      "execution_count": null,
      "id": "e44ed41c-3a5d-449b-a70f-6b0ccb3296d3",
      "metadata": {
        "id": "e44ed41c-3a5d-449b-a70f-6b0ccb3296d3"
      },
      "outputs": [],
      "source": [
        "# 7. Dividir datos (usando datos escalados)\n",
        "X_train, X_test, y_train, y_test = train_test_split(X_scaled,  # Usar datos escalados\n",
        "                                                           y,\n",
        "                                                    test_size=0.2,\n",
        "                                                    random_state=42)"
      ]
    },
    {
      "cell_type": "code",
      "execution_count": null,
      "id": "2f234d4a-4d6b-49cc-8263-2733abe4fd1e",
      "metadata": {
        "id": "2f234d4a-4d6b-49cc-8263-2733abe4fd1e"
      },
      "outputs": [],
      "source": [
        "# 8. Añadir constante para statsmodels\n",
        "X_train_sm = sm.add_constant(X_train)"
      ]
    },
    {
      "cell_type": "code",
      "execution_count": null,
      "id": "3bdfc751-a469-4c47-a215-04f744a62189",
      "metadata": {
        "id": "3bdfc751-a469-4c47-a215-04f744a62189"
      },
      "outputs": [],
      "source": [
        "# 9. Entrenar modelo\n",
        "ols_model = sm.OLS(y_train, X_train_sm).fit()\n",
        "print(ols_model.summary())"
      ]
    },
    {
      "cell_type": "markdown",
      "id": "113c1877-899c-4cc1-be12-972109b99fe2",
      "metadata": {
        "id": "113c1877-899c-4cc1-be12-972109b99fe2"
      },
      "source": [
        "## Diagnostico\n",
        "0. **Linealidad**: Gráfico de residuos vs predichos → no debe haber forma curva.\n",
        "1. **Independencia de los errores:** Test de Durbin-Watson (valor cercano a 2 indica independencia).\n",
        "2. **Homoscedasticidad** Test de Breusch-Pagan o White.\n",
        "3. **Normalidad de los errores:** Test de normalidad: Shapiro-Wilk, Jarque-Bera.\n",
        "5. **No multicolinealidad** Matriz de correlación. VIF (Variance Inflation Factor): valores > 10 indican alta colinealidad."
      ]
    },
    {
      "cell_type": "markdown",
      "id": "731354db-98c0-4062-b547-514f1425cf9d",
      "metadata": {
        "id": "731354db-98c0-4062-b547-514f1425cf9d"
      },
      "source": [
        "### Información general del modelo"
      ]
    },
    {
      "cell_type": "markdown",
      "id": "8cbb164b-6e38-4fad-a348-26d1fa97e6ca",
      "metadata": {
        "id": "8cbb164b-6e38-4fad-a348-26d1fa97e6ca"
      },
      "source": [
        "\n",
        "| Elemento                          | Valor                        | Interpretación                                                          |\n",
        "| --------------------------------- | ---------------------------- | ----------------------------------------------------------------------- |\n",
        "| **Modelo**                        | OLS (Ordinary Least Squares) | Regresión lineal clásica, minimiza la suma de cuadrados de los errores. |\n",
        "| **Dependiente**                   | `Precio`                     | Estamos modelando el precio de la vivienda.              |\n",
        "| **N. observaciones**              | 800                          | Tamaño de la Muestra.                                                 |\n",
        "| **Grados de libertad (modelo)**   | 3                            | Tres variables independientes.                                          |\n",
        "| **Grados de libertad (residuos)** | 796                          | 800 - 3 - 1 (constante)                                                 |\n"
      ]
    },
    {
      "cell_type": "markdown",
      "id": "c14052f1-a249-49c3-be73-b9c4d8b142dc",
      "metadata": {
        "id": "c14052f1-a249-49c3-be73-b9c4d8b142dc"
      },
      "source": [
        "### Calidad del modelo"
      ]
    },
    {
      "cell_type": "markdown",
      "id": "1750b9e0-c156-483b-a905-536bea3a8d47",
      "metadata": {
        "id": "1750b9e0-c156-483b-a905-536bea3a8d47"
      },
      "source": [
        "| Métrica                | Valor  | Interpretación                                                            |\n",
        "| ---------------------- | ------ | ------------------------------------------------------------------------- |\n",
        "| **R-squared**          | 0.999  | El modelo explica el **99.9% de la varianza** de la variable dependiente. |\n",
        "| **Adj. R-squared**     | 0.999  | También 0.999.Están las variables que son.     |\n",
        "| **F-statistic**        | 415700 | Prueba global de significancia: extremadamente alto.                      |\n",
        "| **Prob (F-statistic)** | 0.000  | El modelo es **estadísticamente significativo en conjunto**.              |\n"
      ]
    },
    {
      "cell_type": "markdown",
      "id": "223d9176-946e-4a5d-8113-6002e9d96aa1",
      "metadata": {
        "id": "223d9176-946e-4a5d-8113-6002e9d96aa1"
      },
      "source": [
        "### Coeficientes y Significancia"
      ]
    },
    {
      "cell_type": "markdown",
      "id": "350e2a79-a6c9-4b4e-9012-1ddc4f3f45c1",
      "metadata": {
        "id": "350e2a79-a6c9-4b4e-9012-1ddc4f3f45c1"
      },
      "source": [
        "| Prueba                    | Valor        | Interpretación                                                                 |\n",
        "| ------------------------- | ------------ | ------------------------------------------------------------------------------ |\n",
        "| **Durbin-Watson**         | 2.052        | Cerca de 2 → los errores **no están autocorrelacionados** (supuesto cumplido). |\n",
        "| **Omnibus** / **JB Test** | p = 0.270    | Prueba de normalidad de residuos → p > 0.05 → **normalidad aceptada**.         |\n",
        "| **Skew / Kurtosis**       | -0.140 / \\~3 | Distribución de errores **simétrica y normal**.                                |\n",
        "| **Cond. No. (Condición)** | 1.04         | **No hay colinealidad** severa entre variables (Esto sería excelente).         |\n"
      ]
    },
    {
      "cell_type": "markdown",
      "id": "da0e074d-f8f7-4d03-b613-2daf362ca585",
      "metadata": {
        "id": "da0e074d-f8f7-4d03-b613-2daf362ca585"
      },
      "source": [
        "**Conclusiones generales:**\n",
        "\n",
        "✅ El modelo cumple los supuestos clásicos de independencia y normalidad de errores.\n",
        "\n",
        "✅ Los coeficientes son significativos: Todas las variables aportan valor al modelo.\n",
        "\n",
        "✅ No hay multicolinealidad: Condición del número muy baja.\n",
        "\n",
        "🚨 R² muy alto, hay que comprobar que no haya overfitting.\n",
        "\n",
        "**Falta:**\n",
        "\n",
        "🚨 Linealidad.\n",
        "\n",
        "🚨 Homocedasticidad."
      ]
    },
    {
      "cell_type": "markdown",
      "id": "df33ae1d-70f0-478a-bc27-a433a345424d",
      "metadata": {
        "id": "df33ae1d-70f0-478a-bc27-a433a345424d"
      },
      "source": [
        "### Vamos a hacer las prediciones con el modelo"
      ]
    },
    {
      "cell_type": "code",
      "execution_count": null,
      "id": "b28ca636-fc30-48a0-9050-327c447d56a5",
      "metadata": {
        "id": "b28ca636-fc30-48a0-9050-327c447d56a5"
      },
      "outputs": [],
      "source": [
        "# Predicciones\n",
        "y_train_pred_ols = ols_model.predict(X_train_sm)\n",
        "X_test_sm        = sm.add_constant(X_test)\n",
        "y_test_pred_ols  = ols_model.predict(X_test_sm)"
      ]
    },
    {
      "cell_type": "markdown",
      "id": "e7a4723f-5e68-4fb8-97e4-463586c62ade",
      "metadata": {
        "id": "e7a4723f-5e68-4fb8-97e4-463586c62ade"
      },
      "source": [
        "## Linealidad"
      ]
    },
    {
      "cell_type": "markdown",
      "id": "73fb6d77-6e4f-4b65-918b-9b61a488ee11",
      "metadata": {
        "id": "73fb6d77-6e4f-4b65-918b-9b61a488ee11"
      },
      "source": [
        "### Gráfico de residuos vs predichos → no debe haber forma curva."
      ]
    },
    {
      "cell_type": "code",
      "execution_count": null,
      "id": "7f97b991-dc22-4a93-aa35-4e7311f358ed",
      "metadata": {
        "id": "7f97b991-dc22-4a93-aa35-4e7311f358ed"
      },
      "outputs": [],
      "source": [
        "# ---------- Visualizaciones ---------- #\n",
        "# 1. Real vs. Predicho\n",
        "plt.figure(figsize=(12, 5))\n",
        "\n",
        "plt.subplot(1, 2, 1)\n",
        "sns.scatterplot(x=y_train, y=y_train_pred_ols, alpha=0.7)\n",
        "plt.plot([y_train.min(), y_train.max()], [y_train.min(), y_train.max()], 'r--')\n",
        "plt.title(\"Train: Real vs. Predicho\")\n",
        "plt.xlabel(\"Real\")\n",
        "plt.ylabel(\"Predicho\")\n",
        "\n",
        "plt.subplot(1, 2, 2)\n",
        "sns.scatterplot(x=y_test, y=y_test_pred_ols, alpha=0.7)\n",
        "plt.plot([y_test.min(), y_test.max()], [y_test.min(), y_test.max()], 'r--')\n",
        "plt.title(\"Test: Real vs. Predicho\")\n",
        "plt.xlabel(\"Real\")\n",
        "plt.ylabel(\"Predicho\")\n",
        "\n",
        "plt.tight_layout()\n",
        "plt.show()"
      ]
    },
    {
      "cell_type": "markdown",
      "id": "ab9343ef-fad5-4b1c-bad9-f0e4a917e88a",
      "metadata": {
        "id": "ab9343ef-fad5-4b1c-bad9-f0e4a917e88a"
      },
      "source": [
        "### Homocedasticidad\n",
        "\n",
        "Al Graficar los residuos (error = real − predicho) en el eje Y, contra los valores predichos en el eje X, debe mostrarse\n",
        "una nube dispersa sin forma ni patrón"
      ]
    },
    {
      "cell_type": "code",
      "execution_count": null,
      "id": "930595e7-5e0f-4712-99c2-4809f5d9dbab",
      "metadata": {
        "id": "930595e7-5e0f-4712-99c2-4809f5d9dbab"
      },
      "outputs": [],
      "source": [
        "# Residuos vs. Valores ajustados\n",
        "fitted_vals = ols_model.fittedvalues\n",
        "residuals = ols_model.resid\n",
        "\n",
        "plt.figure(figsize=(8, 5))\n",
        "sns.residplot(x=fitted_vals, y=residuals, lowess=True, line_kws={'color': 'red'})\n",
        "plt.axhline(0, linestyle='--', color='gray')\n",
        "plt.xlabel(\"Valores Predichos\")\n",
        "plt.ylabel(\"Residuos\")\n",
        "plt.title(\"Residuos vs. Valores Predichos\")\n",
        "plt.show()"
      ]
    },
    {
      "cell_type": "code",
      "execution_count": null,
      "id": "bd09b5e4-b6fd-431e-be9f-ce1d4859e5ca",
      "metadata": {
        "id": "bd09b5e4-b6fd-431e-be9f-ce1d4859e5ca"
      },
      "outputs": [],
      "source": [
        "# 4. Q-Q PLOT ( Otra manera de verificar la normalidad de los residuos)\n",
        "sm.qqplot(residuals, line='45', fit=True)\n",
        "plt.title(\"Gráfico Q-Q de los residuos\")\n",
        "plt.show()"
      ]
    },
    {
      "cell_type": "markdown",
      "id": "d1c5bf83-2ecc-44ad-a9ed-85e44b79e81a",
      "metadata": {
        "id": "d1c5bf83-2ecc-44ad-a9ed-85e44b79e81a"
      },
      "source": [
        "## 🚨 Los Coeficientes hallados, están escalados, no son los reales de la regresión."
      ]
    },
    {
      "cell_type": "markdown",
      "id": "b7ab417b-1e9a-4d41-b322-21a7fe9228f1",
      "metadata": {
        "id": "b7ab417b-1e9a-4d41-b322-21a7fe9228f1"
      },
      "source": [
        "$$\n",
        "y = \\beta_0 + \\beta_1 z = \\beta_0 + \\beta_1 \\left( \\frac{X - \\mu}{\\sigma} \\right) = \\underbrace{\\left( \\beta_0 - \\frac{\\beta_1 \\mu}{\\sigma} \\right)}_{\\text{Nuevo intercepto}} + \\underbrace{\\left( \\frac{\\beta_1}{\\sigma} \\right)}_{\\text{Nueva pendiente}} X\n",
        "$$"
      ]
    },
    {
      "cell_type": "markdown",
      "id": "17457b2d-fa1a-4b24-9fa6-a81ff1131099",
      "metadata": {
        "id": "17457b2d-fa1a-4b24-9fa6-a81ff1131099"
      },
      "source": [
        "## Ajuste de coeficientes\n",
        "$$ \\beta_0^{\\text{original}} = \\beta_0^{\\text{escalado}} - \\sum_{i=1}^n \\left( \\beta_i^{\\text{escalado}} \\cdot \\frac{\\mu_i}{\\sigma_i} \\right) $$\n",
        "\n",
        "$$ \\beta_i^{\\text{original}} = \\frac{\\beta_i^{\\text{escalado}}}{\\sigma_i} $$"
      ]
    },
    {
      "cell_type": "code",
      "execution_count": null,
      "id": "729db0a1-fb7b-42f0-ba7f-e1155ab5f5dc",
      "metadata": {
        "id": "729db0a1-fb7b-42f0-ba7f-e1155ab5f5dc"
      },
      "outputs": [],
      "source": [
        "# Obtener los coeficientes originales.\n",
        "scaler_means = scaler.mean_\n",
        "scaler_stds = np.sqrt(scaler.var_)\n",
        "\n",
        "intercepto_original  = ols_model.params.iloc[0] - np.sum(ols_model.params.iloc[1:] * scaler_means / scaler_stds)\n",
        "coef_metros_original = ols_model.params.iloc[1] / scaler_stds[0]\n",
        "coef_planta_original = ols_model.params.iloc[2] / scaler_stds[1]\n",
        "coef_dist_original   = ols_model.params.iloc[3] / scaler_stds[2]"
      ]
    },
    {
      "cell_type": "code",
      "execution_count": null,
      "id": "41895cbf-113f-4dc1-8a36-f6fe69521020",
      "metadata": {
        "id": "41895cbf-113f-4dc1-8a36-f6fe69521020"
      },
      "outputs": [],
      "source": [
        "print(\"Intercepto_original:\", intercepto_original)\n",
        "print(\"Coef_metros_original:\",coef_metros_original)\n",
        "print(\"Coef_planta_original:\",coef_planta_original)\n",
        "print(\"Coef_dist_original:  \",coef_dist_original)"
      ]
    },
    {
      "cell_type": "markdown",
      "id": "317a7018-0a64-4802-9026-2a35769b2cb3",
      "metadata": {
        "id": "317a7018-0a64-4802-9026-2a35769b2cb3"
      },
      "source": [
        "# Ahora con datos reales"
      ]
    },
    {
      "cell_type": "markdown",
      "id": "631c1758-5a26-420a-9172-42e506fa7903",
      "metadata": {
        "id": "631c1758-5a26-420a-9172-42e506fa7903"
      },
      "source": [
        "### Predicción de los precios del oro"
      ]
    },
    {
      "cell_type": "code",
      "execution_count": null,
      "id": "48d61842-841d-4a26-864c-7ac5a3a391d3",
      "metadata": {
        "id": "48d61842-841d-4a26-864c-7ac5a3a391d3"
      },
      "outputs": [],
      "source": [
        "# Leer los datos\n",
        "data = pd.read_csv(\"data/GoldUP.csv\")"
      ]
    },
    {
      "cell_type": "code",
      "execution_count": null,
      "id": "c717e8f2-3171-4949-aebd-5b0d86990b37",
      "metadata": {
        "id": "c717e8f2-3171-4949-aebd-5b0d86990b37"
      },
      "outputs": [],
      "source": [
        "data.head(2)"
      ]
    },
    {
      "cell_type": "code",
      "execution_count": null,
      "id": "0bbf44e2-91cc-4d12-acf7-ccded0eaf693",
      "metadata": {
        "id": "0bbf44e2-91cc-4d12-acf7-ccded0eaf693"
      },
      "outputs": [],
      "source": [
        "del data[\"Date\"]"
      ]
    },
    {
      "cell_type": "code",
      "execution_count": null,
      "id": "1193851a-1502-4fbb-af2c-b5d195bd2053",
      "metadata": {
        "id": "1193851a-1502-4fbb-af2c-b5d195bd2053"
      },
      "outputs": [],
      "source": [
        "data"
      ]
    },
    {
      "cell_type": "code",
      "execution_count": null,
      "id": "3f46a041-f84d-4f73-82d6-227ed23fe856",
      "metadata": {
        "id": "3f46a041-f84d-4f73-82d6-227ed23fe856"
      },
      "outputs": [],
      "source": [
        "# correlation plot\n",
        "corr = data.corr()\n",
        "sns.heatmap(corr, cmap = 'Wistia', annot= True);"
      ]
    },
    {
      "cell_type": "code",
      "execution_count": null,
      "id": "b0465ffe-2e35-4e00-ba2d-799a0310e338",
      "metadata": {
        "id": "b0465ffe-2e35-4e00-ba2d-799a0310e338"
      },
      "outputs": [],
      "source": [
        "data.columns"
      ]
    },
    {
      "cell_type": "code",
      "execution_count": null,
      "id": "ad1aba7a-2d10-484d-9787-7b843a4d9c05",
      "metadata": {
        "id": "ad1aba7a-2d10-484d-9787-7b843a4d9c05"
      },
      "outputs": [],
      "source": [
        "#0      Crude_Oil   5.210012\n",
        "#1  Interest_Rate   2.144892\n",
        "#2        USD_INR  26.025052\n",
        "#3         Sensex  20.330916\n",
        "#4            CPI  62.018251\n",
        "#5      USD_Index   3.918682"
      ]
    },
    {
      "cell_type": "code",
      "execution_count": null,
      "id": "12a87463-3e8b-417d-b5f9-4c7a99df4d02",
      "metadata": {
        "id": "12a87463-3e8b-417d-b5f9-4c7a99df4d02"
      },
      "outputs": [],
      "source": [
        "# Dividir entre variables explicativas y variable respuesta\n",
        "# 1.Manteniendo todas las variables\n",
        "#X = data.drop(['Gold_Price'], axis=1)\n",
        "#y = data['Gold_Price']\n",
        "# 2. Eliminando variables correlacionadas\n",
        "X = data[['CPI','Crude_Oil']]\n",
        "y = data['Gold_Price']\n",
        "# Train-test split\n",
        "X_train, X_test, y_train, y_test = train_test_split(X, y, test_size=0.2, random_state=42)"
      ]
    },
    {
      "cell_type": "code",
      "execution_count": null,
      "id": "36afe643-b6e7-43a5-9242-979e5272612b",
      "metadata": {
        "id": "36afe643-b6e7-43a5-9242-979e5272612b"
      },
      "outputs": [],
      "source": [
        "# Standardize features\n",
        "scaler = StandardScaler()\n",
        "X_train_scaled = scaler.fit_transform(X_train)\n",
        "X_test_scaled = scaler.transform(X_test)\n",
        "\n",
        "# ----------- OLS Regression with statsmodels ----------- #\n",
        "# Add constant (intercept) for statsmodels\n",
        "X_train_sm = sm.add_constant(X_train_scaled)"
      ]
    },
    {
      "cell_type": "code",
      "execution_count": null,
      "id": "eacba1dc-8225-4687-a1ce-a009f8cefbd8",
      "metadata": {
        "id": "eacba1dc-8225-4687-a1ce-a009f8cefbd8"
      },
      "outputs": [],
      "source": [
        "# Fit OLS model\n",
        "ols_model = sm.OLS(y_train, X_train_sm).fit()"
      ]
    },
    {
      "cell_type": "code",
      "execution_count": null,
      "id": "fc45bcf6-46f6-4278-b27b-c6821367676f",
      "metadata": {
        "id": "fc45bcf6-46f6-4278-b27b-c6821367676f"
      },
      "outputs": [],
      "source": [
        "# Summary of the model\n",
        "print(\"\\nOLS Regression Summary:\")\n",
        "print(ols_model.summary())"
      ]
    },
    {
      "cell_type": "code",
      "execution_count": null,
      "id": "e6ce6471-44f2-4b21-84c3-e1391beff85a",
      "metadata": {
        "id": "e6ce6471-44f2-4b21-84c3-e1391beff85a"
      },
      "outputs": [],
      "source": [
        "# Predicciones\n",
        "y_train_pred_ols = ols_model.predict(X_train_sm)\n",
        "X_test_sm        = sm.add_constant(X_test_scaled)\n",
        "y_test_pred_ols  = ols_model.predict(X_test_sm)"
      ]
    },
    {
      "cell_type": "markdown",
      "id": "8cd60166-37e4-44d6-b98a-ae9c5de49565",
      "metadata": {
        "id": "8cd60166-37e4-44d6-b98a-ae9c5de49565"
      },
      "source": [
        "📌 **¿Qué es el VIF  (Variance Inflation Factors)?**\n",
        "\n",
        "El VIF mide cuánto se infla la varianza de un coeficiente de regresión debido a la colinealidad con otras variables.\n",
        "\n",
        "VIF = 1 → No hay colinealidad.\n",
        "\n",
        "VIF entre 1 y 5 → Aceptable, baja colinealidad.\n",
        "\n",
        "VIF entre 5 y 10 → Colinealidad moderada, cuidado.\n",
        "\n",
        "VIF > 10 → Alta colinealidad. Problema serio.\n",
        "\n",
        "**Se recomienda:** Si se tiene información confusa, eliminar las variables que estén fuertemente correlacionadas con otras (VIF > 10)."
      ]
    },
    {
      "cell_type": "code",
      "execution_count": null,
      "id": "dc5589e4-fc67-4197-ac32-7f4398fc1edc",
      "metadata": {
        "id": "dc5589e4-fc67-4197-ac32-7f4398fc1edc"
      },
      "outputs": [],
      "source": [
        "# Calcular VIFs\n",
        "vif_data = pd.DataFrame()\n",
        "vif_data[\"Feature\"] = X.columns\n",
        "vif_data[\"VIF\"] = [variance_inflation_factor(X_train_scaled, i) for i in range(X_train_scaled.shape[1])]\n",
        "print(\"\\nVariance Inflation Factors (VIF):\")\n",
        "print(vif_data)"
      ]
    },
    {
      "cell_type": "code",
      "execution_count": null,
      "id": "95f2c4bb-b730-42f4-9062-61c7acf31159",
      "metadata": {
        "id": "95f2c4bb-b730-42f4-9062-61c7acf31159"
      },
      "outputs": [],
      "source": [
        "# ---------- Visualizaciones ---------- #\n",
        "\n",
        "# 1. Real vs. Predicho\n",
        "plt.figure(figsize=(12, 5))\n",
        "\n",
        "plt.subplot(1, 2, 1)\n",
        "sns.scatterplot(x=y_train, y=y_train_pred_ols, alpha=0.7)\n",
        "plt.plot([y_train.min(), y_train.max()], [y_train.min(), y_train.max()], 'r--')\n",
        "plt.title(\"Train: Real vs. Predicho\")\n",
        "plt.xlabel(\"Real\")\n",
        "plt.ylabel(\"Predicho\")\n",
        "\n",
        "plt.subplot(1, 2, 2)\n",
        "sns.scatterplot(x=y_test, y=y_test_pred_ols, alpha=0.7)\n",
        "plt.plot([y_test.min(), y_test.max()], [y_test.min(), y_test.max()], 'r--')\n",
        "plt.title(\"Test: Real vs. Predicho\")\n",
        "plt.xlabel(\"Real\")\n",
        "plt.ylabel(\"Predicho\")\n",
        "\n",
        "plt.tight_layout()\n",
        "plt.show()"
      ]
    },
    {
      "cell_type": "code",
      "execution_count": null,
      "id": "4c3b3a23-2ff1-47c3-8a95-be60947ffceb",
      "metadata": {
        "id": "4c3b3a23-2ff1-47c3-8a95-be60947ffceb"
      },
      "outputs": [],
      "source": [
        "# Residuos vs. Valores ajustados\n",
        "fitted_vals = ols_model.fittedvalues\n",
        "residuals = ols_model.resid\n",
        "plt.figure(figsize=(6, 4))\n",
        "sns.scatterplot(x=y_train_pred_ols, y=residuals)\n",
        "plt.axhline(0, color='red', linestyle='--')\n",
        "plt.title(\"Residuos vs. Valores ajustados (Train)\")\n",
        "plt.xlabel(\"Valores ajustados\")\n",
        "plt.ylabel(\"Residuos\")\n",
        "plt.show()"
      ]
    },
    {
      "cell_type": "code",
      "execution_count": null,
      "id": "71a1c3b6-013a-4d9d-8f02-7181b016978f",
      "metadata": {
        "id": "71a1c3b6-013a-4d9d-8f02-7181b016978f"
      },
      "outputs": [],
      "source": [
        "# 4. Q-Q PLOT (Normalidad de los residuos)\n",
        "sm.qqplot(residuals, line='45', fit=True)\n",
        "plt.title(\"Gráfico Q-Q de los residuos\")\n",
        "plt.show()"
      ]
    },
    {
      "cell_type": "markdown",
      "id": "5f0aaaa0-5256-4c73-abf3-eb26808eb1f2",
      "metadata": {
        "id": "5f0aaaa0-5256-4c73-abf3-eb26808eb1f2"
      },
      "source": [
        "# Aplicando log"
      ]
    },
    {
      "cell_type": "code",
      "execution_count": null,
      "id": "c682a5c2-9d6a-412d-92d5-1bd0f892d6e7",
      "metadata": {
        "id": "c682a5c2-9d6a-412d-92d5-1bd0f892d6e7"
      },
      "outputs": [],
      "source": [
        "# Leer los datos\n",
        "data = pd.read_csv(\"data/GoldUP.csv\")\n",
        "del data[\"Date\"]"
      ]
    },
    {
      "cell_type": "code",
      "execution_count": null,
      "id": "89bf6f6c-9dc3-4f16-81c7-b753f95e2fb3",
      "metadata": {
        "id": "89bf6f6c-9dc3-4f16-81c7-b753f95e2fb3"
      },
      "outputs": [],
      "source": [
        "# 1. TRANSFORMACIÓN DE LA VARIABLE DEPENDIENTE\n",
        "y = np.log(data['Gold_Price'])  # Transformación logarítmica aquí"
      ]
    },
    {
      "cell_type": "code",
      "execution_count": null,
      "id": "130af5f3-159c-4201-bc3f-b7dad5a1841a",
      "metadata": {
        "id": "130af5f3-159c-4201-bc3f-b7dad5a1841a"
      },
      "outputs": [],
      "source": [
        "# 2. SELECCIÓN DE VARIABLES (mantenemos CPI y Crude_Oil)\n",
        "X = data[['CPI', 'Crude_Oil']]  # Selección directa de features relevantes\n",
        "\n",
        "# Train-test split (ANTES de escalar)\n",
        "X_train, X_test, y_train, y_test = train_test_split(X, y, test_size=0.2, random_state=42)"
      ]
    },
    {
      "cell_type": "code",
      "execution_count": null,
      "id": "7820e51f-cdb6-4963-9b50-8434f193b354",
      "metadata": {
        "id": "7820e51f-cdb6-4963-9b50-8434f193b354"
      },
      "outputs": [],
      "source": [
        "# 3. ESCALADO (solo variables independientes)\n",
        "scaler = StandardScaler()\n",
        "X_train_scaled = scaler.fit_transform(X_train)\n",
        "X_test_scaled = scaler.transform(X_test)"
      ]
    },
    {
      "cell_type": "code",
      "execution_count": null,
      "id": "ad1ddb2c-3a9a-49f5-8493-324e5a4b6d75",
      "metadata": {
        "id": "ad1ddb2c-3a9a-49f5-8493-324e5a4b6d75"
      },
      "outputs": [],
      "source": [
        "# 4. MODELO CON VARIABLE TRANSFORMADA\n",
        "X_train_sm = sm.add_constant(X_train_scaled)\n",
        "ols_model_log = sm.OLS(y_train, X_train_sm).fit()  # y_train es log(Gold_Price)\n",
        "\n",
        "print(\"\\nOLS Regression Summary (Log-Transformed):\")\n",
        "print(ols_model_log.summary())"
      ]
    },
    {
      "cell_type": "markdown",
      "id": "32f7189f-f19c-4d22-81f8-76553dcc2d86",
      "metadata": {
        "id": "32f7189f-f19c-4d22-81f8-76553dcc2d86"
      },
      "source": [
        "### Análisis\n",
        "Bondad de ajuste (excelente)\n",
        "R² = 0.936 → El modelo explica el 93.6% de la variabilidad de log(Gold_Price).\n",
        "\n",
        "R² ajustado = 0.935 → Prácticamente igual al R², confirma que las variables son relevantes.\n",
        "\n",
        "F-statistic = 1378 (p-value ≈ 0) → El modelo es altamente significativo (p < 0.001)."
      ]
    },
    {
      "cell_type": "markdown",
      "id": "ad78135d-a8b6-480c-82ad-5fa8c3f807a0",
      "metadata": {
        "id": "ad78135d-a8b6-480c-82ad-5fa8c3f807a0"
      },
      "source": [
        "**Clave:**\n",
        "\n",
        "Ambos predictores son altamente significativos (p-value ≈ 0).\n",
        "\n",
        "**CPI** domina: Su impacto es ≈ 2.1 veces mayor que Crude_Oil.\n",
        "\n",
        "**Escala estandarizada:** Coeficientes comparables (1 SD de cambio)."
      ]
    },
    {
      "cell_type": "markdown",
      "id": "5a06758a-15cf-442c-9548-cc159348114f",
      "metadata": {
        "id": "5a06758a-15cf-442c-9548-cc159348114f"
      },
      "source": [
        "### Validación de supuestos (mejoría crítica)\n",
        "\n",
        "**a) Normalidad de residuos:**\n",
        "\n",
        "Jarque-Bera p-value = 0.118 → No se rechaza normalidad (vs. p≈0 en modelo anterior).\n",
        "\n",
        "Skew = 0.238 → Asimetría leve (mejoró desde 1.604).\n",
        "\n",
        "Kurtosis = 2.442 → Más cercano a 3 (normalidad).\n",
        "\n",
        "**b) Autocorrelación:**\n",
        "\n",
        "Durbin-Watson = 1.947 → Ausencia de autocorrelación (rango ideal 1.5-2.5).\n",
        "\n",
        "**c) Multicolinealidad:**\n",
        "\n",
        "Cond. No. = 1.93 → Sin problemas (igual que antes).\n",
        "\n"
      ]
    },
    {
      "cell_type": "markdown",
      "id": "8beca382-b3d9-4f50-a510-a0d31643a9ef",
      "metadata": {
        "id": "8beca382-b3d9-4f50-a510-a0d31643a9ef"
      },
      "source": [
        "| Indicador               | Modelo original         | Modelo log-transformado      | Interpretación / Mejoría     |\n",
        "|-------------------------|--------------------------|-------------------------------|------------------------------|\n",
        "| Normalidad residuos     | Rechazada (p≈0)          | Aceptada (p=0.118)            | ✅✅✅                       |\n",
        "| Asimetría (Skew)        | 1.604 (fuerte)           | 0.238 (leve)                  | ✅✅✅                       |\n",
        "| R²                      | 0.939                    | 0.936                         | Similar                      |\n",
        "| Interpretación          | Aditiva                  | Multiplicativa (%%)           | ✅                           |"
      ]
    },
    {
      "cell_type": "code",
      "execution_count": null,
      "id": "0731986c-de97-4a57-a5e1-5e94c554cb1d",
      "metadata": {
        "id": "0731986c-de97-4a57-a5e1-5e94c554cb1d"
      },
      "outputs": [],
      "source": [
        "# 5. PREDICCIONES Y TRANSFORMACIÓN INVERSA\n",
        "# Predicciones en escala logarítmica\n",
        "y_train_pred_log = ols_model_log.predict(X_train_sm)\n",
        "y_test_pred_log = ols_model_log.predict(sm.add_constant(X_test_scaled))"
      ]
    },
    {
      "cell_type": "code",
      "execution_count": null,
      "id": "358cf3ed-4680-41d0-8eb6-93e1e8a267e5",
      "metadata": {
        "id": "358cf3ed-4680-41d0-8eb6-93e1e8a267e5"
      },
      "outputs": [],
      "source": [
        "# Convertir predicciones a escala original\n",
        "y_train_pred = np.exp(y_train_pred_log)\n",
        "y_test_pred = np.exp(y_test_pred_log)\n",
        "\n",
        "# 6. MÉTRICAS EN ESCALA ORIGINAL (opcional pero recomendado)\n",
        "# Obtener valores reales en original (no transformados)\n",
        "y_train_orig = np.exp(y_train)\n",
        "y_test_orig = np.exp(y_test)"
      ]
    },
    {
      "cell_type": "code",
      "execution_count": null,
      "id": "9ea615e9-bf24-4f5e-bc0f-eb53febb04d3",
      "metadata": {
        "id": "9ea615e9-bf24-4f5e-bc0f-eb53febb04d3"
      },
      "outputs": [],
      "source": [
        "# Calcular VIFs\n",
        "vif_data = pd.DataFrame()\n",
        "vif_data[\"Feature\"] = X.columns\n",
        "vif_data[\"VIF\"] = [variance_inflation_factor(X_train_scaled, i) for i in range(X_train_scaled.shape[1])]\n",
        "print(\"\\nVariance Inflation Factors (VIF):\")\n",
        "print(vif_data)"
      ]
    },
    {
      "cell_type": "code",
      "execution_count": null,
      "id": "cffb363c-893f-44ae-bfa0-5416d731dfc4",
      "metadata": {
        "id": "cffb363c-893f-44ae-bfa0-5416d731dfc4"
      },
      "outputs": [],
      "source": [
        "# Residuos vs. Valores ajustados\n",
        "residuals = y_train_orig - y_train_pred\n",
        "plt.figure(figsize=(6, 4))\n",
        "sns.scatterplot(x=y_train_pred, y=residuals)\n",
        "plt.axhline(0, color='red', linestyle='--')\n",
        "plt.title(\"Residuos vs. Valores ajustados (Train)\")\n",
        "plt.xlabel(\"Valores ajustados\")\n",
        "plt.ylabel(\"Residuos\")\n",
        "plt.show()"
      ]
    },
    {
      "cell_type": "code",
      "execution_count": null,
      "id": "9db78651-55c6-4149-9ef6-bbef5ca5f0ce",
      "metadata": {
        "id": "9db78651-55c6-4149-9ef6-bbef5ca5f0ce"
      },
      "outputs": [],
      "source": [
        "# Obtener los coeficientes originales.\n",
        "scaler_means = scaler.mean_\n",
        "scaler_stds = np.sqrt(scaler.var_)\n",
        "\n",
        "intercepto_original     = ols_model_log.params.iloc[0] - np.sum(ols_model_log.params.iloc[1:] * scaler_means / scaler_stds)\n",
        "coef_CPI_original       = ols_model_log.params.iloc[1] / scaler_stds[0]\n",
        "coef_Crude_Oil_original = ols_model_log.params.iloc[2] / scaler_stds[1]"
      ]
    },
    {
      "cell_type": "code",
      "execution_count": null,
      "id": "eb183940-d9fa-45c1-8cf8-62f78c15560a",
      "metadata": {
        "id": "eb183940-d9fa-45c1-8cf8-62f78c15560a"
      },
      "outputs": [],
      "source": [
        "print(\"Coeficientes originales:\")\n",
        "print(f\"Intercepto: {intercepto_original:.5f}\")\n",
        "print(f\"CPI: {coef_CPI_original:.7f}\")\n",
        "print(f\"Crude_Oil: {coef_Crude_Oil_original:.4f}\")\n"
      ]
    },
    {
      "cell_type": "markdown",
      "id": "97ea63c9-a05f-4c74-ac46-e505cfadfbdb",
      "metadata": {
        "id": "97ea63c9-a05f-4c74-ac46-e505cfadfbdb"
      },
      "source": [
        "## Interpretación de los coeficientes"
      ]
    },
    {
      "cell_type": "markdown",
      "id": "7dee9054-495d-49e4-9f2c-684b249df34e",
      "metadata": {
        "id": "7dee9054-495d-49e4-9f2c-684b249df34e"
      },
      "source": [
        "### Partimos de la ecuación del modelo:\n",
        "$$\n",
        "\\log(\\text{Gold\\_Price}) = \\beta_0 + \\beta_1 \\cdot \\text{CPI} + \\beta_2 \\cdot \\text{Crude\\_Oil}\n",
        "$$"
      ]
    },
    {
      "cell_type": "markdown",
      "id": "d3491f68-b6c9-4898-a6aa-214c71364204",
      "metadata": {
        "id": "d3491f68-b6c9-4898-a6aa-214c71364204"
      },
      "source": [
        "### Al aplicar exponencial a ambos lados, revertimos el logaritmo:\n",
        "$$\n",
        "\\text{Original Gold\\_Price} = e^{\\beta_0} \\cdot e^{\\beta_1 \\cdot \\text{CPI}} \\cdot e^{\\beta_2 \\cdot \\text{Crude\\_Oil}}\n",
        "$$"
      ]
    },
    {
      "cell_type": "markdown",
      "id": "df21c645-1131-4625-b15f-0520d8f398e5",
      "metadata": {
        "id": "df21c645-1131-4625-b15f-0520d8f398e5"
      },
      "source": [
        "### Si por ejemplo el CPI aumenta una unidad:\n",
        "$$\n",
        "\\text{New Gold\\_Price} = e^{\\beta_0} \\cdot e^{\\beta_1 \\cdot \\text{CPI+1}} \\cdot e^{\\beta_2 \\cdot \\text{Crude\\_Oil}}\n",
        "$$"
      ]
    },
    {
      "cell_type": "markdown",
      "id": "9af34901-8242-45f7-9587-a5f31643a11c",
      "metadata": {
        "id": "9af34901-8242-45f7-9587-a5f31643a11c"
      },
      "source": [
        "### El cambio porcentual se calcula como:\n",
        "\n",
        "$$\n",
        "\\%\\ \\Delta = \\left( \\frac{\\text{New Gold\\_Price  -  Original Gold\\_Price}}{\\text{Original Gold\\_Price}} \\right) \\times 100\n",
        "$$\n",
        "\n",
        "### Es decir:\n",
        "\n",
        "$$\n",
        "\\%\\ \\Delta = \\left( \\frac{\\text{New Gold\\_Price}}{\\text{Original Gold\\_Price}} - 1 \\right) \\times 100\n",
        "$$"
      ]
    },
    {
      "cell_type": "markdown",
      "id": "cc5523a2-dea0-4490-ac73-b042deb98627",
      "metadata": {
        "id": "cc5523a2-dea0-4490-ac73-b042deb98627"
      },
      "source": [
        "### Sustituyendo:\n",
        "$$\n",
        "\\%\\ \\Delta = \\left( e^{\\beta_1} - 1 \\right) \\times 100\n",
        "$$"
      ]
    },
    {
      "cell_type": "code",
      "execution_count": null,
      "id": "9c463046-cb65-4532-a2ec-27b2a68e1189",
      "metadata": {
        "id": "9c463046-cb65-4532-a2ec-27b2a68e1189"
      },
      "outputs": [],
      "source": [
        "# Efecto porcentual\n",
        "print(\"\\nEfecto porcentual por unidad:\")\n",
        "print(f\"Crude_Oil: {(np.exp(coef_Crude_Oil_original)-1)*100:.3f}%\")\n",
        "print(f\"CPI: {(np.exp(coef_CPI_original)-1)*100:.2f}%\")"
      ]
    },
    {
      "cell_type": "markdown",
      "id": "e7ededa0-0fbf-4148-9e6f-43028964f88a",
      "metadata": {
        "id": "e7ededa0-0fbf-4148-9e6f-43028964f88a"
      },
      "source": [
        "### Interpretación económica robusta\n",
        "\n",
        "**a) CPI (Inflación):**\n",
        "\n",
        "El oro actúa como cobertura: +1  en inflación → +1.88% en precio del oro.\n",
        "\n",
        "Coeficiente consistente con teoría económica.\n",
        "\n",
        "**b) Crude_Oil (Petróleo):**\n",
        "\n",
        "Relación positiva: +1  en petróleo → +0.016% en oro.\n",
        "\n",
        "Refleja correlación histórica entre commodities."
      ]
    },
    {
      "cell_type": "code",
      "execution_count": null,
      "id": "9a246e53-f104-4e6e-978e-21b9bae850b4",
      "metadata": {
        "id": "9a246e53-f104-4e6e-978e-21b9bae850b4"
      },
      "outputs": [],
      "source": []
    }
  ],
  "metadata": {
    "kernelspec": {
      "display_name": "Python 3 (ipykernel)",
      "language": "python",
      "name": "python3"
    },
    "language_info": {
      "codemirror_mode": {
        "name": "ipython",
        "version": 3
      },
      "file_extension": ".py",
      "mimetype": "text/x-python",
      "name": "python",
      "nbconvert_exporter": "python",
      "pygments_lexer": "ipython3",
      "version": "3.13.2"
    },
    "colab": {
      "provenance": [],
      "include_colab_link": true
    }
  },
  "nbformat": 4,
  "nbformat_minor": 5
}