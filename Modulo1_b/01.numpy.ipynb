{
  "cells": [
    {
      "cell_type": "markdown",
      "metadata": {
        "id": "view-in-github",
        "colab_type": "text"
      },
      "source": [
        "<a href=\"https://colab.research.google.com/github/ednavivianasegura/ERAP_CursoPython/blob/main/Modulo1_b/01.numpy.ipynb\" target=\"_parent\"><img src=\"https://colab.research.google.com/assets/colab-badge.svg\" alt=\"Open In Colab\"/></a>"
      ]
    },
    {
      "cell_type": "markdown",
      "id": "221cc933",
      "metadata": {
        "id": "221cc933"
      },
      "source": [
        "## NumPy\n",
        "\n",
        "**`NumPy`** es una librería utilizada para el manejo de arreglos (arrays) y matrices multidimensionales, cuenta con múltiples funciones para trabajar con estos objetos. Una matriz en **`NumPy`** es una cuadricula de valores, todos del mismo tipo e indexados.\n",
        "\n",
        "```python\n",
        "import numpy as np\n",
        "```"
      ]
    },
    {
      "cell_type": "code",
      "execution_count": 1,
      "id": "04664844",
      "metadata": {
        "id": "04664844"
      },
      "outputs": [],
      "source": [
        "import numpy as np"
      ]
    },
    {
      "cell_type": "code",
      "execution_count": null,
      "id": "e9d1c7c9",
      "metadata": {
        "id": "e9d1c7c9"
      },
      "outputs": [],
      "source": [
        "lista = [1, 2, 3]"
      ]
    },
    {
      "cell_type": "code",
      "execution_count": null,
      "id": "f1df22c7",
      "metadata": {
        "id": "f1df22c7"
      },
      "outputs": [],
      "source": [
        "type(lista)"
      ]
    },
    {
      "cell_type": "code",
      "execution_count": null,
      "id": "4bd2b057",
      "metadata": {
        "id": "4bd2b057"
      },
      "outputs": [],
      "source": [
        "# Usando np.array() podemos castear una lista a un objeto numpy.ndarray\n",
        "type(np.array(lista))"
      ]
    },
    {
      "cell_type": "markdown",
      "id": "5cd70c79",
      "metadata": {
        "id": "5cd70c79"
      },
      "source": [
        "### Arreglos (arrays) de 1 dimensión (vector).\n",
        "\n",
        "| Método           | Atributo   |\n",
        "|------------------|------------|\n",
        "|**`.argmin()`**   |**`.dtype`**|\n",
        "|**`.argmax()`**   |**`.ndim`** |\n",
        "|**`.cumsum()`**   |**`.size`** |\n",
        "|**`.cumprod()`**  |**`.shape`**|\n",
        "|**`.dot()`**      | **`.T`**   |\n",
        "|**`.flatten()`**  |            |\n",
        "|**`.max()`**      |            |\n",
        "|**`.min()`**      |            |\n",
        "|**`.mean()`**     |            |\n",
        "|**`.reshape()`**  |            |\n",
        "|**`.transpose()`**|            |\n",
        "|**`.sum()`**      |            |\n",
        "|**`.sort()`**     |            |\n",
        "|**`.tolist()`**   |            |"
      ]
    },
    {
      "cell_type": "code",
      "execution_count": null,
      "id": "32d5ed80",
      "metadata": {
        "id": "32d5ed80",
        "outputId": "22d5c221-0768-4141-c627-69834fdab343"
      },
      "outputs": [
        {
          "data": {
            "text/plain": [
              "array([-2. ,  4. ,  1. ,  3.5])"
            ]
          },
          "execution_count": 3,
          "metadata": {},
          "output_type": "execute_result"
        }
      ],
      "source": [
        "vector = [-2, 4, 1, 3.5]\n",
        "\n",
        "vector = np.array(vector)\n",
        "\n",
        "vector"
      ]
    },
    {
      "cell_type": "code",
      "execution_count": null,
      "id": "90b68668",
      "metadata": {
        "id": "90b68668"
      },
      "outputs": [],
      "source": [
        "# .argmin() y .argmax() retornan el indice del minimo y del maximo respectivamente\n",
        "print(vector.argmin())\n",
        "print(vector.argmax())"
      ]
    },
    {
      "cell_type": "code",
      "execution_count": null,
      "id": "c6fff054",
      "metadata": {
        "id": "c6fff054"
      },
      "outputs": [],
      "source": [
        "# .cumsum() y cumprod() retorna un np.array() con la suma acumulada y el producto acumulado respectivamente\n",
        "\n",
        "print(vector.cumsum())\n",
        "print(vector.cumprod())"
      ]
    },
    {
      "cell_type": "code",
      "execution_count": null,
      "id": "836f163c",
      "metadata": {
        "id": "836f163c",
        "outputId": "713b4e45-776f-48ec-ea14-2db9d14a85de"
      },
      "outputs": [
        {
          "data": {
            "text/plain": [
              "array([[-2. ,  4. ],\n",
              "       [ 1. ,  3.5]])"
            ]
          },
          "execution_count": 7,
          "metadata": {},
          "output_type": "execute_result"
        }
      ],
      "source": [
        "# .reshape() cambia la \"forma\" de la matriz\n",
        "\n",
        "matriz_1 = vector.reshape(2, 2)\n",
        "\n",
        "matriz_1"
      ]
    },
    {
      "cell_type": "code",
      "execution_count": null,
      "id": "5360e7b1",
      "metadata": {
        "id": "5360e7b1",
        "outputId": "c7bd652a-9ba8-43fa-bffc-58fc8ad69a9a"
      },
      "outputs": [
        {
          "name": "stdout",
          "output_type": "stream",
          "text": [
            "[[-2.   1. ]\n",
            " [ 4.   3.5]]\n",
            "--------------------\n",
            "[[-2.   1. ]\n",
            " [ 4.   3.5]]\n"
          ]
        }
      ],
      "source": [
        "# .transpose() hace la transpuesta de la matriz, también se puede usar .T\n",
        "\n",
        "print(matriz_1.transpose())\n",
        "\n",
        "print(\"-\"*20)\n",
        "\n",
        "print(matriz_1.T)"
      ]
    },
    {
      "cell_type": "code",
      "execution_count": null,
      "id": "cab9c78e",
      "metadata": {
        "id": "cab9c78e",
        "outputId": "492aadab-1c69-418f-c3c6-f17b817b5ee2"
      },
      "outputs": [
        {
          "data": {
            "text/plain": [
              "[[-2.0, 1.0], [4.0, 3.5]]"
            ]
          },
          "execution_count": 10,
          "metadata": {},
          "output_type": "execute_result"
        }
      ],
      "source": [
        "# .tolist() retorna el array en una lista\n",
        "\n",
        "matriz_1.tolist()"
      ]
    },
    {
      "cell_type": "code",
      "execution_count": null,
      "id": "8e97e799",
      "metadata": {
        "id": "8e97e799",
        "outputId": "218d35a4-4653-4622-c49b-57901edc586e"
      },
      "outputs": [
        {
          "data": {
            "text/plain": [
              "[array([-2.,  4.]), array([1. , 3.5])]"
            ]
          },
          "execution_count": 11,
          "metadata": {},
          "output_type": "execute_result"
        }
      ],
      "source": [
        "list(matriz_1)"
      ]
    },
    {
      "cell_type": "code",
      "execution_count": null,
      "id": "cc4e66c9",
      "metadata": {
        "id": "cc4e66c9"
      },
      "outputs": [],
      "source": [
        "vector"
      ]
    },
    {
      "cell_type": "code",
      "execution_count": null,
      "id": "d23e4452",
      "metadata": {
        "id": "d23e4452"
      },
      "outputs": [],
      "source": [
        "matriz_1"
      ]
    },
    {
      "cell_type": "code",
      "execution_count": null,
      "id": "b9c5aa51",
      "metadata": {
        "id": "b9c5aa51"
      },
      "outputs": [],
      "source": [
        "# .flatten() retorna un vector plano con los elementos de la matriz\n",
        "\n",
        "matriz_1.flatten()"
      ]
    },
    {
      "cell_type": "code",
      "execution_count": null,
      "id": "129dc8d4",
      "metadata": {
        "id": "129dc8d4"
      },
      "outputs": [],
      "source": [
        "# .sort() ordena la matriz de menor a mayor, lo hace in-place\n",
        "\n",
        "print(\"Antes de .sort()\", vector)\n",
        "\n",
        "vector.sort()\n",
        "\n",
        "print(\"Después de .sort()\", vector)"
      ]
    },
    {
      "cell_type": "code",
      "execution_count": null,
      "id": "314df444",
      "metadata": {
        "id": "314df444"
      },
      "outputs": [],
      "source": [
        "vector"
      ]
    },
    {
      "cell_type": "code",
      "execution_count": null,
      "id": "af24eeb6",
      "metadata": {
        "id": "af24eeb6"
      },
      "outputs": [],
      "source": [
        "# .ndim retorna el número de dimensiones\n",
        "\n",
        "vector.ndim"
      ]
    },
    {
      "cell_type": "code",
      "execution_count": null,
      "id": "a826a8a7",
      "metadata": {
        "id": "a826a8a7"
      },
      "outputs": [],
      "source": [
        "# .size retorna el número de elementos\n",
        "\n",
        "vector.size"
      ]
    },
    {
      "cell_type": "code",
      "execution_count": null,
      "id": "9c100a65",
      "metadata": {
        "id": "9c100a65"
      },
      "outputs": [],
      "source": [
        "# .shape retorna en una tupla las dimesiones de la matriz\n",
        "\n",
        "matriz_1.shape"
      ]
    },
    {
      "cell_type": "code",
      "execution_count": null,
      "id": "5bca1414",
      "metadata": {
        "id": "5bca1414"
      },
      "outputs": [],
      "source": [
        "# .dtype retorna el tipo de dato de los elementos de la matriz\n",
        "\n",
        "vector.dtype"
      ]
    },
    {
      "cell_type": "markdown",
      "id": "fd3b3064",
      "metadata": {
        "id": "fd3b3064"
      },
      "source": [
        "### Arreglos (arrays) de 2 dimensiones (matrices).\n",
        "\n",
        "Comparte los métodos y atributos de los vectores por que son de la misma clase.\n",
        "\n",
        "Existen varias funciones para inicializar matrices o arrays:\n",
        "\n",
        "| Función                  | Descripción                                                                             |\n",
        "|--------------------------|-----------------------------------------------------------------------------------------|\n",
        "|**`np.empty((n, m))`**    | Inicializa una matriz **nxm** vacia.                                                    |\n",
        "|**`np.zeros((n, m))`**    | Inicializa una matriz **nxm** de ceros.                                                 |\n",
        "|**`np.ones((n, m))`**     | Inicializa una matriz **nxm** de unos.                                                  |\n",
        "|**`np.eye(n)`**           | Inicializa la matriz identidad de orden **n**.                                          |\n",
        "|**`np.identity(n)`**      | Inicializa la matriz identidad de orden **n**.                                          |\n",
        "|**`np.full(shape, elem)`**| Inicializa una matriz con la forma de **`shape`** usando los elementos de **`elem`**.   |\n",
        "|**`np.linspace(a, b, p)`**| Inicializa un array de **`p`** elementos entre **`a`** y **`b`**, todos **x-distantes**.|"
      ]
    },
    {
      "cell_type": "code",
      "execution_count": null,
      "id": "4e7e29d5",
      "metadata": {
        "id": "4e7e29d5"
      },
      "outputs": [],
      "source": [
        "matriz = np.array([[1, 2, 3, 10],\n",
        "                   [4, 5, 6, 20],\n",
        "                   [7, 8, 9, 30]])\n",
        "\n",
        "matriz"
      ]
    },
    {
      "cell_type": "code",
      "execution_count": null,
      "id": "7a0fc954",
      "metadata": {
        "id": "7a0fc954"
      },
      "outputs": [],
      "source": [
        "print(matriz)"
      ]
    },
    {
      "cell_type": "code",
      "execution_count": null,
      "id": "ea934ad2",
      "metadata": {
        "id": "ea934ad2"
      },
      "outputs": [],
      "source": [
        "matriz.flatten()"
      ]
    },
    {
      "cell_type": "code",
      "execution_count": null,
      "id": "5a434d59",
      "metadata": {
        "id": "5a434d59"
      },
      "outputs": [],
      "source": [
        "matriz.reshape(6, 2)"
      ]
    },
    {
      "cell_type": "code",
      "execution_count": null,
      "id": "2aac080b",
      "metadata": {
        "id": "2aac080b"
      },
      "outputs": [],
      "source": [
        "# Aunque muestre numeros dentro de la matriz, np.empty() la inicializa vacia, estos números que se ven\n",
        "# Estan en memoria y numpy los usa para mostrar la matriz\n",
        "\n",
        "empty = np.empty(shape = (5, 5), dtype = \"float\")\n",
        "\n",
        "print(empty)"
      ]
    },
    {
      "cell_type": "code",
      "execution_count": null,
      "id": "7efe5c70",
      "metadata": {
        "id": "7efe5c70"
      },
      "outputs": [],
      "source": [
        "# Inicializa una matriz de 1's.\n",
        "\n",
        "ones = np.ones(shape = (5, 5), dtype = \"int8\")\n",
        "\n",
        "print(ones)"
      ]
    },
    {
      "cell_type": "code",
      "execution_count": null,
      "id": "3afe6662",
      "metadata": {
        "id": "3afe6662"
      },
      "outputs": [],
      "source": [
        "# Inicializa una matriz de 0's.\n",
        "\n",
        "zeros = np.zeros(shape = (5, 5), dtype = \"int8\")\n",
        "\n",
        "print(zeros)"
      ]
    },
    {
      "cell_type": "code",
      "execution_count": null,
      "id": "b0faa89f",
      "metadata": {
        "id": "b0faa89f"
      },
      "outputs": [],
      "source": [
        "# Matriz identidad\n",
        "\n",
        "np.eye(5)"
      ]
    },
    {
      "cell_type": "code",
      "execution_count": null,
      "id": "d1ccc458",
      "metadata": {
        "id": "d1ccc458",
        "outputId": "90172931-083a-4d45-e048-465575a71fa0"
      },
      "outputs": [
        {
          "name": "stdout",
          "output_type": "stream",
          "text": [
            "[[0 1 2 3 4]\n",
            " [0 1 2 3 4]\n",
            " [0 1 2 3 4]\n",
            " [0 1 2 3 4]\n",
            " [0 1 2 3 4]]\n"
          ]
        }
      ],
      "source": [
        "# np.full() crea una lista con forma \"shape\" y la llena con un iterable.\n",
        "\n",
        "full = np.full(shape = (5, 5), fill_value = range(5))\n",
        "\n",
        "print(full)"
      ]
    },
    {
      "cell_type": "code",
      "execution_count": null,
      "id": "5ff662d1",
      "metadata": {
        "id": "5ff662d1"
      },
      "outputs": [],
      "source": [
        "# np.linspace(a, b, p) crea un array de \"p\" elementos entre \"a\" y \"b\", todos x-distantes\n",
        "\n",
        "linspace = np.linspace(1, 12, 16)\n",
        "\n",
        "print(linspace)"
      ]
    },
    {
      "cell_type": "markdown",
      "id": "254762c3",
      "metadata": {
        "id": "254762c3"
      },
      "source": [
        "### Slicing en NumPy\n",
        "\n",
        "En Python para hacer slicing de una lista de listas debiamos escribir primero la \"fila\" y de segundo la \"columna\" asi:\n",
        "```python\n",
        "lista[a][b]\n",
        "```\n",
        "\n",
        "Usando un **`np.array()`** podemos usar la siguiente notación:\n",
        "```python\n",
        "array[a, b]\n",
        "```\n",
        "\n",
        "Incluso, podemos pasar un **slicing** dentro del **slicing** para filtrar aun más los datos:\n",
        "```python\n",
        "array[a1 : a2, b1 : b2]\n",
        "```\n",
        "\n",
        "También podemos hacer **indexing** dentro del **slicing**\n",
        "\n",
        "```python\n",
        "array[[a1, a3], [b2, b4]]\n",
        "```"
      ]
    },
    {
      "cell_type": "code",
      "execution_count": null,
      "id": "12a6a5ff",
      "metadata": {
        "id": "12a6a5ff",
        "outputId": "c556b44c-30cd-4c3d-b83f-ae3993352452"
      },
      "outputs": [
        {
          "name": "stdout",
          "output_type": "stream",
          "text": [
            "[[1 0 0 0 0]\n",
            " [0 0 2 0 0]\n",
            " [1 1 0 0 1]\n",
            " [2 1 1 1 0]\n",
            " [1 2 1 2 2]]\n"
          ]
        }
      ],
      "source": [
        "matriz = np.array([[1, 0, 0, 0, 0],\n",
        "                   [0, 0, 2, 0, 0],\n",
        "                   [1, 1, 0, 0, 1],\n",
        "                   [2, 1, 1, 1, 0],\n",
        "                   [1, 2, 1, 2, 2]])\n",
        "\n",
        "print(matriz)"
      ]
    },
    {
      "cell_type": "code",
      "execution_count": null,
      "id": "21dbaeca",
      "metadata": {
        "id": "21dbaeca",
        "outputId": "748b6498-ec34-4801-d252-4f1b169fada2"
      },
      "outputs": [
        {
          "data": {
            "text/plain": [
              "np.int64(2)"
            ]
          },
          "execution_count": 3,
          "metadata": {},
          "output_type": "execute_result"
        }
      ],
      "source": [
        "# Hacer\n",
        "\n",
        "matriz[4][1]"
      ]
    },
    {
      "cell_type": "code",
      "execution_count": null,
      "id": "ec4d8249",
      "metadata": {
        "id": "ec4d8249"
      },
      "outputs": [],
      "source": [
        "# Es igual que hacer\n",
        "\n",
        "matriz[4, 1]"
      ]
    },
    {
      "cell_type": "code",
      "execution_count": null,
      "id": "52d4413b",
      "metadata": {
        "id": "52d4413b"
      },
      "outputs": [],
      "source": [
        "# Slicing\n",
        "matriz[1:4, 1:4]"
      ]
    },
    {
      "cell_type": "code",
      "execution_count": null,
      "id": "93e46fc8",
      "metadata": {
        "id": "93e46fc8"
      },
      "outputs": [],
      "source": [
        "# Slicing + Indexing\n",
        "\n",
        "matriz[[1, 3], [2, 4]]"
      ]
    },
    {
      "cell_type": "markdown",
      "id": "a53ed0b5",
      "metadata": {
        "id": "a53ed0b5"
      },
      "source": [
        "### Operaciones con Arrays"
      ]
    },
    {
      "cell_type": "code",
      "execution_count": null,
      "id": "a67f60f0",
      "metadata": {
        "id": "a67f60f0"
      },
      "outputs": [],
      "source": [
        "A = np.array([[20, 40], [30, 50]])\n",
        "B = np.array([[4, 5], [2, 3]])\n",
        "\n",
        "print(A)\n",
        "print(\"-\"*20)\n",
        "print(B)"
      ]
    },
    {
      "cell_type": "code",
      "execution_count": null,
      "id": "ddedeb57",
      "metadata": {
        "id": "ddedeb57"
      },
      "outputs": [],
      "source": [
        "# Suma\n",
        "\n",
        "A + B"
      ]
    },
    {
      "cell_type": "code",
      "execution_count": null,
      "id": "d72056b3",
      "metadata": {
        "id": "d72056b3"
      },
      "outputs": [],
      "source": [
        "# Resta\n",
        "A - B"
      ]
    },
    {
      "cell_type": "code",
      "execution_count": null,
      "id": "dd2e20b7",
      "metadata": {
        "id": "dd2e20b7"
      },
      "outputs": [],
      "source": [
        "# Multiplicación por escalar\n",
        "\n",
        "A * 5"
      ]
    },
    {
      "cell_type": "code",
      "execution_count": null,
      "id": "825278f1",
      "metadata": {
        "id": "825278f1"
      },
      "outputs": [],
      "source": [
        "# Multiplicación elemento a elemento (no es la forma matemática de multiplicar)\n",
        "\n",
        "A * B"
      ]
    },
    {
      "cell_type": "code",
      "execution_count": null,
      "id": "9357e55c",
      "metadata": {
        "id": "9357e55c"
      },
      "outputs": [],
      "source": [
        "# División por escalar\n",
        "\n",
        "A / 5"
      ]
    },
    {
      "cell_type": "code",
      "execution_count": null,
      "id": "28efadce",
      "metadata": {
        "id": "28efadce"
      },
      "outputs": [],
      "source": [
        "# Producto de matrices (también conocido como producto de vectorial)\n",
        "\n",
        "A.dot(B)"
      ]
    },
    {
      "cell_type": "code",
      "execution_count": null,
      "id": "1841c7ec",
      "metadata": {
        "id": "1841c7ec"
      },
      "outputs": [],
      "source": [
        "print(A)\n",
        "print(\"-\"*20)\n",
        "print(B)"
      ]
    },
    {
      "cell_type": "markdown",
      "id": "547b4361",
      "metadata": {
        "id": "547b4361"
      },
      "source": [
        "#### Concatenar"
      ]
    },
    {
      "cell_type": "code",
      "execution_count": null,
      "id": "269d0b12",
      "metadata": {
        "id": "269d0b12"
      },
      "outputs": [],
      "source": [
        "# Concatenar verticalmente\n",
        "\n",
        "np.concatenate((A, B), axis = 0)"
      ]
    },
    {
      "cell_type": "code",
      "execution_count": null,
      "id": "0d17002e",
      "metadata": {
        "id": "0d17002e"
      },
      "outputs": [],
      "source": [
        "# Concatenar horizontalmente\n",
        "\n",
        "np.concatenate((A, B), axis = 1)"
      ]
    },
    {
      "cell_type": "markdown",
      "id": "ae907e98",
      "metadata": {
        "id": "ae907e98"
      },
      "source": [
        "### Números aleatorios en NumPy\n",
        "\n",
        "|Función                             |Descripción                                                                                                                                         |\n",
        "|------------------------------------|----------------------------------------------------------------------------------------------------------------------------------------------------|\n",
        "|**`np.random.random(n)`**           | Genera un número aleatorio entre 0 y 1, si damos el parametro **`n`** genera una lista de **`n`** elementos aleatorios entre 0 y 1, solo genera vectores.                                                                                                                       |\n",
        "|**`np.random.rand(shape)`**         | Genera un array de forma **shape** con números aleatorios entre 0 y 1.                                                                             |\n",
        "|**`np.random.randn(shape)`**        | Genera un array de forma **shape** con números aleatorios entre -1 y 1.                                                                           |\n",
        "|**`no.random.randint(a, b, size)`** | Genera un array de tamaño **size** con numeros enteros aleatorios entre **a** y **b**.                                                             |\n",
        "|**`np.random.choice(obj, size, p)`**| Genera un array de tamaño **size** con los elementos de **obj**, se le pueden dar pesos a los elementos usando **p**, retorna elementos repetidos.|\n",
        "|**`np.random.seed(n)`**             | Genera una semilla.                                                                                                                                 |\n",
        "|**`np.random.RandomState(n)`**      | Genera una semilla.                                                                                                                                 |"
      ]
    },
    {
      "cell_type": "code",
      "execution_count": null,
      "id": "b3288efd",
      "metadata": {
        "id": "b3288efd",
        "outputId": "d8c58b68-67fa-4754-e220-22e10040985d"
      },
      "outputs": [
        {
          "data": {
            "text/plain": [
              "array([[0.62041924, 0.44375034, 0.4753541 , 0.97863256, 0.97552646],\n",
              "       [0.92177358, 0.05375848, 0.6191526 , 0.36543618, 0.19110851],\n",
              "       [0.62849963, 0.04255723, 0.9629026 , 0.83248618, 0.95662262],\n",
              "       [0.47729399, 0.58293257, 0.83639951, 0.3489424 , 0.02573393],\n",
              "       [0.89315123, 0.57397738, 0.10270953, 0.55935064, 0.63806712]])"
            ]
          },
          "execution_count": 3,
          "metadata": {},
          "output_type": "execute_result"
        }
      ],
      "source": [
        "np.random.random(size = (5, 5))"
      ]
    },
    {
      "cell_type": "code",
      "execution_count": null,
      "id": "c8ed8fa8",
      "metadata": {
        "id": "c8ed8fa8",
        "outputId": "d4d88c52-a26d-40bd-b41a-a02a33b608d0"
      },
      "outputs": [
        {
          "name": "stdout",
          "output_type": "stream",
          "text": [
            "0.8609386353162439\n",
            "------------------------------\n",
            "[0.9486075  0.87993213 0.43865342 0.61511428 0.28462469]\n"
          ]
        }
      ],
      "source": [
        "print(np.random.random())\n",
        "\n",
        "print(\"-\"*30)\n",
        "\n",
        "print(np.random.random(5))"
      ]
    },
    {
      "cell_type": "code",
      "execution_count": null,
      "id": "8aad0c3b",
      "metadata": {
        "id": "8aad0c3b",
        "outputId": "70725366-91a6-43f0-d537-7d661aca5ed5"
      },
      "outputs": [
        {
          "name": "stdout",
          "output_type": "stream",
          "text": [
            "0.7486636198505473\n",
            "------------------------------\n",
            "[[0.90 0.08 0.55]\n",
            " [0.58 0.96 0.29]]\n"
          ]
        }
      ],
      "source": [
        "print(np.random.rand())\n",
        "\n",
        "print(\"-\"*30)\n",
        "\n",
        "print(np.random.rand(2, 3))"
      ]
    },
    {
      "cell_type": "code",
      "execution_count": null,
      "id": "250d0d26",
      "metadata": {
        "id": "250d0d26",
        "outputId": "c616f0dd-7da3-46ac-88fa-24d514390854"
      },
      "outputs": [
        {
          "name": "stdout",
          "output_type": "stream",
          "text": [
            "-0.8594045325653367\n",
            "------------------------------\n",
            "[[-2.14513959  1.2007306  -2.77458132]\n",
            " [-0.33641666 -0.45733671 -0.48545877]]\n"
          ]
        }
      ],
      "source": [
        "print(np.random.randn())\n",
        "\n",
        "print(\"-\"*30)\n",
        "\n",
        "print(np.random.randn(2, 3))"
      ]
    },
    {
      "cell_type": "code",
      "execution_count": null,
      "id": "deb7b024",
      "metadata": {
        "id": "deb7b024",
        "outputId": "48aee28c-c57a-4899-afc6-ae8c9bc9f3fe"
      },
      "outputs": [
        {
          "name": "stdout",
          "output_type": "stream",
          "text": [
            "6\n",
            "------------------------------\n",
            "[[2 6 2 5 1]\n",
            " [7 6 8 5 8]\n",
            " [5 8 8 3 6]\n",
            " [7 5 1 1 3]\n",
            " [5 9 3 4 6]]\n"
          ]
        }
      ],
      "source": [
        "print(np.random.randint(0, 10))\n",
        "\n",
        "print(\"-\"*30)\n",
        "\n",
        "print(np.random.randint(1, 10, size = (5, 5)))"
      ]
    },
    {
      "cell_type": "code",
      "execution_count": null,
      "id": "8f34224a",
      "metadata": {
        "id": "8f34224a",
        "outputId": "9f9e5349-edf5-4b01-8a1d-1d509c783b4e"
      },
      "outputs": [
        {
          "name": "stdout",
          "output_type": "stream",
          "text": [
            "['a' 'o' 'a' 'o' 'a' 'o' 'a' 'o' 'a' 'u']\n"
          ]
        }
      ],
      "source": [
        "print(np.random.choice(a    = [\"a\", \"e\", \"i\", \"o\", \"u\"],\n",
        "                       size = 10,\n",
        "                       p    = [0.6, 0.1, 0.1, 0.1, 0.1]))"
      ]
    },
    {
      "cell_type": "code",
      "execution_count": null,
      "id": "fcaa9040",
      "metadata": {
        "id": "fcaa9040",
        "outputId": "5c4441e9-101d-4894-8f59-46a696dd89ab"
      },
      "outputs": [
        {
          "name": "stdout",
          "output_type": "stream",
          "text": [
            "1.764052345967664\n",
            "1.764052345967664\n",
            "1.764052345967664\n",
            "1.764052345967664\n",
            "1.764052345967664\n"
          ]
        }
      ],
      "source": [
        "for i in range(5):\n",
        "\n",
        "    np.random.seed(0)\n",
        "\n",
        "    print(np.random.randn())"
      ]
    },
    {
      "cell_type": "code",
      "execution_count": null,
      "id": "719185bd",
      "metadata": {
        "id": "719185bd",
        "outputId": "09f6d3c1-b34c-42a9-c75b-7c2fd753bc0e"
      },
      "outputs": [
        {
          "name": "stdout",
          "output_type": "stream",
          "text": [
            "0.43599490214200376\n",
            "8\n",
            "0.4001572083672233\n",
            "------------------------------\n",
            "0.43599490214200376\n",
            "8\n",
            "0.9787379841057392\n",
            "------------------------------\n",
            "0.43599490214200376\n",
            "8\n",
            "2.240893199201458\n",
            "------------------------------\n",
            "0.43599490214200376\n",
            "8\n",
            "1.8675579901499675\n",
            "------------------------------\n"
          ]
        }
      ],
      "source": [
        "for i in range(4):\n",
        "\n",
        "    rs = np.random.RandomState(2)\n",
        "\n",
        "    print(rs.rand())\n",
        "    print(rs.randint(0, 10))\n",
        "\n",
        "    print(np.random.randn()) # No usa rs\n",
        "\n",
        "    print(\"-\"*30)"
      ]
    },
    {
      "cell_type": "code",
      "execution_count": null,
      "id": "27335492",
      "metadata": {
        "id": "27335492",
        "outputId": "e1f269d9-b43a-465f-8bf6-df34f9420a8e"
      },
      "outputs": [
        {
          "name": "stdout",
          "output_type": "stream",
          "text": [
            "0.5488135039273248\n",
            "5\n",
            "0.11849646073740812\n",
            "------------------------------\n",
            "0.8472517387841254\n",
            "3\n",
            "0.11396779497090676\n",
            "------------------------------\n",
            "0.6458941130666561\n",
            "4\n",
            "-0.2913939760114335\n",
            "------------------------------\n",
            "0.2726562945801132\n",
            "1\n",
            "-0.13309028458966213\n",
            "------------------------------\n"
          ]
        }
      ],
      "source": [
        "np.random.seed(0)\n",
        "\n",
        "for i in range(4):\n",
        "\n",
        "    print(np.random.rand())\n",
        "    print(np.random.randint(0, 10))\n",
        "    print(np.random.randn())\n",
        "    print(\"-\"*30)"
      ]
    },
    {
      "cell_type": "code",
      "execution_count": null,
      "id": "49b47b97",
      "metadata": {
        "id": "49b47b97",
        "outputId": "c5fe769d-9a00-4d3f-f9cd-e9c87bb8751b"
      },
      "outputs": [
        {
          "data": {
            "text/plain": [
              "array([[0.61, 0.92, 0.38, -1.10, 0.30, 1.33],\n",
              "       [-0.69, -0.15, -0.44, 1.85, 0.67, 0.41],\n",
              "       [-0.77, 0.54, -0.67, 0.03, -0.64, 0.68],\n",
              "       [0.58, -0.21, 0.40, -1.09, -1.49, 0.44],\n",
              "       [0.17, 0.64, 2.38, 0.94, -0.91, 1.12],\n",
              "       [-1.32, -0.46, -0.07, 1.71, -0.74, -0.83]])"
            ]
          },
          "execution_count": 29,
          "metadata": {},
          "output_type": "execute_result"
        }
      ],
      "source": [
        "# Código para establecer el número de decimales (Cambiar {0:0.2f} para elegir el número de decimales)\n",
        "\n",
        "np.set_printoptions(formatter = {\"float\" : lambda x: \"{0:0.2f}\".format(x)})\n",
        "\n",
        "np.random.randn(6, 6)"
      ]
    },
    {
      "cell_type": "code",
      "execution_count": null,
      "id": "57fad6e7",
      "metadata": {
        "id": "57fad6e7",
        "outputId": "9893ba47-b941-4fe3-b7d0-7b5706823b29"
      },
      "outputs": [
        {
          "data": {
            "text/plain": [
              "array([[-0.10, -0.66, 1.13, -1.08, -1.15, -0.44],\n",
              "       [-0.50, 1.93, 0.95, 0.09, -1.23, 0.84],\n",
              "       [-1.00, -1.54, 1.19, 0.32, 0.92, 0.32],\n",
              "       [0.86, -0.65, -1.03, 0.68, -0.80, -0.69],\n",
              "       [-0.46, 0.02, -0.35, -1.37, -0.64, -2.22],\n",
              "       [0.63, -1.60, -1.10, 0.05, -0.74, 1.54]])"
            ]
          },
          "execution_count": 30,
          "metadata": {},
          "output_type": "execute_result"
        }
      ],
      "source": [
        "np.random.randn(6, 6)"
      ]
    },
    {
      "cell_type": "code",
      "execution_count": null,
      "id": "8c6a06b3",
      "metadata": {
        "id": "8c6a06b3",
        "outputId": "333dbebe-decf-4413-9730-8c248d7f3df4"
      },
      "outputs": [
        {
          "data": {
            "text/plain": [
              "array([[0.62, 0.44, 0.48, 0.98, 0.98],\n",
              "       [0.92, 0.05, 0.62, 0.37, 0.19],\n",
              "       [0.63, 0.04, 0.96, 0.83, 0.96],\n",
              "       [0.48, 0.58, 0.84, 0.35, 0.03],\n",
              "       [0.89, 0.57, 0.10, 0.56, 0.64]])"
            ]
          },
          "execution_count": 31,
          "metadata": {},
          "output_type": "execute_result"
        }
      ],
      "source": [
        "np.empty((5, 5), dtype = \"float64\")"
      ]
    },
    {
      "cell_type": "code",
      "execution_count": null,
      "id": "d6263c75",
      "metadata": {
        "id": "d6263c75"
      },
      "outputs": [],
      "source": [
        "################################################################################################################################"
      ]
    }
  ],
  "metadata": {
    "kernelspec": {
      "display_name": "Python 3 (ipykernel)",
      "language": "python",
      "name": "python3"
    },
    "language_info": {
      "codemirror_mode": {
        "name": "ipython",
        "version": 3
      },
      "file_extension": ".py",
      "mimetype": "text/x-python",
      "name": "python",
      "nbconvert_exporter": "python",
      "pygments_lexer": "ipython3",
      "version": "3.13.2"
    },
    "colab": {
      "provenance": [],
      "include_colab_link": true
    }
  },
  "nbformat": 4,
  "nbformat_minor": 5
}