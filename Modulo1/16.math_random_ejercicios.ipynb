{
  "cells": [
    {
      "cell_type": "markdown",
      "id": "3b9c8335",
      "metadata": {
        "id": "3b9c8335"
      },
      "source": [
        "## Ejercicios math y random"
      ]
    },
    {
      "cell_type": "code",
      "execution_count": null,
      "id": "ed13011e",
      "metadata": {
        "id": "ed13011e"
      },
      "outputs": [],
      "source": [
        "import math\n",
        "import random"
      ]
    },
    {
      "cell_type": "markdown",
      "id": "eca8b13f",
      "metadata": {
        "id": "eca8b13f"
      },
      "source": [
        "### Ejercicio 1\n",
        "- Crea una lista de 10 numeros enteros aleatorios entre el rango de 10 y 20 utilizando la función random.randint()"
      ]
    },
    {
      "cell_type": "code",
      "execution_count": null,
      "id": "a9c5468a",
      "metadata": {
        "id": "a9c5468a"
      },
      "outputs": [],
      "source": []
    },
    {
      "cell_type": "code",
      "execution_count": null,
      "id": "91329916",
      "metadata": {
        "id": "91329916"
      },
      "outputs": [],
      "source": []
    },
    {
      "cell_type": "code",
      "execution_count": null,
      "id": "afeb807a",
      "metadata": {
        "id": "afeb807a"
      },
      "outputs": [],
      "source": []
    },
    {
      "cell_type": "markdown",
      "id": "fc1a19d0",
      "metadata": {
        "id": "fc1a19d0"
      },
      "source": [
        "### Ejercicio 2\n",
        "- Crea una lista de 10 numeros enteros aleatorios entre el rango de 10 y 20 sin utilizar la función random.randint()"
      ]
    },
    {
      "cell_type": "code",
      "execution_count": null,
      "id": "0985d30a",
      "metadata": {
        "id": "0985d30a"
      },
      "outputs": [],
      "source": []
    },
    {
      "cell_type": "code",
      "execution_count": null,
      "id": "b04bcddf",
      "metadata": {
        "id": "b04bcddf"
      },
      "outputs": [],
      "source": []
    },
    {
      "cell_type": "code",
      "execution_count": null,
      "id": "07139a13",
      "metadata": {
        "id": "07139a13"
      },
      "outputs": [],
      "source": []
    },
    {
      "cell_type": "markdown",
      "id": "381a2b23",
      "metadata": {
        "id": "381a2b23"
      },
      "source": [
        "### Ejercicio 3\n",
        "- Genera una lista de 100 numero enteros aleatorios entre 0 y 100.\n",
        "- Genera otra lista con solo los números pares de la primera lista.\n",
        "\n",
        "- **Extra**: Hacer este ejercicio usando 1 solo bucle."
      ]
    },
    {
      "cell_type": "code",
      "execution_count": null,
      "id": "ed54e490",
      "metadata": {
        "id": "ed54e490"
      },
      "outputs": [],
      "source": []
    },
    {
      "cell_type": "code",
      "execution_count": null,
      "id": "570ff2b3",
      "metadata": {
        "id": "570ff2b3"
      },
      "outputs": [],
      "source": []
    },
    {
      "cell_type": "code",
      "execution_count": null,
      "id": "8ac4e27c",
      "metadata": {
        "id": "8ac4e27c"
      },
      "outputs": [],
      "source": []
    },
    {
      "cell_type": "markdown",
      "id": "576a3ad4",
      "metadata": {
        "id": "576a3ad4"
      },
      "source": [
        "### Ejercicio 4\n",
        "- Escribe la siguiente función utilizando las funciónes de la libreria math:\n",
        "\n",
        "<img src=\"https://github.com/ednavivianasegura/ERAP_CursoPython/blob/main/Modulo1/Imagenes%20Notebooks/math_1.png?raw=true\" width=\"300\" />"
      ]
    },
    {
      "cell_type": "markdown",
      "id": "30f3b0dd",
      "metadata": {
        "id": "30f3b0dd"
      },
      "source": [
        "<img src=\"https://github.com/ednavivianasegura/ERAP_CursoPython/blob/main/Modulo1/Imagenes%20Notebooks/math_2.png?raw=true\" width=\"300\" />\n",
        "\n",
        "- Luego prueba la función con los valores de X."
      ]
    },
    {
      "cell_type": "code",
      "execution_count": null,
      "id": "ed901e37",
      "metadata": {
        "id": "ed901e37"
      },
      "outputs": [],
      "source": [
        "x = [10, 15, 25, 35, 45]"
      ]
    },
    {
      "cell_type": "code",
      "execution_count": null,
      "id": "33621a2c",
      "metadata": {
        "id": "33621a2c"
      },
      "outputs": [],
      "source": [
        "# Escribe la formula donde esta la variable Z\n",
        "# Usa la variable X\n",
        "\n",
        "for X in x:\n",
        "    Z =\n",
        "    print(Z)"
      ]
    },
    {
      "cell_type": "code",
      "execution_count": null,
      "id": "97be855b",
      "metadata": {
        "id": "97be855b"
      },
      "outputs": [],
      "source": []
    },
    {
      "cell_type": "markdown",
      "id": "cbf0faef",
      "metadata": {
        "id": "cbf0faef"
      },
      "source": [
        "### Ejercicio 5\n",
        "- Escribe la siguiente función utilizando las funciónes de la libreria math:\n",
        "\n",
        "<img src=\"https://github.com/ednavivianasegura/ERAP_CursoPython/blob/main/Modulo1/Imagenes%20Notebooks/math_3.png?raw=true\" width=\"300\" />"
      ]
    },
    {
      "cell_type": "markdown",
      "id": "16fe5900",
      "metadata": {
        "id": "16fe5900"
      },
      "source": [
        "<img src=\"https://github.com/ednavivianasegura/ERAP_CursoPython/blob/main/Modulo1/Imagenes%20Notebooks/math_4.png?raw=true\" width=\"300\" />\n",
        "\n",
        "- Luego prueba la función con los valores de X e Y."
      ]
    },
    {
      "cell_type": "code",
      "execution_count": null,
      "id": "2190d7a4",
      "metadata": {
        "id": "2190d7a4"
      },
      "outputs": [],
      "source": [
        "x = [10, 15, 25, 35, 45]\n",
        "y = [15, 20, 30, 40, 50]"
      ]
    },
    {
      "cell_type": "code",
      "execution_count": null,
      "id": "f65f0c36",
      "metadata": {
        "id": "f65f0c36"
      },
      "outputs": [],
      "source": [
        "# Escribe la formula donde esta la variable Z\n",
        "# Usa las variables X, Y\n",
        "\n",
        "for X, Y in zip(x, y):\n",
        "    Z =\n",
        "    print(Z)"
      ]
    },
    {
      "cell_type": "code",
      "execution_count": null,
      "id": "963ecd2c",
      "metadata": {
        "id": "963ecd2c"
      },
      "outputs": [],
      "source": []
    },
    {
      "cell_type": "markdown",
      "id": "2cf9fcc4",
      "metadata": {
        "id": "2cf9fcc4"
      },
      "source": [
        "### Ejercicio 6\n",
        "- Escribe la siguiente función utilizando las funciónes de la libreria math:\n",
        "\n",
        "<img src=\"https://github.com/ednavivianasegura/ERAP_CursoPython/blob/main/Modulo1/Imagenes%20Notebooks/math_5.png?raw=true\" width=\"300\" />"
      ]
    },
    {
      "cell_type": "markdown",
      "id": "7704adab",
      "metadata": {
        "id": "7704adab"
      },
      "source": [
        "<img src=\"https://github.com/ednavivianasegura/ERAP_CursoPython/blob/main/Modulo1/Imagenes%20Notebooks/math_6.png?raw=true\" width=\"300\" />\n",
        "\n",
        "- Luego prueba la función con los valores de X e Y."
      ]
    },
    {
      "cell_type": "code",
      "execution_count": null,
      "id": "d2a14860",
      "metadata": {
        "id": "d2a14860"
      },
      "outputs": [],
      "source": [
        "x = [10, 15, 25, 35, 45]\n",
        "y = [15, 20, 30, 40, 50]"
      ]
    },
    {
      "cell_type": "code",
      "execution_count": null,
      "id": "2656ee47",
      "metadata": {
        "id": "2656ee47"
      },
      "outputs": [],
      "source": [
        "# Escribe la formula donde esta la variable Z\n",
        "# Usa las variables X, Y\n",
        "\n",
        "for X, Y in zip(x, y):\n",
        "    Z =\n",
        "    print(Z)"
      ]
    },
    {
      "cell_type": "code",
      "execution_count": null,
      "id": "c4be16b7",
      "metadata": {
        "id": "c4be16b7"
      },
      "outputs": [],
      "source": []
    },
    {
      "cell_type": "markdown",
      "id": "3b20c494",
      "metadata": {
        "id": "3b20c494"
      },
      "source": [
        "### Ejercicio 7\n",
        "- Escribe la siguiente función utilizando las funciónes de la libreria math:\n",
        "\n",
        "<img src=\"https://github.com/ednavivianasegura/ERAP_CursoPython/blob/main/Modulo1/Imagenes%20Notebooks/math_7.png?raw=true\" width=\"300\" />"
      ]
    },
    {
      "cell_type": "markdown",
      "id": "798e666b",
      "metadata": {
        "id": "798e666b"
      },
      "source": [
        "<img src=\"https://github.com/ednavivianasegura/ERAP_CursoPython/blob/main/Modulo1/Imagenes%20Notebooks/math_8.png?raw=true\" width=\"300\" />\n",
        "\n",
        "- Luego prueba la función con los valores de X e Y."
      ]
    },
    {
      "cell_type": "code",
      "execution_count": null,
      "id": "13b9f3cd",
      "metadata": {
        "id": "13b9f3cd"
      },
      "outputs": [],
      "source": [
        "x = [10, 15, 25, 35, 45]\n",
        "y = [15, 20, 30, 40, 50]"
      ]
    },
    {
      "cell_type": "code",
      "execution_count": null,
      "id": "fd22b843",
      "metadata": {
        "id": "fd22b843"
      },
      "outputs": [],
      "source": [
        "# Escribe la formula donde esta la variable Z\n",
        "# Usa las variables X, Y\n",
        "\n",
        "for X, Y in zip(x, y):\n",
        "    Z =\n",
        "    print(Z)"
      ]
    },
    {
      "cell_type": "code",
      "execution_count": null,
      "id": "3989b760",
      "metadata": {
        "id": "3989b760"
      },
      "outputs": [],
      "source": [
        "#Generador de nombres aleatorios\n",
        "\n",
        "nombres = [\n",
        "    \"Aquiles\",\"Armando\", \"Elsa\",\"Elba\", \"Luz\", \"Marcia\", \"Susana\",\n",
        "    \"Zacaria\", \"Elmo\", \"Sole\", \"Elvis\",\n",
        "    \"Sevelinda\", \"Jose Luis\", \"Aquiles\", \"Alan\", \"Dolores\", \"Elmer\",\n",
        "    \"Mario\",\"Soila\", \"Jorge\",  \"Esteban\", \"Jose\",\n",
        "    \"Yola\"]\n",
        "\n",
        "apellidos = [\n",
        "    \"Brinco\", \"Baeza Parada\", \"Casas\", \"Pato Grande\", \"Pito\",\n",
        "    \"Zurita\", \"Roja\", \"Ana\",  \"Orio\", \"Flores del Campo\", \"Castro\",\n",
        "     \"Dolio\", \"Cabezas Parada\", \"Mocha\", \"Tek\", \"Parada\",\n",
        "    \"Lamata Feliz\", \"Bailo\", \"Brito Delgado\", \"del Ano\", \"Capunta\",\n",
        "    \"Curio\", \"Lazo\", \"Neta\", \"Polindo\", \"Dido\", \"Calao\",\n",
        "    \"Lamata Feliz\", \"Malcacho\", \"Prieto\"]\n",
        "\n"
      ]
    },
    {
      "cell_type": "code",
      "execution_count": null,
      "id": "844891c7-2ed5-4ff8-bcc4-1d751eb660e3",
      "metadata": {
        "id": "844891c7-2ed5-4ff8-bcc4-1d751eb660e3",
        "outputId": "6ef271f6-01ab-4a94-aa2a-3c4acd3dbb00"
      },
      "outputs": [
        {
          "name": "stdout",
          "output_type": "stream",
          "text": [
            "Elmo    Capunta\n",
            "Soila    Brito Delgado\n",
            "Elba    Lamata Feliz\n",
            "Jorge    Zurita\n",
            "Aquiles    Dido\n",
            "Dolores    Cabezas Parada\n",
            "Jose    Tek\n",
            "Mario    Brinco\n",
            "Marcia    Polindo\n",
            "Elmo    del Ano\n",
            "Alan    Parada\n",
            "Aquiles    Orio\n",
            "Jose Luis    Lamata Feliz\n",
            "Dolores    Flores del Campo\n",
            "Elvis    Pito\n",
            "Esteban    Polindo\n",
            "Aquiles    Pito\n",
            "Elvis    Pato Grande\n",
            "Elvis    Lamata Feliz\n",
            "Elmo    Bailo\n",
            "Esteban    Capunta\n",
            "Sole    Lazo\n",
            "Sevelinda    Lamata Feliz\n",
            "Aquiles    Tek\n",
            "Aquiles    Lamata Feliz\n",
            "Dolores    Lamata Feliz\n",
            "Mario    Malcacho\n",
            "Susana    Pito\n",
            "Aquiles    Parada\n",
            "Elba    del Ano\n",
            "Aquiles    Ana\n",
            "Luz    Pito\n",
            "Zacaria    Bailo\n",
            "Elmo    Tek\n",
            "Alan    Casas\n",
            "Yola    Pito\n",
            "Jose Luis    Orio\n",
            "Elmo    Zurita\n",
            "Elba    Calao\n",
            "Susana    Calao\n",
            "Elsa    Castro\n",
            "Zacaria    Dolio\n",
            "Jorge    Lazo\n",
            "Luz    Castro\n",
            "Luz    Baeza Parada\n",
            "Yola    Casas\n",
            "Dolores    Tek\n",
            "Elba    Capunta\n",
            "Elsa    Mocha\n",
            "Elvis    Zurita\n"
          ]
        }
      ],
      "source": [
        "for i in range(50):\n",
        "    print(random.choice(nombres),\"  \",random.choice(apellidos))"
      ]
    },
    {
      "cell_type": "code",
      "execution_count": null,
      "id": "762fc0f1-967e-4f65-b123-a3aae8eefd51",
      "metadata": {
        "id": "762fc0f1-967e-4f65-b123-a3aae8eefd51"
      },
      "outputs": [],
      "source": []
    },
    {
      "cell_type": "code",
      "execution_count": null,
      "id": "034c46a8-4cd6-4bb7-80e7-0f978e515573",
      "metadata": {
        "id": "034c46a8-4cd6-4bb7-80e7-0f978e515573"
      },
      "outputs": [],
      "source": []
    }
  ],
  "metadata": {
    "kernelspec": {
      "display_name": "Python 3 (ipykernel)",
      "language": "python",
      "name": "python3"
    },
    "language_info": {
      "codemirror_mode": {
        "name": "ipython",
        "version": 3
      },
      "file_extension": ".py",
      "mimetype": "text/x-python",
      "name": "python",
      "nbconvert_exporter": "python",
      "pygments_lexer": "ipython3",
      "version": "3.13.2"
    },
    "colab": {
      "provenance": []
    }
  },
  "nbformat": 4,
  "nbformat_minor": 5
}