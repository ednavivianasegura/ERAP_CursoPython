{
 "cells": [
  {
   "cell_type": "markdown",
   "id": "800dbe00",
   "metadata": {},
   "source": [
    "# Simulador de App Banco\n",
    "\n",
    "**Vamos a intentar simular una entidad bancaria que lleve tu registro bancario:**\n",
    "\n",
    "1. Crear una variable llamada **`balance`** e inicializala con un **número flotante aleatorio entre 500 y 1000**. Luego una variable con tu nombre llamada **`nombre`**.\n",
    "\n",
    "========================================================================================================================\n",
    "\n",
    "2. **Inicializa 3 listas vacias** para: Historial de Balance, Ingresos, Salidas. (llamalas **`historial_balance`**, **`ingresos`** y **`salidas`** respectivamente.)\n",
    "\n",
    "========================================================================================================================\n",
    "\n",
    "3. Define una función que se llame **`mostrar_balance`** que tome como parametro el balance actual (**`balance`**) y que haga lo siguiente:\n",
    "    - Imprima por pantalla el siguiente mensaje: **\"Hola `nombre`! Tu balance actual es `balance`.\"**\n",
    "        - **Ejemplo**: **`Hola XXXXXX! Tu balance actual es 1000.`**\n",
    "        \n",
    "    - Luego que verifique si el balance es positivo o negativo:\n",
    "        - En caso de ser negativo que imprima el siguiente mensaje: **`Balance negativo.`**\n",
    "    - No debe retornar nada.\n",
    "    \n",
    "========================================================================================================================\n",
    "\n",
    "4. Define una función que se llame **`ingresar_dinero`** que tome como parametro el balance actual (**`balance`**) y que haga lo siguiente:\n",
    "    - Pida al usuario por pantalla un número para ingresar al banco (este número debe ser un flotante y positivo), llama a esta variable **`ing_banco`**.\n",
    "    \n",
    "    - Crea una lista que contenga la variable **`ing_banco`** y el string **`\"ingreso\"`**, llama a esta lista **`ing_info`**.\n",
    "        - **Ejemplo: `[ing_banco, \"ingreso\"]`**\n",
    "        - **Nota**: el string siempre sera **`\"ingreso\"`**.\n",
    "    \n",
    "    - Agrege esa lista (**`ing_info`**) a la lista **`ingresos`**.\n",
    "    \n",
    "    - Crea una variable que se llame **`nuevo_balance`** que sea la suma de **`balance`** y **`ing_banco`**.\n",
    "    \n",
    "    - Agrege el número **`nuevo_balance`** a la lista **`historial_balance`**.\n",
    "    \n",
    "    - Utilice la función **`mostrar_balance()`** usando como parametro la variable **`nuevo_balance`**.\n",
    "    \n",
    "    - Retorna la variable **`nuevo_balance`**.\n",
    "\n",
    "Al momento de usar esta función ejecuta la siguiente linea: **`balance = ingresar_dinero(balance)`**.\n",
    "    \n",
    "========================================================================================================================\n",
    "\n",
    "5. Define una función que se llame **`pagar_servicio`** que tome como parametro el balance actual (**`balance`**) y que haga lo siguiente:\n",
    "    - Pida al usuario por pantalla el nombre del servicio que va a pagar (esta variable debe ser una cadena), llama a esta variable **`nombre_servicio`**.\n",
    "    \n",
    "    - Pida al usuario el valor que se va a pagar por el servicio (esta debe ser flotante y positivo), llama a esta variable **`coste_servicio`**.\n",
    "    \n",
    "    - Crea una lista que contenga la la variable **`coste_servicio`** y el string **`nombre_servicio`**, llama a esta lista **`servicio_info`**.\n",
    "        - **Ejemplo: `[coste_servicio, nombre_servicio]`** \n",
    "    \n",
    "    - Agrege esa lista (**`servicio_info`**) a la lista **`salidas`**.\n",
    "    \n",
    "    - Crea una variable que se llame **`nuevo_balance`** que sea la resta de **`balance`** y **`coste_servicio`**.\n",
    "    \n",
    "    - Agrege el número **`nuevo_balance`** a la lista **`historial_balance`**.\n",
    "    \n",
    "    - Utilice la función **`mostrar_balance()`** usando como parametro la variable **`nuevo_balance`**.\n",
    "    \n",
    "    - Retorna la variable **`nuevo_balance`**.\n",
    "    \n",
    "Al momento de usar esta función ejecuta la siguiente linea: **`balance = pagar_servicio(balance)`**.\n",
    "    \n",
    "========================================================================================================================\n",
    "\n",
    "6. Define una función que se llame **`mostrar_historial_balance`** que tome como parametro de entrada la lista **`historial_balance`** y que haga lo siguiente:\n",
    "    - Imprima cada elemento de la lista **`historial_balance`** utilizando un bucle **`for`** de la siguiente forma:<br>\n",
    "        **INDICE OPERACION: `indice_operacion`, BALANCE: `balance`€**.\n",
    "        - **Ejemplo: `INDICE OPERACION: 0, BALANCE: 500€`**\n",
    "        \n",
    "    - Luego que imprima por pantalla el **total de operaciones** y el **balance actual**.\n",
    "        - **Ejemplo: `TOTAL DE OPERACIONES: 100, BALANCE ACTUAL: 1000€`**\n",
    "    \n",
    "    - No debe retornar nada.\n",
    "    \n",
    "======================================================================================================================== \n",
    " \n",
    "7. Define una función que se llame **`dicc_balance`** que tome como parametro de entrada la lista **`historial_balance`** y que haga lo siguiente:\n",
    "    - Inicialice un diccionario vacio llamado **`balances`**.\n",
    "    \n",
    "    - Utilzando un bucle **`for`** llenar el diccionario **`balances`** usando la lista **`historial_balance`**, usando como **llave el indice la operación** y como **valor el balance de esa operacion**.\n",
    "    \n",
    "    - Esta función debe retornar el diccionario **`balances`**.\n",
    "\n",
    "Al momento de usar esta función ejecuta la siguiente linea: **`balances_usuario = dicc_balance(historial_balance)`**.\n",
    "    \n",
    "========================================================================================================================\n",
    "\n",
    "8. **Extra:** define una función que haga algo que consideres que haría una App bancaria, utilizando cualquier parametro, recuerda que aun no hemos utilizado para nada las listas **`ingresos`** y **`salidas`**, luego explica en clase que hace la función y su utilidad.\n",
    "    \n",
    "**Si puedes escribe algo de documentación en cada función (opcional) y recuerda importar las librerias que consideres que debas usar.**"
   ]
  },
  {
   "cell_type": "code",
   "execution_count": null,
   "id": "d21bdfe1",
   "metadata": {},
   "outputs": [],
   "source": [
    "from random import randint"
   ]
  },
  {
   "cell_type": "code",
   "execution_count": null,
   "id": "9819fed6",
   "metadata": {},
   "outputs": [],
   "source": [
    "# 1.\n",
    "\n",
    "balance = float(randint(500, 1000))\n",
    "nombre = input(\"Ingresa tu nombre: \")"
   ]
  },
  {
   "cell_type": "code",
   "execution_count": null,
   "id": "39dd1fd9",
   "metadata": {},
   "outputs": [],
   "source": [
    "# 2.\n",
    "\n",
    "historial_balance = []\n",
    "ingresos = [] \n",
    "salidas = []"
   ]
  },
  {
   "cell_type": "code",
   "execution_count": null,
   "id": "4be4c6d9",
   "metadata": {},
   "outputs": [],
   "source": [
    "# 3.\n",
    "\n",
    "def mostrar_balance(balance):\n",
    "    print(\"Hola {}! Tu balance actual es {}€\".format(nombre, balance))\n",
    "    \n",
    "    if balance < 0:\n",
    "        print(\"Balance negativo.\")"
   ]
  },
  {
   "cell_type": "code",
   "execution_count": null,
   "id": "bf5c53c8",
   "metadata": {},
   "outputs": [],
   "source": [
    "mostrar_balance(balance)"
   ]
  },
  {
   "cell_type": "code",
   "execution_count": null,
   "id": "f111fd6d",
   "metadata": {},
   "outputs": [],
   "source": [
    "4. \n",
    "def ingresar_dinero(balance):\n",
    "    ing_banco = float(input(\"Ingreso al banco: \"))\n",
    "    \n",
    "    ing_info = [ing_banco, \"ingreso\"]\n",
    "    \n",
    "    ingresos.append(ing_info)\n",
    "    \n",
    "    nuevo_balance = balance + ing_banco\n",
    "    \n",
    "    historial_balance.append(nuevo_balance)\n",
    "    \n",
    "    mostrar_balance(nuevo_balance)\n",
    "    \n",
    "    return nuevo_balance"
   ]
  },
  {
   "cell_type": "code",
   "execution_count": null,
   "id": "c4f67804",
   "metadata": {},
   "outputs": [],
   "source": [
    "balance = ingresar_dinero(balance)"
   ]
  },
  {
   "cell_type": "code",
   "execution_count": null,
   "id": "617492e5",
   "metadata": {},
   "outputs": [],
   "source": [
    "5. \n",
    "\n",
    "def pagar_servicio(balance):\n",
    "    \n",
    "    nombre_servicio = input(\"Nombre del servicio: \")\n",
    "    \n",
    "    coste_servicio = float(input(\"Coste del servicio: \"))\n",
    "    \n",
    "    servicio_info = [coste_servicio, nombre_servicio]\n",
    "    \n",
    "    nuevo_balance = balance - coste_servicio\n",
    "    \n",
    "    historial_balance.append(nuevo_balance)\n",
    "    \n",
    "    mostrar_balance(nuevo_balance)\n",
    "    \n",
    "    return nuevo_balance"
   ]
  },
  {
   "cell_type": "code",
   "execution_count": null,
   "id": "e86b2b96",
   "metadata": {},
   "outputs": [],
   "source": [
    "balance = pagar_servicio(balance)"
   ]
  },
  {
   "cell_type": "code",
   "execution_count": null,
   "id": "4c634724",
   "metadata": {},
   "outputs": [],
   "source": [
    "# 6.\n",
    "\n",
    "def mostrar_historial_balance(historial_balance):\n",
    "    \n",
    "    for enum, balance in enumerate(historial_balance):\n",
    "        \n",
    "        print(\"INDICE OPERACION: {}, BALANCE: {}€\".format(enum, balance))\n",
    "    \n",
    "    print(\"TOTAL DE OPERACIONES: {}, BALANCE ACTUAL: {}€\".format(len(historial_balance), historial_balance[-1]))"
   ]
  },
  {
   "cell_type": "code",
   "execution_count": null,
   "id": "e3226dc1",
   "metadata": {},
   "outputs": [],
   "source": [
    "mostrar_historial_balance(historial_balance)"
   ]
  },
  {
   "cell_type": "code",
   "execution_count": null,
   "id": "3e9d7256",
   "metadata": {},
   "outputs": [],
   "source": [
    "# 7.\n",
    "\n",
    "def dicc_balance(historial_balance):\n",
    "    \n",
    "    balances = {}\n",
    "    \n",
    "    for enum, balance in enumerate(historial_balance):\n",
    "        balances[enum] = balance\n",
    "        \n",
    "    return balances"
   ]
  },
  {
   "cell_type": "code",
   "execution_count": null,
   "id": "f4b98769",
   "metadata": {},
   "outputs": [],
   "source": [
    "balances_usuario = dicc_balance(historial_balance)\n",
    "\n",
    "balances_usuario"
   ]
  },
  {
   "cell_type": "code",
   "execution_count": null,
   "id": "6ca18e9e",
   "metadata": {},
   "outputs": [],
   "source": []
  }
 ],
 "metadata": {
  "kernelspec": {
   "display_name": "Python 3 (ipykernel)",
   "language": "python",
   "name": "python3"
  },
  "language_info": {
   "codemirror_mode": {
    "name": "ipython",
    "version": 3
   },
   "file_extension": ".py",
   "mimetype": "text/x-python",
   "name": "python",
   "nbconvert_exporter": "python",
   "pygments_lexer": "ipython3",
   "version": "3.9.12"
  }
 },
 "nbformat": 4,
 "nbformat_minor": 5
}
