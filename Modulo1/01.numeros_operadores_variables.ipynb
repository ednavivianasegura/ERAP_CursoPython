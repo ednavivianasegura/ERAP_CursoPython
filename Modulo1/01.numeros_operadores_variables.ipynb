{
 "cells": [
  {
   "cell_type": "markdown",
   "id": "2d4b2799",
   "metadata": {},
   "source": [
    "## Números (int & float)\n",
    "\n",
    "En python podemos representar números usando tres tipos de datos diferentes: **int, float & complex**.\n",
    "- **int:** se usa para representar números enteros, pueden ser positivos, negativos y el cero.\n",
    "    - En python, se representa usando **int (integer o entero)**.\n",
    "    \n",
    "    \n",
    "- **float:** se usa para repersentar los números con coma decimal, estos pueden ser positivos, negativos y el cero.\n",
    "    - En python, se representan usando **float (floating point o punto flotante)**.\n",
    "    \n",
    "    \n",
    "- **complex:** se usa para representar números reales con parte imaginaria `a + bi`.\n",
    "    - En python, se representan usando **complex (complejos)**\n",
    "    \n",
    "\n",
    "Podemos verificar el tipo de dato de un número usando la función **`type()`**."
   ]
  },
  {
   "cell_type": "code",
   "execution_count": 18,
   "id": "1f2d1f4f",
   "metadata": {},
   "outputs": [],
   "source": [
    "#complex(1, 1)"
   ]
  },
  {
   "cell_type": "markdown",
   "id": "9ebe6862",
   "metadata": {},
   "source": [
    "## Operadores Aritméticos\n",
    "\n",
    "Son operaciones aritmeticas que se pueden utilizar con diferentes tipos de datos en python:\n",
    "\n",
    "| Operador | Operación      | Ejemplo |\n",
    "|----------|----------------|---------|\n",
    "| +        | Suma           | x + y   |\n",
    "| -        | Resta          | x - y   |\n",
    "| *        | Multiplicación | x * y   |\n",
    "| /        | División       | x / y   |\n",
    "| %        | Modulo         | x % y   |\n",
    "| **       | Exponente      | x ** y  |\n",
    "| //       | División Entera| x // y  |"
   ]
  },
  {
   "cell_type": "code",
   "execution_count": 7,
   "id": "ece99ec0",
   "metadata": {},
   "outputs": [],
   "source": [
    "# Suma"
   ]
  },
  {
   "cell_type": "code",
   "execution_count": null,
   "id": "6f6b9925",
   "metadata": {},
   "outputs": [],
   "source": [
    "# Resta"
   ]
  },
  {
   "cell_type": "code",
   "execution_count": 8,
   "id": "51204628",
   "metadata": {},
   "outputs": [],
   "source": [
    "# División"
   ]
  },
  {
   "cell_type": "code",
   "execution_count": null,
   "id": "71b70b9d",
   "metadata": {},
   "outputs": [],
   "source": [
    "# Multiplicación"
   ]
  },
  {
   "cell_type": "code",
   "execution_count": null,
   "id": "3d879483",
   "metadata": {},
   "outputs": [],
   "source": [
    "# Modulo (el resto de dividir x en y partes)"
   ]
  },
  {
   "cell_type": "code",
   "execution_count": null,
   "id": "a95a1c9b",
   "metadata": {},
   "outputs": [],
   "source": [
    "# Exponente"
   ]
  },
  {
   "cell_type": "code",
   "execution_count": 20,
   "id": "5c033cf3",
   "metadata": {},
   "outputs": [],
   "source": [
    "# División Entera "
   ]
  },
  {
   "cell_type": "code",
   "execution_count": 28,
   "id": "fe407150-95ba-4ada-944a-ee1c0c7eac63",
   "metadata": {},
   "outputs": [],
   "source": [
    "# Letras \"que...\" + \"ja\"*7"
   ]
  },
  {
   "cell_type": "markdown",
   "id": "a9dad416",
   "metadata": {},
   "source": [
    "## Variables\n",
    "\n",
    "En python podemos inicializar variables con cualquier tipo de dato que queramos utilizando el operador `=`.\n",
    "\n",
    "- Al nombrar una variable podemos utilizar letras minúsculas (a-z), letras mayúsculas (A-Z), números (0-9) y underscore (_).\n",
    "\n",
    "\n",
    "- Los nombres de las variables NO pueden empezar por un número.\n",
    "\n",
    "\n",
    "- Aunque es posible, es considerado como mala práctica utilizar palabras reservadas para nombrar variables.\n",
    "\n",
    "\n",
    "- Las variables no pueden solo contener digitos.\n",
    "\n",
    "\n",
    "- Las variables son \"case sensitive\", es decir, diferencian entre mayúsculas y minúsculas."
   ]
  },
  {
   "cell_type": "markdown",
   "id": "1c036e7c-c4d7-4cf8-a3bd-dbb198853b80",
   "metadata": {},
   "source": [
    "- Cuando inicializamos una variable el valor no se muestra en pantalla"
   ]
  },
  {
   "cell_type": "code",
   "execution_count": null,
   "id": "fefdb6c2",
   "metadata": {},
   "outputs": [],
   "source": [
    "# Utilidad: ayuda por integrante de familia (muchas familias)"
   ]
  },
  {
   "cell_type": "markdown",
   "id": "3f534dc2",
   "metadata": {},
   "source": [
    "- Podemos asignarle a una variable el resultado de una operación:"
   ]
  },
  {
   "cell_type": "code",
   "execution_count": null,
   "id": "227e22e1-5211-4292-a171-01abc37a7c17",
   "metadata": {},
   "outputs": [],
   "source": []
  },
  {
   "cell_type": "markdown",
   "id": "2c32208c",
   "metadata": {},
   "source": [
    "- Y podemos verificar que tipo de dato es una variable:"
   ]
  },
  {
   "cell_type": "code",
   "execution_count": null,
   "id": "b1c46e91-ef79-4a18-afc2-c4cf88cb2b87",
   "metadata": {},
   "outputs": [],
   "source": []
  },
  {
   "cell_type": "markdown",
   "id": "567e1de8-b14e-4c20-b11d-51fe927bf82a",
   "metadata": {},
   "source": [
    "- ¿qué pasa si se suma un entero y un decimal? suma = entero + decimal"
   ]
  },
  {
   "cell_type": "code",
   "execution_count": null,
   "id": "4af98399-5a8b-4a4c-8642-6a155ca949ed",
   "metadata": {},
   "outputs": [],
   "source": []
  },
  {
   "cell_type": "code",
   "execution_count": null,
   "id": "4b78a89b",
   "metadata": {},
   "outputs": [],
   "source": [
    "# Veamos el módulo"
   ]
  },
  {
   "cell_type": "code",
   "execution_count": null,
   "id": "1a1d2e7a",
   "metadata": {},
   "outputs": [],
   "source": [
    "################################################################################################################################"
   ]
  }
 ],
 "metadata": {
  "kernelspec": {
   "display_name": "Python 3 (ipykernel)",
   "language": "python",
   "name": "python3"
  },
  "language_info": {
   "codemirror_mode": {
    "name": "ipython",
    "version": 3
   },
   "file_extension": ".py",
   "mimetype": "text/x-python",
   "name": "python",
   "nbconvert_exporter": "python",
   "pygments_lexer": "ipython3",
   "version": "3.13.2"
  }
 },
 "nbformat": 4,
 "nbformat_minor": 5
}
