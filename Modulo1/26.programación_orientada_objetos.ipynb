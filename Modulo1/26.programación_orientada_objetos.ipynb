{
  "cells": [
    {
      "cell_type": "markdown",
      "metadata": {
        "id": "view-in-github",
        "colab_type": "text"
      },
      "source": [
        "<a href=\"https://colab.research.google.com/github/ednavivianasegura/ERAP_CursoPython/blob/main/Modulo1/26.programacio%CC%81n_orientada_objetos.ipynb\" target=\"_parent\"><img src=\"https://colab.research.google.com/assets/colab-badge.svg\" alt=\"Open In Colab\"/></a>"
      ]
    },
    {
      "cell_type": "markdown",
      "id": "716ef758",
      "metadata": {
        "id": "716ef758"
      },
      "source": [
        "## Clases (class)\n",
        "\n",
        "La programación orientada a objetos (**Object-Oriented Programming (OOP)**) se basa en el hecho de que **se debe dividir el programa en modelos de objetos físicos o simulados**. Se debe expresar un programa como un **conjunto de objetos que colaboran entre si mismos** para realizar tareas.\n",
        "\n",
        "**Un objeto** es la representación en un programa de un concepto y contiene la información necesaría para abstraerlo:\n",
        "\n",
        "- **Atributos**: que describen al objeto.\n",
        "- **Métodos**: operaciones que se pueden realizar al objeto.\n",
        "\n",
        "\n",
        "Los objetos pueden agruparse en categorías y una clase describe (de un modo abstracto) todos los objetos de un tipo o categoría determinada.\n",
        "\n",
        "<img src=\"https://github.com/ednavivianasegura/ERAP_CursoPython/blob/main/Modulo1/Imagenes%20Notebooks/oop_1.png?raw=true\" width=\"300\" />\n",
        "\n",
        "\n",
        "**La idea de la programación orientada a objetos puede parecer abstracta y compleja**, pero ya hemos estado utilizando objetos sin darnos cuenta. **Casi todo en Python es un objeto**, todas las cadenas, listas, y diccionarios que hemos visto hasta ahora y que hemos usado han sido objetos.\n",
        "\n",
        "- **Objeto**\n",
        "    - El objeto es el centro de la programación orientada a objetos. Un objeto es algo que se visualiza, se utiliza y que juega un papel o un rol en el dominio del problema del programa. La estructura interna y el comportamiento de un objeto, en consecuencia, no es prioritario durante el modelado del problema.\n",
        "    \n",
        "\n",
        "- **Clase**\n",
        "    - En el mundo real existen varios objetos de un mismo tipo o clase, por lo que una clase equivale a la generalización de un tipo específico de objetos. Una clase es una plantilla que define las variables y los métodos que son comunes para todos los objetos de un cierto tipo.\n",
        "    \n",
        "\n",
        "- **Instancia**\n",
        "    - Una vez definida la clase se pueden crear objetos a partir de ésta, a este proceso se le conoce como crear instancias de una clase o instanciar una clase. En este momento el sistema reserva suficiente memoria para el objeto con todos sus atributos.\n",
        "\n",
        "    - Una instancia es un elemento de una clase (un objeto). Cada uno de los objetos o instancias tiene su propia copia de las variables definidas en la clase de la cual son instanciados y comparten la misma implementación de los métodos. Sin embargo, cada objeto asigna valores a sus atributos y es totalmente independiente de los demás.\n",
        "    \n",
        "\n",
        "- **Método**\n",
        "    - Los métodos especifican el comportamiento de la clase y sus instancias. En el momento de la declaración hay que indicar cuál es el tipo del parámetro que devolverá el método.\n",
        "    \n",
        "\n",
        "- **Atributos**\n",
        "    - Tipos de datos asociados a un objeto (o a una clase de objetos), que hace los datos visibles desde fuera del objeto y esto se define como sus características predeterminadas, cuyo valor puede ser alterado por la ejecución de algún método.\n",
        "    \n",
        "\n",
        "**Ejemplos:**"
      ]
    },
    {
      "cell_type": "code",
      "execution_count": 3,
      "id": "12ffbb61",
      "metadata": {
        "id": "12ffbb61",
        "outputId": "66f88f83-087b-4da9-fe65-7eaa50c96b59",
        "colab": {
          "base_uri": "https://localhost:8080/"
        }
      },
      "outputs": [
        {
          "output_type": "stream",
          "name": "stdout",
          "text": [
            "<class 'tuple'>\n"
          ]
        }
      ],
      "source": [
        "# Listas\n",
        "\n",
        "lista = (0, 1, 2, 3, 4)\n",
        "\n",
        "print(type(lista))"
      ]
    },
    {
      "cell_type": "code",
      "execution_count": 4,
      "id": "dfb07e58",
      "metadata": {
        "scrolled": true,
        "id": "dfb07e58"
      },
      "outputs": [],
      "source": [
        "# La función dir() nos muestra todos los atributos y métodos de una clase\n",
        "\n",
        "#dir(lista)\n",
        "\n",
        "# Los métodos con doble guión bajo se llaman métodos especiales\n",
        "# y se utilizan con funciones externas: reversed, dir...\n",
        "\n",
        "# Los métodos sin el doble guión son los métodos comunes\n",
        "# Algunos ya los conocemos como: append, pop, remove, reverse..."
      ]
    },
    {
      "cell_type": "code",
      "execution_count": 5,
      "id": "98850ce0",
      "metadata": {
        "scrolled": true,
        "id": "98850ce0"
      },
      "outputs": [],
      "source": [
        "# Clase Diccionario\n",
        "\n",
        "#dir({})"
      ]
    },
    {
      "cell_type": "markdown",
      "id": "9beb2606",
      "metadata": {
        "id": "9beb2606"
      },
      "source": [
        "### Definir una clase\n",
        "\n",
        "Para definir una clase utilizamos la función **`class`** seguido del nombre que le queramos poner a la clase (como si fuese una función). **Usualmente los nombres se escriben usando \"Upper Camel Case\"**."
      ]
    },
    {
      "cell_type": "code",
      "source": [
        "# Definición de la clase. Un personaje de videojuegos que tenga 3 atributos, nombre, clase, salud\n",
        "class Personaje:\n",
        "    def __init__(self, nombre, clase, salud):  # Creamos el constructor con los atributos\n",
        "        self.nombre = nombre\n",
        "        self.clase = clase\n",
        "        self.salud = salud\n",
        "        self.inventario = []\n",
        "\n",
        "    # Crear los métodos\n",
        "\n",
        "    def atacar(self, enemigo):\n",
        "\n",
        "        print(f\"{self.nombre} ataca a {enemigo.nombre} con su espada.\")\n",
        "        enemigo.salud -= 10\n",
        "        print(f\"La salud de {enemigo.nombre} ahora es {enemigo.salud}.\")\n",
        "\n",
        "    def recoger_objeto(self, objeto):\n",
        "        self.inventario.append(objeto)\n",
        "        print(f\"{self.nombre} ha recogido un(a) {objeto}.\")\n",
        "\n",
        "    def mostrar_estado(self):\n",
        "        print(f\"Nombre: {self.nombre}\")\n",
        "        print(f\"Clase: {self.clase}\")\n",
        "        print(f\"Salud: {self.salud}\")\n",
        "        print(f\"Inventario: {self.inventario}\")"
      ],
      "metadata": {
        "id": "WQoSphXoVaNE"
      },
      "id": "WQoSphXoVaNE",
      "execution_count": 6,
      "outputs": []
    },
    {
      "cell_type": "code",
      "execution_count": 7,
      "id": "e9588f76",
      "metadata": {
        "id": "e9588f76",
        "outputId": "6d5bd51a-e6da-4ed1-ccfd-22b09d83bd4f",
        "colab": {
          "base_uri": "https://localhost:8080/"
        }
      },
      "outputs": [
        {
          "output_type": "stream",
          "name": "stdout",
          "text": [
            "Nombre: Aria\n",
            "Clase: Maga\n",
            "Salud: 100\n",
            "Inventario: []\n",
            "Aria ha recogido un(a) Poción.\n",
            "Aria ataca a Goblin con su espada.\n",
            "La salud de Goblin ahora es 20.\n",
            "Nombre: Aria\n",
            "Clase: Maga\n",
            "Salud: 100\n",
            "Inventario: ['Poción']\n"
          ]
        }
      ],
      "source": [
        "# Creamos dos personajes\n",
        "heroe = Personaje(\"Aria\", \"Maga\", 100)\n",
        "enemigo = Personaje(\"Goblin\", \"Monstruo\", 30)\n",
        "\n",
        "# Interacción entre personajes\n",
        "heroe.mostrar_estado()\n",
        "heroe.recoger_objeto(\"Poción\")\n",
        "heroe.atacar(enemigo)\n",
        "heroe.mostrar_estado()"
      ]
    },
    {
      "cell_type": "markdown",
      "id": "7dd9d582",
      "metadata": {
        "id": "7dd9d582"
      },
      "source": [
        "### Herencias (inheritance)\n",
        "\n",
        "**Las herencias nos permiten definir una clase a partir de otra ya creada**, esto significa que la clase \"hija\" **tendrá todos los atributos y métodos** de la clase \"padre\", **esta nueva clase también puede tener nuevos atributos y métodos, modificar los que haya heredado o eliminarlos**.\n",
        "\n",
        "\n",
        "Para crear una clase a partir de otra usamos la siguiente sintaxis:\n",
        "\n",
        "**`class NuevaClase(ViejaClase):`**"
      ]
    },
    {
      "cell_type": "code",
      "execution_count": 11,
      "id": "fb82ad02",
      "metadata": {
        "id": "fb82ad02"
      },
      "outputs": [],
      "source": [
        "class Mago(Personaje):\n",
        "    def __init__(self, nombre):\n",
        "        super().__init__(nombre, clase=\"Mago\", salud=80)\n",
        "\n",
        "    def lanzar_hechizo(self, enemigo):\n",
        "        print(f\"{self.nombre} lanza una bola de fuego a {enemigo.nombre}.\")\n",
        "        enemigo.salud -= 15\n",
        "        print(f\"La salud de {enemigo.nombre} ahora es {enemigo.salud}.\")"
      ]
    },
    {
      "cell_type": "code",
      "execution_count": 13,
      "id": "f383bc27",
      "metadata": {
        "scrolled": true,
        "id": "f383bc27",
        "outputId": "972089c5-6b05-4331-85fd-de0e3ab0828e",
        "colab": {
          "base_uri": "https://localhost:8080/"
        }
      },
      "outputs": [
        {
          "output_type": "stream",
          "name": "stdout",
          "text": [
            "Nombre: Gandalf\n",
            "Clase: Mago\n",
            "Salud: 80\n",
            "Inventario: []\n",
            "Gandalf lanza una bola de fuego a Goblin.\n",
            "La salud de Goblin ahora es 5.\n",
            "Gandalf ha recogido un(a) Espada.\n"
          ]
        }
      ],
      "source": [
        "# Crear instancias de las subclases\n",
        "gandalf = Mago(\"Gandalf\")\n",
        "\n",
        "# Mostrar estados\n",
        "gandalf.mostrar_estado()\n",
        "\n",
        "# Acciones específicas\n",
        "gandalf.lanzar_hechizo(enemigo)\n",
        "\n",
        "# Acción heredada\n",
        "gandalf.recoger_objeto(\"Espada\")"
      ]
    },
    {
      "cell_type": "code",
      "execution_count": null,
      "id": "5aa5b1ec",
      "metadata": {
        "id": "5aa5b1ec"
      },
      "outputs": [],
      "source": [
        "################################################################################################################################"
      ]
    }
  ],
  "metadata": {
    "kernelspec": {
      "display_name": "Python 3 (ipykernel)",
      "language": "python",
      "name": "python3"
    },
    "language_info": {
      "codemirror_mode": {
        "name": "ipython",
        "version": 3
      },
      "file_extension": ".py",
      "mimetype": "text/x-python",
      "name": "python",
      "nbconvert_exporter": "python",
      "pygments_lexer": "ipython3",
      "version": "3.13.2"
    },
    "colab": {
      "provenance": [],
      "include_colab_link": true
    }
  },
  "nbformat": 4,
  "nbformat_minor": 5
}