{
  "cells": [
    {
      "cell_type": "markdown",
      "id": "716ef758",
      "metadata": {
        "id": "716ef758"
      },
      "source": [
        "## Clases (class)\n",
        "\n",
        "La programación orientada a objetos (**Object-Oriented Programming (OOP)**) se basa en el hecho de que **se debe dividir el programa en modelos de objetos físicos o simulados**. Se debe expresar un programa como un **conjunto de objetos que colaboran entre si mismos** para realizar tareas.\n",
        "\n",
        "**Un objeto** es la representación en un programa de un concepto y contiene la información necesaría para abstraerlo:\n",
        "\n",
        "- **Atributos**: que describen al objeto.\n",
        "- **Métodos**: operaciones que se pueden realizar al objeto.\n",
        "\n",
        "\n",
        "Los objetos pueden agruparse en categorías y una clase describe (de un modo abstracto) todos los objetos de un tipo o categoría determinada.\n",
        "\n",
        "![oop_1.png](attachment:oop_1.png)\n",
        "\n",
        "**La idea de la programación orientada a objetos puede parecer abstracta y compleja**, pero ya hemos estado utilizando objetos sin darnos cuenta. **Casi todo en Python es un objeto**, todas las cadenas, listas, y diccionarios que hemos visto hasta ahora y que hemos usado han sido objetos.\n",
        "\n",
        "- **Objeto**\n",
        "    - El objeto es el centro de la programación orientada a objetos. Un objeto es algo que se visualiza, se utiliza y que juega un papel o un rol en el dominio del problema del programa. La estructura interna y el comportamiento de un objeto, en consecuencia, no es prioritario durante el modelado del problema.\n",
        "    \n",
        "\n",
        "- **Clase**\n",
        "    - En el mundo real existen varios objetos de un mismo tipo o clase, por lo que una clase equivale a la generalización de un tipo específico de objetos. Una clase es una plantilla que define las variables y los métodos que son comunes para todos los objetos de un cierto tipo.\n",
        "    \n",
        "\n",
        "- **Instancia**\n",
        "    - Una vez definida la clase se pueden crear objetos a partir de ésta, a este proceso se le conoce como crear instancias de una clase o instanciar una clase. En este momento el sistema reserva suficiente memoria para el objeto con todos sus atributos.\n",
        "\n",
        "    - Una instancia es un elemento de una clase (un objeto). Cada uno de los objetos o instancias tiene su propia copia de las variables definidas en la clase de la cual son instanciados y comparten la misma implementación de los métodos. Sin embargo, cada objeto asigna valores a sus atributos y es totalmente independiente de los demás.\n",
        "    \n",
        "\n",
        "- **Método**\n",
        "    - Los métodos especifican el comportamiento de la clase y sus instancias. En el momento de la declaración hay que indicar cuál es el tipo del parámetro que devolverá el método.\n",
        "    \n",
        "\n",
        "- **Atributos**\n",
        "    - Tipos de datos asociados a un objeto (o a una clase de objetos), que hace los datos visibles desde fuera del objeto y esto se define como sus características predeterminadas, cuyo valor puede ser alterado por la ejecución de algún método.\n",
        "    \n",
        "\n",
        "**Ejemplos:**"
      ]
    },
    {
      "cell_type": "code",
      "execution_count": null,
      "id": "12ffbb61",
      "metadata": {
        "id": "12ffbb61",
        "outputId": "2a2a9c43-7400-4d35-8595-9ddb5bc2e039"
      },
      "outputs": [
        {
          "name": "stdout",
          "output_type": "stream",
          "text": [
            "<class 'tuple'>\n"
          ]
        }
      ],
      "source": [
        "# Listas\n",
        "\n",
        "lista = (0, 1, 2, 3, 4)\n",
        "\n",
        "print(type(lista))"
      ]
    },
    {
      "cell_type": "code",
      "execution_count": 1,
      "id": "dfb07e58",
      "metadata": {
        "scrolled": true,
        "id": "dfb07e58"
      },
      "outputs": [],
      "source": [
        "# La función dir() nos muestra todos los atributos y métodos de una clase\n",
        "\n",
        "#dir(lista)\n",
        "\n",
        "# Los métodos con doble guión bajo se llaman métodos especiales\n",
        "# y se utilizan con funciones externas: reversed, dir...\n",
        "\n",
        "# Los métodos sin el doble guión son los métodos comunes\n",
        "# Algunos ya los conocemos como: append, pop, remove, reverse..."
      ]
    },
    {
      "cell_type": "code",
      "execution_count": 2,
      "id": "98850ce0",
      "metadata": {
        "scrolled": true,
        "id": "98850ce0"
      },
      "outputs": [],
      "source": [
        "# Clase Diccionario\n",
        "\n",
        "#dir({})"
      ]
    },
    {
      "cell_type": "markdown",
      "id": "9beb2606",
      "metadata": {
        "id": "9beb2606"
      },
      "source": [
        "### Definir una clase\n",
        "\n",
        "Para definir una clase utilizamos la función **`class`** seguido del nombre que le queramos poner a la clase (como si fuese una función). **Usualmente los nombres se escriben usando \"Upper Camel Case\"**."
      ]
    },
    {
      "cell_type": "code",
      "source": [
        "# Definir la clase personaje\n",
        "# class Personaje:"
      ],
      "metadata": {
        "id": "WQoSphXoVaNE"
      },
      "id": "WQoSphXoVaNE",
      "execution_count": null,
      "outputs": []
    },
    {
      "cell_type": "markdown",
      "id": "e1aa427c",
      "metadata": {
        "id": "e1aa427c"
      },
      "source": [
        "### Atributos\n",
        "\n",
        "Para agregar atributos a una clase, podemos declarar variables al momento de definir la clase."
      ]
    },
    {
      "cell_type": "code",
      "execution_count": null,
      "id": "20b44c5c",
      "metadata": {
        "id": "20b44c5c"
      },
      "outputs": [],
      "source": [
        "class AutoMovil:\n",
        "\n",
        "    color = \"azul\"\n",
        "    asientos = 4"
      ]
    },
    {
      "cell_type": "code",
      "execution_count": null,
      "id": "051bfead-706d-4005-bbc6-7702a11869fb",
      "metadata": {
        "id": "051bfead-706d-4005-bbc6-7702a11869fb",
        "outputId": "537d707b-f608-44fa-a582-7be951601e93"
      },
      "outputs": [
        {
          "data": {
            "text/plain": [
              "['__class__',\n",
              " '__delattr__',\n",
              " '__dict__',\n",
              " '__dir__',\n",
              " '__doc__',\n",
              " '__eq__',\n",
              " '__firstlineno__',\n",
              " '__format__',\n",
              " '__ge__',\n",
              " '__getattribute__',\n",
              " '__getstate__',\n",
              " '__gt__',\n",
              " '__hash__',\n",
              " '__init__',\n",
              " '__init_subclass__',\n",
              " '__le__',\n",
              " '__lt__',\n",
              " '__module__',\n",
              " '__ne__',\n",
              " '__new__',\n",
              " '__reduce__',\n",
              " '__reduce_ex__',\n",
              " '__repr__',\n",
              " '__setattr__',\n",
              " '__sizeof__',\n",
              " '__static_attributes__',\n",
              " '__str__',\n",
              " '__subclasshook__',\n",
              " '__weakref__',\n",
              " 'asientos',\n",
              " 'color']"
            ]
          },
          "execution_count": 10,
          "metadata": {},
          "output_type": "execute_result"
        }
      ],
      "source": [
        "dir(AutoMovil)"
      ]
    },
    {
      "cell_type": "code",
      "execution_count": null,
      "id": "e9588f76",
      "metadata": {
        "id": "e9588f76"
      },
      "outputs": [],
      "source": [
        "# Inicializamos una instancia\n",
        "\n",
        "coche = AutoMovil()"
      ]
    },
    {
      "cell_type": "code",
      "execution_count": null,
      "id": "d542f8a0",
      "metadata": {
        "id": "d542f8a0"
      },
      "outputs": [],
      "source": [
        "coche=\"Tapada\"\n",
        "#dir(coche)"
      ]
    },
    {
      "cell_type": "code",
      "execution_count": null,
      "id": "ed6e0e42",
      "metadata": {
        "id": "ed6e0e42"
      },
      "outputs": [],
      "source": [
        "# Para acceder a estos atributos utilizamos \".\" y luego el nombre del atributo\n",
        "\n"
      ]
    },
    {
      "cell_type": "code",
      "execution_count": null,
      "id": "2642df47",
      "metadata": {
        "id": "2642df47"
      },
      "outputs": [],
      "source": [
        "# También se pueden agregar atributos, aunque estos no sea hayan especificado al momento de crear una clase.\n",
        "\n"
      ]
    },
    {
      "cell_type": "code",
      "execution_count": null,
      "id": "24100f4f-07d9-4249-bb1f-24224188983e",
      "metadata": {
        "id": "24100f4f-07d9-4249-bb1f-24224188983e"
      },
      "outputs": [],
      "source": []
    },
    {
      "cell_type": "code",
      "execution_count": null,
      "id": "a08d0753",
      "metadata": {
        "id": "a08d0753"
      },
      "outputs": [],
      "source": [
        "# Pero si intentamos acceder a un atributo que no exista nos dará error\n"
      ]
    },
    {
      "cell_type": "markdown",
      "id": "6e303be7",
      "metadata": {
        "id": "6e303be7"
      },
      "source": [
        "### \\_\\_init\\_\\_\n",
        "\n",
        "El método **`__init__`** (**initialize**) es **utilizado cada vez que se crea una instancia de una clase**.\n",
        "Este método **se utiliza para inicializar atributos** y solo es utilizado para eso, no tiene otros usos.\n",
        "\n",
        "Al utilizar este método cada vez que inicialicemos una instancia **tendremos que dar parámetros al objeto para que pueda crear los atributos, de esta forma cada instancia es tendrá valores diferentes para cada instancia**.\n",
        "\n",
        "Este método **`__init__`** puede tomar tantos parámetros como queramos pero **el primer parámetro debe ser una variable llamada `self`** (por convención) que hará referencia a \"él mismo\". (Por eso el nombre **`\"self\"`**).\n",
        "\n",
        "Luego de esto, utilizamos los parámetros de la clase para inicializar los atributos:\n",
        "\n",
        "**`self.atributo = parámetro`**\n",
        "\n",
        "Aquí usamos la variable **`self`** para que la clase entienda que el atributo se le va a agregar a esa instancia, no a todas las instancias.\n",
        "\n",
        "Aunque no es obligatorio, por lo general **atributo** y **parámetro** comparten el mismo nombre."
      ]
    },
    {
      "cell_type": "code",
      "execution_count": null,
      "id": "11aed883",
      "metadata": {
        "id": "11aed883"
      },
      "outputs": [],
      "source": [
        "class Empleado:\n",
        "\n",
        "    puesto_trabajo = \"Empleado\"\n",
        "\n",
        "    def __init__(self, nombre, apellido):\n",
        "        self.nombre = nombre\n",
        "        self.apellido = apellido\n",
        "        self.email = f\"{nombre.lower()}.{apellido.lower()}@python.com\"\n",
        "\n",
        "# En este ejemplo, cuando inicialicemos una instancia tendremos que dar los parametros de nombre y apellido\n",
        "# La instancia creada tendra los atributos de nombre, apellido y email variables (dependiendo de los valores)\n",
        "# Y tendra el atributo \"puesto_trabajo\" constante, es decir, todas las instancias creadas tendrán el mismo valor."
      ]
    },
    {
      "cell_type": "code",
      "execution_count": null,
      "id": "4f24e7a0",
      "metadata": {
        "id": "4f24e7a0"
      },
      "outputs": [],
      "source": [
        "persona = Empleado(nombre = \"Pablo\", apellido = \"Rodriguez\")\n",
        "\n",
        "persona"
      ]
    },
    {
      "cell_type": "code",
      "execution_count": null,
      "id": "df726ca6",
      "metadata": {
        "id": "df726ca6"
      },
      "outputs": [],
      "source": [
        "#persona.nombre ; apellido; email...."
      ]
    },
    {
      "cell_type": "code",
      "execution_count": null,
      "id": "268e095e",
      "metadata": {
        "id": "268e095e"
      },
      "outputs": [],
      "source": [
        "persona_2 = Empleado(nombre = \"Juan\", apellido = \"Perez\")\n",
        "\n",
        "print(persona_2.nombre)\n",
        "print(persona_2.apellido)\n",
        "print(persona_2.email)\n",
        "print(persona_2.puesto_trabajo)"
      ]
    },
    {
      "cell_type": "code",
      "execution_count": null,
      "id": "9c4e92e3",
      "metadata": {
        "id": "9c4e92e3"
      },
      "outputs": [],
      "source": [
        "# También podemos modificar los atributos aunque los hayamos inicializado con __init__\n",
        "\n",
        "persona.nombre = \"pablo\"\n",
        "\n",
        "persona.nombre"
      ]
    },
    {
      "cell_type": "markdown",
      "id": "e39e30e0",
      "metadata": {
        "id": "e39e30e0"
      },
      "source": [
        "### Métodos\n",
        "\n",
        "**Los métodos son funciones propias de cada clase**, es decir, estos métodos solo funcionan con su clase.\n",
        "\n",
        "**Para crear métodos, basta con definir una función dentro de la clase**.\n",
        "\n",
        "Estas funciones pueden tomar o no parámetros, sin embargo, **es obligatorio que el primer parámetro de los métodos sea `self`** (aunque sea el único).\n",
        "\n",
        "- En caso de querer utilizar atributos del método **`__init__`** o **atributos estáticos**, podemos simplemente usar **`self`** como parámetro del nuevo método y con esto podremos usar cualquier atributo de la clase (Ya sea de **`__init__`** o **estático**)."
      ]
    },
    {
      "cell_type": "code",
      "execution_count": null,
      "id": "b61f22bc",
      "metadata": {
        "id": "b61f22bc"
      },
      "outputs": [],
      "source": [
        "class Empleado:\n",
        "\n",
        "    puesto_trabajo = \"Empleado\"\n",
        "\n",
        "    def __init__(self, nombre, apellido):\n",
        "        self.nombre = nombre\n",
        "        self.apellido = apellido\n",
        "        self.email = f\"{nombre.lower()}.{apellido.lower()}@python.com\"\n",
        "\n",
        "    def display_info(self):\n",
        "        print(f\"Nombre: {self.nombre}\")\n",
        "        print(f\"Apellido: {self.apellido}\")\n",
        "        print(f\"Contacto: {self.email}\")\n",
        "        print(f\"Puesto de trabajo: {self.puesto_trabajo}\")\n",
        "\n",
        "    def display_message(self):\n",
        "        print(\"Esta es la clase Empleado.\")\n",
        "\n",
        "    def cambiar_puesto_trabajo(self, nuevo_puesto):\n",
        "        self.puesto_trabajo = nuevo_puesto"
      ]
    },
    {
      "cell_type": "code",
      "execution_count": null,
      "id": "105a597b",
      "metadata": {
        "id": "105a597b",
        "outputId": "7d366130-b291-474f-c3f4-00be3e47cb72"
      },
      "outputs": [
        {
          "data": {
            "text/plain": [
              "<__main__.Empleado at 0x74d6646d2e40>"
            ]
          },
          "execution_count": 31,
          "metadata": {},
          "output_type": "execute_result"
        }
      ],
      "source": [
        "persona = Empleado(nombre = \"Pablo\", apellido = \"Rodriguez\")\n",
        "\n",
        "persona"
      ]
    },
    {
      "cell_type": "code",
      "execution_count": null,
      "id": "e296b0d1",
      "metadata": {
        "id": "e296b0d1",
        "outputId": "e73d0ed9-9446-4fd7-b612-108abf341fa8"
      },
      "outputs": [
        {
          "name": "stdout",
          "output_type": "stream",
          "text": [
            "Nombre: Pablo\n",
            "Apellido: Rodriguez\n",
            "Contacto: pablo.rodriguez@python.com\n",
            "Puesto de trabajo: Empleado\n"
          ]
        }
      ],
      "source": [
        "# Método .display_info()\n",
        "\n",
        "persona.display_info()"
      ]
    },
    {
      "cell_type": "code",
      "execution_count": null,
      "id": "5e8d7b12",
      "metadata": {
        "id": "5e8d7b12",
        "outputId": "25f900db-42ed-42da-e337-3ddfdc167c3f"
      },
      "outputs": [
        {
          "name": "stdout",
          "output_type": "stream",
          "text": [
            "Esta es la clase Empleado.\n"
          ]
        }
      ],
      "source": [
        "# Método .display_message()\n",
        "\n",
        "persona.display_message()"
      ]
    },
    {
      "cell_type": "code",
      "execution_count": null,
      "id": "901faf62",
      "metadata": {
        "id": "901faf62"
      },
      "outputs": [],
      "source": [
        "# Método .cambiar_puesto_trabajo()\n",
        "\n",
        "persona.cambiar_puesto_trabajo(nuevo_puesto = \"Profesor\")\n",
        "\n",
        "persona.puesto_trabajo"
      ]
    },
    {
      "cell_type": "code",
      "execution_count": null,
      "id": "1f91ab92",
      "metadata": {
        "id": "1f91ab92"
      },
      "outputs": [],
      "source": [
        "# Método .display_info()\n",
        "\n",
        "persona.display_info()"
      ]
    },
    {
      "cell_type": "markdown",
      "id": "74e170e1",
      "metadata": {
        "id": "74e170e1"
      },
      "source": [
        "**Como los métodos son, en esencia, funciones, podemos hacer que nos retornen algún valor.**"
      ]
    },
    {
      "cell_type": "code",
      "execution_count": null,
      "id": "b46925c4",
      "metadata": {
        "id": "b46925c4"
      },
      "outputs": [],
      "source": [
        "class Empleado:\n",
        "\n",
        "    puesto_trabajo = \"Empleado\"\n",
        "\n",
        "    def __init__(self, nombre, apellido):\n",
        "        self.nombre = nombre\n",
        "        self.apellido = apellido\n",
        "        self.email = f\"{nombre.lower()}.{apellido.lower()}@python.com\"\n",
        "\n",
        "    def empleado_info_dict(self):\n",
        "        empleado_dict = {\"nombre\"         : self.nombre,\n",
        "                         \"apellido\"       : self.apellido,\n",
        "                         \"email\"          : self.email,\n",
        "                         \"puesto_trabajo\" : self.puesto_trabajo}\n",
        "\n",
        "        return empleado_dict\n",
        "\n",
        "    def display_info(self):\n",
        "        print(f\"Nombre: {self.nombre}\")\n",
        "        print(f\"Apellido: {self.apellido}\")\n",
        "        print(f\"Contacto: {self.email}\")\n",
        "        print(f\"Puesto de trabajo: {self.puesto_trabajo}\")\n",
        "\n",
        "    def display_message(self):\n",
        "        print(\"Esta es la clase Empleado.\")\n",
        "\n",
        "    def cambiar_puesto_trabajo(self, nuevo_puesto):\n",
        "        self.puesto_trabajo = nuevo_puesto"
      ]
    },
    {
      "cell_type": "code",
      "execution_count": null,
      "id": "df9c3a36",
      "metadata": {
        "id": "df9c3a36"
      },
      "outputs": [],
      "source": [
        "persona = Empleado(nombre = \"Pablo\", apellido = \"Rodriguez\")"
      ]
    },
    {
      "cell_type": "code",
      "execution_count": null,
      "id": "93e4eb66",
      "metadata": {
        "id": "93e4eb66"
      },
      "outputs": [],
      "source": [
        "persona.empleado_info_dict()"
      ]
    },
    {
      "cell_type": "code",
      "execution_count": null,
      "id": "13559f72",
      "metadata": {
        "scrolled": true,
        "id": "13559f72"
      },
      "outputs": [],
      "source": [
        "dir(Empleado)"
      ]
    },
    {
      "cell_type": "markdown",
      "id": "bfc09e89",
      "metadata": {
        "id": "bfc09e89"
      },
      "source": [
        "**Ejemplo 2:**"
      ]
    },
    {
      "cell_type": "code",
      "execution_count": null,
      "id": "e8a3f651",
      "metadata": {
        "id": "e8a3f651"
      },
      "outputs": [],
      "source": [
        "class Animal:\n",
        "\n",
        "    def __init__(self, color, n_patas, domestico = False):\n",
        "        self.color = color.title()\n",
        "        self.n_patas = n_patas\n",
        "        self.domestico = domestico\n",
        "\n",
        "    def display_info(self):\n",
        "        print(\"Color:\", self.color)\n",
        "        print(\"Numero de patas:\", self.n_patas)\n",
        "        print(\"Animal Doméstico:\", self.domestico)\n",
        "\n",
        "        try:\n",
        "            print(\"Nombre:\", self.nombre)\n",
        "\n",
        "        except:\n",
        "            print(\"No tiene nombre.\")\n",
        "\n",
        "    def mascota(self):\n",
        "\n",
        "        if self.domestico == True:\n",
        "            nombre = input(\"Nombre de la mascota: \")\n",
        "            self.nombre = nombre.title()\n",
        "\n",
        "        else:\n",
        "            print(\"Es un animal salvaje. No puede tener nombre.\")"
      ]
    },
    {
      "cell_type": "code",
      "execution_count": null,
      "id": "dc526c3a",
      "metadata": {
        "id": "dc526c3a"
      },
      "outputs": [],
      "source": [
        "perro = Animal(color = \"marron\", n_patas = 4, domestico = True)\n",
        "\n",
        "perro.display_info()"
      ]
    },
    {
      "cell_type": "code",
      "execution_count": null,
      "id": "d33a84ff",
      "metadata": {
        "id": "d33a84ff"
      },
      "outputs": [],
      "source": [
        "perro.mascota()"
      ]
    },
    {
      "cell_type": "code",
      "execution_count": null,
      "id": "490cd783",
      "metadata": {
        "id": "490cd783"
      },
      "outputs": [],
      "source": [
        "perro.display_info()"
      ]
    },
    {
      "cell_type": "code",
      "execution_count": null,
      "id": "18ccca04",
      "metadata": {
        "id": "18ccca04"
      },
      "outputs": [],
      "source": [
        "perro = Animal(color = \"marron\", n_patas = 4, domestico = False)\n",
        "\n",
        "perro.display_info()"
      ]
    },
    {
      "cell_type": "code",
      "execution_count": null,
      "id": "755852a4",
      "metadata": {
        "id": "755852a4"
      },
      "outputs": [],
      "source": [
        "perro.mascota()"
      ]
    },
    {
      "cell_type": "markdown",
      "id": "7dd9d582",
      "metadata": {
        "id": "7dd9d582"
      },
      "source": [
        "### Herencias (inheritance)\n",
        "\n",
        "**Las herencias nos permiten definir una clase a partir de otra ya creada**, esto significa que la clase \"hija\" **tendrá todos los atributos y métodos** de la clase \"padre\", **esta nueva clase también puede tener nuevos atributos y métodos, modificar los que haya heredado o eliminarlos**.\n",
        "\n",
        "\n",
        "Para crear una clase a partir de otra usamos la siguiente sintaxis:\n",
        "\n",
        "**`class NuevaClase(ViejaClase):`**"
      ]
    },
    {
      "cell_type": "code",
      "execution_count": null,
      "id": "aaccd499",
      "metadata": {
        "id": "aaccd499"
      },
      "outputs": [],
      "source": [
        "# Clase Padre\n",
        "\n",
        "class Vehiculo:\n",
        "\n",
        "    def __init__(self, n_ruedas, n_puertas, tipo_motor, kms = 0):\n",
        "        self.n_ruedas = n_ruedas\n",
        "        self.n_puertas = n_puertas\n",
        "        self.tipo_motor = tipo_motor.title()\n",
        "        self.kms = [kms]\n",
        "\n",
        "    def display_info(self):\n",
        "        print(\"Info. Vehiculo\")\n",
        "        print(\"Nº Ruedas: {}\".format(self.n_ruedas))\n",
        "        print(\"Nº Puertas: {}\".format(self.n_puertas))\n",
        "        print(\"Tipo de Motor (Eléctrico/Combustible/Hibrido): {}\".format(self.tipo_motor))\n",
        "        print(\"Total de Km's: {}\".format(sum(self.kms)))\n",
        "\n",
        "    def info_kms(self):\n",
        "\n",
        "        km_dict = {}\n",
        "\n",
        "        for num, km in enumerate(self.kms):\n",
        "            km_dict[num] = km\n",
        "\n",
        "        return km_dict\n",
        "\n",
        "    def recorrer_km(self, km_recorridos):\n",
        "\n",
        "        if type(km_recorridos) == int or type(km_recorridos) == float:\n",
        "            self.kms.append(km_recorridos)\n",
        "            print(\"El vehiculo recorrió {} km.\".format(km_recorridos))\n",
        "\n",
        "        else:\n",
        "            print(\"Formato no valido.\")\n",
        "\n",
        "    def total_kms(self):\n",
        "        return sum(self.kms)"
      ]
    },
    {
      "cell_type": "code",
      "execution_count": null,
      "id": "473750a7",
      "metadata": {
        "id": "473750a7"
      },
      "outputs": [],
      "source": [
        "coche = Vehiculo(n_ruedas = 4, n_puertas = 4, tipo_motor = \"Combustible\", kms = 0)\n",
        "\n",
        "coche.display_info()"
      ]
    },
    {
      "cell_type": "code",
      "execution_count": null,
      "id": "494431f3",
      "metadata": {
        "id": "494431f3"
      },
      "outputs": [],
      "source": [
        "coche.info_kms()"
      ]
    },
    {
      "cell_type": "code",
      "execution_count": null,
      "id": "fb82ad02",
      "metadata": {
        "id": "fb82ad02"
      },
      "outputs": [],
      "source": [
        "coche.recorrer_km(1000)"
      ]
    },
    {
      "cell_type": "code",
      "execution_count": null,
      "id": "f383bc27",
      "metadata": {
        "scrolled": true,
        "id": "f383bc27"
      },
      "outputs": [],
      "source": [
        "coche.info_kms()"
      ]
    },
    {
      "cell_type": "code",
      "execution_count": null,
      "id": "15689ae1",
      "metadata": {
        "id": "15689ae1"
      },
      "outputs": [],
      "source": [
        "coche.total_kms()"
      ]
    },
    {
      "cell_type": "code",
      "execution_count": null,
      "id": "7878dfcf",
      "metadata": {
        "scrolled": true,
        "id": "7878dfcf"
      },
      "outputs": [],
      "source": [
        "coche.kms"
      ]
    },
    {
      "cell_type": "code",
      "execution_count": null,
      "id": "931e1762",
      "metadata": {
        "id": "931e1762"
      },
      "outputs": [],
      "source": [
        "class Coche(Vehiculo):\n",
        "    pass\n",
        "\n",
        "# En este ejemplo, la clase Coche hereda todos los atributos y métodos de Vehiculo\n",
        "# Aunque con eso, para inicializar una instancia, tendremos que darle los mismos parametros que la clase Vehiculo."
      ]
    },
    {
      "cell_type": "code",
      "execution_count": null,
      "id": "b069c530",
      "metadata": {
        "id": "b069c530",
        "outputId": "73b84923-0e20-4150-f495-43783deb13ad"
      },
      "outputs": [
        {
          "name": "stdout",
          "output_type": "stream",
          "text": [
            "<class '__main__.Coche'>\n"
          ]
        }
      ],
      "source": [
        "mi_coche = Coche(n_ruedas = 4, n_puertas = 4, tipo_motor = \"Eléctrico\", kms = 1000)\n",
        "\n",
        "print(type(mi_coche))"
      ]
    },
    {
      "cell_type": "code",
      "execution_count": null,
      "id": "0f0b60ce",
      "metadata": {
        "id": "0f0b60ce"
      },
      "outputs": [],
      "source": [
        "mi_coche.display_info()"
      ]
    },
    {
      "cell_type": "code",
      "execution_count": null,
      "id": "424d5a2e",
      "metadata": {
        "id": "424d5a2e"
      },
      "outputs": [],
      "source": [
        "mi_coche.info_kms()"
      ]
    },
    {
      "cell_type": "code",
      "execution_count": null,
      "id": "b26b86fa",
      "metadata": {
        "id": "b26b86fa"
      },
      "outputs": [],
      "source": [
        "# Ahora, podemos agregar nuevos métodos a la clase Coche, para hacerla diferente a la clase Vehiculo\n",
        "\n",
        "class Coche(Vehiculo):\n",
        "\n",
        "    def coche_info(self):\n",
        "        print(\"Este vehiculo es un coche.\")"
      ]
    },
    {
      "cell_type": "code",
      "execution_count": null,
      "id": "8a96ff6a",
      "metadata": {
        "id": "8a96ff6a",
        "outputId": "a0fc5754-0e6e-4b99-e120-0fd310faf520"
      },
      "outputs": [
        {
          "name": "stdout",
          "output_type": "stream",
          "text": [
            "Este vehiculo es un coche.\n"
          ]
        }
      ],
      "source": [
        "mi_coche = Coche(n_ruedas = 4, n_puertas = 4, tipo_motor = \"Eléctrico\", kms = 1000)\n",
        "\n",
        "mi_coche.coche_info()"
      ]
    },
    {
      "cell_type": "code",
      "execution_count": null,
      "id": "e92c0517",
      "metadata": {
        "id": "e92c0517"
      },
      "outputs": [],
      "source": [
        "# Ahora la clase Coche tiene el método coche_info() y los otros 4 heredadas de Vehiculo.\n",
        "\n",
        "dir(Coche)"
      ]
    },
    {
      "cell_type": "markdown",
      "id": "ee51e797",
      "metadata": {
        "id": "ee51e797"
      },
      "source": [
        "**Ahora, si quisieramos agregar nuevos atributos podemos tomar 2 caminos:**\n",
        "1. Eliminar los atributos anteriores y crear nuevos.\n",
        "2. Mantener los atributos anteriores y crear nuevos."
      ]
    },
    {
      "cell_type": "code",
      "execution_count": null,
      "id": "6d6b6503",
      "metadata": {
        "id": "6d6b6503"
      },
      "outputs": [],
      "source": [
        "# 1. Para eliminar los atributos anteriores y agregar nuevos, basta con sobreescribir la función __init__\n",
        "\n",
        "class Coche(Vehiculo):\n",
        "\n",
        "    def __init__(self, color, marca):\n",
        "        self.color = color\n",
        "        self.marca = marca\n",
        "\n",
        "# Esto no modifica los métodos existentes\n",
        "# Pero si alguno de esos métodos utiliza atributos que ya no existen nos dará error"
      ]
    },
    {
      "cell_type": "code",
      "execution_count": null,
      "id": "c6d1639e",
      "metadata": {
        "id": "c6d1639e"
      },
      "outputs": [],
      "source": [
        "mi_coche = Coche(\"Azul\", \"Honda\")"
      ]
    },
    {
      "cell_type": "code",
      "execution_count": null,
      "id": "e9ea09fe",
      "metadata": {
        "id": "e9ea09fe"
      },
      "outputs": [],
      "source": [
        "# Éste método utiliza un atributo que ya no existe en la clase Coche\n",
        "\n",
        "mi_coche.display_info()"
      ]
    },
    {
      "cell_type": "code",
      "execution_count": null,
      "id": "80242130",
      "metadata": {
        "id": "80242130"
      },
      "outputs": [],
      "source": [
        "# 2. Para mantener los atributos de la clase Padre y agregar nuevos\n",
        "# Usamos una combinación entre __init__ y la función super()\n",
        "\n",
        "class Coche(Vehiculo):\n",
        "\n",
        "    def __init__(self, n_ruedas, n_puertas, tipo_motor, color, marca, kms = 0):\n",
        "        super().__init__(n_ruedas, n_puertas, tipo_motor, kms)\n",
        "\n",
        "#         self.n_ruedas = n_ruedas\n",
        "#         self.n_puertas = n_puertas\n",
        "#         self.tipo_motor = tipo_motor.title()\n",
        "#         self.kms = [kms]\n",
        "\n",
        "        self.color = color\n",
        "        self.marca = marca\n",
        "\n",
        "    def coche_info(self):\n",
        "        print(\"Este vehiculo es un coche.\")\n",
        "\n",
        "# La función super().__init__() ejecutará el código del método __init__ de la clase Padre\n",
        "# Por eso, solo haría falta definir color y marca (que son los 2 nuevos atributos de la clase Coche)\n",
        "\n",
        "# Nota: Los parametros por defecto no son necesarios inicializarlos con super().__init__()\n",
        "\n",
        "# Esta nueva clase Coche mantiene los atributos y los métodos de Vehiculo\n",
        "# Además de agregar otro nuevo método."
      ]
    },
    {
      "cell_type": "code",
      "execution_count": null,
      "id": "8dcd3f6e",
      "metadata": {
        "id": "8dcd3f6e",
        "outputId": "204247da-85dd-4458-db81-06690554130d"
      },
      "outputs": [
        {
          "data": {
            "text/plain": [
              "<__main__.Coche at 0x15c80790e10>"
            ]
          },
          "execution_count": 7,
          "metadata": {},
          "output_type": "execute_result"
        }
      ],
      "source": [
        "mi_coche = Coche(n_ruedas = 4, n_puertas = 4, tipo_motor = \"Combustible\", color = \"Azul\", marca = \"Honda\", kms = 0)\n",
        "\n",
        "mi_coche"
      ]
    },
    {
      "cell_type": "code",
      "execution_count": null,
      "id": "ac143678",
      "metadata": {
        "id": "ac143678",
        "outputId": "5d7b06a9-0685-4c1d-c877-251fbe3360c3"
      },
      "outputs": [
        {
          "name": "stdout",
          "output_type": "stream",
          "text": [
            "Info. Vehiculo\n",
            "Nº Ruedas: 4\n",
            "Nº Puertas: 4\n",
            "Tipo de Motor (Eléctrico/Combustible/Hibrido): Combustible\n",
            "Total de Km's: 0\n"
          ]
        }
      ],
      "source": [
        "mi_coche.display_info()"
      ]
    },
    {
      "cell_type": "code",
      "execution_count": null,
      "id": "22a1937d",
      "metadata": {
        "id": "22a1937d",
        "outputId": "06cebf5d-37a1-48b1-ee77-34b88acc1653"
      },
      "outputs": [
        {
          "name": "stdout",
          "output_type": "stream",
          "text": [
            "Este vehiculo es un coche.\n"
          ]
        }
      ],
      "source": [
        "mi_coche.coche_info()"
      ]
    },
    {
      "cell_type": "code",
      "execution_count": null,
      "id": "6625be5b",
      "metadata": {
        "id": "6625be5b",
        "outputId": "e60404a0-f2c7-46a3-fd58-1528abac214f"
      },
      "outputs": [
        {
          "data": {
            "text/plain": [
              "'Azul'"
            ]
          },
          "execution_count": 10,
          "metadata": {},
          "output_type": "execute_result"
        }
      ],
      "source": [
        "mi_coche.color"
      ]
    },
    {
      "cell_type": "code",
      "execution_count": null,
      "id": "5397893e",
      "metadata": {
        "id": "5397893e",
        "outputId": "88e3031f-8f17-4497-c221-1feda0089647"
      },
      "outputs": [
        {
          "data": {
            "text/plain": [
              "'Honda'"
            ]
          },
          "execution_count": 11,
          "metadata": {},
          "output_type": "execute_result"
        }
      ],
      "source": [
        "mi_coche.marca"
      ]
    },
    {
      "cell_type": "code",
      "execution_count": null,
      "id": "900ff075",
      "metadata": {
        "id": "900ff075"
      },
      "outputs": [],
      "source": [
        "from time import sleep\n",
        "from random import randint\n",
        "\n",
        "# Ahora vamos a agragarle más métodos y atributos a la clase Coche\n",
        "\n",
        "# Nota: Si quisieramos usar un método de la clase dentro de otro método, tendremos que utilizar\n",
        "# self para que Python entienda que es un método propio de esa clase.\n",
        "\n",
        "class Coche(Vehiculo):\n",
        "\n",
        "    def __init__(self, n_ruedas, n_puertas, tipo_motor, color, marca, kms = 0):\n",
        "        super().__init__(n_ruedas, n_puertas, tipo_motor, kms)\n",
        "        self.color = color\n",
        "        self.marca = marca\n",
        "\n",
        "        self.historial_color = {0 : color}\n",
        "        self.condicion_ruedas = 10\n",
        "        self.condicion_aceite = 10\n",
        "        self.limpieza = 10\n",
        "        self.gastos_totales = 0\n",
        "\n",
        "        self.cond_general = sum([self.condicion_ruedas, self.condicion_aceite, self.limpieza])\n",
        "\n",
        "    def coche_info(self):\n",
        "        print(\"Condiciones del coche:\")\n",
        "        print(\"Condición de las ruedas: {}\".format(self.condicion_ruedas))\n",
        "        print(\"Condición del aceite: {}\".format(self.condicion_aceite))\n",
        "        print(\"Limpieza General: {}\".format(self.limpieza))\n",
        "        print(\"KM TOTALES: {}\".format(sum(self.kms)))\n",
        "        print(\"GASTOS TOTALES: {}\".format(self.gastos_totales))\n",
        "        print(\"CONDICION GENERAL: {}\".format(self.cond_general))\n",
        "\n",
        "    def cambiar_color(self, color):\n",
        "\n",
        "        self.color = color\n",
        "\n",
        "        self.historial_color[len(self.historial_color)] = color\n",
        "\n",
        "    def calcular_cond_general(self):\n",
        "\n",
        "        self.cond_general = round(sum([self.condicion_ruedas, self.condicion_aceite, self.limpieza]), 2)\n",
        "\n",
        "    def paseo_corto(self):\n",
        "        print(\"Estás tomando un paseo corto...\")\n",
        "        sleep(3)\n",
        "        self.condicion_ruedas -= 0.05\n",
        "        self.condicion_aceite -= 0.01\n",
        "        self.limpieza -= 0.1\n",
        "        self.kms.append(randint(10, 20))\n",
        "\n",
        "        self.calcular_cond_general()\n",
        "\n",
        "        self.coche_info()\n",
        "\n",
        "    def paseo_largo(self):\n",
        "        print(\"Estás tomando un paseo largo...\")\n",
        "        sleep(10)\n",
        "\n",
        "        self.condicion_ruedas -= 2\n",
        "        self.condicion_aceite -= 1\n",
        "        self.limpieza -= 2\n",
        "        self.kms.append(randint(50, 100))\n",
        "\n",
        "        self.calcular_cond_general()\n",
        "\n",
        "        self.coche_info()\n",
        "\n",
        "    def limpiar_coche(self):\n",
        "        print(\"Limpiando coche...\")\n",
        "        self.gastos_totales += 100\n",
        "\n",
        "        sleep(3)\n",
        "\n",
        "        self.limpieza = 10\n",
        "        print(\"Coche limpio.\")\n",
        "\n",
        "        self.calcular_cond_general()\n",
        "\n",
        "        self.coche_info()\n",
        "\n",
        "    def mantenimiento(self):\n",
        "        print(\"Estamos haciendo mantenimiento...\")\n",
        "        self.gastos_totales += 1000\n",
        "        sleep(5)\n",
        "\n",
        "        self.condicion_ruedas = 10\n",
        "        self.condicion_aceite = 10\n",
        "\n",
        "        self.calcular_cond_general()\n",
        "\n",
        "        self.coche_info()"
      ]
    },
    {
      "cell_type": "code",
      "execution_count": null,
      "id": "7302d15a",
      "metadata": {
        "id": "7302d15a"
      },
      "outputs": [],
      "source": [
        "mi_coche = Coche(n_ruedas = 4, n_puertas = 4, tipo_motor = \"Combustible\", color = \"Azul\", marca = \"Honda\")"
      ]
    },
    {
      "cell_type": "code",
      "execution_count": null,
      "id": "4f721bf9",
      "metadata": {
        "id": "4f721bf9"
      },
      "outputs": [],
      "source": [
        "mi_coche.coche_info()"
      ]
    },
    {
      "cell_type": "code",
      "execution_count": null,
      "id": "d55c85a4",
      "metadata": {
        "id": "d55c85a4"
      },
      "outputs": [],
      "source": [
        "mi_coche.paseo_corto()"
      ]
    },
    {
      "cell_type": "code",
      "execution_count": null,
      "id": "3f5e7e73",
      "metadata": {
        "id": "3f5e7e73"
      },
      "outputs": [],
      "source": [
        "mi_coche.paseo_largo()"
      ]
    },
    {
      "cell_type": "code",
      "execution_count": null,
      "id": "ec9d8a79",
      "metadata": {
        "id": "ec9d8a79"
      },
      "outputs": [],
      "source": [
        "mi_coche.kms"
      ]
    },
    {
      "cell_type": "code",
      "execution_count": null,
      "id": "9e38fede",
      "metadata": {
        "id": "9e38fede"
      },
      "outputs": [],
      "source": [
        "mi_coche.info_kms()"
      ]
    },
    {
      "cell_type": "code",
      "execution_count": null,
      "id": "fb909829",
      "metadata": {
        "id": "fb909829"
      },
      "outputs": [],
      "source": [
        "mi_coche.cambiar_color(\"Amarillo\")"
      ]
    },
    {
      "cell_type": "code",
      "execution_count": null,
      "id": "e6aa4d9f",
      "metadata": {
        "id": "e6aa4d9f"
      },
      "outputs": [],
      "source": [
        "mi_coche.historial_color"
      ]
    },
    {
      "cell_type": "code",
      "execution_count": null,
      "id": "15ef425a",
      "metadata": {
        "id": "15ef425a"
      },
      "outputs": [],
      "source": [
        "mi_coche.color"
      ]
    },
    {
      "cell_type": "code",
      "execution_count": null,
      "id": "5aa5b1ec",
      "metadata": {
        "id": "5aa5b1ec"
      },
      "outputs": [],
      "source": [
        "################################################################################################################################"
      ]
    }
  ],
  "metadata": {
    "kernelspec": {
      "display_name": "Python 3 (ipykernel)",
      "language": "python",
      "name": "python3"
    },
    "language_info": {
      "codemirror_mode": {
        "name": "ipython",
        "version": 3
      },
      "file_extension": ".py",
      "mimetype": "text/x-python",
      "name": "python",
      "nbconvert_exporter": "python",
      "pygments_lexer": "ipython3",
      "version": "3.13.2"
    },
    "colab": {
      "provenance": []
    }
  },
  "nbformat": 4,
  "nbformat_minor": 5
}