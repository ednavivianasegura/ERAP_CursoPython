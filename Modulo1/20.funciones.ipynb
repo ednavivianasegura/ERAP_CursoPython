{
 "cells": [
  {
   "cell_type": "markdown",
   "id": "8f80f7cc",
   "metadata": {},
   "source": [
    "## Funciones\n",
    "\n",
    "Una **función** es un bloque de código con un nombre asociado, que **recibe cero o más argumentos como entrada**, sigue una secuencia de sentencias, la cuales ejecuta una operación deseada y **devuelve un valor y/o realiza una tarea**.\n",
    "\n",
    "En python las funciones se definen con la palabra reservada **`def`** y si es necesario, se utiliza la palabra reservada **`return`**.\n",
    "\n",
    "- Sintaxis:\n",
    "```python\n",
    "    def NombreFuncion(parametros):\n",
    "        \"bloque de código\"\n",
    "        return\n",
    "```\n",
    "\n",
    "**Ejemplo:**"
   ]
  },
  {
   "cell_type": "code",
   "execution_count": null,
   "id": "5ce0239c",
   "metadata": {},
   "outputs": [],
   "source": [
    "# El cuadrado de un número\n",
    "\n",
    "# Esta función toma como parametro un número \"x\" y retorna el cuadrado de \"x\""
   ]
  },
  {
   "cell_type": "code",
   "execution_count": null,
   "id": "b0c0a303",
   "metadata": {},
   "outputs": [],
   "source": []
  },
  {
   "cell_type": "code",
   "execution_count": null,
   "id": "164fc5b8",
   "metadata": {},
   "outputs": [],
   "source": [
    "# Datos de un usuario\n",
    "\n",
    "def func_datos():\n",
    "    \n",
    "    nombre   =   input(\"Ingresa tu nombre: \")\n",
    "    apellido =   input(\"Ingresa tu apellido: \")\n",
    "    edad     =   int(input(\"Ingresa tu edad: \"))\n",
    "    lenguaje =   input(\"Ingresa tu lenguaje de programación favorito: \")\n",
    "    \n",
    "    datos = [nombre, apellido, edad, lenguaje]\n",
    "    # usar .format para imprimir un mensaje que involucre las variables anteriores. Por ejemplo: \"Señor {} dado que ya tiene usted {} \"\n",
    "    # .format(nombre,edad) \n",
    "    return datos\n",
    "\n",
    "# Esta función no toma ningún parametro, pero retorna una lista con los datos que pregunta al usuario al ejecutarse."
   ]
  },
  {
   "cell_type": "code",
   "execution_count": null,
   "id": "8a20dc16",
   "metadata": {},
   "outputs": [],
   "source": [
    "# Función para saber si un número es par o impar \n",
    "\n",
    "def func_par_impar():\n",
    "    print(es par/impar)\n",
    "# Esta función no toma ningún parametro de entrada y no retorna nada."
   ]
  },
  {
   "cell_type": "markdown",
   "id": "8bcc04ee",
   "metadata": {},
   "source": [
    "### Parámetros por defecto (opcionales) y return\n",
    "\n",
    "- En python se pueden crear funciones con parámetros por defecto, estos parametros se pueden modificar al momento de llamar a la función.\n",
    "\n",
    "- Al momento de definir una función con parámetros opcionales de definen después de los obligatorios. Es decir, primero se escriben los parámetros obligatorios y de segundo los opcionales. \n",
    "\n",
    "- **`return:`** Cuando la función llega a la parte del **`return`** esta se detiene y termina su ejecución. Una función puede tener más de un **`return`** o no tenerlo."
   ]
  },
  {
   "cell_type": "code",
   "execution_count": 1,
   "id": "4c92786f",
   "metadata": {},
   "outputs": [],
   "source": [
    "# En esta función tenemos 2 parametros opcionales y 1 obligatorio\n",
    "# Esta función no retorna nada."
   ]
  },
  {
   "cell_type": "code",
   "execution_count": 2,
   "id": "ba9d2a25",
   "metadata": {},
   "outputs": [],
   "source": [
    "# Como solo hay 1 parametro obligatorio, puede ejecutar la función solo dandole el parametro obligatorio"
   ]
  },
  {
   "cell_type": "code",
   "execution_count": 3,
   "id": "1ecc02a6",
   "metadata": {},
   "outputs": [],
   "source": [
    "# Se puede cambiar un parametro por defecto al momento de ejecutar la función"
   ]
  },
  {
   "cell_type": "markdown",
   "id": "8cbac4a6",
   "metadata": {},
   "source": [
    "### Retornar más de un elemento\n",
    "\n",
    "Hasta ahora hemos hecho funciones que solo retornan un elemento, número, lista... Pero podemos hacer que el **`return`** nos retorne varias elementos, de esta forma podemos asignar varias variables al mismo tiempo."
   ]
  },
  {
   "cell_type": "code",
   "execution_count": null,
   "id": "8a94b301",
   "metadata": {},
   "outputs": [],
   "source": [
    "# Funcion que retorna el minimo y el maximo de una lista"
   ]
  },
  {
   "cell_type": "markdown",
   "id": "1c99790a",
   "metadata": {},
   "source": [
    "### Variables locales y globales\n",
    "\n",
    "- En Python las **variables locales son aquellas definidas dentro de una función**. Solamente **son accesibles desde la propia función y dejan de existir cuando esta termina su ejecución**. Los parámetros de una función también son considerados como variables locales.\n",
    "\n",
    "\n",
    "- En Python las **variables globales son aquellas definidas en el cuerpo principal del programa fuera de cualquier función**. Son **accesibles desde cualquier punto del programa, incluso desde dentro de funciones**. También se puede acceder a las variables globales de otros programas o módulos importados."
   ]
  },
  {
   "cell_type": "code",
   "execution_count": 4,
   "id": "9ecdf61b",
   "metadata": {},
   "outputs": [],
   "source": [
    "var_global = 100\n",
    "\n",
    "def suma_100(valor_inicial):\n",
    "    pass"
   ]
  },
  {
   "cell_type": "code",
   "execution_count": null,
   "id": "33990fa0",
   "metadata": {},
   "outputs": [],
   "source": [
    "# En la función anterior usamos una variable fuera de la función que no esta en el parametro ni en el cuerpo de la función.\n",
    "# Si ahora intentamos imprimir por pantalla la variable \"valor_inicial\" y la variable \"suma\" nos dará error.\n",
    "# Esto es porque esas variables se crearon con la función.\n",
    "# Y cuando la función termina de ejecutarse estas variables dejan de existir."
   ]
  },
  {
   "cell_type": "code",
   "execution_count": null,
   "id": "14da27ff",
   "metadata": {},
   "outputs": [],
   "source": [
    "# La variable \"suma\" es una variable local, así que no podremos utilizarla fuera de la función."
   ]
  },
  {
   "cell_type": "markdown",
   "id": "a84373ca",
   "metadata": {},
   "source": [
    "### Lambda (función anónima)\n",
    "\n",
    "Python cuenta con la función **`lambda`**, también llamada función anónima, su utilidad es poder crear funciones sin tener que darle un nombre. Debido a la sintaxis de la función **`lambda`** está es un poco limitada.\n",
    "\n",
    "Se usa principalmente para funciones cortas, puede tomar muchos parámetros y puede retornar cualquier tipo de dato (numero, tupla, lista, diccionario...).\n",
    "\n",
    "- Sintaxis: **`lambda parametros : expresiones`**"
   ]
  },
  {
   "cell_type": "code",
   "execution_count": null,
   "id": "fdca7a3b",
   "metadata": {},
   "outputs": [],
   "source": [
    "x = lambda a, b : a + b\n",
    "\n",
    "x(10, 20)"
   ]
  },
  {
   "cell_type": "markdown",
   "id": "51844126",
   "metadata": {},
   "source": [
    "**Si quisieramos que retorne más de un elemento, podemos colocar las operaciones en una lista o tupla.**"
   ]
  },
  {
   "cell_type": "code",
   "execution_count": null,
   "id": "bd2a5a9c",
   "metadata": {},
   "outputs": [],
   "source": [
    "x = lambda a, b : [a + b, a - b]\n",
    "x(10, 10)"
   ]
  },
  {
   "cell_type": "markdown",
   "id": "1c1ed8b9",
   "metadata": {},
   "source": [
    "**También podemos usar funciones dentro de `lambda`**"
   ]
  },
  {
   "cell_type": "code",
   "execution_count": null,
   "id": "ba16ebb3",
   "metadata": {},
   "outputs": [],
   "source": [
    "z = lambda a : y(a)"
   ]
  },
  {
   "cell_type": "code",
   "execution_count": null,
   "id": "2aa769d1",
   "metadata": {},
   "outputs": [],
   "source": [
    "z = lambda a, b : [x(a, b), y(sum(x(a, b)))]"
   ]
  },
  {
   "cell_type": "code",
   "execution_count": null,
   "id": "112702bc",
   "metadata": {},
   "outputs": [],
   "source": [
    "################################################################################################################################"
   ]
  }
 ],
 "metadata": {
  "kernelspec": {
   "display_name": "Python 3 (ipykernel)",
   "language": "python",
   "name": "python3"
  },
  "language_info": {
   "codemirror_mode": {
    "name": "ipython",
    "version": 3
   },
   "file_extension": ".py",
   "mimetype": "text/x-python",
   "name": "python",
   "nbconvert_exporter": "python",
   "pygments_lexer": "ipython3",
   "version": "3.13.2"
  }
 },
 "nbformat": 4,
 "nbformat_minor": 5
}
