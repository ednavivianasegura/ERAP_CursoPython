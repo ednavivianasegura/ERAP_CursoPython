{
 "cells": [
  {
   "cell_type": "markdown",
   "id": "d6ba5bce",
   "metadata": {},
   "source": [
    "## Ejercicios Bucles"
   ]
  },
  {
   "cell_type": "markdown",
   "id": "80012d75",
   "metadata": {},
   "source": [
    "### Ejercicio 1\n",
    "\n",
    "- Dada la siguiente **lista = [1, 2, 3, 4, 5, 6, 7, 8, 9, 10]**, imprimir cada número sumandole 10 unidades utilizando un bucle **`for`**."
   ]
  },
  {
   "cell_type": "code",
   "execution_count": null,
   "id": "5436374e",
   "metadata": {},
   "outputs": [],
   "source": []
  },
  {
   "cell_type": "code",
   "execution_count": null,
   "id": "b77fc537",
   "metadata": {},
   "outputs": [],
   "source": []
  },
  {
   "cell_type": "code",
   "execution_count": null,
   "id": "4dab770a",
   "metadata": {},
   "outputs": [],
   "source": []
  },
  {
   "cell_type": "markdown",
   "id": "615b834a",
   "metadata": {},
   "source": [
    "### Ejercicio 2\n",
    "- Crea un bucle for que muestre la tabla de multiplicar del 1 al 10 de un número dado por el usuario.\n",
    "- Ejemplo:\n",
    "\n",
    "```html\n",
    "1 x 2 = 2\n",
    "2 x 2 = 4\n",
    "3 x 2 = 6\n",
    "4 x 2 = 8\n",
    "5 x 2 = 10\n",
    "6 x 2 = 12\n",
    "7 x 2 = 14\n",
    "8 x 2 = 16\n",
    "9 x 2 = 18\n",
    "10 x 2 = 20\n",
    "```"
   ]
  },
  {
   "cell_type": "code",
   "execution_count": null,
   "id": "4c07823e",
   "metadata": {},
   "outputs": [],
   "source": []
  },
  {
   "cell_type": "code",
   "execution_count": null,
   "id": "c2777e61",
   "metadata": {},
   "outputs": [],
   "source": []
  },
  {
   "cell_type": "code",
   "execution_count": null,
   "id": "b5426c6d",
   "metadata": {},
   "outputs": [],
   "source": []
  },
  {
   "cell_type": "markdown",
   "id": "3c8a4c44",
   "metadata": {},
   "source": [
    "### Ejercicio 3\n",
    "- Crear una lista vacia.\n",
    "- Llenar la lista con los numero del 200 al 215 usando un bucle **`for`**."
   ]
  },
  {
   "cell_type": "code",
   "execution_count": null,
   "id": "92d1be47",
   "metadata": {},
   "outputs": [],
   "source": []
  },
  {
   "cell_type": "code",
   "execution_count": null,
   "id": "f0855161",
   "metadata": {},
   "outputs": [],
   "source": []
  },
  {
   "cell_type": "code",
   "execution_count": null,
   "id": "864fac96",
   "metadata": {},
   "outputs": [],
   "source": []
  },
  {
   "cell_type": "markdown",
   "id": "073bada8",
   "metadata": {},
   "source": [
    "### Ejercicio 4\n",
    "- Crea una lista de números pares entre el 555 y el 599 utilizando bucle **`for`**."
   ]
  },
  {
   "cell_type": "code",
   "execution_count": null,
   "id": "2ea6dc60",
   "metadata": {},
   "outputs": [],
   "source": []
  },
  {
   "cell_type": "code",
   "execution_count": null,
   "id": "e361b1ba",
   "metadata": {},
   "outputs": [],
   "source": []
  },
  {
   "cell_type": "code",
   "execution_count": null,
   "id": "18fb0d85",
   "metadata": {},
   "outputs": [],
   "source": []
  },
  {
   "cell_type": "markdown",
   "id": "282e98c2",
   "metadata": {},
   "source": [
    "### Ejercicio 5\n",
    "- Crea un bucle **`for`** que sume los valores de la siguiente lista: **[51, 52, 53, 54, 55]**."
   ]
  },
  {
   "cell_type": "code",
   "execution_count": null,
   "id": "3d4d4485",
   "metadata": {},
   "outputs": [],
   "source": []
  },
  {
   "cell_type": "code",
   "execution_count": null,
   "id": "30c815f0",
   "metadata": {},
   "outputs": [],
   "source": []
  },
  {
   "cell_type": "code",
   "execution_count": null,
   "id": "dee25278",
   "metadata": {},
   "outputs": [],
   "source": []
  },
  {
   "cell_type": "markdown",
   "id": "ac9f3703",
   "metadata": {},
   "source": [
    "### Ejercicio 6\n",
    "- Crea una lista con 5 elementos y cada elemento de esa lista, va a ser una lista con los siguientes datos: **[1, 2, 3]**, utiliza 2 **`for`** anidados.\n",
    "\n",
    "- Resultado: [[1, 2, 3], [1, 2, 3], [1, 2, 3], [1, 2, 3], [1, 2, 3]]"
   ]
  },
  {
   "cell_type": "code",
   "execution_count": null,
   "id": "70ba6e94",
   "metadata": {},
   "outputs": [],
   "source": []
  },
  {
   "cell_type": "code",
   "execution_count": null,
   "id": "c40c21e9",
   "metadata": {},
   "outputs": [],
   "source": []
  },
  {
   "cell_type": "code",
   "execution_count": null,
   "id": "beeacbeb",
   "metadata": {},
   "outputs": [],
   "source": []
  },
  {
   "cell_type": "markdown",
   "id": "b7bb3dcc",
   "metadata": {},
   "source": [
    "### Ejercicio 7\n",
    "- Crea un bucle que cuente del 10 al 1."
   ]
  },
  {
   "cell_type": "code",
   "execution_count": null,
   "id": "ac6f8092",
   "metadata": {},
   "outputs": [],
   "source": []
  },
  {
   "cell_type": "code",
   "execution_count": null,
   "id": "22d3a338",
   "metadata": {},
   "outputs": [],
   "source": []
  },
  {
   "cell_type": "code",
   "execution_count": null,
   "id": "9153024c",
   "metadata": {},
   "outputs": [],
   "source": []
  },
  {
   "cell_type": "markdown",
   "id": "6d158465",
   "metadata": {},
   "source": [
    "### Ejercicio 8\n",
    "- Crea dos variables llamadas **`par`** e **`impar`** e inicializalas en 0.\n",
    "- Dada la siguiente lista de números = **[10, 7, 8, 3, 5, 2, 71, 21, 88]**, crea un bucle que recorra la lista y sume los números pares a la variable **`par`** y sume los números impares a la variable **`impar`**."
   ]
  },
  {
   "cell_type": "code",
   "execution_count": null,
   "id": "df34a94b",
   "metadata": {},
   "outputs": [],
   "source": []
  },
  {
   "cell_type": "code",
   "execution_count": null,
   "id": "0fa5dcb9",
   "metadata": {},
   "outputs": [],
   "source": []
  },
  {
   "cell_type": "code",
   "execution_count": null,
   "id": "24925fcc",
   "metadata": {},
   "outputs": [],
   "source": []
  },
  {
   "cell_type": "markdown",
   "id": "367b6971",
   "metadata": {},
   "source": [
    "### Ejercicio 9\n",
    "- Crea una lista con 5 colores diferentes.\n",
    "- Y con bucles anidados imprime las letras de los colores."
   ]
  },
  {
   "cell_type": "code",
   "execution_count": null,
   "id": "01085cd1",
   "metadata": {},
   "outputs": [],
   "source": []
  },
  {
   "cell_type": "code",
   "execution_count": null,
   "id": "162f2a39",
   "metadata": {},
   "outputs": [],
   "source": []
  },
  {
   "cell_type": "code",
   "execution_count": null,
   "id": "976981fa",
   "metadata": {},
   "outputs": [],
   "source": []
  },
  {
   "cell_type": "markdown",
   "id": "bf59c876",
   "metadata": {},
   "source": [
    "### Ejercicio 10\n",
    "- Imprimir el índice y valor de cada elemento de la **lista = [-5, -4, -3, -2, -1, 0, 1, 2, 3, 4, 5]** utilizando un bucle **`for`**"
   ]
  },
  {
   "cell_type": "code",
   "execution_count": null,
   "id": "db8dad4b",
   "metadata": {},
   "outputs": [],
   "source": []
  },
  {
   "cell_type": "code",
   "execution_count": null,
   "id": "3b6f62e5",
   "metadata": {},
   "outputs": [],
   "source": []
  },
  {
   "cell_type": "code",
   "execution_count": null,
   "id": "70bbdb9a",
   "metadata": {},
   "outputs": [],
   "source": []
  },
  {
   "cell_type": "markdown",
   "id": "eb2b14d4",
   "metadata": {},
   "source": [
    "### Ejercicio 11\n",
    "- Crea un bucle **`while`** donde le pregunte al usuario un número y si ese número es impar el programa se detiene."
   ]
  },
  {
   "cell_type": "code",
   "execution_count": null,
   "id": "1f61356a",
   "metadata": {},
   "outputs": [],
   "source": []
  },
  {
   "cell_type": "code",
   "execution_count": null,
   "id": "76f2453d",
   "metadata": {},
   "outputs": [],
   "source": []
  },
  {
   "cell_type": "code",
   "execution_count": null,
   "id": "63488bdc",
   "metadata": {},
   "outputs": [],
   "source": []
  },
  {
   "cell_type": "markdown",
   "id": "506b594c",
   "metadata": {},
   "source": [
    "### Ejercicio 12\n",
    "- Pide al usuario una frase.\n",
    "- Has un bucle que recorra la frase y que imprima las letras de la frase y cuantas veces aparece."
   ]
  },
  {
   "cell_type": "code",
   "execution_count": null,
   "id": "6d5eed1e",
   "metadata": {},
   "outputs": [],
   "source": []
  },
  {
   "cell_type": "code",
   "execution_count": 201,
   "id": "c80fb589",
   "metadata": {},
   "outputs": [
    {
     "ename": "SyntaxError",
     "evalue": "invalid character '😅' (U+1F605) (1847839217.py, line 1)",
     "output_type": "error",
     "traceback": [
      "\u001b[0;36m  Cell \u001b[0;32mIn[201], line 1\u001b[0;36m\u001b[0m\n\u001b[0;31m    😅\u001b[0m\n\u001b[0m    ^\u001b[0m\n\u001b[0;31mSyntaxError\u001b[0m\u001b[0;31m:\u001b[0m invalid character '😅' (U+1F605)\n"
     ]
    }
   ],
   "source": []
  },
  {
   "cell_type": "code",
   "execution_count": null,
   "id": "421d0877-4f49-405e-a24b-29219677c488",
   "metadata": {},
   "outputs": [],
   "source": [
    "####################################################################################################################\n",
    "#print(\"\\U0001f600\")"
   ]
  },
  {
   "cell_type": "markdown",
   "id": "a25260a4-77ce-4f5a-8574-f5f1e0adacbf",
   "metadata": {},
   "source": [
    "## Vamos a analizar el siguiente texto "
   ]
  },
  {
   "cell_type": "code",
   "execution_count": 203,
   "id": "c675f98b-4934-4e28-80f2-2a75c74157a3",
   "metadata": {},
   "outputs": [],
   "source": [
    "Chat_maria_pablo =\"\"\"\n",
    "María: Hola, Pablo 😊 ¿Cómo te ha ido esta semana? He pensado en ti un par de veces, no sé por qué.\n",
    "Pablo: Hola, María. ¿Pensaste en mí? ¡Espero que no haya sido por una deuda! 😅\n",
    "María: No, más bien porque extraño nuestras charlas. Siempre me hacen bien.\n",
    "Pablo: Jajaja, ¿ves? Ya soy medicina natural. Te voy a empezar a cobrar por consulta.\n",
    "María: Pues no estaría mal que me recetaras un paseo contigo. Este viernes hay un mercadillo de arte en la plaza, podríamos ir.\n",
    "Pablo: Uy, arte... eso suena sofisticado. ¿Piden saber de pintura o puedo solo señalar y decir “bonito”?\n",
    "María: Puedes decir “bonito” y sonreír, eso ya es suficiente. Me gustaría compartir ese tiempo contigo.\n",
    "Pablo: Justo creo que tengo una cita con mi lavadora. Me está ignorando desde la semana pasada.\n",
    "María: Siempre haces bromas cuando intento hablar en serio. No pasa nada, quiero ir contigo, pero igual puedo ir sola.\n",
    "Pablo: ¡Eso! Y así te das un tiempo contigo misma. Muy saludable eso, ¿eh?\n",
    "María: Ya paso mucho tiempo sola. Me gusta estar contigo, eres especial aunque a veces pareces no darte cuenta.\n",
    "Pablo: Me doy cuenta... pero soy de procesamiento lento, como una impresora vieja.\n",
    "María: A veces pienso que lo haces a propósito, para no dejarme avanzar.\n",
    "Pablo: ¿Avanzar? Esto suena a videojuego. Yo ni jefe final soy.\n",
    "María: No hace falta que lo seas. Con que seas tú, ya es bastante. Pero no sé, da la sensación de que solo estoy hablando con una pared con buen humor.\n",
    "Pablo: Bueno, al menos soy una pared simpática. No todas las paredes hacen chistes.\n",
    "María: ¿Sabes? Me gustas, aunque no lo diga con todas las letras. Pero ya cansa sentir que solo yo empujo esto.\n",
    "Pablo: Ay, María... eres genial, en serio. Pero yo soy como un gato: cuando me buscan, me escondo; cuando no, aparezco.\n",
    "María: ¿Y no te parece injusto? Porque yo no soy un juego de buscar y encontrar.\n",
    "Pablo: No quise sonar así. Es que... no soy muy bueno con estas cosas.\n",
    "María: No hace falta ser bueno. Hace falta querer estar. Pero tú solo lanzas chistes para no responder.\n",
    "Pablo: Tal vez tienes razón. A veces prefiero no entrar en terrenos donde puedo tropezar.\n",
    "María: Ya veo. Pues nada. Gracias por la charla. Supongo que tengo que aprender a no esperar tanto de ti. \n",
    "Pablo: María...\n",
    "María: No te preocupes. Tenía interés en conocerte, pero se me ha ido. Que estés bien, ¿vale?\n",
    "Pablo: Claro... tú también.\n",
    "\"\"\""
   ]
  },
  {
   "cell_type": "markdown",
   "id": "ea530625-0c29-4fa0-b540-be3550d203db",
   "metadata": {},
   "source": [
    "## Iniciamos con un preproceso de datos."
   ]
  },
  {
   "cell_type": "code",
   "execution_count": 204,
   "id": "25f058a9-727c-44f2-bd2e-ce2acce351ad",
   "metadata": {},
   "outputs": [
    {
     "name": "stdout",
     "output_type": "stream",
     "text": [
      "\n",
      "maría: hola, pablo 😊 ¿cómo te ha ido esta semana? he pensado en ti un par de veces, no sé por qué.\n",
      "pablo: hola, maría. ¿pensaste en mí? ¡espero que no haya sido por una deuda! 😅\n",
      "maría: no, más bien porque extraño nuestras charlas. siempre me hacen bien.\n",
      "pablo: jajaja, ¿ves? ya soy medicina natural. te voy a empezar a cobrar por consulta.\n",
      "maría: pues no estaría mal que me recetaras un paseo contigo. este viernes hay un mercadillo de arte en la plaza, podríamos ir.\n",
      "pablo: uy, arte... eso suena sofisticado. ¿piden saber de pintura o puedo solo señalar y decir “bonito”?\n",
      "maría: puedes decir “bonito” y sonreír, eso ya es suficiente. me gustaría compartir ese tiempo contigo.\n",
      "pablo: justo creo que tengo una cita con mi lavadora. me está ignorando desde la semana pasada.\n",
      "maría: siempre haces bromas cuando intento hablar en serio. no pasa nada, quiero ir contigo, pero igual puedo ir sola.\n",
      "pablo: ¡eso! y así te das un tiempo contigo misma. muy saludable eso, ¿eh?\n",
      "maría: ya paso mucho tiempo sola. me gusta estar contigo, eres especial aunque a veces pareces no darte cuenta.\n",
      "pablo: me doy cuenta... pero soy de procesamiento lento, como una impresora vieja.\n",
      "maría: a veces pienso que lo haces a propósito, para no dejarme avanzar.\n",
      "pablo: ¿avanzar? esto suena a videojuego. yo ni jefe final soy.\n",
      "maría: no hace falta que lo seas. con que seas tú, ya es bastante. pero no sé, da la sensación de que solo estoy hablando con una pared con buen humor.\n",
      "pablo: bueno, al menos soy una pared simpática. no todas las paredes hacen chistes.\n",
      "maría: ¿sabes? me gustas, aunque no lo diga con todas las letras. pero ya cansa sentir que solo yo empujo esto.\n",
      "pablo: ay, maría... eres genial, en serio. pero yo soy como un gato: cuando me buscan, me escondo; cuando no, aparezco.\n",
      "maría: ¿y no te parece injusto? porque yo no soy un juego de buscar y encontrar.\n",
      "pablo: no quise sonar así. es que... no soy muy bueno con estas cosas.\n",
      "maría: no hace falta ser bueno. hace falta querer estar. pero tú solo lanzas chistes para no responder.\n",
      "pablo: tal vez tienes razón. a veces prefiero no entrar en terrenos donde puedo tropezar.\n",
      "maría: ya veo. pues nada. gracias por la charla. supongo que tengo que aprender a no esperar tanto de ti. \n",
      "pablo: maría...\n",
      "maría: no te preocupes. tenía interés en conocerte, pero se me ha ido. que estés bien, ¿vale?\n",
      "pablo: claro... tú también.\n",
      "\n"
     ]
    }
   ],
   "source": [
    "# Aplanar el texto\n",
    "Chat_maria_pablo=Chat_maria_pablo.lower()\n",
    "print(Chat_maria_pablo)"
   ]
  },
  {
   "cell_type": "code",
   "execution_count": 205,
   "id": "1f15953e-fb3f-4642-8d7a-eef5de470e7b",
   "metadata": {},
   "outputs": [
    {
     "name": "stdout",
     "output_type": "stream",
     "text": [
      "['maría: hola, pablo 😊 ¿cómo te ha ido esta semana? he pensado en ti un par de veces, no sé por qué.', 'maría: no, más bien porque extraño nuestras charlas. siempre me hacen bien.', 'maría: pues no estaría mal que me recetaras un paseo contigo. este viernes hay un mercadillo de arte en la plaza, podríamos ir.', 'maría: puedes decir “bonito” y sonreír, eso ya es suficiente. me gustaría compartir ese tiempo contigo.', 'maría: siempre haces bromas cuando intento hablar en serio. no pasa nada, quiero ir contigo, pero igual puedo ir sola.', 'maría: ya paso mucho tiempo sola. me gusta estar contigo, eres especial aunque a veces pareces no darte cuenta.', 'maría: a veces pienso que lo haces a propósito, para no dejarme avanzar.', 'maría: no hace falta que lo seas. con que seas tú, ya es bastante. pero no sé, da la sensación de que solo estoy hablando con una pared con buen humor.', 'maría: ¿sabes? me gustas, aunque no lo diga con todas las letras. pero ya cansa sentir que solo yo empujo esto.', 'maría: ¿y no te parece injusto? porque yo no soy un juego de buscar y encontrar.', 'maría: no hace falta ser bueno. hace falta querer estar. pero tú solo lanzas chistes para no responder.', 'maría: ya veo. pues nada. gracias por la charla. supongo que tengo que aprender a no esperar tanto de ti. ', 'maría: no te preocupes. tenía interés en conocerte, pero se me ha ido. que estés bien, ¿vale?']\n",
      "['pablo: hola, maría. ¿pensaste en mí? ¡espero que no haya sido por una deuda! 😅', 'pablo: jajaja, ¿ves? ya soy medicina natural. te voy a empezar a cobrar por consulta.', 'pablo: uy, arte... eso suena sofisticado. ¿piden saber de pintura o puedo solo señalar y decir “bonito”?', 'pablo: justo creo que tengo una cita con mi lavadora. me está ignorando desde la semana pasada.', 'pablo: ¡eso! y así te das un tiempo contigo misma. muy saludable eso, ¿eh?', 'pablo: me doy cuenta... pero soy de procesamiento lento, como una impresora vieja.', 'pablo: ¿avanzar? esto suena a videojuego. yo ni jefe final soy.', 'pablo: bueno, al menos soy una pared simpática. no todas las paredes hacen chistes.', 'pablo: ay, maría... eres genial, en serio. pero yo soy como un gato: cuando me buscan, me escondo; cuando no, aparezco.', 'pablo: no quise sonar así. es que... no soy muy bueno con estas cosas.', 'pablo: tal vez tienes razón. a veces prefiero no entrar en terrenos donde puedo tropezar.', 'pablo: maría...', 'pablo: claro... tú también.']\n"
     ]
    }
   ],
   "source": [
    "# Vamos a separar las dos conversaciones \n",
    "\n",
    "# Inicializar listas\n",
    "lineas_maria = []\n",
    "lineas_pablo = []\n",
    "\n",
    "# Separar por líneas\n",
    "for linea in Chat_maria_pablo.split(\"\\n\"):\n",
    "    if linea.startswith(\"maría:\"):\n",
    "        lineas_maria.append(linea)\n",
    "    elif linea.startswith(\"pablo:\"):\n",
    "        lineas_pablo.append(linea)\n",
    "\n",
    "print(lineas_maria)\n",
    "print(lineas_pablo)\n",
    "        "
   ]
  },
  {
   "cell_type": "code",
   "execution_count": 206,
   "id": "7c676178-0554-43af-ad6b-dd92f9ae8da2",
   "metadata": {},
   "outputs": [
    {
     "name": "stdout",
     "output_type": "stream",
     "text": [
      "[' hola, pablo 😊 ¿cómo te ha ido esta semana? he pensado en ti un par de veces, no sé por qué.', ' no, más bien porque extraño nuestras charlas. siempre me hacen bien.', ' pues no estaría mal que me recetaras un paseo contigo. este viernes hay un mercadillo de arte en la plaza, podríamos ir.', ' puedes decir “bonito” y sonreír, eso ya es suficiente. me gustaría compartir ese tiempo contigo.', ' siempre haces bromas cuando intento hablar en serio. no pasa nada, quiero ir contigo, pero igual puedo ir sola.', ' ya paso mucho tiempo sola. me gusta estar contigo, eres especial aunque a veces pareces no darte cuenta.', ' a veces pienso que lo haces a propósito, para no dejarme avanzar.', ' no hace falta que lo seas. con que seas tú, ya es bastante. pero no sé, da la sensación de que solo estoy hablando con una pared con buen humor.', ' ¿sabes? me gustas, aunque no lo diga con todas las letras. pero ya cansa sentir que solo yo empujo esto.', ' ¿y no te parece injusto? porque yo no soy un juego de buscar y encontrar.', ' no hace falta ser bueno. hace falta querer estar. pero tú solo lanzas chistes para no responder.', ' ya veo. pues nada. gracias por la charla. supongo que tengo que aprender a no esperar tanto de ti. ', ' no te preocupes. tenía interés en conocerte, pero se me ha ido. que estés bien, ¿vale?']\n",
      "[' hola, maría. ¿pensaste en mí? ¡espero que no haya sido por una deuda! 😅', ' jajaja, ¿ves? ya soy medicina natural. te voy a empezar a cobrar por consulta.', ' uy, arte... eso suena sofisticado. ¿piden saber de pintura o puedo solo señalar y decir “bonito”?', ' justo creo que tengo una cita con mi lavadora. me está ignorando desde la semana pasada.', ' ¡eso! y así te das un tiempo contigo misma. muy saludable eso, ¿eh?', ' me doy cuenta... pero soy de procesamiento lento, como una impresora vieja.', ' ¿avanzar? esto suena a videojuego. yo ni jefe final soy.', ' bueno, al menos soy una pared simpática. no todas las paredes hacen chistes.', ' ay, maría... eres genial, en serio. pero yo soy como un gato: cuando me buscan, me escondo; cuando no, aparezco.', ' no quise sonar así. es que... no soy muy bueno con estas cosas.', ' tal vez tienes razón. a veces prefiero no entrar en terrenos donde puedo tropezar.', ' maría...', ' claro... tú también.']\n"
     ]
    }
   ],
   "source": [
    "# Vamos a limpiar los nombres de los textos de maría y pablo\n",
    "maria=[]\n",
    "pablo=[]\n",
    "for m,p in zip(lineas_maria,lineas_pablo):\n",
    "    maria.append(m.replace(\"maría:\",\"\"))\n",
    "    pablo.append(p.replace(\"pablo:\",\"\"))\n",
    "print(maria)\n",
    "print(pablo)"
   ]
  },
  {
   "cell_type": "code",
   "execution_count": 207,
   "id": "4c775da4-6053-407e-95e0-ca8db5e3d73c",
   "metadata": {},
   "outputs": [
    {
     "name": "stdout",
     "output_type": "stream",
     "text": [
      " hola, pablo 😊 ¿cómo te ha ido esta semana? he pensado en ti un par de veces, no sé por qué.\n",
      " no, más bien porque extraño nuestras charlas. siempre me hacen bien.\n",
      " pues no estaría mal que me recetaras un paseo contigo. este viernes hay un mercadillo de arte en la plaza, podríamos ir.\n",
      " puedes decir “bonito” y sonreír, eso ya es suficiente. me gustaría compartir ese tiempo contigo.\n",
      " siempre haces bromas cuando intento hablar en serio. no pasa nada, quiero ir contigo, pero igual puedo ir sola.\n",
      " ya paso mucho tiempo sola. me gusta estar contigo, eres especial aunque a veces pareces no darte cuenta.\n",
      " a veces pienso que lo haces a propósito, para no dejarme avanzar.\n",
      " no hace falta que lo seas. con que seas tú, ya es bastante. pero no sé, da la sensación de que solo estoy hablando con una pared con buen humor.\n",
      " ¿sabes? me gustas, aunque no lo diga con todas las letras. pero ya cansa sentir que solo yo empujo esto.\n",
      " ¿y no te parece injusto? porque yo no soy un juego de buscar y encontrar.\n",
      " no hace falta ser bueno. hace falta querer estar. pero tú solo lanzas chistes para no responder.\n",
      " ya veo. pues nada. gracias por la charla. supongo que tengo que aprender a no esperar tanto de ti. \n",
      " no te preocupes. tenía interés en conocerte, pero se me ha ido. que estés bien, ¿vale? 1282\n",
      "________________________________________________________________________________________________________________________\n",
      " hola, maría. ¿pensaste en mí? ¡espero que no haya sido por una deuda! 😅\n",
      " jajaja, ¿ves? ya soy medicina natural. te voy a empezar a cobrar por consulta.\n",
      " uy, arte... eso suena sofisticado. ¿piden saber de pintura o puedo solo señalar y decir “bonito”?\n",
      " justo creo que tengo una cita con mi lavadora. me está ignorando desde la semana pasada.\n",
      " ¡eso! y así te das un tiempo contigo misma. muy saludable eso, ¿eh?\n",
      " me doy cuenta... pero soy de procesamiento lento, como una impresora vieja.\n",
      " ¿avanzar? esto suena a videojuego. yo ni jefe final soy.\n",
      " bueno, al menos soy una pared simpática. no todas las paredes hacen chistes.\n",
      " ay, maría... eres genial, en serio. pero yo soy como un gato: cuando me buscan, me escondo; cuando no, aparezco.\n",
      " no quise sonar así. es que... no soy muy bueno con estas cosas.\n",
      " tal vez tienes razón. a veces prefiero no entrar en terrenos donde puedo tropezar.\n",
      " maría...\n",
      " claro... tú también. 918\n"
     ]
    }
   ],
   "source": [
    "# Vamos a juntar en un solo string todas las frases. El objetivo es tener dos string para poder usar sus métodos\n",
    "\n",
    "texto_maria = \"\\n\".join(maria)\n",
    "texto_pablo = \"\\n\".join(pablo)\n",
    "\n",
    "print(texto_maria, len(texto_maria))\n",
    "print(\"_\"*120)\n",
    "print(texto_pablo, len(texto_pablo))"
   ]
  },
  {
   "cell_type": "markdown",
   "id": "681ab6f4-ac3c-4531-9a09-70de06cde90d",
   "metadata": {},
   "source": [
    "### Fin del preproceso de datos"
   ]
  },
  {
   "cell_type": "markdown",
   "id": "1497ecd6-5a05-4160-a105-bfa4f605e766",
   "metadata": {},
   "source": [
    "## Inicio del análisis"
   ]
  },
  {
   "cell_type": "code",
   "execution_count": 208,
   "id": "6652ec00-96e0-425f-b83e-3442b40b3051",
   "metadata": {},
   "outputs": [
    {
     "name": "stdout",
     "output_type": "stream",
     "text": [
      "['hola', 'pablo', '😊', 'cómo', 'te', 'ha', 'ido', 'esta', 'semana', 'he', 'pensado', 'en', 'ti', 'un', 'par', 'de', 'veces', 'no', 'sé', 'por', 'qué', 'no', 'más', 'bien', 'porque', 'extraño', 'nuestras', 'charlas', 'siempre', 'me', 'hacen', 'bien', 'pues', 'no', 'estaría', 'mal', 'que', 'me', 'recetaras', 'un', 'paseo', 'contigo', 'este', 'viernes', 'hay', 'un', 'mercadillo', 'de', 'arte', 'en', 'la', 'plaza', 'podríamos', 'ir', 'puedes', 'decir', '“bonito”', 'y', 'sonreír', 'eso', 'ya', 'es', 'suficiente', 'me', 'gustaría', 'compartir', 'ese', 'tiempo', 'contigo', 'siempre', 'haces', 'bromas', 'cuando', 'intento', 'hablar', 'en', 'serio', 'no', 'pasa', 'nada', 'quiero', 'ir', 'contigo', 'pero', 'igual', 'puedo', 'ir', 'sola', 'ya', 'paso', 'mucho', 'tiempo', 'sola', 'me', 'gusta', 'estar', 'contigo', 'eres', 'especial', 'aunque', 'a', 'veces', 'pareces', 'no', 'darte', 'cuenta', 'a', 'veces', 'pienso', 'que', 'lo', 'haces', 'a', 'propósito', 'para', 'no', 'dejarme', 'avanzar', 'no', 'hace', 'falta', 'que', 'lo', 'seas', 'con', 'que', 'seas', 'tú', 'ya', 'es', 'bastante', 'pero', 'no', 'sé', 'da', 'la', 'sensación', 'de', 'que', 'solo', 'estoy', 'hablando', 'con', 'una', 'pared', 'con', 'buen', 'humor', 'sabes', 'me', 'gustas', 'aunque', 'no', 'lo', 'diga', 'con', 'todas', 'las', 'letras', 'pero', 'ya', 'cansa', 'sentir', 'que', 'solo', 'yo', 'empujo', 'esto', 'y', 'no', 'te', 'parece', 'injusto', 'porque', 'yo', 'no', 'soy', 'un', 'juego', 'de', 'buscar', 'y', 'encontrar', 'no', 'hace', 'falta', 'ser', 'bueno', 'hace', 'falta', 'querer', 'estar', 'pero', 'tú', 'solo', 'lanzas', 'chistes', 'para', 'no', 'responder', 'ya', 'veo', 'pues', 'nada', 'gracias', 'por', 'la', 'charla', 'supongo', 'que', 'tengo', 'que', 'aprender', 'a', 'no', 'esperar', 'tanto', 'de', 'ti', 'no', 'te', 'preocupes', 'tenía', 'interés', 'en', 'conocerte', 'pero', 'se', 'me', 'ha', 'ido', 'que', 'estés', 'bien', 'vale']\n",
      "['hola', 'maría', 'pensaste', 'en', 'mí', 'espero', 'que', 'no', 'haya', 'sido', 'por', 'una', 'deuda', '😅', 'jajaja', 'ves', 'ya', 'soy', 'medicina', 'natural', 'te', 'voy', 'a', 'empezar', 'a', 'cobrar', 'por', 'consulta', 'uy', 'arte', 'eso', 'suena', 'sofisticado', 'piden', 'saber', 'de', 'pintura', 'o', 'puedo', 'solo', 'señalar', 'y', 'decir', '“bonito”', 'justo', 'creo', 'que', 'tengo', 'una', 'cita', 'con', 'mi', 'lavadora', 'me', 'está', 'ignorando', 'desde', 'la', 'semana', 'pasada', 'eso', 'y', 'así', 'te', 'das', 'un', 'tiempo', 'contigo', 'misma', 'muy', 'saludable', 'eso', 'eh', 'me', 'doy', 'cuenta', 'pero', 'soy', 'de', 'procesamiento', 'lento', 'como', 'una', 'impresora', 'vieja', 'avanzar', 'esto', 'suena', 'a', 'videojuego', 'yo', 'ni', 'jefe', 'final', 'soy', 'bueno', 'al', 'menos', 'soy', 'una', 'pared', 'simpática', 'no', 'todas', 'las', 'paredes', 'hacen', 'chistes', 'ay', 'maría', 'eres', 'genial', 'en', 'serio', 'pero', 'yo', 'soy', 'como', 'un', 'gato', 'cuando', 'me', 'buscan', 'me', 'escondo', 'cuando', 'no', 'aparezco', 'no', 'quise', 'sonar', 'así', 'es', 'que', 'no', 'soy', 'muy', 'bueno', 'con', 'estas', 'cosas', 'tal', 'vez', 'tienes', 'razón', 'a', 'veces', 'prefiero', 'no', 'entrar', 'en', 'terrenos', 'donde', 'puedo', 'tropezar', 'maría', 'claro', 'tú', 'también']\n"
     ]
    }
   ],
   "source": [
    "# Vamos a  dejar el texto completamente plano\n",
    "\n",
    "signos = [\",\", \".\", \";\", \":\",\"¿\",\"?\", \"¡\",\"!\", \"\\n\"]\n",
    "\n",
    "for s in signos:\n",
    "    texto_maria   = texto_maria.replace(s, \"\")\n",
    "    texto_pablo   = texto_pablo.replace(s, \"\")\n",
    "    \n",
    "palabras_maria=texto_maria.split()\n",
    "palabras_pablo=texto_pablo.split()\n",
    "\n",
    "print(palabras_maria)\n",
    "print(palabras_pablo)"
   ]
  },
  {
   "cell_type": "code",
   "execution_count": 209,
   "id": "495fcdc3-9421-4089-b4ff-00dbd08fa755",
   "metadata": {},
   "outputs": [
    {
     "name": "stdout",
     "output_type": "stream",
     "text": [
      " Estas son las palabras comunes:  {'todas', 'y', 'con', 'hacen', 'serio', 'un', 'avanzar', 'me', 'chistes', 'a', 'la', 'yo', 'es', 'tú', 'esto', 'que', 'pero', 'tengo', 'tiempo', 'semana', 'veces', 'te', 'en', 'las', 'de', 'decir', 'una', 'eso', 'hola', 'puedo', 'eres', 'por', 'arte', 'cuando', 'cuenta', 'ya', 'solo', 'soy', '“bonito”', 'bueno', 'pared', 'no', 'contigo'}\n",
      "--------------------------------------------------------\n",
      " Estas estan solo en Maria:  {'puedes', 'bastante', 'interés', 'nuestras', 'gracias', 'querer', '😊', 'par', 'suficiente', 'estés', 'especial', 'buen', 'tenía', 'extraño', 'encontrar', 'nada', 'sabes', 'pablo', 'gustaría', 'he', 'estaría', 'conocerte', 'vale', 'sentir', 'darte', 'este', 'recetaras', 'ir', 'plaza', 'mucho', 'pues', 'lo', 'esperar', 'haces', 'ti', 'dejarme', 'tanto', 'podríamos', 'pareces', 'supongo', 'hay', 'estar', 'sensación', 'ha', 'pasa', 'quiero', 'parece', 'sonreír', 'gustas', 'sé', 'pienso', 'porque', 'falta', 'responder', 'intento', 'paso', 'mercadillo', 'juego', 'veo', 'humor', 'bromas', 'propósito', 'aprender', 'buscar', 'hablando', 'pensado', 'sola', 'ese', 'aunque', 'gusta', 'charlas', 'mal', 'compartir', 'igual', 'seas', 'ido', 'siempre', 'preocupes', 'esta', 'bien', 'ser', 'injusto', 'hablar', 'hace', 'más', 'estoy', 'cansa', 'empujo', 'lanzas', 'charla', 'qué', 'viernes', 'da', 'cómo', 'letras', 'diga', 'se', 'paseo', 'para'}\n",
      "--------------------------------------------------------\n",
      " Estas estan solo en Pablo:  {'gato', 'sofisticado', 'consulta', 'estas', 'prefiero', 'creo', 'desde', 'tropezar', 'saludable', 'deuda', 'espero', 'simpática', 'empezar', 'pintura', 'o', 'mi', 'menos', 'donde', 'haya', 'está', 'ves', 'voy', 'aparezco', 'justo', '😅', 'suena', 'muy', 'lavadora', 'eh', 'mí', 'quise', 'así', 'terrenos', 'claro', 'videojuego', 'escondo', 'ay', 'genial', 'paredes', 'final', 'pasada', 'medicina', 'ignorando', 'maría', 'cita', 'al', 'doy', 'natural', 'entrar', 'vez', 'sonar', 'cosas', 'tal', 'tienes', 'impresora', 'también', 'buscan', 'como', 'procesamiento', 'piden', 'jefe', 'razón', 'ni', 'sido', 'jajaja', 'señalar', 'misma', 'saber', 'lento', 'cobrar', 'das', 'vieja', 'pensaste', 'uy'}\n"
     ]
    }
   ],
   "source": [
    "# Vamos a crear dos conjuntos con cada una de las listas, el objetivo es comparar a ver si tienen cosas en común\n",
    "set1 = set(palabras_maria)\n",
    "set2 = set(palabras_pablo)\n",
    "\n",
    "palabras_comunes = set1 & set2\n",
    "solo_maria = set1 - set2\n",
    "solo_pablo = set2 - set1\n",
    "\n",
    "print(\" Estas son las palabras comunes: \"    , palabras_comunes)\n",
    "print(\"--------------------------------------------------------\")\n",
    "print(\" Estas estan solo en Maria: \"   , solo_maria)\n",
    "print(\"--------------------------------------------------------\")\n",
    "print(\" Estas estan solo en Pablo: \" , solo_pablo)\n"
   ]
  },
  {
   "cell_type": "code",
   "execution_count": 210,
   "id": "5aaea8ec-76f9-458e-8578-76e582e897fd",
   "metadata": {},
   "outputs": [
    {
     "name": "stdout",
     "output_type": "stream",
     "text": [
      "avanzar\n",
      "chistes\n",
      "tiempo\n",
      "semana\n",
      "cuando\n",
      "cuenta\n",
      "“bonito”\n",
      "contigo\n"
     ]
    }
   ],
   "source": [
    "# Son muchas palabras, reduzcamos quitando las que son muy cortas\n",
    "\n",
    "for i in palabras_comunes:\n",
    "    if len(i)>5:\n",
    "        print(i)\n",
    "    else:\n",
    "        pass"
   ]
  },
  {
   "cell_type": "code",
   "execution_count": 211,
   "id": "0cb31099-8533-4c45-bf30-727710cd79a3",
   "metadata": {},
   "outputs": [
    {
     "name": "stdout",
     "output_type": "stream",
     "text": [
      "bastante          sofisticado\n",
      "nuestras          estas\n",
      "suficiente          saludable\n",
      "especial          espero\n",
      "encontrar          o\n",
      "gustaría          haya\n",
      "conocerte          voy\n",
      "recetaras          muy\n",
      "podríamos          genial\n",
      "sensación          ignorando\n",
      "responder          tienes\n",
      "mercadillo          buscan\n",
      "propósito          razón\n",
      "aprender          ni\n",
      "hablando          jajaja\n",
      "compartir          pensaste\n"
     ]
    }
   ],
   "source": [
    "for i, j in zip(solo_maria,solo_pablo):\n",
    "    if len(i)>7 and len(i)>7:\n",
    "        print(i,\"        \",j)\n",
    "    else:\n",
    "        pass"
   ]
  },
  {
   "cell_type": "raw",
   "id": "f015eecb-f8d3-4f82-bcc6-a5629bdfc742",
   "metadata": {},
   "source": [
    "Palabras más frecuentes en lenguaje romántico inicial:\n",
    "contigo:         Suele expresar el deseo de compartir tiempo o experiencias.\n",
    "podríamos:       Palabra clave que involucra planes en común.\n",
    "especial:        Se usa para destacar al otro como diferente y valioso.\n",
    "me gusta(s):     Expresión directa o indirecta de atracción.\n",
    "tiempo:          Referencia al deseo de pasar tiempo juntos.\n",
    "quiero:          Indica iniciativa o intenciones: quiero verte, quiero hablar más.\n",
    "sentir/siento:   Para expresar emociones o vulnerabilidad.\n",
    "pienso:          Cuando se menciona con frases como pienso en ti, pienso en nosotros.\n",
    "mirada/sonrisa:  En lenguaje romántico, se destacan rasgos apreciados del otro.\n",
    "conocer:         Se usa cuando la persona quiere profundizar en la relación: quiero conocerte mejor."
   ]
  },
  {
   "cell_type": "code",
   "execution_count": 212,
   "id": "a69e4b28-95b5-477c-bb39-7fe99c666c08",
   "metadata": {},
   "outputs": [
    {
     "name": "stdout",
     "output_type": "stream",
     "text": [
      "Frecuencia de palabras románticas en María  {'contigo': 4, 'podríamos': 1, 'me gusta': 3, 'me gustas': 1, 'tiempo contigo': 1, 'quiero': 1, 'sentir': 1, 'pensado en ti': 1, 'extraño': 1, 'sonreír': 1, 'conocerte': 1}\n",
      "------------------------------------------------------------------------------------------------------------------------\n",
      "Frecuencia de palabras románticas en Pablo  {'contigo': 1, 'podríamos': 0, 'me gusta': 0, 'me gustas': 0, 'tiempo contigo': 1, 'quiero': 0, 'sentir': 0, 'pensado en ti': 0, 'extraño': 0, 'sonreír': 0, 'conocerte': 0}\n"
     ]
    }
   ],
   "source": [
    "palabras_romanticas=[\"contigo\",\"podríamos\",\"me gusta\",\"me gustas\",\"tiempo contigo\",\"quiero\",\"sentir\",\"pensado en ti\",\"extraño\",\"sonreír\",\"conocerte\"]\n",
    "frec1 = {}\n",
    "frec2 = {}\n",
    "for palabra_romantica in palabras_romanticas:\n",
    "    frec1[palabra_romantica]= texto_maria.count(palabra_romantica)\n",
    "    frec2[palabra_romantica]= texto_pablo.count(palabra_romantica)\n",
    "print(\"Frecuencia de palabras románticas en María \",frec1)\n",
    "print(\"-\"*120)\n",
    "print(\"Frecuencia de palabras románticas en Pablo \",frec2)"
   ]
  },
  {
   "cell_type": "code",
   "execution_count": 213,
   "id": "f30848fd-5846-45b3-9918-ba3496c9f18d",
   "metadata": {},
   "outputs": [
    {
     "name": "stdout",
     "output_type": "stream",
     "text": [
      "2\n",
      "2\n",
      "Está más interesada María que pablo\n"
     ]
    }
   ],
   "source": [
    "# Vamos a contar las palabras románticas \n",
    "values=frec1.values()\n",
    "values_total_maria=sum(values)\n",
    "print(values_total)\n",
    "values=frec2.values()\n",
    "values_total_pablo=sum(values)\n",
    "print(values_total)\n",
    "total_romanticas=values_total_maria+values_total_pablo\n",
    "porcentaje_interes_maria=(values_total_maria/total_romanticas)*100\n",
    "porcentaje_interes_pablo=(values_total_pablo/total_romanticas)*100\n",
    "\n",
    "if porcentaje_interes_maria>porcentaje_interes_pablo:\n",
    "    print(\"Está más interesada María que pablo\")\n",
    "elif porcentaje_interes_pablo>porcentaje_interes_maria:\n",
    "    print(\"Está más interesado Pablo que maría\")\n",
    "else:\n",
    "    print(\"hay interés mutuo\")"
   ]
  }
 ],
 "metadata": {
  "kernelspec": {
   "display_name": "Python 3 (ipykernel)",
   "language": "python",
   "name": "python3"
  },
  "language_info": {
   "codemirror_mode": {
    "name": "ipython",
    "version": 3
   },
   "file_extension": ".py",
   "mimetype": "text/x-python",
   "name": "python",
   "nbconvert_exporter": "python",
   "pygments_lexer": "ipython3",
   "version": "3.13.2"
  }
 },
 "nbformat": 4,
 "nbformat_minor": 5
}
