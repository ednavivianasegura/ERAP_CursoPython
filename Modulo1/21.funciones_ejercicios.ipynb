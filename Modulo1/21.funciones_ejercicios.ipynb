{
 "cells": [
  {
   "cell_type": "markdown",
   "id": "617e80df",
   "metadata": {},
   "source": [
    "### Funciones ejercicios"
   ]
  },
  {
   "cell_type": "markdown",
   "id": "9ff17fdc",
   "metadata": {},
   "source": [
    "### Ejercicio 1\n",
    "- Crea una función que retorne el minimo de 2 números, no puedes usar la función **`min()`**."
   ]
  },
  {
   "cell_type": "code",
   "execution_count": null,
   "id": "b2988ac2",
   "metadata": {},
   "outputs": [],
   "source": []
  },
  {
   "cell_type": "code",
   "execution_count": null,
   "id": "c1bf472d",
   "metadata": {},
   "outputs": [],
   "source": []
  },
  {
   "cell_type": "code",
   "execution_count": null,
   "id": "1a08c3b9",
   "metadata": {},
   "outputs": [],
   "source": []
  },
  {
   "cell_type": "markdown",
   "id": "299d07e1",
   "metadata": {},
   "source": [
    "### Ejercicio 2\n",
    "- Crea una función que tenga como parametro de entrada 4 números y devuelva la suma y multiplicación de dichos números en dos variables."
   ]
  },
  {
   "cell_type": "code",
   "execution_count": null,
   "id": "29dc4315",
   "metadata": {},
   "outputs": [],
   "source": []
  },
  {
   "cell_type": "code",
   "execution_count": null,
   "id": "771dd0ed",
   "metadata": {},
   "outputs": [],
   "source": []
  },
  {
   "cell_type": "code",
   "execution_count": null,
   "id": "06eb5e0e",
   "metadata": {},
   "outputs": [],
   "source": []
  },
  {
   "cell_type": "markdown",
   "id": "b33d16b5",
   "metadata": {},
   "source": [
    "### Ejercicio 3\n",
    "- Crea una función que devuelva los dos números menores en forma de lista de 4 números."
   ]
  },
  {
   "cell_type": "code",
   "execution_count": null,
   "id": "413447a6",
   "metadata": {},
   "outputs": [],
   "source": []
  },
  {
   "cell_type": "code",
   "execution_count": null,
   "id": "763659b4",
   "metadata": {},
   "outputs": [],
   "source": []
  },
  {
   "cell_type": "code",
   "execution_count": null,
   "id": "6c0e5415",
   "metadata": {},
   "outputs": [],
   "source": []
  },
  {
   "cell_type": "markdown",
   "id": "b5b102ac",
   "metadata": {},
   "source": [
    "### Ejercicio 4\n",
    "- Crea una función que devuelva los 10 números menores de una lista de 20 números aleatorios entre 10 y 50. (Recuerda importar la libreria)\n",
    "- La lista de número aleatorios se puede crear fuera o dentro de la función."
   ]
  },
  {
   "cell_type": "code",
   "execution_count": null,
   "id": "6f33698b",
   "metadata": {},
   "outputs": [],
   "source": []
  },
  {
   "cell_type": "code",
   "execution_count": null,
   "id": "77d7dacb",
   "metadata": {},
   "outputs": [],
   "source": []
  },
  {
   "cell_type": "code",
   "execution_count": null,
   "id": "f80ee060",
   "metadata": {},
   "outputs": [],
   "source": []
  },
  {
   "cell_type": "markdown",
   "id": "af2c3e2a",
   "metadata": {},
   "source": [
    "### Ejercicio 5\n",
    "- Crea una función que realice la misma tarea que **`len()`**. "
   ]
  },
  {
   "cell_type": "code",
   "execution_count": null,
   "id": "fd7e71ac",
   "metadata": {},
   "outputs": [],
   "source": []
  },
  {
   "cell_type": "code",
   "execution_count": null,
   "id": "d0271389",
   "metadata": {},
   "outputs": [],
   "source": []
  },
  {
   "cell_type": "code",
   "execution_count": null,
   "id": "68d70a18",
   "metadata": {},
   "outputs": [],
   "source": []
  },
  {
   "cell_type": "markdown",
   "id": "16725232",
   "metadata": {},
   "source": [
    "### Ejercicio 6\n",
    "- Escribe una función que:\n",
    "- Tome como parametro de entrada una lista de números y letras\n",
    "- Convierta las letras a su forma en mayuscula.\n",
    "- Que calcule el cuadrado de los números\n",
    "- Que retorne ese resultado en una lista en el mismo orden.\n",
    "\n",
    "**Ejemplo:**\n",
    "\n",
    "**`entrada = [1, 2, 3, 4, \"a\", \"b\", \"c\", \"d\"]`**\n",
    "\n",
    "**`salida = [1, 4, 9, 16, \"A\", \"B\", \"C\", \"D\"]`**"
   ]
  },
  {
   "cell_type": "code",
   "execution_count": null,
   "id": "f47c456d",
   "metadata": {},
   "outputs": [],
   "source": []
  },
  {
   "cell_type": "code",
   "execution_count": null,
   "id": "ca5a46ed",
   "metadata": {},
   "outputs": [],
   "source": []
  },
  {
   "cell_type": "code",
   "execution_count": null,
   "id": "930c636a",
   "metadata": {},
   "outputs": [],
   "source": []
  },
  {
   "cell_type": "markdown",
   "id": "b8061721",
   "metadata": {},
   "source": [
    "### Ejercicio 7\n",
    "\n",
    "- Crea una funcion que reciba una lista de enteros y que retorne la misma lista sin numeros repetidos y ordenados."
   ]
  },
  {
   "cell_type": "code",
   "execution_count": null,
   "id": "3cb92788",
   "metadata": {},
   "outputs": [],
   "source": []
  },
  {
   "cell_type": "code",
   "execution_count": null,
   "id": "03e590e1",
   "metadata": {},
   "outputs": [],
   "source": []
  },
  {
   "cell_type": "code",
   "execution_count": null,
   "id": "e555b77e",
   "metadata": {},
   "outputs": [],
   "source": []
  },
  {
   "cell_type": "markdown",
   "id": "cd4a3b21",
   "metadata": {},
   "source": [
    "### Ejercicio 8\n",
    "- Dada una lista de numeros enteros, retornar cuantos numeros hay con un numero par de digitos."
   ]
  },
  {
   "cell_type": "code",
   "execution_count": null,
   "id": "ce211af8",
   "metadata": {},
   "outputs": [],
   "source": []
  },
  {
   "cell_type": "markdown",
   "id": "77e29947-68e8-4e36-a3bd-0021c7c109e5",
   "metadata": {},
   "source": [
    "### Encriptando un mensaje"
   ]
  },
  {
   "cell_type": "code",
   "execution_count": 7,
   "id": "2a9afbdd-b6c3-4437-b47e-d72e2ff45953",
   "metadata": {},
   "outputs": [],
   "source": [
    "import random\n",
    "import unicodedata  # Para eliminar acentos"
   ]
  },
  {
   "cell_type": "code",
   "execution_count": 18,
   "id": "908279a8-9afb-4c60-a6ca-36a906df2438",
   "metadata": {},
   "outputs": [
    {
     "name": "stdout",
     "output_type": "stream",
     "text": [
      "Diccionario de cifrado: {'a': '¥', 'b': '£', 'c': '€', 'd': '¢', 'e': '¿', 'f': '¡', 'g': '/', 'h': '\\\\', 'i': '|', 'j': '`', 'k': '\"', 'l': '}', 'm': '{', 'n': ']', 'o': '[', 'p': ')', 'q': '(', 'r': '>', 's': '<', 't': ';', 'u': ':', 'v': ',', 'w': '.', 'x': '_', 'y': '-', 'z': '~', '0': '^', '1': '+', '2': '=', '3': '?', '4': '!', '5': '*', '6': '&', '7': '%', '8': '$', '9': '#'}\n"
     ]
    }
   ],
   "source": [
    "# Letras (a-z), números (0-9) y símbolos\n",
    "letras = [chr(letra) for letra in range(97, 123)]  # Genera ['a', 'b', ..., 'z']\n",
    "numeros = [str(num) for num in range(10)]  # Genera ['0', '1', ..., '9']\n",
    "lista_completa = letras + numeros  # Caracteres a cifrar (36 en total)\n",
    "\n",
    "# Símbolos disponibles (al menos 36 símbolos únicos)\n",
    "simbolos = ['@', '#', '$', '%', '&', '*', '!', '?', '=', '+', '^', '~',\n",
    "            '-', '_', '.', ',', ':', ';', '<', '>', '(', ')', '[', ']',\n",
    "            '{', '}', '\"', '`', '|', '\\\\', '/', '¡', '¿', '¢', '€', '£', '¥']\n",
    "\n",
    "def generar_cifrado():\n",
    "    cifrado = {}\n",
    "    simbolos_disponibles = simbolos.copy()  # Copia para no modificar la original\n",
    "    \n",
    "    for caracter in lista_completa:\n",
    "        cifrado[caracter] = simbolos_disponibles.pop()  # Asignar símbolos únicos\n",
    "    \n",
    "    return cifrado\n",
    "\n",
    "cifrado = generar_cifrado()\n",
    "print(\"Diccionario de cifrado:\", cifrado)"
   ]
  },
  {
   "cell_type": "code",
   "execution_count": 16,
   "id": "c7861022-892c-410f-80fc-cc251dc06b13",
   "metadata": {},
   "outputs": [
    {
     "name": "stdout",
     "output_type": "stream",
     "text": [
      "Mensaje encriptado: ¡¿}|€¿< }[< !\n"
     ]
    }
   ],
   "source": [
    "def encriptar(mensaje, cifrado):\n",
    "    # Normalizar texto: quitar acentos y convertir a minúsculas\n",
    "    mensaje_procesado = unicodedata.normalize('NFKD', mensaje).encode('ASCII', 'ignore').decode('ASCII').lower()\n",
    "    \n",
    "    mensaje_encriptado = []\n",
    "    for caracter in mensaje_procesado:\n",
    "        if caracter in cifrado:\n",
    "            mensaje_encriptado.append(cifrado[caracter])\n",
    "        else:\n",
    "            mensaje_encriptado.append(caracter)  # Mantener espacios, puntuación, etc.\n",
    "    \n",
    "    return ''.join(mensaje_encriptado)\n",
    "\n",
    "# Ejemplo con acentos y números\n",
    "mensaje = \"Felíces los 4\"\n",
    "mensaje_encriptado = encriptar(mensaje, cifrado)\n",
    "print(\"Mensaje encriptado:\", mensaje_encriptado)"
   ]
  },
  {
   "cell_type": "code",
   "execution_count": 17,
   "id": "518c3aa5-7c01-4d76-b27c-887fa79b300b",
   "metadata": {},
   "outputs": [
    {
     "name": "stdout",
     "output_type": "stream",
     "text": [
      "Mensaje original procesado: felices los 4\n"
     ]
    }
   ],
   "source": [
    "def desencriptar(mensaje_encriptado, cifrado):\n",
    "    cifrado_inverso = {simbolo: letra for letra, simbolo in cifrado.items()}\n",
    "    mensaje_original = []\n",
    "    \n",
    "    for simbolo in mensaje_encriptado:\n",
    "        if simbolo in cifrado_inverso:\n",
    "            mensaje_original.append(cifrado_inverso[simbolo])\n",
    "        else:\n",
    "            mensaje_original.append(simbolo)\n",
    "    \n",
    "    return ''.join(mensaje_original)\n",
    "\n",
    "mensaje_original = desencriptar(mensaje_encriptado, cifrado)\n",
    "print(\"Mensaje original procesado:\", mensaje_original)  # Resultado: \"hol4 mund0\""
   ]
  },
  {
   "cell_type": "code",
   "execution_count": null,
   "id": "3982157f-74f4-4602-8856-704cc63d4a66",
   "metadata": {},
   "outputs": [],
   "source": []
  }
 ],
 "metadata": {
  "kernelspec": {
   "display_name": "Python 3 (ipykernel)",
   "language": "python",
   "name": "python3"
  },
  "language_info": {
   "codemirror_mode": {
    "name": "ipython",
    "version": 3
   },
   "file_extension": ".py",
   "mimetype": "text/x-python",
   "name": "python",
   "nbconvert_exporter": "python",
   "pygments_lexer": "ipython3",
   "version": "3.13.2"
  }
 },
 "nbformat": 4,
 "nbformat_minor": 5
}
