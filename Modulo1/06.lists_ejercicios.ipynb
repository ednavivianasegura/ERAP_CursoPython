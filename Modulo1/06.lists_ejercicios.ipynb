{
 "cells": [
  {
   "cell_type": "markdown",
   "id": "689c1a0e",
   "metadata": {},
   "source": [
    "## Ejercicios lists"
   ]
  },
  {
   "cell_type": "code",
   "execution_count": null,
   "id": "29b1adca",
   "metadata": {},
   "outputs": [],
   "source": [
    "lista = [\"a\", \"b\", \"c\", \"d\", \"e\", 1, 2, 3, 4, 5, False, True]"
   ]
  },
  {
   "cell_type": "markdown",
   "id": "3a92774b",
   "metadata": {},
   "source": [
    "### Ejercicio 1\n",
    "- En listas separadas obtener una lista paras los caracteres, otra para los enteros y otra para lo booleanos, utilizando slicing.\n",
    "- Llamalas **lista_1**, **lista_2**, **lista_3**"
   ]
  },
  {
   "cell_type": "code",
   "execution_count": null,
   "id": "d8846c0d",
   "metadata": {},
   "outputs": [],
   "source": []
  },
  {
   "cell_type": "code",
   "execution_count": null,
   "id": "b869534e",
   "metadata": {},
   "outputs": [],
   "source": []
  },
  {
   "cell_type": "code",
   "execution_count": null,
   "id": "f633c099",
   "metadata": {},
   "outputs": [],
   "source": []
  },
  {
   "cell_type": "markdown",
   "id": "2c73b574",
   "metadata": {},
   "source": [
    "### Ejercicio 2\n",
    "- Insertar las vocales faltantes a la lista de caracteres."
   ]
  },
  {
   "cell_type": "code",
   "execution_count": null,
   "id": "7ff75b01",
   "metadata": {},
   "outputs": [],
   "source": []
  },
  {
   "cell_type": "code",
   "execution_count": null,
   "id": "d6903710",
   "metadata": {},
   "outputs": [],
   "source": []
  },
  {
   "cell_type": "code",
   "execution_count": null,
   "id": "58d18658",
   "metadata": {},
   "outputs": [],
   "source": []
  },
  {
   "cell_type": "markdown",
   "id": "01569a27",
   "metadata": {},
   "source": [
    "### Ejercicio 3\n",
    "- Eliminar los caracteres que no son vocales de la lista de caracteres."
   ]
  },
  {
   "cell_type": "code",
   "execution_count": null,
   "id": "0b97f95e",
   "metadata": {},
   "outputs": [],
   "source": []
  },
  {
   "cell_type": "code",
   "execution_count": null,
   "id": "8dde3078",
   "metadata": {},
   "outputs": [],
   "source": []
  },
  {
   "cell_type": "code",
   "execution_count": null,
   "id": "f8b25df7",
   "metadata": {},
   "outputs": [],
   "source": []
  },
  {
   "cell_type": "markdown",
   "id": "a1f846a6",
   "metadata": {},
   "source": [
    "### Ejercico 4\n",
    "- De la lista inicial (**lista**) reemplazar los elementos boleanos por 0 y 1 respectivamente."
   ]
  },
  {
   "cell_type": "code",
   "execution_count": null,
   "id": "ef405145",
   "metadata": {},
   "outputs": [],
   "source": []
  },
  {
   "cell_type": "code",
   "execution_count": null,
   "id": "9fe4632b",
   "metadata": {},
   "outputs": [],
   "source": []
  },
  {
   "cell_type": "code",
   "execution_count": null,
   "id": "7ff0cd89",
   "metadata": {},
   "outputs": [],
   "source": []
  },
  {
   "cell_type": "markdown",
   "id": "0dc22d68",
   "metadata": {},
   "source": [
    "### Ejercicio 5\n",
    "- Aplicar el metodo **`.reverse()`** a la lista de números."
   ]
  },
  {
   "cell_type": "code",
   "execution_count": null,
   "id": "e26f8c1a",
   "metadata": {},
   "outputs": [],
   "source": []
  },
  {
   "cell_type": "code",
   "execution_count": null,
   "id": "4271add1",
   "metadata": {},
   "outputs": [],
   "source": []
  },
  {
   "cell_type": "markdown",
   "id": "a7fedc64",
   "metadata": {},
   "source": [
    "### Ejercicio 6\n",
    "- Aplicar el método **`.sort()`** a la lista de números."
   ]
  },
  {
   "cell_type": "code",
   "execution_count": 3,
   "id": "3a3f630e",
   "metadata": {},
   "outputs": [],
   "source": [
    "print[1,5,8].sort()"
   ]
  },
  {
   "cell_type": "code",
   "execution_count": null,
   "id": "10440560",
   "metadata": {},
   "outputs": [],
   "source": []
  },
  {
   "cell_type": "markdown",
   "id": "6fca8361",
   "metadata": {},
   "source": [
    "### Ejercicio 7\n",
    "- Une las 3 listas para formar la lista inicial otra vez."
   ]
  },
  {
   "cell_type": "code",
   "execution_count": null,
   "id": "12b94ea1",
   "metadata": {},
   "outputs": [],
   "source": []
  },
  {
   "cell_type": "code",
   "execution_count": null,
   "id": "eb64e86c",
   "metadata": {},
   "outputs": [],
   "source": []
  },
  {
   "cell_type": "code",
   "execution_count": null,
   "id": "2a29eab4",
   "metadata": {},
   "outputs": [],
   "source": []
  },
  {
   "cell_type": "markdown",
   "id": "105efdd9",
   "metadata": {},
   "source": [
    "### Ejercicio 8\n",
    "- Dada la siguiente lista de empresas:\n",
    "    1. Ordenar cada lista dentro de la lista de empresas en orden alfabetico.\n",
    "    2. Obtener las empresas: Audi, Avianca y KLM, mediante sus índices y crear una nueva lista con esos elementos."
   ]
  },
  {
   "cell_type": "code",
   "execution_count": null,
   "id": "0e81c6cb",
   "metadata": {},
   "outputs": [],
   "source": [
    "empresas = [[\"Cocacola\", \"Pepsi\"],\n",
    "            [\"Meta\", \"TW\", \"IG\"],\n",
    "            [\"Ferrari\", \"Audi\", \"Ford\", \"Nissan\"],\n",
    "            [\"KLM\", \"AA\", \"Iberia\", \"AE\", \"Avianca\"]]\n",
    "\n",
    "empresas"
   ]
  },
  {
   "cell_type": "code",
   "execution_count": null,
   "id": "c8c43df7",
   "metadata": {},
   "outputs": [],
   "source": []
  },
  {
   "cell_type": "code",
   "execution_count": null,
   "id": "4963bdb3",
   "metadata": {},
   "outputs": [],
   "source": []
  },
  {
   "cell_type": "code",
   "execution_count": null,
   "id": "9f9a41fa",
   "metadata": {},
   "outputs": [],
   "source": []
  },
  {
   "cell_type": "code",
   "execution_count": null,
   "id": "61f41bba",
   "metadata": {},
   "outputs": [],
   "source": []
  },
  {
   "cell_type": "code",
   "execution_count": null,
   "id": "caaaa7e2",
   "metadata": {},
   "outputs": [],
   "source": []
  },
  {
   "cell_type": "code",
   "execution_count": 2,
   "id": "89812952",
   "metadata": {},
   "outputs": [],
   "source": [
    "# Un análisis de texto"
   ]
  },
  {
   "cell_type": "code",
   "execution_count": 3,
   "id": "522815c4-4b9e-4a28-b264-9ca6b2fcda0e",
   "metadata": {},
   "outputs": [],
   "source": [
    "# Textos sospechosos\n",
    "texto_1 =  \"La política ambiental ha cobrado mayor relevancia en los últimos años debido\\\n",
    "            a la creciente preocupación por el cambio climático. Gobiernos de todo el mundo\\\n",
    "            están implementando leyes para reducir la contaminación, proteger los ecosistemas\\\n",
    "            y fomentar energías renovables. Sin embargo, muchas de estas medidas son criticadas\\\n",
    "            por ser insuficientes o tardías. La participación ciudadana y la presión social han\\\n",
    "            sido claves para impulsar reformas más ambiciosas. Aun así, el equilibrio entre\\\n",
    "            desarrollo económico y sostenibilidad sigue siendo un desafío constante.\\\n",
    "            Para lograr avances reales, se requiere una colaboración seria entre instituciones, empresas y sociedad civil.\"\n",
    "\n",
    "texto_2 = \"En los últimos tiempos, la Agenda Política ha comenzado a priorizar el Medio Ambiente,\\\n",
    "           impulsada por el aumento de inquietudes sobre el Calentamiento Global. Las Autoridades\\\n",
    "           están tomando decisiones para limitar la polución, preservar la naturaleza y promover fuentes\\\n",
    "           limpias de energía. ¡No obstante!, varias de estas acciones han sido señaladas como poco efectivas\\\n",
    "           o demoradas. La movilización ciudadana y el activismo han jugado un rol fundamental en exigir\\\n",
    "           transformaciones más profundas. ¡A pesar de esto!, armonizar el progreso económico con el respeto\\\n",
    "           ambiental representa un reto persistente. Alcanzar soluciones concretas exige compromiso conjunto\\\n",
    "           de Gobiernos, Empresas y Ciudadanía.\""
   ]
  },
  {
   "cell_type": "raw",
   "id": "80e57c0c-6d74-4c9a-8ce4-72963f17852f",
   "metadata": {},
   "source": [
    "Vamos a detectar el plagio:\n",
    "\n",
    "Analicemos la secuencia de ideas, las palabras cambian, pero ¿los párrafos siguen la misma progresión de ideas? eso es sospechoso.\n",
    "\n",
    "Por ejemplo:\n",
    "\n",
    "Declaración del problema\n",
    "\n",
    "Mención de políticas\n",
    "\n",
    "Críticas a esas políticas\n",
    "\n",
    "Rol de la sociedad civil\n",
    "\n",
    "Conclusión sobre la necesidad de cooperación\n",
    "\n",
    "¿Estas palabras son sospechosas si se repiten en ambos textos?\n",
    "\n",
    "-política\n",
    "-medio ambiente / ambiental\n",
    "-cambio climático / calentamiento global\n",
    "-contaminación / polución\n",
    "-ecosistemas / naturaleza\n",
    "-energías renovables / fuentes limpias de energía\n",
    "-sostenibilidad / respeto ambiental\n",
    "-desarrollo económico / progreso económico\n",
    "-participación ciudadana / movilización ciudadana\n",
    "-empresas / instituciones / gobiernos / autoridades"
   ]
  },
  {
   "cell_type": "code",
   "execution_count": 5,
   "id": "ecaeb212-204e-4946-ad99-17aa780650fd",
   "metadata": {},
   "outputs": [],
   "source": [
    "# 1º Aplanar el texto mejor .casefold()\n",
    "# 2º eliminar los \"¡\" y \"!\"\n",
    "# 3º contar las palabras de interés\n",
    "# 4º Dividir por frases y comparar\n",
    "# texto_1.replace(\"   \",\"\").split(\".\")"
   ]
  },
  {
   "cell_type": "code",
   "execution_count": null,
   "id": "34288976-71d0-4e4b-8819-376879a30651",
   "metadata": {},
   "outputs": [],
   "source": [
    "Frase1=texto_1.replace(\"   \",\"\").split(\".\")\n",
    "print(Frase1)"
   ]
  },
  {
   "cell_type": "code",
   "execution_count": null,
   "id": "1e9f8a91-3cfa-4a60-8aaa-18723dd27788",
   "metadata": {},
   "outputs": [],
   "source": [
    "Frase2=texto_2.replace(\"   \",\"\").split(\".\")\n",
    "print(Frase2)"
   ]
  },
  {
   "cell_type": "code",
   "execution_count": null,
   "id": "ae750f21-22d4-44f4-a342-6725d5059d78",
   "metadata": {},
   "outputs": [],
   "source": [
    "print(Frase1[3:5])\n",
    "print(Frase2[3:5])"
   ]
  },
  {
   "cell_type": "code",
   "execution_count": null,
   "id": "57bee99a-ad10-4f7f-a697-976248cf8f92",
   "metadata": {},
   "outputs": [],
   "source": [
    "Frase1[1:7:3]"
   ]
  },
  {
   "cell_type": "code",
   "execution_count": null,
   "id": "4b1c5876-5779-45db-b0d8-f2614460b5e2",
   "metadata": {},
   "outputs": [],
   "source": [
    "Frase2[1:7:3]"
   ]
  }
 ],
 "metadata": {
  "kernelspec": {
   "display_name": "Python 3 (ipykernel)",
   "language": "python",
   "name": "python3"
  },
  "language_info": {
   "codemirror_mode": {
    "name": "ipython",
    "version": 3
   },
   "file_extension": ".py",
   "mimetype": "text/x-python",
   "name": "python",
   "nbconvert_exporter": "python",
   "pygments_lexer": "ipython3",
   "version": "3.13.2"
  }
 },
 "nbformat": 4,
 "nbformat_minor": 5
}
