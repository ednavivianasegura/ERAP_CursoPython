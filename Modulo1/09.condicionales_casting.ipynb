{
  "cells": [
    {
      "cell_type": "markdown",
      "metadata": {
        "id": "view-in-github",
        "colab_type": "text"
      },
      "source": [
        "<a href=\"https://colab.research.google.com/github/ednavivianasegura/ERAP_CursoPython/blob/main/Modulo1/09.condicionales_casting.ipynb\" target=\"_parent\"><img src=\"https://colab.research.google.com/assets/colab-badge.svg\" alt=\"Open In Colab\"/></a>"
      ]
    },
    {
      "cell_type": "markdown",
      "id": "17446dec",
      "metadata": {
        "id": "17446dec"
      },
      "source": [
        "## Condicionales\n",
        "\n",
        "Las sentencias condicionales se usan para tomar decisiones, éstas evalúan una operación lógica (declaraciones o statements), es decir una expresión que de como resultado **True** o **False** , y ejecuta una pieza de código u otro dependiendo del resultado. **Dependiendo de la estructura del condicional se ejecutará o no una o varias lineas de código.**\n",
        "\n",
        "###  if\n",
        "\n",
        "Es la base del condicional, **`if`** evaluará si una declaración es **`True`** o **`False`** y, dependiendo del resultado, ejecutará una linea de código u otro.\n",
        "\n",
        "**Ejemplo:**"
      ]
    },
    {
      "cell_type": "code",
      "execution_count": null,
      "id": "bf1e8357",
      "metadata": {
        "id": "bf1e8357"
      },
      "outputs": [],
      "source": [
        "# Ejemplo edad"
      ]
    },
    {
      "cell_type": "code",
      "execution_count": null,
      "id": "a1c83fd5",
      "metadata": {
        "id": "a1c83fd5"
      },
      "outputs": [],
      "source": []
    },
    {
      "cell_type": "markdown",
      "id": "fa8a74c1",
      "metadata": {
        "id": "fa8a74c1"
      },
      "source": [
        "### else\n",
        "\n",
        "Es el complemento del **`if`**, usando **`else`** podemos dar otro resultado si la condición no se cumple.\n",
        "\n",
        "**El condicional `else` no es obligatorio y no necesita que le demos una declaración.**\n",
        "\n",
        "**Cuando se ejecuta el `if` NO se ejecuta el `else` y cuando NO se ejecuta el `if` se ejecuta el `else`.**"
      ]
    },
    {
      "cell_type": "code",
      "execution_count": null,
      "id": "7e183140",
      "metadata": {
        "id": "7e183140"
      },
      "outputs": [],
      "source": []
    },
    {
      "cell_type": "code",
      "execution_count": null,
      "id": "450e9802",
      "metadata": {
        "id": "450e9802"
      },
      "outputs": [],
      "source": []
    },
    {
      "cell_type": "markdown",
      "id": "df11f27d",
      "metadata": {
        "id": "df11f27d"
      },
      "source": [
        "### elif\n",
        "\n",
        "Abreviatura de **`else if`**, está nos ayuda a verificar diferentes comprobaciones, **es opcional usarlo y al igual que el `if` necesita una condición para comprobar, podemos usar tantos `elif` como queramos**."
      ]
    },
    {
      "cell_type": "code",
      "execution_count": null,
      "id": "5aca3084",
      "metadata": {
        "id": "5aca3084"
      },
      "outputs": [],
      "source": []
    },
    {
      "cell_type": "markdown",
      "id": "da44d3d8",
      "metadata": {
        "id": "da44d3d8"
      },
      "source": [
        "### Condicionales anidados\n",
        "\n",
        "Al igual que las listas en Python, se pueden anidar condicionales, esto nos permite hacer código más complejo."
      ]
    },
    {
      "cell_type": "code",
      "execution_count": null,
      "id": "299af74f",
      "metadata": {
        "id": "299af74f"
      },
      "outputs": [],
      "source": []
    },
    {
      "cell_type": "markdown",
      "id": "6fb3a031",
      "metadata": {
        "id": "6fb3a031"
      },
      "source": [
        "## Casting (conversión)\n",
        "\n",
        "En python y otros lenguajes, **`casting`** es un termino usado para cambiar el tipo de dato de una variable, como convertir un número **`float`** a **`int`** o una **`tuple`** a **`list`** (o viceversa).\n",
        "\n",
        "Para hacer **`casting`** o castear, usamos las funciones **`built-in`** de Python, que también son palabras reservadas:\n",
        "\n",
        "|Función      |Tipo              |\n",
        "|-------------|------------------|\n",
        "| **int()**   |Entero            |\n",
        "| **float()** |Flotante (Decimal)|\n",
        "| **bool()**  |Booleano          |\n",
        "| **str()**   |String            |\n",
        "| **tuple()** |Tupla             |\n",
        "| **list()**  |Lista             |\n",
        "| **set()**   |Set (o conjunto)  |\n",
        "| **dict()**  |Diccionario       |\n",
        "\n",
        "\n",
        "**Dependiendo del tipo de dato original podremos castear una variable a un tipo de dato u otro.**\n",
        "\n",
        "Por ejemplo, podemos transformar un numero a una cadena de caracteres, pero no podemos transformar una cadena de caracteres con letras a un numero entero."
      ]
    },
    {
      "cell_type": "code",
      "execution_count": null,
      "id": "54c8e28f-cb61-4f38-8b87-326ae74c7671",
      "metadata": {
        "id": "54c8e28f-cb61-4f38-8b87-326ae74c7671"
      },
      "outputs": [],
      "source": []
    },
    {
      "cell_type": "markdown",
      "id": "b671f45c",
      "metadata": {
        "id": "b671f45c"
      },
      "source": [
        "## input\n",
        "\n",
        "La función **`input()`** pide al usuario que ingrese por teclado un mensaje, puede ser una variable, un numero, una cadena de caracteres, una lista... Esta función SIEMPRE retorna una **`string`**, por lo que si el usuario ingresa un número tendremos que castearlo para poder usarlo como número."
      ]
    },
    {
      "cell_type": "code",
      "execution_count": null,
      "id": "9fd2a010",
      "metadata": {
        "id": "9fd2a010"
      },
      "outputs": [],
      "source": [
        "#input(\"Ingrese edad:\")"
      ]
    },
    {
      "cell_type": "code",
      "execution_count": null,
      "id": "163fcf59",
      "metadata": {
        "id": "163fcf59",
        "outputId": "04710347-118a-43e8-ce64-0cfcffdec0ca"
      },
      "outputs": [
        {
          "name": "stdin",
          "output_type": "stream",
          "text": [
            "Ingresa una lista de numeros separados por espacios:  1,2,3\n"
          ]
        }
      ],
      "source": [
        "numeros = input(\"Ingresa una lista de numeros separados por espacios: \")"
      ]
    },
    {
      "cell_type": "code",
      "execution_count": null,
      "id": "175c1468",
      "metadata": {
        "id": "175c1468",
        "outputId": "559bb2d3-2c1d-4879-f0e9-338dd348f2eb"
      },
      "outputs": [
        {
          "data": {
            "text/plain": [
              "'1,2,3'"
            ]
          },
          "execution_count": 23,
          "metadata": {},
          "output_type": "execute_result"
        }
      ],
      "source": [
        "numeros"
      ]
    },
    {
      "cell_type": "code",
      "execution_count": null,
      "id": "54fc22f7",
      "metadata": {
        "id": "54fc22f7",
        "outputId": "366fd60e-cee8-4529-ac01-b84c3e8b4ac5"
      },
      "outputs": [
        {
          "data": {
            "text/plain": [
              "['1', '2', '3']"
            ]
          },
          "execution_count": 25,
          "metadata": {},
          "output_type": "execute_result"
        }
      ],
      "source": [
        "numeros = numeros.split(\",\")\n",
        "\n",
        "numeros"
      ]
    },
    {
      "cell_type": "code",
      "execution_count": null,
      "id": "b134e242-28f3-4d8d-a20c-97c80f5e05ad",
      "metadata": {
        "id": "b134e242-28f3-4d8d-a20c-97c80f5e05ad",
        "outputId": "037aecc7-8283-4d18-f0a4-2dbbe26bf078"
      },
      "outputs": [
        {
          "data": {
            "text/plain": [
              "[1, 2, 3]"
            ]
          },
          "execution_count": 26,
          "metadata": {},
          "output_type": "execute_result"
        }
      ],
      "source": [
        "[int(i) for i in numeros]"
      ]
    },
    {
      "cell_type": "code",
      "execution_count": null,
      "id": "02cda025",
      "metadata": {
        "id": "02cda025"
      },
      "outputs": [],
      "source": [
        "################################################################################################################################"
      ]
    }
  ],
  "metadata": {
    "kernelspec": {
      "display_name": "Python 3 (ipykernel)",
      "language": "python",
      "name": "python3"
    },
    "language_info": {
      "codemirror_mode": {
        "name": "ipython",
        "version": 3
      },
      "file_extension": ".py",
      "mimetype": "text/x-python",
      "name": "python",
      "nbconvert_exporter": "python",
      "pygments_lexer": "ipython3",
      "version": "3.13.2"
    },
    "colab": {
      "provenance": [],
      "include_colab_link": true
    }
  },
  "nbformat": 4,
  "nbformat_minor": 5
}