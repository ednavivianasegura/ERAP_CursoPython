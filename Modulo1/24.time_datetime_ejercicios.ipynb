{
  "cells": [
    {
      "cell_type": "markdown",
      "metadata": {
        "id": "view-in-github",
        "colab_type": "text"
      },
      "source": [
        "<a href=\"https://colab.research.google.com/github/ednavivianasegura/ERAP_CursoPython/blob/main/Modulo1/24.time_datetime_ejercicios.ipynb\" target=\"_parent\"><img src=\"https://colab.research.google.com/assets/colab-badge.svg\" alt=\"Open In Colab\"/></a>"
      ]
    },
    {
      "cell_type": "markdown",
      "id": "81cc3390",
      "metadata": {
        "id": "81cc3390"
      },
      "source": [
        "## datetime Ejercicios"
      ]
    },
    {
      "cell_type": "code",
      "execution_count": null,
      "id": "570de22e",
      "metadata": {
        "id": "570de22e"
      },
      "outputs": [],
      "source": [
        "import time\n",
        "import datetime"
      ]
    },
    {
      "cell_type": "markdown",
      "id": "f9db0e96",
      "metadata": {
        "id": "f9db0e96"
      },
      "source": [
        "### Ejercicio 1\n",
        "- Determina si el año actual es bisiesto, imprime el resultado por pantalla. Usa la libreria **`datetime`**."
      ]
    },
    {
      "cell_type": "code",
      "execution_count": null,
      "id": "7f8fbd2e",
      "metadata": {
        "id": "7f8fbd2e"
      },
      "outputs": [],
      "source": []
    },
    {
      "cell_type": "code",
      "execution_count": null,
      "id": "586752c5",
      "metadata": {
        "id": "586752c5"
      },
      "outputs": [],
      "source": []
    },
    {
      "cell_type": "code",
      "execution_count": null,
      "id": "8f7131c0",
      "metadata": {
        "id": "8f7131c0"
      },
      "outputs": [],
      "source": []
    },
    {
      "cell_type": "markdown",
      "id": "9ec19d61",
      "metadata": {
        "id": "9ec19d61"
      },
      "source": [
        "### Ejercicio 2\n",
        "- Utiliza el año 2000 y el año 2100 para verificar que el código anterior funciona correctamente. Nota: El año 2000 fue bisiesto y el año 2100 no lo será."
      ]
    },
    {
      "cell_type": "code",
      "execution_count": null,
      "id": "6d7ac90e",
      "metadata": {
        "id": "6d7ac90e"
      },
      "outputs": [],
      "source": []
    },
    {
      "cell_type": "code",
      "execution_count": null,
      "id": "ae63e7cd",
      "metadata": {
        "id": "ae63e7cd"
      },
      "outputs": [],
      "source": []
    },
    {
      "cell_type": "code",
      "execution_count": null,
      "id": "516fe1fc",
      "metadata": {
        "id": "516fe1fc"
      },
      "outputs": [],
      "source": []
    },
    {
      "cell_type": "markdown",
      "id": "30aaf8f9",
      "metadata": {
        "id": "30aaf8f9"
      },
      "source": [
        "### Ejercicio 3\n",
        "- Convierte la fecha **`'Oct 16 2019 2:43PM'`** en un objecto de tipo **`datetime`**. Nota: Convertir una fecha string a una fecha tipo datetime."
      ]
    },
    {
      "cell_type": "code",
      "execution_count": null,
      "id": "5a5aee2e",
      "metadata": {
        "id": "5a5aee2e"
      },
      "outputs": [],
      "source": []
    },
    {
      "cell_type": "code",
      "execution_count": null,
      "id": "3473f225",
      "metadata": {
        "id": "3473f225"
      },
      "outputs": [],
      "source": []
    },
    {
      "cell_type": "code",
      "execution_count": null,
      "id": "e86e8008",
      "metadata": {
        "id": "e86e8008"
      },
      "outputs": [],
      "source": []
    },
    {
      "cell_type": "markdown",
      "id": "dac7380d",
      "metadata": {
        "id": "dac7380d"
      },
      "source": [
        "### Ejercicio 4\n",
        "- Muestra la hora actual."
      ]
    },
    {
      "cell_type": "code",
      "execution_count": null,
      "id": "1d0c0aea",
      "metadata": {
        "id": "1d0c0aea"
      },
      "outputs": [],
      "source": []
    },
    {
      "cell_type": "code",
      "execution_count": null,
      "id": "7da1f286",
      "metadata": {
        "id": "7da1f286"
      },
      "outputs": [],
      "source": []
    },
    {
      "cell_type": "code",
      "execution_count": null,
      "id": "0faf7615",
      "metadata": {
        "id": "0faf7615"
      },
      "outputs": [],
      "source": []
    },
    {
      "cell_type": "markdown",
      "id": "4888b068",
      "metadata": {
        "id": "4888b068"
      },
      "source": [
        "### Ejercicio 5\n",
        "\n",
        "- Utilizando la fecha y hora actual imprime la siguiente información:\n",
        "\n",
        "1. Fecha y hora actual\n",
        "2. Año actual\n",
        "3. Mes del año\n",
        "4. Numero de la semana del año\n",
        "5. Numero del dia de la semana\n",
        "6. Dia del año\n",
        "7. Dia del mes\n",
        "8. Dia de la semana"
      ]
    },
    {
      "cell_type": "code",
      "execution_count": null,
      "id": "2be25c27",
      "metadata": {
        "id": "2be25c27"
      },
      "outputs": [],
      "source": []
    },
    {
      "cell_type": "code",
      "execution_count": null,
      "id": "4f5fe2b2",
      "metadata": {
        "id": "4f5fe2b2"
      },
      "outputs": [],
      "source": []
    },
    {
      "cell_type": "code",
      "execution_count": null,
      "id": "0d115ad6",
      "metadata": {
        "id": "0d115ad6"
      },
      "outputs": [],
      "source": []
    },
    {
      "cell_type": "markdown",
      "id": "2b6c624f",
      "metadata": {
        "id": "2b6c624f"
      },
      "source": [
        "### Ejercicio 6\n",
        "\n",
        "- Escribe un código que convierta la siguiente cadena que se encuentra en formato timestamp unix **\"1284105682\"** a un formato que se pueda leer."
      ]
    },
    {
      "cell_type": "code",
      "execution_count": null,
      "id": "5eaab7d8",
      "metadata": {
        "id": "5eaab7d8"
      },
      "outputs": [],
      "source": []
    },
    {
      "cell_type": "code",
      "execution_count": null,
      "id": "6580497b",
      "metadata": {
        "id": "6580497b"
      },
      "outputs": [],
      "source": []
    },
    {
      "cell_type": "code",
      "execution_count": null,
      "id": "b863e2d9",
      "metadata": {
        "id": "b863e2d9"
      },
      "outputs": [],
      "source": []
    },
    {
      "cell_type": "markdown",
      "id": "9fa710a8",
      "metadata": {
        "id": "9fa710a8"
      },
      "source": [
        "### Ejercicio 7\n",
        "- Escribe un programa que imprima la fecha de 5 días atras."
      ]
    },
    {
      "cell_type": "code",
      "execution_count": null,
      "id": "c2508c37",
      "metadata": {
        "id": "c2508c37"
      },
      "outputs": [],
      "source": []
    },
    {
      "cell_type": "code",
      "execution_count": null,
      "id": "e95406c6",
      "metadata": {
        "id": "e95406c6"
      },
      "outputs": [],
      "source": []
    },
    {
      "cell_type": "code",
      "execution_count": null,
      "id": "e4161e92",
      "metadata": {
        "id": "e4161e92"
      },
      "outputs": [],
      "source": []
    },
    {
      "cell_type": "markdown",
      "id": "ea3d4997",
      "metadata": {
        "id": "ea3d4997"
      },
      "source": [
        "### Ejercicio 8\n",
        "- Utiliza un bucle **`for`** para imprimir los proximos 5 dias."
      ]
    },
    {
      "cell_type": "code",
      "execution_count": null,
      "id": "311bfc3d",
      "metadata": {
        "id": "311bfc3d"
      },
      "outputs": [],
      "source": []
    },
    {
      "cell_type": "code",
      "execution_count": null,
      "id": "891c5751",
      "metadata": {
        "id": "891c5751"
      },
      "outputs": [],
      "source": []
    },
    {
      "cell_type": "code",
      "execution_count": null,
      "id": "107310ee",
      "metadata": {
        "id": "107310ee"
      },
      "outputs": [],
      "source": []
    },
    {
      "cell_type": "markdown",
      "id": "9f2f692d",
      "metadata": {
        "id": "9f2f692d"
      },
      "source": [
        "### Ejercicio 9\n",
        "- Escribe un código que agregue 5 segundos a la hora actual."
      ]
    },
    {
      "cell_type": "code",
      "execution_count": null,
      "id": "6299f143",
      "metadata": {
        "id": "6299f143"
      },
      "outputs": [],
      "source": []
    },
    {
      "cell_type": "code",
      "execution_count": null,
      "id": "828c806b",
      "metadata": {
        "id": "828c806b"
      },
      "outputs": [],
      "source": []
    },
    {
      "cell_type": "code",
      "execution_count": null,
      "id": "30269f13",
      "metadata": {
        "id": "30269f13"
      },
      "outputs": [],
      "source": []
    },
    {
      "cell_type": "markdown",
      "id": "e6fa33cc",
      "metadata": {
        "id": "e6fa33cc"
      },
      "source": [
        "### Ejercicio 10\n",
        "\n",
        "- Escribe un código que muestre la fecha de ayer, hoy y mañana."
      ]
    },
    {
      "cell_type": "code",
      "execution_count": null,
      "id": "a1b81653",
      "metadata": {
        "id": "a1b81653"
      },
      "outputs": [],
      "source": []
    },
    {
      "cell_type": "code",
      "execution_count": null,
      "id": "01cf4839",
      "metadata": {
        "id": "01cf4839"
      },
      "outputs": [],
      "source": []
    },
    {
      "cell_type": "code",
      "execution_count": null,
      "id": "5c397c62",
      "metadata": {
        "id": "5c397c62"
      },
      "outputs": [],
      "source": []
    },
    {
      "cell_type": "markdown",
      "id": "bf3cb171",
      "metadata": {
        "id": "bf3cb171"
      },
      "source": [
        "### Ejercicio 11\n",
        "- Escribe un código que convierta una fecha a unix timestamp."
      ]
    },
    {
      "cell_type": "code",
      "execution_count": null,
      "id": "87e59068",
      "metadata": {
        "id": "87e59068"
      },
      "outputs": [],
      "source": []
    },
    {
      "cell_type": "code",
      "execution_count": null,
      "id": "a07a78aa",
      "metadata": {
        "id": "a07a78aa"
      },
      "outputs": [],
      "source": []
    },
    {
      "cell_type": "code",
      "execution_count": null,
      "id": "e88b97c1",
      "metadata": {
        "id": "e88b97c1"
      },
      "outputs": [],
      "source": []
    },
    {
      "cell_type": "markdown",
      "id": "44994dbb",
      "metadata": {
        "id": "44994dbb"
      },
      "source": [
        "### Ejercicio 12\n",
        "\n",
        "- Escribe un código que genere la fecha y hora actual del tipo **`datetime`** como **`string`**. (Dale el formato que quieras.)"
      ]
    },
    {
      "cell_type": "code",
      "execution_count": null,
      "id": "c7e38f97",
      "metadata": {
        "id": "c7e38f97"
      },
      "outputs": [],
      "source": []
    },
    {
      "cell_type": "code",
      "execution_count": null,
      "id": "d4fa4a49",
      "metadata": {
        "id": "d4fa4a49"
      },
      "outputs": [],
      "source": []
    },
    {
      "cell_type": "code",
      "execution_count": null,
      "id": "cba05354",
      "metadata": {
        "id": "cba05354"
      },
      "outputs": [],
      "source": []
    },
    {
      "cell_type": "markdown",
      "id": "ed6e7b81",
      "metadata": {
        "id": "ed6e7b81"
      },
      "source": [
        "### Ejercicio 13\n",
        "\n",
        "- Calcula la cantidad de segundos que han pasado desde el **`01-Jan-2023`**."
      ]
    },
    {
      "cell_type": "code",
      "execution_count": null,
      "id": "66ebcc7c",
      "metadata": {
        "id": "66ebcc7c"
      },
      "outputs": [],
      "source": []
    },
    {
      "cell_type": "code",
      "execution_count": null,
      "id": "462a0e80",
      "metadata": {
        "id": "462a0e80"
      },
      "outputs": [],
      "source": []
    },
    {
      "cell_type": "code",
      "execution_count": null,
      "id": "862141bf",
      "metadata": {
        "id": "862141bf"
      },
      "outputs": [],
      "source": []
    }
  ],
  "metadata": {
    "kernelspec": {
      "display_name": "Python 3 (ipykernel)",
      "language": "python",
      "name": "python3"
    },
    "language_info": {
      "codemirror_mode": {
        "name": "ipython",
        "version": 3
      },
      "file_extension": ".py",
      "mimetype": "text/x-python",
      "name": "python",
      "nbconvert_exporter": "python",
      "pygments_lexer": "ipython3",
      "version": "3.9.12"
    },
    "colab": {
      "provenance": [],
      "include_colab_link": true
    }
  },
  "nbformat": 4,
  "nbformat_minor": 5
}