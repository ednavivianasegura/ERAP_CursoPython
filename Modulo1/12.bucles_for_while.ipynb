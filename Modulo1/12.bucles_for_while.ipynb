{
 "cells": [
  {
   "cell_type": "markdown",
   "id": "66258df1",
   "metadata": {},
   "source": [
    "## Bluces\n",
    "\n",
    "### for\n",
    "\n",
    "Los bucles **`for`** son utilizados cuando se quiere **repetir un bloque de código un número determinado de veces** por lo que en algún momento el bucle se detiene.\n",
    "\n",
    "En python, podemos usar los bucles **`for`** para recorrer cualquier objeto iterable (tuplas, listas, diccionarios, strings, ...) y para hacerlo \"creamos\" una variable para el bucle.\n",
    "\n",
    "Existe una función **`range()`** que crea objetos iterables que podemos usar en el bucle.\n",
    "\n",
    "**Dentro del bucle podemos escribir cualquier tipo de codigo que queramos.**"
   ]
  },
  {
   "cell_type": "code",
   "execution_count": 1,
   "id": "66262aa2",
   "metadata": {},
   "outputs": [],
   "source": [
    "# for i in: range(10),range(5, 15, 2),[1, 10, 100, 1000, 10000, 100000],string\n",
    "# imprimir si es par, impar, vocal, consonante"
   ]
  },
  {
   "cell_type": "markdown",
   "id": "054f8cdd",
   "metadata": {},
   "source": [
    "**Esta forma de recorrer bucles `for` sobre objetos iterables tiene una sintaxis única, es decir, solo se puede hacer en python.**\n",
    "\n",
    "**Si quisieramos recorrer un bucle como lo hacen en otros lenguajes podemos hacer uso de los indices de los elementos usando las funciones `range()` y `len()`.**"
   ]
  },
  {
   "cell_type": "markdown",
   "id": "6e94fbe3",
   "metadata": {},
   "source": [
    "### for y lists\n",
    "\n",
    "Los bucles **`for`** se usan en conjunto con las listas para agregar o quitar elementos."
   ]
  },
  {
   "cell_type": "code",
   "execution_count": null,
   "id": "ebb632a2",
   "metadata": {},
   "outputs": [],
   "source": [
    "lista = []  # Lista vacia\n",
    "\n",
    "for i in range(10):\n",
    "    lista.append(i)\n",
    "    \n",
    "lista"
   ]
  },
  {
   "cell_type": "markdown",
   "id": "43483695",
   "metadata": {},
   "source": [
    "### while\n",
    "\n",
    "Los bucles **`while`** son bucles que se ejecutan siempre que se cumpla una condición, si la condición dejase de cumplirse el bucle se detendría.\n",
    "\n",
    "La principal diferencia con el bucle **`for`** es que el bucle **`while`** necesita una condición para poder ejecutarse y no se detendrá hasta que la condición sea **False**, es decir, puede ejecutarse un número variable de veces o incluso nunca detenerse."
   ]
  },
  {
   "cell_type": "code",
   "execution_count": null,
   "id": "de288bed",
   "metadata": {},
   "outputs": [],
   "source": [
    "condicion_1\n",
    "condicion_2\n",
    "\n",
    "while (condicion_1) and (condicion_2):\n",
    "    pass"
   ]
  },
  {
   "cell_type": "markdown",
   "id": "63c52966",
   "metadata": {},
   "source": [
    "### break\n",
    "\n",
    "La palabra reservada **`break`** detiene un bucle y continua con el código que va después del bucle."
   ]
  },
  {
   "cell_type": "code",
   "execution_count": null,
   "id": "712bcbfa",
   "metadata": {},
   "outputs": [],
   "source": [
    "break en for y en while"
   ]
  },
  {
   "cell_type": "code",
   "execution_count": null,
   "id": "1e46fe63",
   "metadata": {},
   "outputs": [],
   "source": []
  },
  {
   "cell_type": "markdown",
   "id": "1d857128",
   "metadata": {},
   "source": [
    "### Bucles anidados\n",
    "\n",
    "Como muchas cosas en Python, se pueden anidar bucles. Dependiendo del bucle, esto puede alargar el tiempo de ejecución."
   ]
  },
  {
   "cell_type": "code",
   "execution_count": null,
   "id": "56b8989b",
   "metadata": {},
   "outputs": [],
   "source": []
  },
  {
   "cell_type": "markdown",
   "id": "da4d983f",
   "metadata": {},
   "source": [
    "### zip y enumerate\n",
    "\n",
    "- **`zip`**: Esta función toma como argumento objetos iterables para recorrerlos al mismo tiempo en un bucle."
   ]
  },
  {
   "cell_type": "code",
   "execution_count": 1,
   "id": "91c0739e",
   "metadata": {},
   "outputs": [],
   "source": []
  },
  {
   "cell_type": "markdown",
   "id": "3608202c",
   "metadata": {},
   "source": [
    "**Si alguna de las dos listas es mas grande que otra, el bucle con zip se detendrá cuando la lista mas corta termine.**"
   ]
  },
  {
   "cell_type": "code",
   "execution_count": null,
   "id": "53135e57",
   "metadata": {},
   "outputs": [],
   "source": []
  },
  {
   "cell_type": "markdown",
   "id": "44ebcc4c",
   "metadata": {},
   "source": [
    "- **`enumerate`**: Esta función \"crea\" un índice utilizando un objeto iterable, se usa en conjunto con los bucles para tener un tipo de \"contador\"."
   ]
  },
  {
   "cell_type": "code",
   "execution_count": null,
   "id": "3c8c7f70",
   "metadata": {},
   "outputs": [],
   "source": []
  },
  {
   "cell_type": "markdown",
   "id": "530d1aa9",
   "metadata": {},
   "source": [
    "**Si quisieramos, podriamos comenzar el contador en otro número**"
   ]
  },
  {
   "cell_type": "code",
   "execution_count": null,
   "id": "09afdeb2",
   "metadata": {},
   "outputs": [],
   "source": [
    "#enumerate(lista, start = 100)"
   ]
  },
  {
   "cell_type": "code",
   "execution_count": null,
   "id": "b698cbd7",
   "metadata": {},
   "outputs": [],
   "source": [
    "################################################################################################################################"
   ]
  }
 ],
 "metadata": {
  "kernelspec": {
   "display_name": "Python 3 (ipykernel)",
   "language": "python",
   "name": "python3"
  },
  "language_info": {
   "codemirror_mode": {
    "name": "ipython",
    "version": 3
   },
   "file_extension": ".py",
   "mimetype": "text/x-python",
   "name": "python",
   "nbconvert_exporter": "python",
   "pygments_lexer": "ipython3",
   "version": "3.13.2"
  }
 },
 "nbformat": 4,
 "nbformat_minor": 5
}
