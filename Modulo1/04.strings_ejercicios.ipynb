{
 "cells": [
  {
   "cell_type": "markdown",
   "id": "c54fd5aa",
   "metadata": {},
   "source": [
    "### Ejercicios clase de Strings"
   ]
  },
  {
   "cell_type": "code",
   "execution_count": 1,
   "id": "bae6c2a9",
   "metadata": {},
   "outputs": [],
   "source": [
    "frase = \"Nunca confies en un ordenador que no puedas lanzar por una ventana -- Steve Wozniak\""
   ]
  },
  {
   "cell_type": "markdown",
   "id": "605874f4",
   "metadata": {},
   "source": [
    "- Obtener el largo de la frase"
   ]
  },
  {
   "cell_type": "code",
   "execution_count": null,
   "id": "9ce4991c",
   "metadata": {},
   "outputs": [],
   "source": []
  },
  {
   "cell_type": "markdown",
   "id": "8fe445bf",
   "metadata": {},
   "source": [
    "- Obtener la frase **\"lanzar por una ventana\"** usando slicing"
   ]
  },
  {
   "cell_type": "code",
   "execution_count": null,
   "id": "57beb8e9",
   "metadata": {},
   "outputs": [],
   "source": []
  },
  {
   "cell_type": "markdown",
   "id": "e50eb318",
   "metadata": {},
   "source": [
    "- Obtener la sección **\"confies en un ordenador\"** haciando slicing de derecha a izquierda, utilizando indexing negativo"
   ]
  },
  {
   "cell_type": "code",
   "execution_count": null,
   "id": "9299725f",
   "metadata": {},
   "outputs": [],
   "source": []
  },
  {
   "cell_type": "markdown",
   "id": "f64534b8",
   "metadata": {},
   "source": [
    "1. Guardar en la variable: **`subfrase1`**, la siguiente sección de la variable frase: **\"un ordenador\"**\n",
    "2. Guardar en la variable: **`subfrase2`**, la siguiente sección de la variable frase: **\"por una ventanza\"**\n",
    "3. Guardar en la variable: **`subfrase3`**, la siguiente sección de la variable frase: **\"Steve Wozniak\"**\n",
    "3. Crear la siguiente frase utilizando las variables: **`subfrase1`**, **`subfrase2`**, **`subfrase3`**: **\"un ordenador, por una ventana -- Steve Wozniak\"** y guardarla en una variable."
   ]
  },
  {
   "cell_type": "code",
   "execution_count": null,
   "id": "eae3f714",
   "metadata": {},
   "outputs": [],
   "source": []
  },
  {
   "cell_type": "code",
   "execution_count": null,
   "id": "3e5b49b9",
   "metadata": {},
   "outputs": [],
   "source": []
  },
  {
   "cell_type": "code",
   "execution_count": null,
   "id": "32dec2c4",
   "metadata": {},
   "outputs": [],
   "source": []
  },
  {
   "cell_type": "markdown",
   "id": "4ed01d93",
   "metadata": {},
   "source": [
    "- Hacer stride de paso 2 con la nueva frase"
   ]
  },
  {
   "cell_type": "code",
   "execution_count": null,
   "id": "ad0072cd",
   "metadata": {},
   "outputs": [],
   "source": []
  },
  {
   "cell_type": "markdown",
   "id": "49f704a6",
   "metadata": {},
   "source": [
    "- Obten las vocales de la palabra **\"Nunca\"** y **\"una\"**, haciendo slicing a la frase y luego stride"
   ]
  },
  {
   "cell_type": "code",
   "execution_count": null,
   "id": "e7919c6a",
   "metadata": {},
   "outputs": [],
   "source": []
  },
  {
   "cell_type": "code",
   "execution_count": null,
   "id": "1350b40f",
   "metadata": {},
   "outputs": [],
   "source": []
  },
  {
   "cell_type": "markdown",
   "id": "0a42a1a3",
   "metadata": {},
   "source": [
    "- Encuentra el indice del texto **\"--\"** y guardarlo en la variable **`indice_1`**"
   ]
  },
  {
   "cell_type": "code",
   "execution_count": null,
   "id": "b91458ad",
   "metadata": {},
   "outputs": [],
   "source": []
  },
  {
   "cell_type": "markdown",
   "id": "04dc8653",
   "metadata": {},
   "source": [
    "- Encuentra el indice de la palabra **\"ventana\"** y guardalo en la variable **`indice_2`**"
   ]
  },
  {
   "cell_type": "code",
   "execution_count": null,
   "id": "b01ec2bd",
   "metadata": {},
   "outputs": [],
   "source": []
  },
  {
   "cell_type": "markdown",
   "id": "1ba23cc3",
   "metadata": {},
   "source": [
    "- Obtener la frase: **\"ordenador que no puedas lanzar por una ventana\"** haciendo slicing y utilizando las variables: **`indice_1`** y **`indice_2`**"
   ]
  },
  {
   "cell_type": "code",
   "execution_count": null,
   "id": "3d07c17e",
   "metadata": {},
   "outputs": [],
   "source": []
  },
  {
   "cell_type": "markdown",
   "id": "4ce3d23c",
   "metadata": {},
   "source": [
    "- Verificar si la frase comienza con la cadena **\"nunca\"**"
   ]
  },
  {
   "cell_type": "code",
   "execution_count": null,
   "id": "23f39959",
   "metadata": {},
   "outputs": [],
   "source": []
  },
  {
   "cell_type": "code",
   "execution_count": null,
   "id": "5858f1d1",
   "metadata": {},
   "outputs": [],
   "source": []
  },
  {
   "cell_type": "code",
   "execution_count": null,
   "id": "20c162de",
   "metadata": {},
   "outputs": [],
   "source": []
  },
  {
   "cell_type": "markdown",
   "id": "67350650",
   "metadata": {},
   "source": [
    "- Verificar si la frase termina con **\".\"**"
   ]
  },
  {
   "cell_type": "code",
   "execution_count": null,
   "id": "fd459e90",
   "metadata": {},
   "outputs": [],
   "source": []
  },
  {
   "cell_type": "code",
   "execution_count": null,
   "id": "3491094f",
   "metadata": {},
   "outputs": [],
   "source": []
  },
  {
   "cell_type": "markdown",
   "id": "92e148d9",
   "metadata": {},
   "source": [
    "- Separar la frase por la cadena **\"que\"** utilizando **`.split()`**"
   ]
  },
  {
   "cell_type": "code",
   "execution_count": null,
   "id": "d24490e1",
   "metadata": {},
   "outputs": [],
   "source": []
  },
  {
   "cell_type": "markdown",
   "id": "4bd93d27",
   "metadata": {},
   "source": [
    "- Separar la frase por la letra **\"o\"** utilizando **`.split()`**"
   ]
  },
  {
   "cell_type": "code",
   "execution_count": null,
   "id": "922a9f36",
   "metadata": {},
   "outputs": [],
   "source": [
    "frase.split()"
   ]
  },
  {
   "cell_type": "markdown",
   "id": "fb6a50cc",
   "metadata": {},
   "source": [
    "- Cuenta cuantas veces aparecen las vocales en la frase."
   ]
  },
  {
   "cell_type": "code",
   "execution_count": null,
   "id": "e3bdc740",
   "metadata": {},
   "outputs": [],
   "source": []
  },
  {
   "cell_type": "code",
   "execution_count": null,
   "id": "a2572459",
   "metadata": {},
   "outputs": [],
   "source": []
  },
  {
   "cell_type": "code",
   "execution_count": null,
   "id": "1d5ca005",
   "metadata": {},
   "outputs": [],
   "source": []
  },
  {
   "cell_type": "code",
   "execution_count": null,
   "id": "5b984040",
   "metadata": {},
   "outputs": [],
   "source": []
  },
  {
   "cell_type": "code",
   "execution_count": null,
   "id": "78453b21",
   "metadata": {},
   "outputs": [],
   "source": []
  },
  {
   "cell_type": "code",
   "execution_count": null,
   "id": "58391305",
   "metadata": {},
   "outputs": [],
   "source": []
  },
  {
   "cell_type": "code",
   "execution_count": null,
   "id": "6e1b8db5",
   "metadata": {},
   "outputs": [],
   "source": []
  },
  {
   "cell_type": "code",
   "execution_count": 1,
   "id": "04bac0f8",
   "metadata": {},
   "outputs": [],
   "source": [
    "################################################################################################################################"
   ]
  }
 ],
 "metadata": {
  "kernelspec": {
   "display_name": "Python 3 (ipykernel)",
   "language": "python",
   "name": "python3"
  },
  "language_info": {
   "codemirror_mode": {
    "name": "ipython",
    "version": 3
   },
   "file_extension": ".py",
   "mimetype": "text/x-python",
   "name": "python",
   "nbconvert_exporter": "python",
   "pygments_lexer": "ipython3",
   "version": "3.13.2"
  }
 },
 "nbformat": 4,
 "nbformat_minor": 5
}
