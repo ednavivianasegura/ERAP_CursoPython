{
 "cells": [
  {
   "cell_type": "markdown",
   "id": "3a136037",
   "metadata": {},
   "source": [
    "## Libreria math\n",
    "\n",
    "La librería **`math`** es muy utilizada para hacer cálculos matemáticos, cuenta con muchas funciones y formulas que no vienen predeterminadas en Python.\n",
    "\n",
    "| Función               | Descripción                                  |\n",
    "|-----------------------|----------------------------------------------|\n",
    "| **math.ceil(x)**      | Redondea \"x\" hacia arriba                    |\n",
    "| **math.floor(x)**     | Redondea \"x\" hacia abajo                     |\n",
    "| **math.fabs(x)**      | Retorna el valor absoluto de \"x\"             |\n",
    "| **math.factorial(x)** | Retorna el factorial de \"x\"                  |\n",
    "| **math.fmod(x, y)**   | Retorna el resto de dividir \"x\" con \"y\"      |\n",
    "| **math.fsum(x)**      | Calcula la suma de los números en \"x\"        |\n",
    "| **math.trunc(x)**     | Retorna la parte entera de \"x\"               |\n",
    "| **math.exp(x)**       | Calcula la exponencial de \"x\"                |\n",
    "| **math.log2(x)**      | Calcula Logaritmo base 2 de \"x\"              |\n",
    "| **math.log10(x)**     | Calcula Logaritmo base 10 de \"x\"             |\n",
    "| **math.pow(x, y)**    | Calcula \"x\" elevado a \"y\"                    |\n",
    "| **math.sqrt(x)**      | Calcula la raiz cuadrada de \"x\"              |\n",
    "| **math.sin(x)**       | Calcula el seno de \"x\"                       |\n",
    "| **math.cos(x)**       | Calcula el coseno de \"x\"                     |\n",
    "| **math.asin(x)**      | Calcula el arcoseno de \"x\"                   |\n",
    "| **math.acos(x)**      | Calcula el arcocoseno de \"x\"                 |\n",
    "| **math.tan(x)**       | Calcula la tangente de \"x\"                   |\n",
    "| **math.degrees(x)**   | Transforma el angulo \"x\" de radianes a grados|\n",
    "| **math.radians(x)**   | Transforma el angulo \"x\" de grados a radianes|\n",
    "| **math.pi**           | Constante numero pi                          |\n",
    "| **math.e**            | Constante numero e                           |\n"
   ]
  },
  {
   "cell_type": "code",
   "execution_count": 3,
   "id": "f1bd63ad",
   "metadata": {},
   "outputs": [],
   "source": [
    "import math"
   ]
  },
  {
   "cell_type": "code",
   "execution_count": null,
   "id": "7908129c",
   "metadata": {},
   "outputs": [],
   "source": []
  },
  {
   "cell_type": "markdown",
   "id": "61152c6e",
   "metadata": {},
   "source": [
    "## Libreria random\n",
    "\n",
    "La librería **`random`** es un de las más utilizadas para la generación de números aleatorios. Esta librería cuenta con funciónes para generar números aleatorios con distribución uniforma, logarítmica y exponenciales negativas."
   ]
  },
  {
   "cell_type": "code",
   "execution_count": 2,
   "id": "92f548d9",
   "metadata": {},
   "outputs": [],
   "source": [
    "import random"
   ]
  },
  {
   "cell_type": "code",
   "execution_count": null,
   "id": "804f8c93",
   "metadata": {},
   "outputs": [],
   "source": [
    "# Para generar un número aleatorio entre 0 y 1 random.random()"
   ]
  },
  {
   "cell_type": "code",
   "execution_count": null,
   "id": "77d6964f",
   "metadata": {},
   "outputs": [],
   "source": [
    "# Para generar un número aleatorio entero entre un intervalo (entre 1 y 10) random.randint(1, 10)"
   ]
  },
  {
   "cell_type": "code",
   "execution_count": 12,
   "id": "dae83a8a",
   "metadata": {},
   "outputs": [],
   "source": [
    "# Para generar numeros aleatorios dentro de una range con paso: print(random.randrange(1, 10, 2))"
   ]
  },
  {
   "cell_type": "code",
   "execution_count": 13,
   "id": "786c4a94",
   "metadata": {},
   "outputs": [],
   "source": [
    "# Si quisieramos que siempre se genere el mismo número aleatorio tendríamos que \n",
    "# generar una \"semilla\", si esta semilla esta creada el número aleatorio siempre sera el mismo: random.seed(1) random.random()"
   ]
  },
  {
   "cell_type": "markdown",
   "id": "b41308d9",
   "metadata": {},
   "source": [
    "### Funciones choice, choices y sample"
   ]
  },
  {
   "cell_type": "markdown",
   "id": "4af5cc63",
   "metadata": {},
   "source": [
    "- **`choice`**: retorna un elemento aleatorio de una lista, tupla, set, string..."
   ]
  },
  {
   "cell_type": "code",
   "execution_count": 12,
   "id": "8904aa56",
   "metadata": {},
   "outputs": [
    {
     "name": "stdout",
     "output_type": "stream",
     "text": [
      "nombre completo: Elba-Lazo\n"
     ]
    }
   ],
   "source": [
    "#lista = []; random.choice(lista); random.choice(string)  "
   ]
  },
  {
   "cell_type": "markdown",
   "id": "69546a34",
   "metadata": {},
   "source": [
    "- **`choices`**: Retorna una lista de elementos sacados de otro elemento de forma aleatoria, esta función tiene 3 parametros:\n",
    "\n",
    "    - **`population`**: el objeto iterable.\n",
    "    \n",
    "    - **`k`**: el número de elementos que va a seleccionar.\n",
    "    \n",
    "    - **`weights`**: se usa para definir la probabilidad de selección de cada elemento.\n",
    "    \n",
    "**Puede seleccionar elementos repetidos.**"
   ]
  },
  {
   "cell_type": "code",
   "execution_count": 15,
   "id": "c5a6e1d5",
   "metadata": {},
   "outputs": [],
   "source": [
    "# lista = [] random.choices(population = lista, k = 4)"
   ]
  },
  {
   "cell_type": "code",
   "execution_count": 20,
   "id": "dc743ad0",
   "metadata": {},
   "outputs": [],
   "source": [
    "# lista = [\"a\",\"b\",\"c\",\"f\",\"g\"] random.choices(population = lista, k = 4, weights = [0.99, 0.1, 0.45, 0.2, 0.2])"
   ]
  },
  {
   "cell_type": "markdown",
   "id": "737f59ee",
   "metadata": {},
   "source": [
    "- **`sample`**: Hace lo mismo que **`choices`**, la principal diferencia es que no selecciona elementos repetidos y no tiene el parametro **`weights`**."
   ]
  },
  {
   "cell_type": "code",
   "execution_count": null,
   "id": "9d8e7096",
   "metadata": {},
   "outputs": [],
   "source": [
    "#lista = [] random.sample(population = lista, k = 5)"
   ]
  },
  {
   "cell_type": "markdown",
   "id": "f212c9fa",
   "metadata": {},
   "source": [
    "### shuffle\n",
    "\n",
    "- **`shuffle`**: se utiliza para \"desordenar\" un objeto iterable, esta función hace la operación **in-place**."
   ]
  },
  {
   "cell_type": "code",
   "execution_count": 33,
   "id": "023d9124",
   "metadata": {},
   "outputs": [],
   "source": [
    "# lista; random.shuffle(lista) "
   ]
  },
  {
   "cell_type": "code",
   "execution_count": null,
   "id": "bdb2ab62",
   "metadata": {},
   "outputs": [],
   "source": [
    "################################################################################################################################"
   ]
  }
 ],
 "metadata": {
  "kernelspec": {
   "display_name": "Python 3 (ipykernel)",
   "language": "python",
   "name": "python3"
  },
  "language_info": {
   "codemirror_mode": {
    "name": "ipython",
    "version": 3
   },
   "file_extension": ".py",
   "mimetype": "text/x-python",
   "name": "python",
   "nbconvert_exporter": "python",
   "pygments_lexer": "ipython3",
   "version": "3.13.2"
  }
 },
 "nbformat": 4,
 "nbformat_minor": 5
}
