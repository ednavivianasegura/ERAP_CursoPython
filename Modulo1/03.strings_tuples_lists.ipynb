{
 "cells": [
  {
   "cell_type": "markdown",
   "id": "23894b39",
   "metadata": {},
   "source": [
    "## Strings (str)\n",
    "\n",
    "Las **cadenas de caractéres** o **strings** es un tipo de dato compuesto por secuencias de caracteres que representan texto.\n",
    "\n",
    "Estas cadenas de caracteres se pueden **inicializar** utilizando comillas simples **`'`** o comillas dobles **`\"`**.\n",
    "\n",
    "En python las **cadenas de caractéres** se representan con la palabra reservada **`str`** y tienen una gran variedad de **built-in methods** que nos facilitan mucho el trabajo al momento de manipularlas. \n",
    "\n",
    "En general, si queremos **\"imprimir por pantalla\"** un string, debemos utilizar la función **`print()`**."
   ]
  },
  {
   "cell_type": "code",
   "execution_count": null,
   "id": "7f170bac",
   "metadata": {
    "scrolled": true
   },
   "outputs": [],
   "source": [
    "\"Comer chocolate encoge la ropa\""
   ]
  },
  {
   "cell_type": "code",
   "execution_count": 2,
   "id": "5ab24f57",
   "metadata": {},
   "outputs": [
    {
     "name": "stdout",
     "output_type": "stream",
     "text": [
      "\n"
     ]
    }
   ],
   "source": [
    "print()"
   ]
  },
  {
   "cell_type": "markdown",
   "id": "08a87a47",
   "metadata": {},
   "source": [
    "## Operaciones con Strings"
   ]
  },
  {
   "cell_type": "code",
   "execution_count": 3,
   "id": "8cddd045",
   "metadata": {},
   "outputs": [],
   "source": [
    "# Suma (concatenación de strings)"
   ]
  },
  {
   "cell_type": "code",
   "execution_count": 4,
   "id": "a397ede5",
   "metadata": {},
   "outputs": [],
   "source": [
    "# Multiplicación \"string\"*int"
   ]
  },
  {
   "cell_type": "markdown",
   "id": "30092c74",
   "metadata": {},
   "source": [
    "## Built-in Methods\n",
    "\n",
    "Las cadenas de caractéres tienen una gran variedad de métodos, estos son algunos de los más utilizados:\n",
    "\n",
    "|                   |                     |\n",
    "|-------------------|---------------------|\n",
    "| **.capitalize()** | **.isalnum()**      |\n",
    "| **.title()**      | **.isalpha()**      |\n",
    "| **.casefold()**   | **.isascii()**      | \n",
    "| **.center()**     | **.isdecimal()**    |\n",
    "| **.count()**      | **.isdigit()**      |\n",
    "| **.split()**      | **.isidentifier()** |\n",
    "| **.startswith()** | **.islower()**      |\n",
    "| **.endswith()**   | **.isnumeric()**    |\n",
    "| **.find()**       | **.isspace()**      |\n",
    "| **.index()**      | **.istitle()**      |\n",
    "| **.format()**     | **.isupper()**      |\n",
    "| **.upper()**      | **.lower()**        |\n",
    "| **.replace()**    | **.swapcase()**     |\n",
    "| **.strip()**      | **.join()**         |\n",
    "\n",
    "\n",
    "<div style=\"text-align: right\"><strong>Ninguno de estos métodos modifica el string original.</strong> </div>"
   ]
  },
  {
   "cell_type": "code",
   "execution_count": 11,
   "id": "56dd2eee",
   "metadata": {},
   "outputs": [],
   "source": [
    "string = \"Si el trabajo es salud, ¡que trabajen los enfermos!\""
   ]
  },
  {
   "cell_type": "code",
   "execution_count": 6,
   "id": "6dae21c1",
   "metadata": {},
   "outputs": [],
   "source": [
    "#.capitalize()"
   ]
  },
  {
   "cell_type": "code",
   "execution_count": 7,
   "id": "ec74c76d",
   "metadata": {},
   "outputs": [],
   "source": [
    "#.title()"
   ]
  },
  {
   "cell_type": "code",
   "execution_count": 8,
   "id": "e5976c5a",
   "metadata": {},
   "outputs": [],
   "source": [
    "#.lower()"
   ]
  },
  {
   "cell_type": "code",
   "execution_count": 9,
   "id": "dfe19877",
   "metadata": {},
   "outputs": [],
   "source": [
    "#.upper()"
   ]
  },
  {
   "cell_type": "code",
   "execution_count": 10,
   "id": "125a4327",
   "metadata": {},
   "outputs": [],
   "source": [
    "#.swapcase()"
   ]
  },
  {
   "cell_type": "code",
   "execution_count": 13,
   "id": "595461fa",
   "metadata": {},
   "outputs": [],
   "source": [
    "#.replace(\"que\", \"entonces que\") # <- No modifica el string original"
   ]
  },
  {
   "cell_type": "code",
   "execution_count": 16,
   "id": "32fcef4f",
   "metadata": {},
   "outputs": [],
   "source": [
    "#.find(\"\")"
   ]
  },
  {
   "cell_type": "code",
   "execution_count": 21,
   "id": "d5981c1f",
   "metadata": {},
   "outputs": [],
   "source": [
    "#.index(\"los\")"
   ]
  },
  {
   "cell_type": "code",
   "execution_count": 22,
   "id": "b0c7a217",
   "metadata": {},
   "outputs": [],
   "source": [
    "#.find(\"planeta\")"
   ]
  },
  {
   "cell_type": "code",
   "execution_count": 23,
   "id": "ea11c087",
   "metadata": {},
   "outputs": [],
   "source": [
    "#.index(\"planeta\")"
   ]
  },
  {
   "cell_type": "code",
   "execution_count": 62,
   "id": "74e94483",
   "metadata": {},
   "outputs": [],
   "source": [
    "#.count(\"algo\")"
   ]
  },
  {
   "cell_type": "code",
   "execution_count": null,
   "id": "7b942d7a",
   "metadata": {},
   "outputs": [],
   "source": [
    "#.count(\"A\")"
   ]
  },
  {
   "cell_type": "code",
   "execution_count": 24,
   "id": "e0eb78e3",
   "metadata": {
    "scrolled": true
   },
   "outputs": [],
   "source": [
    "#.split()"
   ]
  },
  {
   "cell_type": "code",
   "execution_count": null,
   "id": "cc62fb9b-3c4d-405f-a9cf-9ed161ac7549",
   "metadata": {},
   "outputs": [],
   "source": [
    "# Caso especial, convertir números a letras. chr() 93-122"
   ]
  },
  {
   "cell_type": "markdown",
   "id": "c25c300a",
   "metadata": {},
   "source": [
    "## Indexing & Slicing\n",
    "\n",
    "- **Indexing:** Es la forma de \"acceder\" o \"entrar\" a un solo elemento de un **objeto iterable** (strings, lists, dict...).\n",
    "    - Se utilizan los corchetes `[ ]` para hacer indexing.      \n",
    "    \n",
    "\n",
    "- **Slicing:** Es la forma de \"acceder\" o \"entrar\" a varios elementos de un **objeto iterable** (string, lists, dict...).\n",
    "    - Al igual que indexing se utilizan corchetes `[ ]` pero se le agregan el caracter `:`.\n",
    "        \n",
    "**En python el primer elemento de un objeto iterable tiene indice 0.**\n",
    "\n",
    "Para saber el tamaño de un objeto iterable podemos usar la función **`len()`**."
   ]
  },
  {
   "attachments": {
    "slicing_indexing_1.jpg": {
     "image/jpeg": "[encoded data removed]"
    }
   },
   "cell_type": "markdown",
   "id": "599a07e2",
   "metadata": {},
   "source": [
    "![slicing_indexing_1.jpg](attachment:slicing_indexing_1.jpg)"
   ]
  },
  {
   "cell_type": "markdown",
   "id": "33acc455",
   "metadata": {},
   "source": [
    "Si estamos haciendo slincing y el primer elemento es el comienzo del objeto podemos hacer\n",
    "<p style=\"text-align: center;\"> <strong>string[0:10]</strong> o <strong>string[:10]</strong> </p>\n",
    "\n",
    "\n",
    "Y si el ultimo elemento del slicing es el final del objeto podemos hacer:\n",
    "<p style=\"text-align: center;\"> <strong>string[10:20]</strong> o <strong>string[10:]</strong> </p>\n"
   ]
  },
  {
   "cell_type": "code",
   "execution_count": 25,
   "id": "1f361385",
   "metadata": {},
   "outputs": [],
   "source": [
    "# Si quisieramos el primer elemento de este string...\n"
   ]
  },
  {
   "cell_type": "markdown",
   "id": "6cfdec36",
   "metadata": {},
   "source": [
    "- Debido a que los indices comienzan en 0 si quisieramos \"acceder\" al indice **x** usariamos el indexing de **x - 1**."
   ]
  },
  {
   "cell_type": "code",
   "execution_count": null,
   "id": "fc5b301b-3229-4de0-9a00-9cddabfeae46",
   "metadata": {},
   "outputs": [],
   "source": []
  },
  {
   "cell_type": "markdown",
   "id": "783b6b1a-5661-41c4-85fb-c944a53e7bee",
   "metadata": {},
   "source": [
    "- Para el último elemento del string podemos usar..."
   ]
  },
  {
   "cell_type": "raw",
   "id": "7243ac1b-9d62-4953-ac6f-9bfa45036606",
   "metadata": {},
   "source": [
    "- Si quisiera un elemento fuera de ese rango"
   ]
  },
  {
   "cell_type": "markdown",
   "id": "2f4f7364",
   "metadata": {},
   "source": [
    "En python, podemos hacer indexing de **izquierda a derecha**, comenzando en 0 y se suma 1 hasta el último indice que sería el tamaño del objeto menos 1.\n",
    "\n",
    "También se puede hacer indexing de **derecha a izquierda**, esta vez comenzando desde -1 y, en lugar de sumar 1, se resta 1.\n",
    "\n",
    "**Ejemplo:**"
   ]
  },
  {
   "cell_type": "code",
   "execution_count": null,
   "id": "26cc403c-c139-4760-9971-65542986be43",
   "metadata": {},
   "outputs": [],
   "source": []
  },
  {
   "cell_type": "markdown",
   "id": "bfb2fbee-4aed-4249-8136-bb1f57926da4",
   "metadata": {},
   "source": [
    "- Para hacer slicing usariamos [start:end]"
   ]
  },
  {
   "cell_type": "code",
   "execution_count": 26,
   "id": "a6a1a6ac",
   "metadata": {},
   "outputs": [],
   "source": [
    "# El slicing termina una posición antes al numero que le digamos\n",
    "# Es decir, no incluye al último elemento"
   ]
  },
  {
   "cell_type": "code",
   "execution_count": 27,
   "id": "e7167bcd",
   "metadata": {},
   "outputs": [],
   "source": [
    "# También podemos usar indices negativos"
   ]
  },
  {
   "cell_type": "code",
   "execution_count": 28,
   "id": "57e07b5e",
   "metadata": {},
   "outputs": [],
   "source": [
    "#string[:10]"
   ]
  },
  {
   "cell_type": "code",
   "execution_count": null,
   "id": "a5aa34c1-b24f-4427-b3ea-81c6fd193e7c",
   "metadata": {},
   "outputs": [],
   "source": [
    "#string[38:41]"
   ]
  },
  {
   "cell_type": "markdown",
   "id": "db2b1691",
   "metadata": {},
   "source": [
    "## Stride\n",
    "\n",
    "Es una forma de recorrer objetos iterables agregando un \"paso\":"
   ]
  },
  {
   "cell_type": "code",
   "execution_count": 29,
   "id": "3d1c38ff",
   "metadata": {},
   "outputs": [],
   "source": [
    "# En este ejemplo, se va a mostrar cada dos elementos del string, saltandose uno: string[1:-1:2]"
   ]
  },
  {
   "cell_type": "code",
   "execution_count": 30,
   "id": "305f92c5",
   "metadata": {},
   "outputs": [],
   "source": [
    "# En este ejemplo, se va a mostrar cada tres elementos del string, saltandose dos "
   ]
  },
  {
   "cell_type": "markdown",
   "id": "f4329d7a",
   "metadata": {},
   "source": [
    "## Función format\n",
    "\n",
    "La función **`.format()`** es una herramienta para darle \"formato\" a una cadena de caracteres, esta función llena las llaves **`{}`** vacias de la cadena. Esta función se puede usar de 2 formas:\n",
    "\n",
    "1. Haciendo **`.format()`** al final de un string.\n",
    "2. Colocando **`f`** al comienzo de un string.\n",
    "\n",
    "**Ejemplo:**"
   ]
  },
  {
   "cell_type": "code",
   "execution_count": 7,
   "id": "187bb787",
   "metadata": {},
   "outputs": [],
   "source": [
    "#nombre = \"\"\n",
    "#edad = "
   ]
  },
  {
   "cell_type": "code",
   "execution_count": 8,
   "id": "c620e360",
   "metadata": {},
   "outputs": [],
   "source": [
    "# En esta forma de usar .format(), estamos usando 2 llaves y por eso necesitamos 2 variables para llenarlas.\n",
    "# Se llenan en el orden que estan colocadas.\n"
   ]
  },
  {
   "cell_type": "code",
   "execution_count": 34,
   "id": "e97c763f",
   "metadata": {},
   "outputs": [],
   "source": [
    "# En esta forma de usar .format(), directamente llenamos las llaves con las variables."
   ]
  },
  {
   "cell_type": "markdown",
   "id": "ca73e0aa",
   "metadata": {},
   "source": [
    "Con **`format`** podemos utilizar todas las llaves que queramos siempre y cuando tengamos la misma cantidad de elementos para llenarlos."
   ]
  },
  {
   "cell_type": "markdown",
   "id": "15e2b30d",
   "metadata": {},
   "source": [
    "## Tuplas y Listas (tuple & list)\n",
    "\n",
    "En python las tuplas y listas son una clase de estructura de datos que pueden almacenar uno o más objetos y valores, en ellas se pueden almacenar cualquier tipo de variable u objeto y para acceder a los valores se utiliza indexing o slicing.\n",
    "\n",
    "- **Tuplas:**\n",
    "    - Se inicializan usando `tuple()` o `( )`.\n",
    "    - Son inmutables.\n",
    "    - Ocupan menos espacio en memoria.\n",
    "    - En general, el tiempo de ejecución o recorrido de una tupla es menor.\n",
    "    - Cuenta con menos funciones y métodos que las listas.\n",
    "    \n",
    "    \n",
    "- **Listas:**\n",
    "    - Se inicializan usando `list()` o `[ ]`.\n",
    "    - Son mutables.\n",
    "    - Ocupan más espacio en memoria que las tuplas.\n",
    "    - En general, las listas consumen más tiempo al iterar sobre ellas.\n",
    "    - Cuenta con muchas funciones y métodos para operar con ellas."
   ]
  },
  {
   "cell_type": "markdown",
   "id": "a36fa656",
   "metadata": {},
   "source": [
    "### Tuplas"
   ]
  },
  {
   "cell_type": "code",
   "execution_count": 35,
   "id": "23e5ff0d",
   "metadata": {},
   "outputs": [],
   "source": [
    "# Al igual que en los strings, para \"acceder\" a los elementos de una tupla usamos indexing y slicing"
   ]
  },
  {
   "cell_type": "code",
   "execution_count": null,
   "id": "edcb7b15-5f79-47fd-a9b9-bff43e35241e",
   "metadata": {},
   "outputs": [],
   "source": []
  },
  {
   "cell_type": "code",
   "execution_count": 39,
   "id": "ac717e22",
   "metadata": {},
   "outputs": [],
   "source": [
    "# Puede contener diferentes tipos de variables y otras tuplas"
   ]
  },
  {
   "cell_type": "code",
   "execution_count": null,
   "id": "eb272a23-2915-4e70-a47a-efe730f4a020",
   "metadata": {},
   "outputs": [],
   "source": []
  },
  {
   "cell_type": "code",
   "execution_count": 41,
   "id": "f36e2335",
   "metadata": {},
   "outputs": [],
   "source": [
    "# Min, Max y Len"
   ]
  },
  {
   "cell_type": "code",
   "execution_count": null,
   "id": "b976129e-4d57-4ec3-a355-636d58b0354f",
   "metadata": {},
   "outputs": [],
   "source": []
  },
  {
   "cell_type": "code",
   "execution_count": 42,
   "id": "1e34e9bd",
   "metadata": {},
   "outputs": [],
   "source": [
    "# Las tuplas se pueden concatenar usando +, el resultados es una nueva tupla, no modifica las tuplas originales"
   ]
  },
  {
   "cell_type": "code",
   "execution_count": null,
   "id": "da8436d9-648a-417c-bfd6-ee7dbeefcc04",
   "metadata": {},
   "outputs": [],
   "source": []
  },
  {
   "cell_type": "code",
   "execution_count": 43,
   "id": "d6256cd1",
   "metadata": {},
   "outputs": [],
   "source": [
    "# Pero no se pueden restar"
   ]
  },
  {
   "cell_type": "markdown",
   "id": "be5be054",
   "metadata": {},
   "source": [
    "### Listas"
   ]
  },
  {
   "cell_type": "code",
   "execution_count": 132,
   "id": "6d16aff0",
   "metadata": {},
   "outputs": [],
   "source": [
    "lista_1 = [1, 2, 3, 4, 5, 6, 7, 100, 1000]\n",
    "\n",
    "lista_2 = [5, 6, 7, 8, 9, 10, 11, -2, -6, -100]"
   ]
  },
  {
   "cell_type": "code",
   "execution_count": 44,
   "id": "79e7f787",
   "metadata": {},
   "outputs": [],
   "source": [
    "# print()"
   ]
  },
  {
   "cell_type": "markdown",
   "id": "c5cd2373",
   "metadata": {},
   "source": [
    "Los objetos **`list()`** son unos de los más utilizados en python, la principal ventaja ante las tuplas es que estos objetos **son mutables**, es decir, pueden ser modificados, se les puede **agragar y quitar valores** y cuentan con diferentes métodos asociados:\n",
    "\n",
    "| Modifican \"in-place\" | Retornan un valor |\n",
    "|----------------------|-------------------|\n",
    "| **.append()**        | **.count()**      |\n",
    "| **.extend()**        | **.index()**      |\n",
    "| **.insert()**        | **min()**         |\n",
    "| **.pop()**           | **max()**         |\n",
    "| **.remove()**        | **len()**         |\n",
    "| **.sort()**          |                   |\n",
    "| **.reverse()**       |  **del()**        |\n",
    "| **.clear()**         |                   |\n",
    "|                      |                   |"
   ]
  },
  {
   "cell_type": "code",
   "execution_count": 29,
   "id": "4656c91b",
   "metadata": {},
   "outputs": [],
   "source": [
    "# Las listas también tienen Min, Max y Len"
   ]
  },
  {
   "cell_type": "code",
   "execution_count": 47,
   "id": "ad74452d",
   "metadata": {},
   "outputs": [],
   "source": [
    "# .sort() ordena de menor a mayor la lista, no retorna un valor, modifica la lista \"in-place\""
   ]
  },
  {
   "cell_type": "code",
   "execution_count": 48,
   "id": "a3f576c7",
   "metadata": {},
   "outputs": [],
   "source": [
    "# .reverse() invierte la lista"
   ]
  },
  {
   "cell_type": "markdown",
   "id": "005bcf8c",
   "metadata": {},
   "source": [
    "Si quisieramos **agregar** elementos a una lista tenemos 3 opciones:\n",
    "\n",
    "- **`.append()`**: agrega 1 elemento/objeto al final de la lista.\n",
    "\n",
    "- **`.extend()`**: agrega todos los elementos de un **objeto iterable** al final de la lista.\n",
    "\n",
    "- **`.insert()`**: agrega 1 elemento a una posición en específico.\n",
    "\n",
    "\n",
    "**Ejemplos:**"
   ]
  },
  {
   "cell_type": "code",
   "execution_count": 49,
   "id": "28dbcf5b",
   "metadata": {},
   "outputs": [],
   "source": [
    "# Si quisieramos agregar el numero 50 en la última posición de la lista_1:\n",
    "# .append() no retorna nada"
   ]
  },
  {
   "cell_type": "code",
   "execution_count": 50,
   "id": "bc8cd545",
   "metadata": {},
   "outputs": [],
   "source": [
    "# Si quisieramos agregar los números 33, 44, 55, 66 y 0 al final de la lista_1:\n",
    "# .extend() no retorna nada"
   ]
  },
  {
   "cell_type": "code",
   "execution_count": 51,
   "id": "fda04d21",
   "metadata": {},
   "outputs": [],
   "source": [
    "# Si quisieramos agregar el número 0 al indice 4:\n",
    "# .insert() no retorna nada"
   ]
  },
  {
   "cell_type": "markdown",
   "id": "7f8c2652",
   "metadata": {},
   "source": [
    "Si quisieramos eliminar los elementos de una lista también tenemos 3 opciones:\n",
    "    \n",
    "- **`.remove()`**: elimina la primera ocurrencia en la lista\n",
    "\n",
    "- **`.pop()`**: elimina un elemento utilizando su indice y retorna ese elemento\n",
    "\n",
    "- **`del`**: elimina un elemento utilizando su indice, no retorna nada"
   ]
  },
  {
   "cell_type": "code",
   "execution_count": 144,
   "id": "e7614b31",
   "metadata": {},
   "outputs": [
    {
     "data": {
      "text/plain": [
       "[1000, 100, 7, 6, 0, 5, 4, 3, 2, 1, 50, 33, 44, 55, 66, 0]"
      ]
     },
     "execution_count": 144,
     "metadata": {},
     "output_type": "execute_result"
    }
   ],
   "source": [
    "lista_1"
   ]
  },
  {
   "cell_type": "code",
   "execution_count": 145,
   "id": "c0ffb747",
   "metadata": {},
   "outputs": [
    {
     "name": "stdout",
     "output_type": "stream",
     "text": [
      "Antes del remove: [1000, 100, 7, 6, 0, 5, 4, 3, 2, 1, 50, 33, 44, 55, 66, 0]\n"
     ]
    }
   ],
   "source": [
    "# En lista_1 aparecen dos veces el numero 0, si quisieramos eliminar el primer 0, utilizariamos .remove():\n",
    "# .remove() toma como argumento el elemento que queremos eliminar, no retorna nada."
   ]
  },
  {
   "cell_type": "code",
   "execution_count": 52,
   "id": "1f883ee0",
   "metadata": {},
   "outputs": [],
   "source": [
    "# Si intentamos eliminar un elemento que no este en la lista nos daría error"
   ]
  },
  {
   "cell_type": "code",
   "execution_count": 53,
   "id": "2b08d3dc",
   "metadata": {},
   "outputs": [],
   "source": [
    "# Si queremos eliminar un elemento por su indice: del lista_1[5] ->  Elimina el elemento con indice 5"
   ]
  },
  {
   "cell_type": "code",
   "execution_count": 54,
   "id": "5108c7db",
   "metadata": {},
   "outputs": [],
   "source": [
    "# Si queremos eliminar un elemento por su indice y a su vez guardar en una variable el ese elemento:\n",
    "# El .pop() retorna el elemento que saca de la lista, por lo que podemos igualar esa ejecución a una variable"
   ]
  },
  {
   "cell_type": "code",
   "execution_count": 55,
   "id": "2ffdb8d0",
   "metadata": {},
   "outputs": [],
   "source": [
    "# Por último, podemos vaciar la lista con .clear()"
   ]
  },
  {
   "cell_type": "code",
   "execution_count": 56,
   "id": "dbbfbfe9",
   "metadata": {},
   "outputs": [],
   "source": [
    "# .count() cuenta cuantas veces se repite un elemento:"
   ]
  },
  {
   "cell_type": "code",
   "execution_count": 57,
   "id": "c64954bc",
   "metadata": {},
   "outputs": [],
   "source": [
    "# .index() retorna la posición de un elemento en la lista:"
   ]
  },
  {
   "cell_type": "code",
   "execution_count": 58,
   "id": "491183c2",
   "metadata": {},
   "outputs": [],
   "source": [
    "# Si intentamos buscar un elemento que no esta en la lista nos daría error"
   ]
  },
  {
   "cell_type": "code",
   "execution_count": 171,
   "id": "2080dbb0",
   "metadata": {},
   "outputs": [
    {
     "data": {
      "text/plain": [
       "[1, 2, 3, 4, 5, 6, 7, 100, 1000]"
      ]
     },
     "execution_count": 171,
     "metadata": {},
     "output_type": "execute_result"
    }
   ],
   "source": [
    "lista_1"
   ]
  },
  {
   "cell_type": "code",
   "execution_count": 59,
   "id": "7c0c05a7",
   "metadata": {},
   "outputs": [],
   "source": [
    "# Si quisieramos cambiar un elemento de la lista podemos usar indexing para hacerlo:\n",
    "\n",
    "# Por ejemplo, queremos que el elemento en el indice 5 sea ahora -100\n"
   ]
  },
  {
   "cell_type": "code",
   "execution_count": 60,
   "id": "caae57bf",
   "metadata": {},
   "outputs": [],
   "source": [
    "# Y lo mismo aplica con el slicing si queremos cambiar un conjunto de elementos: lista_1[5:10] = [-1, -2, -3, -4]\n"
   ]
  },
  {
   "cell_type": "markdown",
   "id": "009c3f4b",
   "metadata": {},
   "source": [
    "Tanto las listas como las tuplas pueden **contener cualquier tipo de objeto dentro de ellas**, esto incluye numeros, strings, listas, tuplas, diccionarios... Por lo que es normal ver listas anidadas: "
   ]
  },
  {
   "cell_type": "code",
   "execution_count": null,
   "id": "f8e9ad31",
   "metadata": {},
   "outputs": [],
   "source": [
    "# Al tener una lista de listas accederiamos a cada una usando indexing"
   ]
  },
  {
   "cell_type": "code",
   "execution_count": 61,
   "id": "4c1f7110",
   "metadata": {},
   "outputs": [],
   "source": [
    "# Y si quisieramos los elementos de la primera lista, usariamos indexing otra vez"
   ]
  },
  {
   "cell_type": "code",
   "execution_count": null,
   "id": "601fb50e",
   "metadata": {},
   "outputs": [],
   "source": [
    "################################################################################################################################"
   ]
  }
 ],
 "metadata": {
  "kernelspec": {
   "display_name": "Python 3 (ipykernel)",
   "language": "python",
   "name": "python3"
  },
  "language_info": {
   "codemirror_mode": {
    "name": "ipython",
    "version": 3
   },
   "file_extension": ".py",
   "mimetype": "text/x-python",
   "name": "python",
   "nbconvert_exporter": "python",
   "pygments_lexer": "ipython3",
   "version": "3.13.2"
  }
 },
 "nbformat": 4,
 "nbformat_minor": 5
}
