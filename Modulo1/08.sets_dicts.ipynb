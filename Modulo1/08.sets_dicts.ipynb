{
 "cells": [
  {
   "cell_type": "markdown",
   "id": "2131c4bf",
   "metadata": {},
   "source": [
    "## Sets (set)\n",
    "\n",
    "\n",
    "En python, un set es una **colección de elementos que no posee órden**, por lo tanto no tiene indice. Debido a esto no podemos elegir en que orden aparecen sus elementos.\n",
    "\n",
    "Los sets **son mutables y NO permiten elemento repetidos**, lo que es útil en situaciones que tenemos que utilizar valores únicos.\n",
    "\n",
    "Se denotan con llaves **`{}`** y son muy utilizados en la teoria de grupos.\n",
    "\n",
    "| Método                      | Descripción                                            |\n",
    "|-----------------------------|--------------------------------------------------------|\n",
    "| **.add()**                  | Agrega un elemento al set                              |\n",
    "| **.clear()**                | Vacia el set                                           |\n",
    "| **.difference()**           | Retorna los elementos no comunes de ambos sets         |\n",
    "| **.remove()**               | Elimina un elemento especifico del set                 |\n",
    "| **.pop()**                  | Elimina un elemento del set y lo retorna               |\n",
    "| **.intersection()**         | Retorna los elementos en comun de dos sets             |\n",
    "| **.union()**                | Retorna la unión de dos sets                           |\n",
    "| **.update()**               | Agrega a un set los elementos de otro objeto iterable  |"
   ]
  },
  {
   "cell_type": "code",
   "execution_count": 1,
   "id": "1fa38d79",
   "metadata": {},
   "outputs": [],
   "source": [
    "# set_1 = {}"
   ]
  },
  {
   "cell_type": "code",
   "execution_count": 1,
   "id": "bad05b73",
   "metadata": {},
   "outputs": [],
   "source": [
    "# .add() agrega un solo elemento al set"
   ]
  },
  {
   "cell_type": "code",
   "execution_count": 2,
   "id": "3c8e3f6d",
   "metadata": {},
   "outputs": [],
   "source": [
    "# set_1.difference(set_2) elimina los elementos en comun en ambos sets"
   ]
  },
  {
   "cell_type": "code",
   "execution_count": 3,
   "id": "fc8d34e1",
   "metadata": {},
   "outputs": [],
   "source": [
    "# set_1.union(set_2) retorna todos los elementos de ambos sets en uno solo"
   ]
  },
  {
   "cell_type": "code",
   "execution_count": 4,
   "id": "90acc8cb",
   "metadata": {},
   "outputs": [],
   "source": [
    "# set_1.intersection(set_2) retorna los elementos en comun de ambos sets"
   ]
  },
  {
   "cell_type": "code",
   "execution_count": 9,
   "id": "42ab6074",
   "metadata": {},
   "outputs": [],
   "source": [
    "# set_1.remove(\"algo\") elimina un unico elemento, se ejecuta in-place"
   ]
  },
  {
   "cell_type": "code",
   "execution_count": 5,
   "id": "ff18c6c3",
   "metadata": {},
   "outputs": [],
   "source": [
    "# set_1.update(set_2).update() agrega los valores del set_2 al set_1, se ejecuta in-place"
   ]
  },
  {
   "cell_type": "markdown",
   "id": "9c55e4d0",
   "metadata": {},
   "source": [
    "## Dictionaries (dict)\n",
    "\n",
    "En python, los diccionarios son una **estructura de datos** y un **tipo de dato**. La principal característica de los diccionarios es que cada elemento tiene un par de **llave y valor** (**key y value**).\n",
    "\n",
    "- La **llave** o **key** se utiliza para identificar un elemento del diccionario, funciona como un indice, normalmente las llaves son **numeros o strings**.\n",
    "\n",
    "- El **valor** o **value** es el elemento asociado a la llave, este valor puede ser cualquier tipo de dato (**numero, string, lista, tupla, diccionario...**).\n",
    "\n",
    "Al igual que los sets los diccionarios **NO tienen un orden, además las llaves son únicas, es decir, no se pueden repetir**.\n",
    "\n",
    "Los diccionarios se denotan con **`{}`** y utilizan **`:`** para separar las llaves y los valores. \n",
    "\n",
    "Este tipo de dato también se le conoce como **JSON** en otros lenguajes."
   ]
  },
  {
   "cell_type": "code",
   "execution_count": 14,
   "id": "1af88d6c",
   "metadata": {},
   "outputs": [
    {
     "name": "stdout",
     "output_type": "stream",
     "text": [
      "{'a': 1, 'b': 2, 'c': 3, 'd': 4}\n"
     ]
    }
   ],
   "source": [
    "dict_1 = {\"a\" : 1,\n",
    "          \"b\" : 2,\n",
    "          \"c\" : 3,\n",
    "          \"d\" : 4}\n",
    "\n",
    "print(dict_1)"
   ]
  },
  {
   "cell_type": "markdown",
   "id": "7a797f9d",
   "metadata": {},
   "source": [
    "Para poder acceder a los elementos de un diccionario:\n",
    "- Usariamos la **llave** como si fuese un **indice**.\n",
    "- Usariamos el método **`.get()`**"
   ]
  },
  {
   "cell_type": "code",
   "execution_count": 15,
   "id": "c6119154",
   "metadata": {},
   "outputs": [
    {
     "data": {
      "text/plain": [
       "1"
      ]
     },
     "execution_count": 15,
     "metadata": {},
     "output_type": "execute_result"
    }
   ],
   "source": [
    "# Usando la llave como indice"
   ]
  },
  {
   "cell_type": "code",
   "execution_count": 6,
   "id": "a54aad51",
   "metadata": {},
   "outputs": [],
   "source": [
    "# Usando .get() : dict_1.get(\"a\")"
   ]
  },
  {
   "cell_type": "code",
   "execution_count": 19,
   "id": "47ca3174",
   "metadata": {},
   "outputs": [],
   "source": [
    "# Si usamos .get() con un elemento que no este en el diccionario, no da error pero no retorna nada"
   ]
  },
  {
   "cell_type": "markdown",
   "id": "865ff2c2",
   "metadata": {},
   "source": [
    "**Si quisieramos agregar un elemento nuevo al diccionario:**\n",
    "1. **`diccionario[llave] = valor`**\n",
    "2. **`diccionario.update({llave : valor})`**"
   ]
  },
  {
   "cell_type": "code",
   "execution_count": 7,
   "id": "19b55bca",
   "metadata": {},
   "outputs": [],
   "source": [
    "# 1. diccionario[llave] = valor ej: dict_1[\"llave\"] = valor\n"
   ]
  },
  {
   "cell_type": "code",
   "execution_count": 8,
   "id": "ccda9f90",
   "metadata": {},
   "outputs": [],
   "source": [
    "# 2. diccionario.update({llave : valor}) dict_1.update({\"llave_1\" : valor_1, \"llave_2\" : valor_2, \"llave_3\" : valor_3})"
   ]
  },
  {
   "cell_type": "markdown",
   "id": "f0b76410",
   "metadata": {},
   "source": [
    "Estas formas de agregar un elemento al diccionario también funciona para **\"actualizar\"** o **\"modificar\"** el valor de una llave ya existente.\n",
    "\n",
    "**Ejemplo:** dict_1[\"nueva_llave\"] = nuevo_valor"
   ]
  },
  {
   "cell_type": "code",
   "execution_count": null,
   "id": "b8e61530",
   "metadata": {},
   "outputs": [],
   "source": []
  },
  {
   "cell_type": "markdown",
   "id": "5d1e319c",
   "metadata": {},
   "source": [
    "**Existen muchas formas para crear diccionarios:**\n",
    "1. **Podemos pedir al usuario que ingrese una llave y un valor**\n",
    "2. **Podemos utilizar los elementos de listas, strings, tuplas, etc. para crear las llaves y valores del diccionario**."
   ]
  },
  {
   "cell_type": "code",
   "execution_count": 10,
   "id": "88e061b1",
   "metadata": {},
   "outputs": [],
   "source": [
    "# 1. Pedir al usuario una llave y valor\n",
    "\n",
    "#llave = input(\"Ingrese una llave (key), un string: \")\n",
    "#valor = int(input(\"Ingrese un valor (value), un entero: \"))\n",
    "\n",
    "#diccionario_1 = {llave : valor}\n",
    "\n",
    "#print(diccionario_1)"
   ]
  },
  {
   "cell_type": "code",
   "execution_count": 14,
   "id": "47b45c96-1e16-4461-a6d3-7c00c61c3da2",
   "metadata": {},
   "outputs": [],
   "source": [
    "lista_1 = [\"a\", \"b\", \"c\", \"d\", \"e\", \"f\"]\n",
    "lista_2 = [1, 2, 3, 4, 5, 6]\n",
    "\n",
    "#print(list(zip(lista_1, lista_2)))\n"
   ]
  },
  {
   "cell_type": "code",
   "execution_count": 15,
   "id": "e07a9c07",
   "metadata": {},
   "outputs": [],
   "source": [
    "# 2. Usando 2 listas\n",
    "\n",
    "dict_vacio = {}\n",
    "for llave, valor in zip(lista_1, lista_2):\n",
    "    dict_vacio[llave] = valor"
   ]
  },
  {
   "cell_type": "markdown",
   "id": "db2e0e7f",
   "metadata": {},
   "source": [
    "**Para recorrer un diccionario tenemos diferentes formas:**\n",
    "1. Usando **`.keys()`**: Recorre solamente las llaves del diccionario.\n",
    "2. Usando **`.values()`**: Recorre solamente los valores del diccionario.\n",
    "3. Usando **`.items()`**: Recorre las llaves y los valores del diccionario."
   ]
  },
  {
   "cell_type": "code",
   "execution_count": 16,
   "id": "e5b2bb30",
   "metadata": {},
   "outputs": [],
   "source": [
    "# Solo las llaves"
   ]
  },
  {
   "cell_type": "code",
   "execution_count": 17,
   "id": "9b39e2bc",
   "metadata": {},
   "outputs": [],
   "source": [
    "# Solo los valores"
   ]
  },
  {
   "cell_type": "code",
   "execution_count": 18,
   "id": "ec05c490",
   "metadata": {},
   "outputs": [],
   "source": [
    "# LLaves y valores"
   ]
  },
  {
   "cell_type": "markdown",
   "id": "e71db0e4",
   "metadata": {},
   "source": [
    "**Al igual que las listas y las tuplas, los diccionarios pueden almacenar cualquier tipo de dato, incluso un diccionario.**"
   ]
  },
  {
   "cell_type": "code",
   "execution_count": 19,
   "id": "f79532c5",
   "metadata": {},
   "outputs": [],
   "source": [
    "# dict_1 = {1 : [1, 2, 3, 4, 5], 2 : [6, 7, 8, 9, 0], 3 : [\"a\", \"b\", \"c\", \"d\", \"e\"]}"
   ]
  },
  {
   "cell_type": "markdown",
   "id": "1dc738d1",
   "metadata": {},
   "source": [
    "## Diccionarios anidados"
   ]
  },
  {
   "cell_type": "code",
   "execution_count": 21,
   "id": "fb0667f1",
   "metadata": {},
   "outputs": [],
   "source": [
    "# Diccionarios anidados\n",
    "\n",
    "dict_2 = {1 : {\"nombre\" : \"\", \"apellido\" : \"\"},\n",
    "          2 : {\"nombre\" : \"\", \"apellido\" : \"\"}}"
   ]
  },
  {
   "cell_type": "markdown",
   "id": "11400c76",
   "metadata": {},
   "source": [
    "Cuando tenemos un **diccionario anidado**, para poder acceder a los elementos de los diccionarios más internos debemos ir entrando en cada llave hasta llegar al elemento que queramos\n",
    "\n",
    "**Ejemplo:**"
   ]
  },
  {
   "cell_type": "code",
   "execution_count": 22,
   "id": "5fd2a983",
   "metadata": {},
   "outputs": [],
   "source": [
    "# Usando .get(posicion): dict_2.get(1).get(\"nombre\")"
   ]
  },
  {
   "cell_type": "code",
   "execution_count": null,
   "id": "f7c37c46-afdb-4007-b0ff-aabb4639d5d9",
   "metadata": {},
   "outputs": [],
   "source": []
  },
  {
   "cell_type": "code",
   "execution_count": null,
   "id": "0685f19b",
   "metadata": {},
   "outputs": [],
   "source": [
    "################################################################################################################################"
   ]
  }
 ],
 "metadata": {
  "kernelspec": {
   "display_name": "Python 3 (ipykernel)",
   "language": "python",
   "name": "python3"
  },
  "language_info": {
   "codemirror_mode": {
    "name": "ipython",
    "version": 3
   },
   "file_extension": ".py",
   "mimetype": "text/x-python",
   "name": "python",
   "nbconvert_exporter": "python",
   "pygments_lexer": "ipython3",
   "version": "3.13.2"
  }
 },
 "nbformat": 4,
 "nbformat_minor": 5
}
