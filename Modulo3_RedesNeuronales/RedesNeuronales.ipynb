{
  "cells": [
    {
      "cell_type": "markdown",
      "metadata": {
        "id": "view-in-github",
        "colab_type": "text"
      },
      "source": [
        "<a href=\"https://colab.research.google.com/github/ednavivianasegura/ERAP_CursoPython/blob/main/Modulo3_RedesNeuronales/RedesNeuronales.ipynb\" target=\"_parent\"><img src=\"https://colab.research.google.com/assets/colab-badge.svg\" alt=\"Open In Colab\"/></a>"
      ]
    },
    {
      "cell_type": "code",
      "source": [
        "!git clone https://github.com/ednavivianasegura/ERAP_CursoPython.git"
      ],
      "metadata": {
        "id": "zv-NJmbZgwvN"
      },
      "id": "zv-NJmbZgwvN",
      "execution_count": null,
      "outputs": []
    },
    {
      "cell_type": "code",
      "source": [
        "import os\n",
        "os.chdir(\"/content/ERAP_CursoPython/Modulo3_RedesNeuronales\")"
      ],
      "metadata": {
        "id": "w_iZn6vogwlE"
      },
      "id": "w_iZn6vogwlE",
      "execution_count": null,
      "outputs": []
    },
    {
      "cell_type": "markdown",
      "id": "5777834b-307a-4b02-90d7-470e6d5e2ccc",
      "metadata": {
        "id": "5777834b-307a-4b02-90d7-470e6d5e2ccc"
      },
      "source": [
        "# Redes Neuronales Artificiales"
      ]
    },
    {
      "cell_type": "markdown",
      "id": "f45a8b33-97fc-4c1b-9359-9ff5e54814d6",
      "metadata": {
        "id": "f45a8b33-97fc-4c1b-9359-9ff5e54814d6"
      },
      "source": [
        "### Inspriación biológia"
      ]
    },
    {
      "cell_type": "code",
      "execution_count": null,
      "id": "a1ece4e8-57ad-4c58-bd1d-7e9c42d1725b",
      "metadata": {
        "id": "a1ece4e8-57ad-4c58-bd1d-7e9c42d1725b"
      },
      "outputs": [],
      "source": [
        "import matplotlib.pyplot as plt\n",
        "import matplotlib.image as mpimg\n",
        "plt.figure(figsize=(10, 6))\n",
        "img = mpimg.imread('Imagenes/NeuronEsquema.png')\n",
        "plt.imshow(img)\n",
        "plt.axis('off')  # Opcional: oculta los ejes\n",
        "plt.show()"
      ]
    },
    {
      "cell_type": "markdown",
      "id": "9a39eddf-39de-4b57-bb49-ea3e0b9484c5",
      "metadata": {
        "id": "9a39eddf-39de-4b57-bb49-ea3e0b9484c5"
      },
      "source": [
        "## Modelo matemático"
      ]
    },
    {
      "cell_type": "code",
      "execution_count": null,
      "id": "e0daa3e5-1b4e-49e6-91ce-7ab54182ba97",
      "metadata": {
        "id": "e0daa3e5-1b4e-49e6-91ce-7ab54182ba97"
      },
      "outputs": [],
      "source": [
        "plt.figure(figsize=(10, 6))\n",
        "img = mpimg.imread('Imagenes/ModeloRedNeuronal.png')\n",
        "plt.imshow(img)\n",
        "plt.axis('off')  # Opcional: oculta los ejes\n",
        "plt.show()"
      ]
    },
    {
      "cell_type": "markdown",
      "id": "14a1ae5d-2600-4e47-abc5-b440a8e88d55",
      "metadata": {
        "id": "14a1ae5d-2600-4e47-abc5-b440a8e88d55"
      },
      "source": [
        "## Ecuación:"
      ]
    },
    {
      "cell_type": "markdown",
      "id": "9869fc51-ee6c-4612-a5c9-1d4e73b5c820",
      "metadata": {
        "id": "9869fc51-ee6c-4612-a5c9-1d4e73b5c820"
      },
      "source": [
        "$$\n",
        "y_j = f \\left(\\sum_{i=0}^n x_i w_{ij}. \\right).\n",
        "$$"
      ]
    },
    {
      "cell_type": "code",
      "execution_count": null,
      "id": "7405e0e9-2d81-439d-8d39-3171d63e8794",
      "metadata": {
        "id": "7405e0e9-2d81-439d-8d39-3171d63e8794"
      },
      "outputs": [],
      "source": [
        "plt.figure(figsize=(10, 6))\n",
        "img = mpimg.imread('Imagenes/ActivationsFunctions.png')\n",
        "plt.imshow(img)\n",
        "plt.axis('off')  # Opcional: oculta los ejes\n",
        "plt.show()"
      ]
    },
    {
      "cell_type": "code",
      "execution_count": null,
      "id": "ca7e48fb-b2ff-4d9d-aa21-5392b5f5dd7e",
      "metadata": {
        "id": "ca7e48fb-b2ff-4d9d-aa21-5392b5f5dd7e"
      },
      "outputs": [],
      "source": [
        "plt.figure(figsize=(10, 6))\n",
        "img = mpimg.imread('Imagenes/RedMulticapa.png')\n",
        "plt.imshow(img)\n",
        "plt.axis('off')  # Opcional: oculta los ejes\n",
        "plt.show()\n",
        "\n"
      ]
    },
    {
      "cell_type": "markdown",
      "id": "19acddcf-c40a-4884-855e-59e67fad887f",
      "metadata": {
        "id": "19acddcf-c40a-4884-855e-59e67fad887f"
      },
      "source": [
        "# Preprocesado de datos\n",
        "\n",
        "    - Datos de entrenamiento\n",
        "    - Datos de validación\n",
        "    - Datos de prueba"
      ]
    },
    {
      "cell_type": "markdown",
      "id": "9e6a4740-33a9-4536-add1-04c74cf2bc53",
      "metadata": {
        "id": "9e6a4740-33a9-4536-add1-04c74cf2bc53"
      },
      "source": [
        "# Entrenamiento de una red feed-forward"
      ]
    },
    {
      "cell_type": "markdown",
      "id": "edfdd42d-7621-4df1-a915-ae97a7138043",
      "metadata": {
        "id": "edfdd42d-7621-4df1-a915-ae97a7138043"
      },
      "source": [
        "### - Topología de la red\n",
        "### - Inicialización de los pesos de la red\n",
        "### - Actualización de los pesos de la red:\n",
        "$$\n",
        "\\Delta w =- \\eta \\nabla E.\n",
        "$$\n",
        "### Ajuste de hiperparámetros:\n",
        "\n",
        "        - Búsqueda sistemática, o en inglés grid search.\n",
        "        - Búsqueda aleatoria.\n",
        "        - Búsqueda inteligente\n",
        "\n",
        "### Sobreaprendizaje\n",
        "\n",
        "        - Parada temprana\n",
        "\n"
      ]
    },
    {
      "cell_type": "code",
      "execution_count": null,
      "id": "5329a6e5-9dc5-4fd0-8ab1-7659f75303bf",
      "metadata": {
        "id": "5329a6e5-9dc5-4fd0-8ab1-7659f75303bf"
      },
      "outputs": [],
      "source": []
    }
  ],
  "metadata": {
    "kernelspec": {
      "display_name": "Python 3 (ipykernel)",
      "language": "python",
      "name": "python3"
    },
    "language_info": {
      "codemirror_mode": {
        "name": "ipython",
        "version": 3
      },
      "file_extension": ".py",
      "mimetype": "text/x-python",
      "name": "python",
      "nbconvert_exporter": "python",
      "pygments_lexer": "ipython3",
      "version": "3.13.2"
    },
    "colab": {
      "provenance": [],
      "include_colab_link": true
    }
  },
  "nbformat": 4,
  "nbformat_minor": 5
}