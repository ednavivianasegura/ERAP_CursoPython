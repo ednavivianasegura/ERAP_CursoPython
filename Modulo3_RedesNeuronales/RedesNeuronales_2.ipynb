{
  "cells": [
    {
      "cell_type": "markdown",
      "metadata": {
        "id": "view-in-github",
        "colab_type": "text"
      },
      "source": [
        "<a href=\"https://colab.research.google.com/github/ednavivianasegura/ERAP_CursoPython/blob/main/Modulo3_RedesNeuronales/RedesNeuronales_2.ipynb\" target=\"_parent\"><img src=\"https://colab.research.google.com/assets/colab-badge.svg\" alt=\"Open In Colab\"/></a>"
      ]
    },
    {
      "cell_type": "markdown",
      "id": "4ae788ec-b3b2-493f-af49-677951b17a35",
      "metadata": {
        "id": "4ae788ec-b3b2-493f-af49-677951b17a35"
      },
      "source": [
        "# Aplicacion de las redes neuronales en problemas de regresión"
      ]
    },
    {
      "cell_type": "code",
      "execution_count": null,
      "id": "dca80347-45bd-4033-8a0d-a2154273f55f",
      "metadata": {
        "id": "dca80347-45bd-4033-8a0d-a2154273f55f",
        "outputId": "b3096ce6-bcc4-46c7-c4e4-7d722db3519b"
      },
      "outputs": [
        {
          "ename": "ModuleNotFoundError",
          "evalue": "No module named 'tensorflow'",
          "output_type": "error",
          "traceback": [
            "\u001b[0;31m---------------------------------------------------------------------------\u001b[0m",
            "\u001b[0;31mModuleNotFoundError\u001b[0m                       Traceback (most recent call last)",
            "Cell \u001b[0;32mIn[1], line 10\u001b[0m\n\u001b[1;32m      8\u001b[0m \u001b[38;5;28;01mimport\u001b[39;00m \u001b[38;5;21;01mmatplotlib\u001b[39;00m\u001b[38;5;21;01m.\u001b[39;00m\u001b[38;5;21;01mpyplot\u001b[39;00m \u001b[38;5;28;01mas\u001b[39;00m \u001b[38;5;21;01mplt\u001b[39;00m\n\u001b[1;32m      9\u001b[0m \u001b[38;5;28;01mimport\u001b[39;00m \u001b[38;5;21;01mnumpy\u001b[39;00m \u001b[38;5;28;01mas\u001b[39;00m \u001b[38;5;21;01mnp\u001b[39;00m\n\u001b[0;32m---> 10\u001b[0m \u001b[38;5;28;01mimport\u001b[39;00m \u001b[38;5;21;01mtensorflow\u001b[39;00m \u001b[38;5;28;01mas\u001b[39;00m \u001b[38;5;21;01mtf\u001b[39;00m\n\u001b[1;32m     11\u001b[0m \u001b[38;5;28;01mfrom\u001b[39;00m \u001b[38;5;21;01mtensorflow\u001b[39;00m\u001b[38;5;21;01m.\u001b[39;00m\u001b[38;5;21;01mkeras\u001b[39;00m\u001b[38;5;21;01m.\u001b[39;00m\u001b[38;5;21;01mmodels\u001b[39;00m \u001b[38;5;28;01mimport\u001b[39;00m Sequential\n\u001b[1;32m     12\u001b[0m \u001b[38;5;28;01mfrom\u001b[39;00m \u001b[38;5;21;01mtensorflow\u001b[39;00m\u001b[38;5;21;01m.\u001b[39;00m\u001b[38;5;21;01mkeras\u001b[39;00m\u001b[38;5;21;01m.\u001b[39;00m\u001b[38;5;21;01mlayers\u001b[39;00m \u001b[38;5;28;01mimport\u001b[39;00m Dense\n",
            "\u001b[0;31mModuleNotFoundError\u001b[0m: No module named 'tensorflow'"
          ]
        }
      ],
      "source": [
        "# Ejemplo de regresión con dataset no lineal (Friedman #1)\n",
        "\n",
        "from sklearn.datasets import make_friedman1\n",
        "from sklearn.model_selection import train_test_split\n",
        "from sklearn.preprocessing import StandardScaler\n",
        "from sklearn.linear_model import LinearRegression\n",
        "from sklearn.metrics import mean_squared_error, r2_score\n",
        "import matplotlib.pyplot as plt\n",
        "import numpy as np\n",
        "import tensorflow as tf\n",
        "from tensorflow.keras.models import Sequential\n",
        "from tensorflow.keras.layers import Dense"
      ]
    },
    {
      "cell_type": "code",
      "execution_count": null,
      "id": "8d884649-73d7-4b74-ba40-9c4d3f5c3ec5",
      "metadata": {
        "id": "8d884649-73d7-4b74-ba40-9c4d3f5c3ec5"
      },
      "outputs": [],
      "source": [
        "# 1. Crear datos\n",
        "X, y = make_friedman1(n_samples=1000, n_features=10, noise=1.0, random_state=42)"
      ]
    },
    {
      "cell_type": "code",
      "execution_count": null,
      "id": "b6694e1a-0559-4ae9-926b-1a4f787fa4ed",
      "metadata": {
        "id": "b6694e1a-0559-4ae9-926b-1a4f787fa4ed"
      },
      "outputs": [],
      "source": [
        "# 2. Dividir y escalar\n",
        "X_train, X_test, y_train, y_test = train_test_split(X, y, test_size=0.3, random_state=42)\n",
        "scaler = StandardScaler()\n",
        "X_train_scaled = scaler.fit_transform(X_train)\n",
        "X_test_scaled  = scaler.transform(X_test)"
      ]
    },
    {
      "cell_type": "code",
      "execution_count": null,
      "id": "d6b57541-bfab-457c-ab31-679347e2415a",
      "metadata": {
        "id": "d6b57541-bfab-457c-ab31-679347e2415a"
      },
      "outputs": [],
      "source": [
        "# 3. Modelo base: regresión lineal\n",
        "lr = LinearRegression()\n",
        "lr.fit(X_train_scaled, y_train)\n",
        "y_pred_lr = lr.predict(X_test_scaled)\n",
        "print(\"Regresión Lineal - MSE:\", mean_squared_error(y_test, y_pred_lr))\n",
        "print(\"Regresión Lineal - R2:\", r2_score(y_test, y_pred_lr))"
      ]
    },
    {
      "cell_type": "code",
      "execution_count": null,
      "id": "bc9886d4-1e99-4435-ae72-8de992441653",
      "metadata": {
        "id": "bc9886d4-1e99-4435-ae72-8de992441653"
      },
      "outputs": [],
      "source": [
        "# 4. Red neuronal con Keras\n",
        "model = Sequential([\n",
        "    Dense(64, activation='relu', input_shape=(X_train_scaled.shape[1],)),\n",
        "    Dense(32, activation='relu'),\n",
        "    Dense(1)  # regresión: una salida\n",
        "])\n",
        "\n",
        "model.compile(optimizer='adam', loss='mse', metrics=['mae'])\n",
        "\n",
        "# Entrenamiento\n",
        "history = model.fit(X_train_scaled, y_train, epochs=100, batch_size=32,\n",
        "                    validation_split=0.2, verbose=0)\n",
        "\n",
        "# Evaluación\n",
        "mse_nn, mae_nn = model.evaluate(X_test_scaled, y_test, verbose=0)\n",
        "y_pred_nn = model.predict(X_test_scaled).flatten()\n",
        "print(\"Red Neuronal - MSE:\", mse_nn)\n",
        "print(\"Red Neuronal - R2:\", r2_score(y_test, y_pred_nn))"
      ]
    },
    {
      "cell_type": "code",
      "execution_count": null,
      "id": "883822a4-f0f9-4d32-b6d2-c855b0b62d39",
      "metadata": {
        "id": "883822a4-f0f9-4d32-b6d2-c855b0b62d39"
      },
      "outputs": [],
      "source": [
        "# 5. Comparación gráfica\n",
        "plt.figure(figsize=(12,5))\n",
        "\n",
        "plt.subplot(1,2,1)\n",
        "plt.scatter(y_test, y_pred_lr, alpha=0.5)\n",
        "plt.plot([y_test.min(), y_test.max()], [y_test.min(), y_test.max()], 'k--')\n",
        "plt.title(\"Lineal: Predicción vs Real\")\n",
        "plt.xlabel(\"y real\")\n",
        "plt.ylabel(\"y predicho\")\n",
        "\n",
        "plt.subplot(1,2,2)\n",
        "plt.scatter(y_test, y_pred_nn, alpha=0.5, color='orange')\n",
        "plt.plot([y_test.min(), y_test.max()], [y_test.min(), y_test.max()], 'k--')\n",
        "plt.title(\"NN: Predicción vs Real\")\n",
        "plt.xlabel(\"y real\")\n",
        "plt.ylabel(\"y predicho\")\n",
        "\n",
        "plt.tight_layout()\n",
        "plt.show()"
      ]
    },
    {
      "cell_type": "code",
      "execution_count": null,
      "id": "ca31a971-8ae5-401c-9326-c6be79ad6459",
      "metadata": {
        "id": "ca31a971-8ae5-401c-9326-c6be79ad6459"
      },
      "outputs": [],
      "source": [
        "# 6. Curva de pérdida\n",
        "plt.plot(history.history['loss'], label='Entrenamiento')\n",
        "plt.plot(history.history['val_loss'], label='Validación')\n",
        "plt.title(\"Curva de pérdida (MSE)\")\n",
        "plt.xlabel(\"Epoch\")\n",
        "plt.ylabel(\"Loss\")\n",
        "plt.legend()\n",
        "plt.grid(True)\n",
        "plt.show()"
      ]
    }
  ],
  "metadata": {
    "kernelspec": {
      "display_name": "Python 3 (ipykernel)",
      "language": "python",
      "name": "python3"
    },
    "language_info": {
      "codemirror_mode": {
        "name": "ipython",
        "version": 3
      },
      "file_extension": ".py",
      "mimetype": "text/x-python",
      "name": "python",
      "nbconvert_exporter": "python",
      "pygments_lexer": "ipython3",
      "version": "3.13.2"
    },
    "colab": {
      "provenance": [],
      "include_colab_link": true
    }
  },
  "nbformat": 4,
  "nbformat_minor": 5
}