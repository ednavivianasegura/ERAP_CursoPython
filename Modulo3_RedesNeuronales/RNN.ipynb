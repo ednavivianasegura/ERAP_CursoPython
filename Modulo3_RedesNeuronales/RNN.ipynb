{
  "nbformat": 4,
  "nbformat_minor": 0,
  "metadata": {
    "colab": {
      "provenance": [],
      "gpuType": "T4",
      "authorship_tag": "ABX9TyPuqW2e5nwugrpF66dBfDc0",
      "include_colab_link": true
    },
    "kernelspec": {
      "name": "python3",
      "display_name": "Python 3"
    },
    "language_info": {
      "name": "python"
    },
    "accelerator": "GPU"
  },
  "cells": [
    {
      "cell_type": "markdown",
      "metadata": {
        "id": "view-in-github",
        "colab_type": "text"
      },
      "source": [
        "<a href=\"https://colab.research.google.com/github/ednavivianasegura/ERAP_CursoPython/blob/main/Modulo3_RedesNeuronales/RNN.ipynb\" target=\"_parent\"><img src=\"https://colab.research.google.com/assets/colab-badge.svg\" alt=\"Open In Colab\"/></a>"
      ]
    },
    {
      "cell_type": "markdown",
      "source": [
        "**Autores:** Edna Viviana Segura Alvarado - Hans Mauricio Carrillo Hernández\n",
        "\n",
        "**Institución:** Universidad de la Rioja\n",
        "\n",
        "**Fecha:** Junio/2025\n",
        "\n",
        "**Redes neuronales recurrentes (RNN)**\n",
        "\n",
        "\n",
        "Nota: basado en [RNN_C](https://www.datacamp.com/es/tutorial/tutorial-for-recurrent-neural-networks)\n"
      ],
      "metadata": {
        "id": "df4SwpVU5rnw"
      }
    },
    {
      "cell_type": "markdown",
      "source": [
        "#Redes Neuronales Recurrentes (RNN)  \n",
        "\n",
        "Las **Redes Neuronales Recurrentes (RNN)** son un tipo de red neuronal artificial diseñada para trabajar con datos secuenciales (como texto, series temporales o audio). A diferencia de las redes neuronales tradicionales, las RNN mantienen una **memoria interna** que les permite recordar información de pasos anteriores, lo que las hace ideales para:  \n",
        "\n",
        "- Predicción de valores financieros.  \n",
        "- Generación de texto (traducción, resúmenes).  \n",
        "- Procesamiento de voz (ej.: Siri, Google Voice Search).  \n",
        "\n",
        "#### Características clave:  \n",
        "1. **Dependencia secuencial**: la salida en el paso `t` depende de las entradas anteriores (`t-1`, `t-2`, ...).  \n",
        "2. **Compartición de parámetros**: usan los mismos pesos en todas las capas (eficiencia computacional).  \n",
        "3. **Ajuste durante el entrenamiento**: los pesos y sesgos se optimizan mediante backpropagation a través del tiempo (BPTT).  \n",
        "\n",
        "#### vs. Redes Feed-Forward:  \n",
        "| **RNN** | **Feed-Forward** |  \n",
        "|---------|------------------|  \n",
        "| Memoria interna (estado oculto) | Sin memoria |  \n",
        "| Salidas dependientes | Salidas independientes |  \n",
        "| Ideal para secuencias | Ideal para datos estáticos |  \n"
      ],
      "metadata": {
        "id": "VqzEQFURg1Rh"
      }
    },
    {
      "cell_type": "markdown",
      "source": [
        "<center>\n",
        " <img src=\"https://github.com/ednavivianasegura/AccesoImages/blob/main/RNN/1.png?raw=true\" alt=\"1\" width=\"50%\" height=\"50%\">  \n",
        "</center>"
      ],
      "metadata": {
        "id": "pjwAVH53hgp4"
      }
    },
    {
      "cell_type": "markdown",
      "source": [
        "## Funcionamiento de las Redes Neuronales Recurrentes (RNN)\n",
        "\n",
        "\n",
        "Las RNN procesan información secuencial mediante bucles recurrentes, donde cada salida depende tanto de la entrada actual como de las anteriores. Este mecanismo les permite \"recordar\" patrones temporales, algo imposible en redes neuronales tradicionales.\n",
        "\n",
        "**Arquitectura clave:**\n",
        "\n",
        "<center>\n",
        " <img src=\"https://github.com/ednavivianasegura/AccesoImages/blob/main/RNN/2.png?raw=true\" alt=\"2\" width=\"20%\" height=\"5%\">  \n",
        "</center>\n",
        "\n",
        "* Capa de entrada (X): recibe los datos (ej.: palabras, valores temporales).\n",
        "\n",
        "* Capa oculta (A):\n",
        "\n",
        "comparte los mismos parámetros (pesos y sesgos) en todos los pasos de tiempo.\n",
        "\n",
        "Usa funciones de activación (como tanh o ReLU) para transformar los datos.\n",
        "\n",
        "* Bucle recurrente: el estado oculto se retroalimenta, combinando información nueva con la pasada.\n",
        "\n",
        "### Entrenamiento: Backpropagation Through Time (BPTT)\n",
        "\n",
        "Diferencias con backpropagation tradicional:\n",
        "\n",
        "* BPTT calcula gradientes a lo largo de la secuencia temporal, sumando errores en cada paso.\n",
        "\n",
        "* Optimiza parámetros compartidos, lo que reduce la complejidad computacional."
      ],
      "metadata": {
        "id": "Z3DXa4-GmmJK"
      }
    },
    {
      "cell_type": "markdown",
      "source": [
        "### Tipos de RNN y sus aplicaciones\n",
        "\n",
        "Gracias a su flexibilidad en longitudes de entrada/salida, las RNN destacan en tareas secuenciales:\n",
        "\n",
        "## Tabla Comparativa: Tipos de RNN y sus Aplicaciones\n",
        "\n",
        "| Tipo de RNN        | Estructura          | Ejemplo de Aplicación      | Caso de Uso Concreto               | Framework Implementación |\n",
        "|--------------------|---------------------|---------------------------|------------------------------------|--------------------------|\n",
        "| **Uno-a-Uno**      | `x → h → y`         | Clasificación de imágenes | MNIST/CIFAR-10                     | `torch.nn.RNN`           |\n",
        "| **Uno-a-Muchos**   | `x → h → [y₁...yₙ]` | Generación de música      | Composición de melodías MIDI       | `tf.keras.SimpleRNN`     |\n",
        "| **Muchos-a-Uno**   | `[x₁...xₙ] → h → y` | Análisis de sentimiento   | Clasificación de reseñas en Amazon | `nn.RNN` (PyTorch)       |\n",
        "| **Muchos-a-Muchos**| `[x₁...xₙ] → h → [y₁...yₙ]` | Traducción automática | Seq2Seq (Inglés-Español)          | `tf.keras.LSTM`          |"
      ],
      "metadata": {
        "id": "_Bf-GNifoN0s"
      }
    },
    {
      "cell_type": "markdown",
      "source": [
        "<center>\n",
        " <img src=\"https://github.com/ednavivianasegura/AccesoImages/blob/main/RNN/3.png?raw=true\" alt=\"3\" width=\"50%\" height=\"50%\">  \n",
        "</center>"
      ],
      "metadata": {
        "id": "dXw60Jqpog-I"
      }
    },
    {
      "cell_type": "markdown",
      "source": [
        "### Comparativa: Redes Neuronales Convolucionales (CNN) vs. Recurrentes (RNN)\n",
        "\n",
        "**Redes Neuronales Convolucionales (CNN)**\n",
        "\n",
        "<center>\n",
        " <img src=\"https://github.com/ednavivianasegura/AccesoImages/blob/main/RNN/4.png?raw=true\" alt=\"4\" width=\"50%\" height=\"50%\">  \n",
        "</center>\n",
        "\n",
        "**Arquitectura típica:**\n",
        "\n",
        "\n",
        "```\n",
        "Conv2D → ReLU → MaxPooling → Flatten → Dense\n",
        "```\n",
        "\n",
        "**Aplicaciones principales:**\n",
        "\n",
        "\n",
        "* Clasificación de imágenes (ej: MNIST, ImageNet)\n",
        "\n",
        "* Procesamiento de video\n",
        "\n",
        "* Detección de objetos\n",
        "\n",
        "**Ventajas clave:**\n",
        "\n",
        "* Captura patrones espaciales mediante filtros convolucionales\n",
        "\n",
        "* Invariante a traslaciones en imágenes\n",
        "\n",
        "* Eficiente para datos grid-like (píxeles)\n",
        "\n",
        "**Redes Neuronales Recurrentes (RNN)**\n",
        "\n",
        "**Arquitectura típica:**\n",
        "\n",
        "\n",
        "\n",
        "```\n",
        "RNNCell → Tanh → Dense\n",
        "```\n",
        "\n",
        "**Aplicaciones principales:**\n",
        "\n",
        "* Procesamiento de lenguaje natural\n",
        "\n",
        "* Análisis de series temporales\n",
        "\n",
        "* Traducción automática\n",
        "\n",
        "\n",
        "### Comparativa CNN vs RNN (Formato Notebook)\n",
        "\n",
        "\n",
        "\n",
        "| Característica          | CNN                          | RNN                          |\n",
        "|-------------------------|------------------------------|------------------------------|\n",
        "| **Tipo de datos**       | Datos espaciales (imágenes)  | Datos secuenciales (texto/series) |\n",
        "| **Arquitectura**        | Capas convolucionales        | Bucles recurrentes           |\n",
        "| **Mecanismo**          | Filtros para patrones locales| Memoria de estados anteriores|\n",
        "| **Backpropagation**    | Backprop estándar            | BPTT (Through Time)          |\n",
        "| **Longitud E/S**       | Tamaño fijo                  | Longitud variable            |\n",
        "| **Ejemplo típico**     | ResNet (clasificación)       | LSTM (traducción)            |\n",
        "| **Ventaja clave**      | Invariante a traslaciones    | Modela dependencias temporales|\n",
        "| **Limitación**         | Requiere mucho dato          | Problemas de gradiente       |\n",
        "\n",
        "\n",
        "### Arquitecturas RNN Avanzadas\n",
        "LSTM (Long Short-Term Memory)\n",
        "\n",
        "<center>\n",
        " <img src=\"https://github.com/ednavivianasegura/AccesoImages/blob/main/RNN/5.png?raw=true\" alt=\"5\" width=\"50%\" height=\"50%\">  \n",
        "</center>\n",
        "\n",
        "**Ventajas:**\n",
        "\n",
        "* Memoria a largo plazo\n",
        "\n",
        "* Evita problemas de gradiente\n",
        "\n",
        "* GRU (Gated Recurrent Unit)\n",
        "\n",
        "**Diferencias clave vs LSTM:**\n",
        "\n",
        "* Menos parámetros\n",
        "\n",
        "* Combina forget/input gates\n",
        "\n",
        "* Similar rendimiento en muchos casos\n",
        "\n"
      ],
      "metadata": {
        "id": "cvio26HOqTm3"
      }
    },
    {
      "cell_type": "markdown",
      "source": [
        "# Arquitecturas Avanzadas para Modelado Secuencial\n",
        "\n",
        "## Long Short-Term Memory (LSTM)\n",
        "\n",
        "### Innovación clave:\n",
        "Las LSTMs superan las limitaciones de las RNN tradicionales mediante un **mecanismo de puertas** que regula el flujo de información, resolviendo los problemas de:\n",
        "- Desvanecimiento de gradientes\n",
        "- Explosión de gradientes\n",
        "\n",
        "**Componentes críticos:**\n",
        "\n",
        "* Puerta Forget: decide qué información descartar\n",
        "\n",
        "* Puerta Input: actualiza la memoria con datos relevantes\n",
        "\n",
        "* Puerta Output: controla qué información pasa al siguiente paso\n",
        "\n",
        "**Aplicaciones destacadas:**\n",
        "\n",
        "* Traducción automática (ej: Google Translate)\n",
        "\n",
        "* Generación de subtítulos automáticos\n",
        "\n",
        "* Predicción de series temporales financieras\n",
        "\n",
        "\n",
        "<center>\n",
        " <img src=\"https://github.com/ednavivianasegura/AccesoImages/blob/main/RNN/6.png?raw=true\" alt=\"6\" width=\"50%\" height=\"50%\">  \n",
        "</center>"
      ],
      "metadata": {
        "id": "XqC1n1dfsu02"
      }
    },
    {
      "cell_type": "markdown",
      "source": [
        "## Gated Recurrent Unit (GRU)\n",
        "\n",
        "\n",
        "<center>\n",
        " <img src=\"https://github.com/ednavivianasegura/AccesoImages/blob/main/RNN/7.png?raw=true\" alt=\"7\" width=\"50%\" height=\"50%\">  \n",
        "</center>\n",
        "\n",
        "### Evolución de las LSTM:\n",
        "\n",
        "Las GRUs simplifican la arquitectura manteniendo la eficacia, mediante:\n",
        "\n",
        "* 2 puertas fundamentales (vs 3 en LSTM)\n",
        "\n",
        "* Menor costo computacional\n",
        "\n",
        "\n",
        "| Característica       | LSTM                          | GRU                          |\n",
        "|----------------------|-------------------------------|-------------------------------|\n",
        "| **Puertas**          | 3 (Forget/Input/Output)       | 2 (Update/Reset)              |\n",
        "| **Estado**           | Celda (Cₜ) + Oculto (hₜ)      | Solo estado oculto (hₜ)       |\n",
        "| **Parámetros**       | ~30% más                       | Más eficiente                 |\n",
        "| **Velocidad**        | Más lento                     | 20-30% más rápido             |\n",
        "| **Precisión**        | Ideal para secuencias largas   | Comparable en secuencias medias |\n",
        "| **Implementación**   | `keras.layers.LSTM()`          | `keras.layers.GRU()`           |\n"
      ],
      "metadata": {
        "id": "eW3sj-TCttHf"
      }
    },
    {
      "cell_type": "markdown",
      "source": [
        "# Predicción de Precios de MasterCard usando Redes Neuronales Recurrentes\n",
        "\n",
        "## Objetivo:\n",
        "\n",
        "Desarrollar modelos predictivos para series temporales financieras utilizando arquitecturas LSTM y GRU, aplicadas al histórico de acciones de MasterCard (2006-2021).\n",
        "\n",
        "### Dataset y Metodología\n",
        "\n",
        "**Fuente de datos:**  \n",
        "[Dataset de Kaggle](https://www.kaggle.com/datasets/kalilurrahman/mastercard-stock-data-latest-and-updated) con registros diarios desde 25/05/2006 hasta 11/10/2021\n",
        "\n"
      ],
      "metadata": {
        "id": "u5jpMvpuuomj"
      }
    },
    {
      "cell_type": "code",
      "source": [
        "# @title Librerías\n",
        "\n",
        "\n",
        "# ======================\n",
        "# IMPORTACIÓN DE LIBRERÍAS\n",
        "# ======================\n",
        "# Procesamiento numérico y estructuras de datos\n",
        "import numpy as np  # Operaciones matriciales y numéricas eficientes\n",
        "import pandas as pd  # Manipulación de DataFrames y series temporales\n",
        "\n",
        "# Visualización\n",
        "import matplotlib.pyplot as plt  # Gráficos 2D y visualización de datos\n",
        "\n",
        "# Preprocesamiento y evaluación\n",
        "from sklearn.preprocessing import MinMaxScaler  # Normalización de datos [0,1]\n",
        "from sklearn.metrics import mean_squared_error  # Métrica de error cuadrático medio\n",
        "\n",
        "# Modelado con Keras\n",
        "from tensorflow.keras.models import Sequential  # Modelo secuencial API\n",
        "from tensorflow.keras.layers import (\n",
        "    Dense,        # Capas totalmente conectadas\n",
        "    LSTM,         # Long Short-Term Memory (para secuencias)\n",
        "    Dropout,      # Regularización por desactivación aleatoria\n",
        "    GRU,          # Gated Recurrent Unit (alternativa a LSTM)\n",
        "    Bidirectional # LSTM bidireccional (contexto futuro+pasado)\n",
        ")\n",
        "from tensorflow.keras.optimizers import SGD  # Optimizador Descenso Gradiente Estocástico\n",
        "from tensorflow.random import set_seed  # Control de aleatoriedad en TF\n",
        "\n",
        "# Para acceder a los datos\n",
        "import kagglehub\n",
        "import os\n",
        "import zipfile\n",
        "\n",
        "\n",
        "# ======================\n",
        "# CONFIGURACIÓN INICIAL\n",
        "# ======================\n",
        "\"\"\"\n",
        "Establecimiento de semillas para reproducibilidad:\n",
        "- TensorFlow/Keras (set_seed)\n",
        "- NumPy (np.random.seed)\n",
        "Valor 455 seleccionado arbitrariamente para consistencia\n",
        "\"\"\"\n",
        "set_seed(455)  # Semilla para generadores aleatorios de TensorFlow\n",
        "np.random.seed(455)  # Semilla para NumPy y otras librerías basadas en él\n",
        "\n"
      ],
      "metadata": {
        "id": "f3JYtwHiu_EQ"
      },
      "execution_count": 13,
      "outputs": []
    },
    {
      "cell_type": "markdown",
      "source": [
        "Este código importa las bibliotecas necesarias para el análisis de datos y las tareas de manipulación. - numpy y pandas se utilizan para la manipulación y el análisis de datos. - matplotlib se utiliza para la visualización de datos. - MinMaxScaler y mean_squared_error se utilizan para el preprocesamiento y la evaluación de datos, respectivamente. - Las clases Sequential, Dense, LSTM, Dropout, GRU, Bidirectional y SGD pertenecen al módulo tensorflow.keras, que se utiliza para construir y entrenar modelos de aprendizaje profundo. - set_seed y np.random.seed se utilizan para establecer la semilla aleatoria con fines de reproducibilidad. En general, este código configura el entorno necesario para construir y entrenar modelos de aprendizaje profundo para el análisis de series temporales."
      ],
      "metadata": {
        "id": "XN5CBeeiv0IH"
      }
    },
    {
      "cell_type": "markdown",
      "source": [
        "## Análisis inicial de datos\n",
        "\n",
        "Imoportamos los datos, añadimos la columna Date como índice y en formato DataTime. Eliminamos dos variables que son irrelevantes en nuestro análisis."
      ],
      "metadata": {
        "id": "7QyM3tV_v4ga"
      }
    },
    {
      "cell_type": "code",
      "execution_count": 21,
      "metadata": {
        "id": "qvevlZR6fqos",
        "colab": {
          "base_uri": "https://localhost:8080/",
          "height": 631
        },
        "outputId": "6eafe335-c409-4d0b-98e3-9f4c00e8aab9"
      },
      "outputs": [
        {
          "output_type": "stream",
          "name": "stdout",
          "text": [
            "Path to dataset files: /kaggle/input/mastercard-stock-data-latest-and-updated\n",
            "['Mastercard_stock_info.csv', 'Mastercard_stock_dividends.csv', 'Mastercard_stock_history.csv', 'Mastercard_stock_spilts.csv', 'Mastercard_stock_action.csv']\n",
            "                               Open      High       Low     Close     Volume\n",
            "Date                                                                        \n",
            "2006-05-25 00:00:00-04:00  3.677800  4.202548  3.668674  4.197985  395343000\n",
            "2006-05-26 00:00:00-04:00  4.225363  4.265517  4.025502  4.100336  103044000\n",
            "2006-05-30 00:00:00-04:00  4.103990  4.104902  3.910517  4.015467   49898000\n",
            "2006-05-31 00:00:00-04:00  4.047406  4.139579  4.047406  4.101250   30002000\n",
            "2006-06-01 00:00:00-04:00  4.100334  4.389630  4.097596  4.335786   62344000\n"
          ]
        },
        {
          "output_type": "display_data",
          "data": {
            "text/plain": [
              "                                 Open        High         Low       Close  \\\n",
              "Date                                                                        \n",
              "2006-05-25 00:00:00-04:00    3.677800    4.202548    3.668674    4.197985   \n",
              "2006-05-26 00:00:00-04:00    4.225363    4.265517    4.025502    4.100336   \n",
              "2006-05-30 00:00:00-04:00    4.103990    4.104902    3.910517    4.015467   \n",
              "2006-05-31 00:00:00-04:00    4.047406    4.139579    4.047406    4.101250   \n",
              "2006-06-01 00:00:00-04:00    4.100334    4.389630    4.097596    4.335786   \n",
              "...                               ...         ...         ...         ...   \n",
              "2025-03-12 00:00:00-04:00  530.510010  532.710022  519.260010  524.640015   \n",
              "2025-03-13 00:00:00-04:00  524.500000  528.530029  517.710022  519.830017   \n",
              "2025-03-14 00:00:00-04:00  522.599976  528.409973  520.950012  527.640015   \n",
              "2025-03-17 00:00:00-04:00  523.250000  533.479980  521.479980  531.989990   \n",
              "2025-03-18 00:00:00-04:00  532.340027  532.590027  525.510010  528.354980   \n",
              "\n",
              "                              Volume  \n",
              "Date                                  \n",
              "2006-05-25 00:00:00-04:00  395343000  \n",
              "2006-05-26 00:00:00-04:00  103044000  \n",
              "2006-05-30 00:00:00-04:00   49898000  \n",
              "2006-05-31 00:00:00-04:00   30002000  \n",
              "2006-06-01 00:00:00-04:00   62344000  \n",
              "...                              ...  \n",
              "2025-03-12 00:00:00-04:00    2810800  \n",
              "2025-03-13 00:00:00-04:00    2375800  \n",
              "2025-03-14 00:00:00-04:00    2369500  \n",
              "2025-03-17 00:00:00-04:00    2544800  \n",
              "2025-03-18 00:00:00-04:00     901928  \n",
              "\n",
              "[4733 rows x 5 columns]"
            ],
            "text/html": [
              "\n",
              "  <div id=\"df-5899a9a5-908d-497d-96ed-12636f766f09\" class=\"colab-df-container\">\n",
              "    <div>\n",
              "<style scoped>\n",
              "    .dataframe tbody tr th:only-of-type {\n",
              "        vertical-align: middle;\n",
              "    }\n",
              "\n",
              "    .dataframe tbody tr th {\n",
              "        vertical-align: top;\n",
              "    }\n",
              "\n",
              "    .dataframe thead th {\n",
              "        text-align: right;\n",
              "    }\n",
              "</style>\n",
              "<table border=\"1\" class=\"dataframe\">\n",
              "  <thead>\n",
              "    <tr style=\"text-align: right;\">\n",
              "      <th></th>\n",
              "      <th>Open</th>\n",
              "      <th>High</th>\n",
              "      <th>Low</th>\n",
              "      <th>Close</th>\n",
              "      <th>Volume</th>\n",
              "    </tr>\n",
              "    <tr>\n",
              "      <th>Date</th>\n",
              "      <th></th>\n",
              "      <th></th>\n",
              "      <th></th>\n",
              "      <th></th>\n",
              "      <th></th>\n",
              "    </tr>\n",
              "  </thead>\n",
              "  <tbody>\n",
              "    <tr>\n",
              "      <th>2006-05-25 00:00:00-04:00</th>\n",
              "      <td>3.677800</td>\n",
              "      <td>4.202548</td>\n",
              "      <td>3.668674</td>\n",
              "      <td>4.197985</td>\n",
              "      <td>395343000</td>\n",
              "    </tr>\n",
              "    <tr>\n",
              "      <th>2006-05-26 00:00:00-04:00</th>\n",
              "      <td>4.225363</td>\n",
              "      <td>4.265517</td>\n",
              "      <td>4.025502</td>\n",
              "      <td>4.100336</td>\n",
              "      <td>103044000</td>\n",
              "    </tr>\n",
              "    <tr>\n",
              "      <th>2006-05-30 00:00:00-04:00</th>\n",
              "      <td>4.103990</td>\n",
              "      <td>4.104902</td>\n",
              "      <td>3.910517</td>\n",
              "      <td>4.015467</td>\n",
              "      <td>49898000</td>\n",
              "    </tr>\n",
              "    <tr>\n",
              "      <th>2006-05-31 00:00:00-04:00</th>\n",
              "      <td>4.047406</td>\n",
              "      <td>4.139579</td>\n",
              "      <td>4.047406</td>\n",
              "      <td>4.101250</td>\n",
              "      <td>30002000</td>\n",
              "    </tr>\n",
              "    <tr>\n",
              "      <th>2006-06-01 00:00:00-04:00</th>\n",
              "      <td>4.100334</td>\n",
              "      <td>4.389630</td>\n",
              "      <td>4.097596</td>\n",
              "      <td>4.335786</td>\n",
              "      <td>62344000</td>\n",
              "    </tr>\n",
              "    <tr>\n",
              "      <th>...</th>\n",
              "      <td>...</td>\n",
              "      <td>...</td>\n",
              "      <td>...</td>\n",
              "      <td>...</td>\n",
              "      <td>...</td>\n",
              "    </tr>\n",
              "    <tr>\n",
              "      <th>2025-03-12 00:00:00-04:00</th>\n",
              "      <td>530.510010</td>\n",
              "      <td>532.710022</td>\n",
              "      <td>519.260010</td>\n",
              "      <td>524.640015</td>\n",
              "      <td>2810800</td>\n",
              "    </tr>\n",
              "    <tr>\n",
              "      <th>2025-03-13 00:00:00-04:00</th>\n",
              "      <td>524.500000</td>\n",
              "      <td>528.530029</td>\n",
              "      <td>517.710022</td>\n",
              "      <td>519.830017</td>\n",
              "      <td>2375800</td>\n",
              "    </tr>\n",
              "    <tr>\n",
              "      <th>2025-03-14 00:00:00-04:00</th>\n",
              "      <td>522.599976</td>\n",
              "      <td>528.409973</td>\n",
              "      <td>520.950012</td>\n",
              "      <td>527.640015</td>\n",
              "      <td>2369500</td>\n",
              "    </tr>\n",
              "    <tr>\n",
              "      <th>2025-03-17 00:00:00-04:00</th>\n",
              "      <td>523.250000</td>\n",
              "      <td>533.479980</td>\n",
              "      <td>521.479980</td>\n",
              "      <td>531.989990</td>\n",
              "      <td>2544800</td>\n",
              "    </tr>\n",
              "    <tr>\n",
              "      <th>2025-03-18 00:00:00-04:00</th>\n",
              "      <td>532.340027</td>\n",
              "      <td>532.590027</td>\n",
              "      <td>525.510010</td>\n",
              "      <td>528.354980</td>\n",
              "      <td>901928</td>\n",
              "    </tr>\n",
              "  </tbody>\n",
              "</table>\n",
              "<p>4733 rows × 5 columns</p>\n",
              "</div>\n",
              "    <div class=\"colab-df-buttons\">\n",
              "\n",
              "  <div class=\"colab-df-container\">\n",
              "    <button class=\"colab-df-convert\" onclick=\"convertToInteractive('df-5899a9a5-908d-497d-96ed-12636f766f09')\"\n",
              "            title=\"Convert this dataframe to an interactive table.\"\n",
              "            style=\"display:none;\">\n",
              "\n",
              "  <svg xmlns=\"http://www.w3.org/2000/svg\" height=\"24px\" viewBox=\"0 -960 960 960\">\n",
              "    <path d=\"M120-120v-720h720v720H120Zm60-500h600v-160H180v160Zm220 220h160v-160H400v160Zm0 220h160v-160H400v160ZM180-400h160v-160H180v160Zm440 0h160v-160H620v160ZM180-180h160v-160H180v160Zm440 0h160v-160H620v160Z\"/>\n",
              "  </svg>\n",
              "    </button>\n",
              "\n",
              "  <style>\n",
              "    .colab-df-container {\n",
              "      display:flex;\n",
              "      gap: 12px;\n",
              "    }\n",
              "\n",
              "    .colab-df-convert {\n",
              "      background-color: #E8F0FE;\n",
              "      border: none;\n",
              "      border-radius: 50%;\n",
              "      cursor: pointer;\n",
              "      display: none;\n",
              "      fill: #1967D2;\n",
              "      height: 32px;\n",
              "      padding: 0 0 0 0;\n",
              "      width: 32px;\n",
              "    }\n",
              "\n",
              "    .colab-df-convert:hover {\n",
              "      background-color: #E2EBFA;\n",
              "      box-shadow: 0px 1px 2px rgba(60, 64, 67, 0.3), 0px 1px 3px 1px rgba(60, 64, 67, 0.15);\n",
              "      fill: #174EA6;\n",
              "    }\n",
              "\n",
              "    .colab-df-buttons div {\n",
              "      margin-bottom: 4px;\n",
              "    }\n",
              "\n",
              "    [theme=dark] .colab-df-convert {\n",
              "      background-color: #3B4455;\n",
              "      fill: #D2E3FC;\n",
              "    }\n",
              "\n",
              "    [theme=dark] .colab-df-convert:hover {\n",
              "      background-color: #434B5C;\n",
              "      box-shadow: 0px 1px 3px 1px rgba(0, 0, 0, 0.15);\n",
              "      filter: drop-shadow(0px 1px 2px rgba(0, 0, 0, 0.3));\n",
              "      fill: #FFFFFF;\n",
              "    }\n",
              "  </style>\n",
              "\n",
              "    <script>\n",
              "      const buttonEl =\n",
              "        document.querySelector('#df-5899a9a5-908d-497d-96ed-12636f766f09 button.colab-df-convert');\n",
              "      buttonEl.style.display =\n",
              "        google.colab.kernel.accessAllowed ? 'block' : 'none';\n",
              "\n",
              "      async function convertToInteractive(key) {\n",
              "        const element = document.querySelector('#df-5899a9a5-908d-497d-96ed-12636f766f09');\n",
              "        const dataTable =\n",
              "          await google.colab.kernel.invokeFunction('convertToInteractive',\n",
              "                                                    [key], {});\n",
              "        if (!dataTable) return;\n",
              "\n",
              "        const docLinkHtml = 'Like what you see? Visit the ' +\n",
              "          '<a target=\"_blank\" href=https://colab.research.google.com/notebooks/data_table.ipynb>data table notebook</a>'\n",
              "          + ' to learn more about interactive tables.';\n",
              "        element.innerHTML = '';\n",
              "        dataTable['output_type'] = 'display_data';\n",
              "        await google.colab.output.renderOutput(dataTable, element);\n",
              "        const docLink = document.createElement('div');\n",
              "        docLink.innerHTML = docLinkHtml;\n",
              "        element.appendChild(docLink);\n",
              "      }\n",
              "    </script>\n",
              "  </div>\n",
              "\n",
              "\n",
              "    <div id=\"df-6f529271-486f-45db-9098-1a6484424325\">\n",
              "      <button class=\"colab-df-quickchart\" onclick=\"quickchart('df-6f529271-486f-45db-9098-1a6484424325')\"\n",
              "                title=\"Suggest charts\"\n",
              "                style=\"display:none;\">\n",
              "\n",
              "<svg xmlns=\"http://www.w3.org/2000/svg\" height=\"24px\"viewBox=\"0 0 24 24\"\n",
              "     width=\"24px\">\n",
              "    <g>\n",
              "        <path d=\"M19 3H5c-1.1 0-2 .9-2 2v14c0 1.1.9 2 2 2h14c1.1 0 2-.9 2-2V5c0-1.1-.9-2-2-2zM9 17H7v-7h2v7zm4 0h-2V7h2v10zm4 0h-2v-4h2v4z\"/>\n",
              "    </g>\n",
              "</svg>\n",
              "      </button>\n",
              "\n",
              "<style>\n",
              "  .colab-df-quickchart {\n",
              "      --bg-color: #E8F0FE;\n",
              "      --fill-color: #1967D2;\n",
              "      --hover-bg-color: #E2EBFA;\n",
              "      --hover-fill-color: #174EA6;\n",
              "      --disabled-fill-color: #AAA;\n",
              "      --disabled-bg-color: #DDD;\n",
              "  }\n",
              "\n",
              "  [theme=dark] .colab-df-quickchart {\n",
              "      --bg-color: #3B4455;\n",
              "      --fill-color: #D2E3FC;\n",
              "      --hover-bg-color: #434B5C;\n",
              "      --hover-fill-color: #FFFFFF;\n",
              "      --disabled-bg-color: #3B4455;\n",
              "      --disabled-fill-color: #666;\n",
              "  }\n",
              "\n",
              "  .colab-df-quickchart {\n",
              "    background-color: var(--bg-color);\n",
              "    border: none;\n",
              "    border-radius: 50%;\n",
              "    cursor: pointer;\n",
              "    display: none;\n",
              "    fill: var(--fill-color);\n",
              "    height: 32px;\n",
              "    padding: 0;\n",
              "    width: 32px;\n",
              "  }\n",
              "\n",
              "  .colab-df-quickchart:hover {\n",
              "    background-color: var(--hover-bg-color);\n",
              "    box-shadow: 0 1px 2px rgba(60, 64, 67, 0.3), 0 1px 3px 1px rgba(60, 64, 67, 0.15);\n",
              "    fill: var(--button-hover-fill-color);\n",
              "  }\n",
              "\n",
              "  .colab-df-quickchart-complete:disabled,\n",
              "  .colab-df-quickchart-complete:disabled:hover {\n",
              "    background-color: var(--disabled-bg-color);\n",
              "    fill: var(--disabled-fill-color);\n",
              "    box-shadow: none;\n",
              "  }\n",
              "\n",
              "  .colab-df-spinner {\n",
              "    border: 2px solid var(--fill-color);\n",
              "    border-color: transparent;\n",
              "    border-bottom-color: var(--fill-color);\n",
              "    animation:\n",
              "      spin 1s steps(1) infinite;\n",
              "  }\n",
              "\n",
              "  @keyframes spin {\n",
              "    0% {\n",
              "      border-color: transparent;\n",
              "      border-bottom-color: var(--fill-color);\n",
              "      border-left-color: var(--fill-color);\n",
              "    }\n",
              "    20% {\n",
              "      border-color: transparent;\n",
              "      border-left-color: var(--fill-color);\n",
              "      border-top-color: var(--fill-color);\n",
              "    }\n",
              "    30% {\n",
              "      border-color: transparent;\n",
              "      border-left-color: var(--fill-color);\n",
              "      border-top-color: var(--fill-color);\n",
              "      border-right-color: var(--fill-color);\n",
              "    }\n",
              "    40% {\n",
              "      border-color: transparent;\n",
              "      border-right-color: var(--fill-color);\n",
              "      border-top-color: var(--fill-color);\n",
              "    }\n",
              "    60% {\n",
              "      border-color: transparent;\n",
              "      border-right-color: var(--fill-color);\n",
              "    }\n",
              "    80% {\n",
              "      border-color: transparent;\n",
              "      border-right-color: var(--fill-color);\n",
              "      border-bottom-color: var(--fill-color);\n",
              "    }\n",
              "    90% {\n",
              "      border-color: transparent;\n",
              "      border-bottom-color: var(--fill-color);\n",
              "    }\n",
              "  }\n",
              "</style>\n",
              "\n",
              "      <script>\n",
              "        async function quickchart(key) {\n",
              "          const quickchartButtonEl =\n",
              "            document.querySelector('#' + key + ' button');\n",
              "          quickchartButtonEl.disabled = true;  // To prevent multiple clicks.\n",
              "          quickchartButtonEl.classList.add('colab-df-spinner');\n",
              "          try {\n",
              "            const charts = await google.colab.kernel.invokeFunction(\n",
              "                'suggestCharts', [key], {});\n",
              "          } catch (error) {\n",
              "            console.error('Error during call to suggestCharts:', error);\n",
              "          }\n",
              "          quickchartButtonEl.classList.remove('colab-df-spinner');\n",
              "          quickchartButtonEl.classList.add('colab-df-quickchart-complete');\n",
              "        }\n",
              "        (() => {\n",
              "          let quickchartButtonEl =\n",
              "            document.querySelector('#df-6f529271-486f-45db-9098-1a6484424325 button');\n",
              "          quickchartButtonEl.style.display =\n",
              "            google.colab.kernel.accessAllowed ? 'block' : 'none';\n",
              "        })();\n",
              "      </script>\n",
              "    </div>\n",
              "\n",
              "  <div id=\"id_36c9336b-3a3d-4774-bf90-037d17f4e7f1\">\n",
              "    <style>\n",
              "      .colab-df-generate {\n",
              "        background-color: #E8F0FE;\n",
              "        border: none;\n",
              "        border-radius: 50%;\n",
              "        cursor: pointer;\n",
              "        display: none;\n",
              "        fill: #1967D2;\n",
              "        height: 32px;\n",
              "        padding: 0 0 0 0;\n",
              "        width: 32px;\n",
              "      }\n",
              "\n",
              "      .colab-df-generate:hover {\n",
              "        background-color: #E2EBFA;\n",
              "        box-shadow: 0px 1px 2px rgba(60, 64, 67, 0.3), 0px 1px 3px 1px rgba(60, 64, 67, 0.15);\n",
              "        fill: #174EA6;\n",
              "      }\n",
              "\n",
              "      [theme=dark] .colab-df-generate {\n",
              "        background-color: #3B4455;\n",
              "        fill: #D2E3FC;\n",
              "      }\n",
              "\n",
              "      [theme=dark] .colab-df-generate:hover {\n",
              "        background-color: #434B5C;\n",
              "        box-shadow: 0px 1px 3px 1px rgba(0, 0, 0, 0.15);\n",
              "        filter: drop-shadow(0px 1px 2px rgba(0, 0, 0, 0.3));\n",
              "        fill: #FFFFFF;\n",
              "      }\n",
              "    </style>\n",
              "    <button class=\"colab-df-generate\" onclick=\"generateWithVariable('dataset')\"\n",
              "            title=\"Generate code using this dataframe.\"\n",
              "            style=\"display:none;\">\n",
              "\n",
              "  <svg xmlns=\"http://www.w3.org/2000/svg\" height=\"24px\"viewBox=\"0 0 24 24\"\n",
              "       width=\"24px\">\n",
              "    <path d=\"M7,19H8.4L18.45,9,17,7.55,7,17.6ZM5,21V16.75L18.45,3.32a2,2,0,0,1,2.83,0l1.4,1.43a1.91,1.91,0,0,1,.58,1.4,1.91,1.91,0,0,1-.58,1.4L9.25,21ZM18.45,9,17,7.55Zm-12,3A5.31,5.31,0,0,0,4.9,8.1,5.31,5.31,0,0,0,1,6.5,5.31,5.31,0,0,0,4.9,4.9,5.31,5.31,0,0,0,6.5,1,5.31,5.31,0,0,0,8.1,4.9,5.31,5.31,0,0,0,12,6.5,5.46,5.46,0,0,0,6.5,12Z\"/>\n",
              "  </svg>\n",
              "    </button>\n",
              "    <script>\n",
              "      (() => {\n",
              "      const buttonEl =\n",
              "        document.querySelector('#id_36c9336b-3a3d-4774-bf90-037d17f4e7f1 button.colab-df-generate');\n",
              "      buttonEl.style.display =\n",
              "        google.colab.kernel.accessAllowed ? 'block' : 'none';\n",
              "\n",
              "      buttonEl.onclick = () => {\n",
              "        google.colab.notebook.generateWithVariable('dataset');\n",
              "      }\n",
              "      })();\n",
              "    </script>\n",
              "  </div>\n",
              "\n",
              "    </div>\n",
              "  </div>\n"
            ],
            "application/vnd.google.colaboratory.intrinsic+json": {
              "type": "dataframe",
              "variable_name": "dataset",
              "summary": "{\n  \"name\": \"dataset\",\n  \"rows\": 4733,\n  \"fields\": [\n    {\n      \"column\": \"Date\",\n      \"properties\": {\n        \"dtype\": \"string\",\n        \"num_unique_values\": 4733,\n        \"samples\": [\n          \"2015-07-27 00:00:00-04:00\",\n          \"2007-10-22 00:00:00-04:00\",\n          \"2011-12-09 00:00:00-05:00\"\n        ],\n        \"semantic_type\": \"\",\n        \"description\": \"\"\n      }\n    },\n    {\n      \"column\": \"Open\",\n      \"properties\": {\n        \"dtype\": \"number\",\n        \"std\": 151.82787281617112,\n        \"min\": 3.6778003208195167,\n        \"max\": 577.3300170898438,\n        \"num_unique_values\": 4733,\n        \"samples\": [\n          90.1298129571866,\n          13.762333265741734,\n          34.65250133862911\n        ],\n        \"semantic_type\": \"\",\n        \"description\": \"\"\n      }\n    },\n    {\n      \"column\": \"High\",\n      \"properties\": {\n        \"dtype\": \"number\",\n        \"std\": 153.18239964467574,\n        \"min\": 4.024588775510627,\n        \"max\": 582.22998046875,\n        \"num_unique_values\": 4732,\n        \"samples\": [\n          230.4879284043676,\n          14.100909643958024,\n          353.5781569084332\n        ],\n        \"semantic_type\": \"\",\n        \"description\": \"\"\n      }\n    },\n    {\n      \"column\": \"Low\",\n      \"properties\": {\n        \"dtype\": \"number\",\n        \"std\": 150.43322398290462,\n        \"min\": 3.6686740570291647,\n        \"max\": 570.0,\n        \"num_unique_values\": 4732,\n        \"samples\": [\n          227.6304509696197,\n          13.337508181138189,\n          351.0578469413886\n        ],\n        \"semantic_type\": \"\",\n        \"description\": \"\"\n      }\n    },\n    {\n      \"column\": \"Close\",\n      \"properties\": {\n        \"dtype\": \"number\",\n        \"std\": 151.8466663855137,\n        \"min\": 4.006336688995361,\n        \"max\": 576.3099975585938,\n        \"num_unique_values\": 4655,\n        \"samples\": [\n          44.78754425048828,\n          22.808103561401367,\n          84.18679809570312\n        ],\n        \"semantic_type\": \"\",\n        \"description\": \"\"\n      }\n    },\n    {\n      \"column\": \"Volume\",\n      \"properties\": {\n        \"dtype\": \"number\",\n        \"std\": 16329908,\n        \"min\": 641100,\n        \"max\": 395343000,\n        \"num_unique_values\": 4583,\n        \"samples\": [\n          12410000,\n          2484200,\n          5006000\n        ],\n        \"semantic_type\": \"\",\n        \"description\": \"\"\n      }\n    }\n  ]\n}"
            }
          },
          "metadata": {}
        }
      ],
      "source": [
        "# Download latest version\n",
        "path = kagglehub.dataset_download(\"kalilurrahman/mastercard-stock-data-latest-and-updated\")\n",
        "\n",
        "print(\"Path to dataset files:\", path)\n",
        "\n",
        "print(os.listdir(path))\n",
        "\n",
        "# Construir la ruta completa al archivo deseado\n",
        "history_path = os.path.join(path, 'Mastercard_stock_history.csv')\n",
        "\n",
        "dataset = pd.read_csv(\n",
        "    history_path, index_col=\"Date\", parse_dates=[\"Date\"]\n",
        ").drop([\"Dividends\", \"Stock Splits\"], axis=1)\n",
        "print(dataset.head())\n",
        "\n",
        "display(dataset)\n",
        "\n",
        "\n"
      ]
    },
    {
      "cell_type": "markdown",
      "source": [
        "Este código lee un archivo CSV llamado \"Mastercard_stock_history.csv\" directamente desde kagglehub.\n",
        "El resultado muestra los valores de Open, High, Low, Close y Volume de cada día del conjunto de datos, con la columna Date como índice."
      ],
      "metadata": {
        "id": "uXF7Rd7uzLDV"
      }
    },
    {
      "cell_type": "markdown",
      "source": [
        "La función .describe() sirve para analizar los datos iniciales.\n",
        "\n",
        "Nos centraremos en la columna High, ya que vamos a utilizarla para entrenar el modelo.\n",
        "También se pueden elegir las columnas Close u Open para una característica del modelo, pero High tiene más sentido, ya que  proporciona información de lo alto que subieron los valores de la acción en un día determinado.\n",
        "\n"
      ],
      "metadata": {
        "id": "KZgYA3y3zaxz"
      }
    },
    {
      "cell_type": "code",
      "source": [
        "print(dataset.describe())\n",
        "print(dataset.isna().sum())"
      ],
      "metadata": {
        "colab": {
          "base_uri": "https://localhost:8080/"
        },
        "id": "SOzUxy4jz3Gf",
        "outputId": "edf4c9bf-4fb5-4649-8501-6408a95fb521"
      },
      "execution_count": 22,
      "outputs": [
        {
          "output_type": "stream",
          "name": "stdout",
          "text": [
            "              Open         High          Low        Close        Volume\n",
            "count  4733.000000  4733.000000  4733.000000  4733.000000  4.733000e+03\n",
            "mean    157.218445   158.751430   155.650434   157.248719  1.062101e+07\n",
            "std     151.827873   153.182400   150.433224   151.846666  1.632991e+07\n",
            "min       3.677800     4.024589     3.668674     4.006337  6.411000e+05\n",
            "25%      24.703870    25.007020    24.386382    24.721483  3.020000e+06\n",
            "50%      87.602214    88.402167    86.976627    87.724739  4.742400e+06\n",
            "75%     298.458871   302.054722   294.400031   298.368073  1.062100e+07\n",
            "max     577.330017   582.229980   570.000000   576.309998  3.953430e+08\n",
            "Open      0\n",
            "High      0\n",
            "Low       0\n",
            "Close     0\n",
            "Volume    0\n",
            "dtype: int64\n"
          ]
        }
      ]
    },
    {
      "cell_type": "code",
      "source": [
        "# 2. Función de limpieza específica para tu formato\n",
        "def clean_date_index(df):\n",
        "    \"\"\"\n",
        "    Limpia fechas en formato '2006-05-25 00:00:00-04:00'\n",
        "    convirtiéndolas a datetime sin timezone\n",
        "    \"\"\"\n",
        "    # Extraer solo la parte de la fecha (antes del primer espacio)\n",
        "    clean_dates = [str(date).split()[0] for date in df.index]\n",
        "\n",
        "    # Convertir a datetime\n",
        "    df.index = pd.to_datetime(clean_dates)\n",
        "\n",
        "    return df\n",
        "\n",
        "# 3. Aplicar la limpieza\n",
        "dataset = clean_date_index(dataset)\n",
        "\n",
        "# 4. Verificar el resultado\n",
        "print(\"Formato del índice después de limpieza:\")\n",
        "print(type(dataset.index))\n",
        "print(dataset.index[:5])  # Mostrar las primeras 5 fechas\n",
        "print(\"\\nDatos limpios:\")\n",
        "print(dataset.head())"
      ],
      "metadata": {
        "colab": {
          "base_uri": "https://localhost:8080/"
        },
        "id": "zChKCZWWf5sd",
        "outputId": "02b9816e-a97c-4177-991a-36b0185069f2"
      },
      "execution_count": 25,
      "outputs": [
        {
          "output_type": "stream",
          "name": "stdout",
          "text": [
            "Formato del índice después de limpieza:\n",
            "<class 'pandas.core.indexes.datetimes.DatetimeIndex'>\n",
            "DatetimeIndex(['2006-05-25', '2006-05-26', '2006-05-30', '2006-05-31',\n",
            "               '2006-06-01'],\n",
            "              dtype='datetime64[ns]', freq=None)\n",
            "\n",
            "Datos limpios:\n",
            "                Open      High       Low     Close     Volume\n",
            "2006-05-25  3.677800  4.202548  3.668674  4.197985  395343000\n",
            "2006-05-26  4.225363  4.265517  4.025502  4.100336  103044000\n",
            "2006-05-30  4.103990  4.104902  3.910517  4.015467   49898000\n",
            "2006-05-31  4.047406  4.139579  4.047406  4.101250   30002000\n",
            "2006-06-01  4.100334  4.389630  4.097596  4.335786   62344000\n"
          ]
        }
      ]
    },
    {
      "cell_type": "markdown",
      "source": [
        "### Creamos los conjuntos de entrenamiento y prueba"
      ],
      "metadata": {
        "id": "8tDKV72t0Pt9"
      }
    },
    {
      "cell_type": "code",
      "source": [
        "tstart = 2016\n",
        "tend = 2022\n",
        "\n",
        "def train_test_plot(dataset, tstart, tend):\n",
        "    dataset.loc[f\"{tstart}\":f\"{tend}\", \"High\"].plot(figsize=(16, 4), legend=True)\n",
        "    dataset.loc[f\"{tend+1}\":, \"High\"].plot(figsize=(16, 4), legend=True)\n",
        "    plt.legend([f\"Train (Before {tend+1})\", f\"Test ({tend+1} and beyond)\"])\n",
        "    plt.title(\"MasterCard stock price\")\n",
        "    plt.show()\n",
        "\n",
        "train_test_plot(dataset,tstart,tend)\n"
      ],
      "metadata": {
        "colab": {
          "base_uri": "https://localhost:8080/",
          "height": 200
        },
        "id": "zGKdKMbl3Eia",
        "outputId": "ad459f27-f152-46d1-c270-ab0596a10cf3"
      },
      "execution_count": 28,
      "outputs": [
        {
          "output_type": "display_data",
          "data": {
            "text/plain": [
              "<Figure size 1600x400 with 1 Axes>"
            ],
            "image/png": "[encoded data removed]"
          },
          "metadata": {}
        }
      ]
    },
    {
      "cell_type": "markdown",
      "source": [
        "Este código define una función llamada train_test_plot que recibe tres argumentos: dataset, tstart y tend. El argumento dataset es un DataFrame de pandas que contiene datos sobre el precio de las acciones de MasterCard. Los argumentos tstart y tend son números enteros que representan los años inicial y final de los datos que se van a representar. Dentro de la función, el método loc se utiliza para seleccionar un subconjunto del DataFrame dataset en función de los argumentos tstart y tend. En concreto, se selecciona la columna High del DataFrame para los años comprendidos entre tstart y tend y, a continuación, para los años posteriores a tend+1. Los subconjuntos resultantes se representan con el método plot, con figsize de (16, 4) y legend True. Por último, el módulo plt se utiliza para añadir una leyenda al gráfico, con etiquetas para los datos de entrenamiento y de prueba, así como un título para el gráfico. El gráfico resultante se muestra con el método show. A continuación, se llama a la función train_test_plot con los argumentos dataset, tstart y tend para generar el gráfico.\n",
        "\n",
        "**Preprocesamiento de datos**\n",
        "\n",
        "La función train_test_split divide el conjunto de datos en dos subconjuntos: training_set y test_set.\n",
        "\n",
        "\n"
      ],
      "metadata": {
        "id": "8Kw_2LSmpoQb"
      }
    },
    {
      "cell_type": "code",
      "source": [
        "def train_test_split(dataset, tstart, tend):\n",
        "    \"\"\"\n",
        "    Divide el dataset en conjuntos de entrenamiento y prueba basados en años.\n",
        "\n",
        "    Parámetros:\n",
        "    -----------\n",
        "    dataset : pd.DataFrame\n",
        "        DataFrame con precios de acciones donde el índice es DateTimeIndex\n",
        "    tstart : int\n",
        "        Año inicial para el conjunto de entrenamiento (inclusive)\n",
        "    tend : int\n",
        "        Año final para el conjunto de entrenamiento (inclusive)\n",
        "\n",
        "    Retorna:\n",
        "    --------\n",
        "    tuple: (training_set, test_set)\n",
        "        - training_set: numpy.ndarray con valores 'High' de años de entrenamiento\n",
        "        - test_set: numpy.ndarray con valores 'High' de años de prueba\n",
        "\n",
        "    \"\"\"\n",
        "\n",
        "    # Selección del periodo de entrenamiento (inclusive)\n",
        "    # Usa loc con strings que representan rangos temporales\n",
        "    # f\"{tstart}\":f\"{tend}\" selecciona desde enero de tstart hasta diciembre de tend\n",
        "    train = dataset.loc[f\"{tstart}\":f\"{tend}\", \"High\"].values  # Extrae valores como numpy array\n",
        "\n",
        "    # Selección del periodo de prueba (después de tend hasta el final)\n",
        "    # f\"{tend+1}\": selecciona desde enero de tend+1 en adelante\n",
        "    test = dataset.loc[f\"{tend+1}\":, \"High\"].values  # Extrae valores como numpy array\n",
        "\n",
        "    return train, test\n",
        "\n",
        "# Uso de la función:\n",
        "# Asume que dataset tiene un DateTimeIndex y columna 'High'\n",
        "training_set, test_set = train_test_split(dataset, tstart, tend)"
      ],
      "metadata": {
        "id": "FghscDaIpbzp"
      },
      "execution_count": 29,
      "outputs": []
    },
    {
      "cell_type": "markdown",
      "source": [
        "Este código define una función llamada train_test_split que recibe tres argumentos: dataset, tstart y tend. Dentro de la función, crea dos variables, train y test. train se crea seleccionando la columna \"High\" del DataFRame dataset desde el índice tstart hasta el índice tend (ambos inclusive) y convirtiéndola en una matriz NumPy mediante el atributo values. test se crea seleccionando la columna \"High\" del DataFrame dataset desde el índice tend+1 hasta el final del DataFrame y convirtiéndola en una matriz NumPy mediante el atributo values. Por último, la función devuelve train y test. Fuera de la función, se llama a la función train_test_split con los argumentos dataset, tstart y tend. Las matrices train y test devueltas se asignan a las variables training_set y test_set, respectivamente."
      ],
      "metadata": {
        "id": "MbmJptDxqljC"
      }
    },
    {
      "cell_type": "code",
      "source": [
        "# Inicialización del MinMaxScaler para normalizar datos al rango [0, 1]\n",
        "# - feature_range=(0,1) establece el rango de salida deseado\n",
        "sc = MinMaxScaler(feature_range=(0, 1))\n",
        "\n",
        "# Reformateo del array de entrenamiento a formato 2D requerido por scikit-learn\n",
        "# - reshape(-1, 1) convierte el array 1D [x1, x2,...] a 2D [[x1], [x2],...]\n",
        "# - -1 indica que numpy calcule automáticamente el tamaño de esa dimensión\n",
        "training_set = training_set.reshape(-1, 1)\n",
        "\n",
        "# Aplicación de la normalización (escalado)\n",
        "# - fit_transform() calcula parámetros (mín/máx) y transforma los datos en un solo paso\n",
        "# - Guarda los parámetros de escalado para poder invertirlo después\n",
        "training_set_scaled = sc.fit_transform(training_set)\n",
        "\n",
        "# Estructura resultante:\n",
        "# - training_set_scaled contendrá valores entre 0 y 1\n",
        "# - El objeto 'sc' almacena los parámetros para:\n",
        "#   - sc.inverse_transform() para revertir el escalado\n",
        "#   - sc.transform() para aplicar el mismo escalado a nuevos datos\n"
      ],
      "metadata": {
        "id": "iYP-1QxrqnjR"
      },
      "execution_count": 30,
      "outputs": []
    },
    {
      "cell_type": "code",
      "source": [
        "def split_sequence(sequence, n_steps):\n",
        "    \"\"\"\n",
        "    Divide una secuencia temporal en muestras para entrenamiento de modelos de aprendizaje secuencial.\n",
        "\n",
        "    Parámetros:\n",
        "    -----------\n",
        "    sequence : numpy.ndarray\n",
        "        Array 1D conteniendo la secuencia temporal escalada\n",
        "    n_steps : int\n",
        "        Número de pasos temporales a usar como ventana de entrada (timesteps)\n",
        "\n",
        "    Retorna:\n",
        "    --------\n",
        "    tuple: (X, y)\n",
        "        - X: Array 3D de muestras de entrada (muestras, timesteps, features)\n",
        "        - y: Array 1D de valores objetivo\n",
        "\n",
        "    \"\"\"\n",
        "    X, y = list(), list()\n",
        "    for i in range(len(sequence)):\n",
        "        # Calcula el índice final de la ventana actual\n",
        "        end_ix = i + n_steps\n",
        "        # Verifica si hemos alcanzado el final de la secuencia\n",
        "        if end_ix > len(sequence) - 1:\n",
        "            break\n",
        "        # Extrae la ventana de entrada (seq_x) y el valor objetivo (seq_y)\n",
        "        seq_x, seq_y = sequence[i:end_ix], sequence[end_ix]\n",
        "        X.append(seq_x)\n",
        "        y.append(seq_y)\n",
        "    return np.array(X), np.array(y)\n",
        "\n",
        "# Configuración de parámetros\n",
        "n_steps = 60  # Número de días históricos para predecir el siguiente\n",
        "features = 1   # Usamos solo una característica (precio High)\n",
        "\n",
        "# Aplicación a los datos escalados\n",
        "X_train, y_train = split_sequence(training_set_scaled, n_steps)\n",
        "\n",
        "# Verificación de formas (shapes)\n",
        "print(f\"Forma de X_train: {X_train.shape}\")  # Debería ser (muestras, n_steps, features)\n",
        "print(f\"Forma de y_train: {y_train.shape}\")  # Debería ser (muestras,)\n",
        "\n",
        "# Reformateo para LSTM (muestras, timesteps, features)\n",
        "X_train = X_train.reshape((X_train.shape[0], X_train.shape[1], features))\n",
        "\n",
        "print(\"\\nForma final para LSTM:\")\n",
        "print(f\"X_train: {X_train.shape}\")  # (muestras, 60, 1)\n",
        "print(f\"y_train: {y_train.shape}\")  # (muestras,)"
      ],
      "metadata": {
        "colab": {
          "base_uri": "https://localhost:8080/"
        },
        "id": "YmVxnAhirIe_",
        "outputId": "c2d4f471-cdb8-4a7c-9de7-d77e0efc3f02"
      },
      "execution_count": 31,
      "outputs": [
        {
          "output_type": "stream",
          "name": "stdout",
          "text": [
            "Forma de X_train: (1702, 60, 1)\n",
            "Forma de y_train: (1702, 1)\n",
            "\n",
            "Forma final para LSTM:\n",
            "X_train: (1702, 60, 1)\n",
            "y_train: (1702, 1)\n"
          ]
        }
      ]
    },
    {
      "cell_type": "code",
      "source": [
        "# Reorganización de los datos para el modelo LSTM/RNN\n",
        "\n",
        "\"\"\"\n",
        "Transformación de los datos de entrenamiento a formato 3D requerido por capas recurrentes:\n",
        "\n",
        "Formato requerido:\n",
        "(samples, timesteps, features)\n",
        "\n",
        "Donde:\n",
        "- samples: Número de muestras/ventanas temporales\n",
        "- timesteps: Pasos temporales por muestra (n_steps=60)\n",
        "- features: Variables predictoras (1 = solo precio High)\n",
        "\"\"\"\n",
        "\n",
        "X_train = X_train.reshape(\n",
        "    X_train.shape[0],  # Mantiene el mismo número de muestras (automático con -1)\n",
        "    X_train.shape[1],  # Mantiene los 60 timesteps\n",
        "    features           # 1 feature (podría ser >1 para múltiples variables)\n",
        ")\n",
        "\n",
        "# Verificación de la nueva forma\n",
        "print(\"Forma final de X_train:\", X_train.shape)\n",
        "print(f\"Muestras: {X_train.shape[0]}\")\n",
        "print(f\"Timesteps por muestra: {X_train.shape[1]}\")\n",
        "print(f\"Features por timestep: {X_train.shape[2]}\")\n",
        "\n",
        "# Ejemplo de visualización de una muestra\n",
        "print(\"\\nEjemplo de la primera muestra:\")\n",
        "print(X_train[0])  # Muestra los 60 timesteps con su feature"
      ],
      "metadata": {
        "colab": {
          "base_uri": "https://localhost:8080/"
        },
        "id": "IHdiYxjAruEH",
        "outputId": "fcec5f5f-6d34-4e47-f2c4-53b2cd237f13"
      },
      "execution_count": 32,
      "outputs": [
        {
          "output_type": "stream",
          "name": "stdout",
          "text": [
            "Forma final de X_train: (1702, 60, 1)\n",
            "Muestras: 1702\n",
            "Timesteps por muestra: 60\n",
            "Features por timestep: 1\n",
            "\n",
            "Ejemplo de la primera muestra:\n",
            "[[0.04102738]\n",
            " [0.04174682]\n",
            " [0.03799724]\n",
            " [0.03192972]\n",
            " [0.03153927]\n",
            " [0.028115  ]\n",
            " [0.03042789]\n",
            " [0.03126891]\n",
            " [0.02988716]\n",
            " [0.02264821]\n",
            " [0.02402985]\n",
            " [0.01267579]\n",
            " [0.01739164]\n",
            " [0.02129654]\n",
            " [0.01937408]\n",
            " [0.01730146]\n",
            " [0.01594985]\n",
            " [0.01174458]\n",
            " [0.02255798]\n",
            " [0.02240784]\n",
            " [0.01802243]\n",
            " [0.01507877]\n",
            " [0.01540914]\n",
            " [0.01375704]\n",
            " [0.        ]\n",
            " [0.00447563]\n",
            " [0.00931162]\n",
            " [0.00315394]\n",
            " [0.01060312]\n",
            " [0.01456805]\n",
            " [0.01760186]\n",
            " [0.01715134]\n",
            " [0.01537919]\n",
            " [0.0194943 ]\n",
            " [0.01835282]\n",
            " [0.01507878]\n",
            " [0.01709135]\n",
            " [0.02057558]\n",
            " [0.02129652]\n",
            " [0.02520136]\n",
            " [0.02508123]\n",
            " [0.02523138]\n",
            " [0.026493  ]\n",
            " [0.02405991]\n",
            " [0.01808247]\n",
            " [0.0176019 ]\n",
            " [0.01940412]\n",
            " [0.02228775]\n",
            " [0.02219754]\n",
            " [0.02390967]\n",
            " [0.02577207]\n",
            " [0.02979711]\n",
            " [0.03214008]\n",
            " [0.03271068]\n",
            " [0.03144915]\n",
            " [0.03277072]\n",
            " [0.03072814]\n",
            " [0.03171949]\n",
            " [0.03394225]\n",
            " [0.03733639]]\n"
          ]
        }
      ]
    },
    {
      "cell_type": "markdown",
      "source": [
        "### Modelo LSTM\n",
        "\n",
        "El modelo consta de una capa oculta única de LSTM y una capa de salida. Puedes experimentar con el número de unidades, ya que con más unidades obtendrás mejores resultados. Para este experimento, fijaremos las unidades LSTM en 125, tanh como activación y fijaremos el tamaño de entrada.\n",
        "\n"
      ],
      "metadata": {
        "id": "8Y1Y9blZr_V1"
      }
    },
    {
      "cell_type": "code",
      "source": [
        "# The LSTM architecture\n",
        "model_lstm = Sequential()\n",
        "model_lstm.add(LSTM(units=125, activation=\"tanh\", input_shape=(n_steps, features)))\n",
        "model_lstm.add(Dense(units=1))\n",
        "# Compiling the model\n",
        "model_lstm.compile(optimizer=\"RMSprop\", loss=\"mse\")\n",
        "\n",
        "model_lstm.summary()"
      ],
      "metadata": {
        "colab": {
          "base_uri": "https://localhost:8080/",
          "height": 249
        },
        "id": "c9Pte0MCr-XF",
        "outputId": "2efa62e6-b023-4836-ad34-384f9ebde552"
      },
      "execution_count": 33,
      "outputs": [
        {
          "output_type": "stream",
          "name": "stderr",
          "text": [
            "/usr/local/lib/python3.11/dist-packages/keras/src/layers/rnn/rnn.py:200: UserWarning: Do not pass an `input_shape`/`input_dim` argument to a layer. When using Sequential models, prefer using an `Input(shape)` object as the first layer in the model instead.\n",
            "  super().__init__(**kwargs)\n"
          ]
        },
        {
          "output_type": "display_data",
          "data": {
            "text/plain": [
              "\u001b[1mModel: \"sequential\"\u001b[0m\n"
            ],
            "text/html": [
              "<pre style=\"white-space:pre;overflow-x:auto;line-height:normal;font-family:Menlo,'DejaVu Sans Mono',consolas,'Courier New',monospace\"><span style=\"font-weight: bold\">Model: \"sequential\"</span>\n",
              "</pre>\n"
            ]
          },
          "metadata": {}
        },
        {
          "output_type": "display_data",
          "data": {
            "text/plain": [
              "┏━━━━━━━━━━━━━━━━━━━━━━━━━━━━━━━━━┳━━━━━━━━━━━━━━━━━━━━━━━━┳━━━━━━━━━━━━━━━┓\n",
              "┃\u001b[1m \u001b[0m\u001b[1mLayer (type)                   \u001b[0m\u001b[1m \u001b[0m┃\u001b[1m \u001b[0m\u001b[1mOutput Shape          \u001b[0m\u001b[1m \u001b[0m┃\u001b[1m \u001b[0m\u001b[1m      Param #\u001b[0m\u001b[1m \u001b[0m┃\n",
              "┡━━━━━━━━━━━━━━━━━━━━━━━━━━━━━━━━━╇━━━━━━━━━━━━━━━━━━━━━━━━╇━━━━━━━━━━━━━━━┩\n",
              "│ lstm (\u001b[38;5;33mLSTM\u001b[0m)                     │ (\u001b[38;5;45mNone\u001b[0m, \u001b[38;5;34m125\u001b[0m)            │        \u001b[38;5;34m63,500\u001b[0m │\n",
              "├─────────────────────────────────┼────────────────────────┼───────────────┤\n",
              "│ dense (\u001b[38;5;33mDense\u001b[0m)                   │ (\u001b[38;5;45mNone\u001b[0m, \u001b[38;5;34m1\u001b[0m)              │           \u001b[38;5;34m126\u001b[0m │\n",
              "└─────────────────────────────────┴────────────────────────┴───────────────┘\n"
            ],
            "text/html": [
              "<pre style=\"white-space:pre;overflow-x:auto;line-height:normal;font-family:Menlo,'DejaVu Sans Mono',consolas,'Courier New',monospace\">┏━━━━━━━━━━━━━━━━━━━━━━━━━━━━━━━━━┳━━━━━━━━━━━━━━━━━━━━━━━━┳━━━━━━━━━━━━━━━┓\n",
              "┃<span style=\"font-weight: bold\"> Layer (type)                    </span>┃<span style=\"font-weight: bold\"> Output Shape           </span>┃<span style=\"font-weight: bold\">       Param # </span>┃\n",
              "┡━━━━━━━━━━━━━━━━━━━━━━━━━━━━━━━━━╇━━━━━━━━━━━━━━━━━━━━━━━━╇━━━━━━━━━━━━━━━┩\n",
              "│ lstm (<span style=\"color: #0087ff; text-decoration-color: #0087ff\">LSTM</span>)                     │ (<span style=\"color: #00d7ff; text-decoration-color: #00d7ff\">None</span>, <span style=\"color: #00af00; text-decoration-color: #00af00\">125</span>)            │        <span style=\"color: #00af00; text-decoration-color: #00af00\">63,500</span> │\n",
              "├─────────────────────────────────┼────────────────────────┼───────────────┤\n",
              "│ dense (<span style=\"color: #0087ff; text-decoration-color: #0087ff\">Dense</span>)                   │ (<span style=\"color: #00d7ff; text-decoration-color: #00d7ff\">None</span>, <span style=\"color: #00af00; text-decoration-color: #00af00\">1</span>)              │           <span style=\"color: #00af00; text-decoration-color: #00af00\">126</span> │\n",
              "└─────────────────────────────────┴────────────────────────┴───────────────┘\n",
              "</pre>\n"
            ]
          },
          "metadata": {}
        },
        {
          "output_type": "display_data",
          "data": {
            "text/plain": [
              "\u001b[1m Total params: \u001b[0m\u001b[38;5;34m63,626\u001b[0m (248.54 KB)\n"
            ],
            "text/html": [
              "<pre style=\"white-space:pre;overflow-x:auto;line-height:normal;font-family:Menlo,'DejaVu Sans Mono',consolas,'Courier New',monospace\"><span style=\"font-weight: bold\"> Total params: </span><span style=\"color: #00af00; text-decoration-color: #00af00\">63,626</span> (248.54 KB)\n",
              "</pre>\n"
            ]
          },
          "metadata": {}
        },
        {
          "output_type": "display_data",
          "data": {
            "text/plain": [
              "\u001b[1m Trainable params: \u001b[0m\u001b[38;5;34m63,626\u001b[0m (248.54 KB)\n"
            ],
            "text/html": [
              "<pre style=\"white-space:pre;overflow-x:auto;line-height:normal;font-family:Menlo,'DejaVu Sans Mono',consolas,'Courier New',monospace\"><span style=\"font-weight: bold\"> Trainable params: </span><span style=\"color: #00af00; text-decoration-color: #00af00\">63,626</span> (248.54 KB)\n",
              "</pre>\n"
            ]
          },
          "metadata": {}
        },
        {
          "output_type": "display_data",
          "data": {
            "text/plain": [
              "\u001b[1m Non-trainable params: \u001b[0m\u001b[38;5;34m0\u001b[0m (0.00 B)\n"
            ],
            "text/html": [
              "<pre style=\"white-space:pre;overflow-x:auto;line-height:normal;font-family:Menlo,'DejaVu Sans Mono',consolas,'Courier New',monospace\"><span style=\"font-weight: bold\"> Non-trainable params: </span><span style=\"color: #00af00; text-decoration-color: #00af00\">0</span> (0.00 B)\n",
              "</pre>\n"
            ]
          },
          "metadata": {}
        }
      ]
    },
    {
      "cell_type": "code",
      "source": [
        "model_lstm.fit(X_train, y_train, epochs=50, batch_size=32)"
      ],
      "metadata": {
        "colab": {
          "base_uri": "https://localhost:8080/"
        },
        "id": "ijP5-C2UsRib",
        "outputId": "33d8df99-ed0c-4ce8-b62c-1e6f5e4fbf24"
      },
      "execution_count": 34,
      "outputs": [
        {
          "output_type": "stream",
          "name": "stdout",
          "text": [
            "Epoch 1/50\n",
            "\u001b[1m54/54\u001b[0m \u001b[32m━━━━━━━━━━━━━━━━━━━━\u001b[0m\u001b[37m\u001b[0m \u001b[1m2s\u001b[0m 7ms/step - loss: 0.0587\n",
            "Epoch 2/50\n",
            "\u001b[1m54/54\u001b[0m \u001b[32m━━━━━━━━━━━━━━━━━━━━\u001b[0m\u001b[37m\u001b[0m \u001b[1m1s\u001b[0m 6ms/step - loss: 0.0028\n",
            "Epoch 3/50\n",
            "\u001b[1m54/54\u001b[0m \u001b[32m━━━━━━━━━━━━━━━━━━━━\u001b[0m\u001b[37m\u001b[0m \u001b[1m0s\u001b[0m 5ms/step - loss: 0.0020\n",
            "Epoch 4/50\n",
            "\u001b[1m54/54\u001b[0m \u001b[32m━━━━━━━━━━━━━━━━━━━━\u001b[0m\u001b[37m\u001b[0m \u001b[1m0s\u001b[0m 5ms/step - loss: 0.0016\n",
            "Epoch 5/50\n",
            "\u001b[1m54/54\u001b[0m \u001b[32m━━━━━━━━━━━━━━━━━━━━\u001b[0m\u001b[37m\u001b[0m \u001b[1m0s\u001b[0m 5ms/step - loss: 0.0013\n",
            "Epoch 6/50\n",
            "\u001b[1m54/54\u001b[0m \u001b[32m━━━━━━━━━━━━━━━━━━━━\u001b[0m\u001b[37m\u001b[0m \u001b[1m0s\u001b[0m 5ms/step - loss: 0.0012\n",
            "Epoch 7/50\n",
            "\u001b[1m54/54\u001b[0m \u001b[32m━━━━━━━━━━━━━━━━━━━━\u001b[0m\u001b[37m\u001b[0m \u001b[1m0s\u001b[0m 5ms/step - loss: 0.0010\n",
            "Epoch 8/50\n",
            "\u001b[1m54/54\u001b[0m \u001b[32m━━━━━━━━━━━━━━━━━━━━\u001b[0m\u001b[37m\u001b[0m \u001b[1m0s\u001b[0m 5ms/step - loss: 9.2769e-04\n",
            "Epoch 9/50\n",
            "\u001b[1m54/54\u001b[0m \u001b[32m━━━━━━━━━━━━━━━━━━━━\u001b[0m\u001b[37m\u001b[0m \u001b[1m0s\u001b[0m 5ms/step - loss: 8.3249e-04\n",
            "Epoch 10/50\n",
            "\u001b[1m54/54\u001b[0m \u001b[32m━━━━━━━━━━━━━━━━━━━━\u001b[0m\u001b[37m\u001b[0m \u001b[1m0s\u001b[0m 5ms/step - loss: 7.7521e-04\n",
            "Epoch 11/50\n",
            "\u001b[1m54/54\u001b[0m \u001b[32m━━━━━━━━━━━━━━━━━━━━\u001b[0m\u001b[37m\u001b[0m \u001b[1m0s\u001b[0m 5ms/step - loss: 7.4423e-04\n",
            "Epoch 12/50\n",
            "\u001b[1m54/54\u001b[0m \u001b[32m━━━━━━━━━━━━━━━━━━━━\u001b[0m\u001b[37m\u001b[0m \u001b[1m0s\u001b[0m 5ms/step - loss: 7.3143e-04\n",
            "Epoch 13/50\n",
            "\u001b[1m54/54\u001b[0m \u001b[32m━━━━━━━━━━━━━━━━━━━━\u001b[0m\u001b[37m\u001b[0m \u001b[1m0s\u001b[0m 5ms/step - loss: 7.0915e-04\n",
            "Epoch 14/50\n",
            "\u001b[1m54/54\u001b[0m \u001b[32m━━━━━━━━━━━━━━━━━━━━\u001b[0m\u001b[37m\u001b[0m \u001b[1m0s\u001b[0m 5ms/step - loss: 6.7862e-04\n",
            "Epoch 15/50\n",
            "\u001b[1m54/54\u001b[0m \u001b[32m━━━━━━━━━━━━━━━━━━━━\u001b[0m\u001b[37m\u001b[0m \u001b[1m0s\u001b[0m 5ms/step - loss: 6.7546e-04\n",
            "Epoch 16/50\n",
            "\u001b[1m54/54\u001b[0m \u001b[32m━━━━━━━━━━━━━━━━━━━━\u001b[0m\u001b[37m\u001b[0m \u001b[1m0s\u001b[0m 5ms/step - loss: 6.5674e-04\n",
            "Epoch 17/50\n",
            "\u001b[1m54/54\u001b[0m \u001b[32m━━━━━━━━━━━━━━━━━━━━\u001b[0m\u001b[37m\u001b[0m \u001b[1m0s\u001b[0m 5ms/step - loss: 6.3827e-04\n",
            "Epoch 18/50\n",
            "\u001b[1m54/54\u001b[0m \u001b[32m━━━━━━━━━━━━━━━━━━━━\u001b[0m\u001b[37m\u001b[0m \u001b[1m0s\u001b[0m 5ms/step - loss: 6.1986e-04\n",
            "Epoch 19/50\n",
            "\u001b[1m54/54\u001b[0m \u001b[32m━━━━━━━━━━━━━━━━━━━━\u001b[0m\u001b[37m\u001b[0m \u001b[1m0s\u001b[0m 5ms/step - loss: 6.0215e-04\n",
            "Epoch 20/50\n",
            "\u001b[1m54/54\u001b[0m \u001b[32m━━━━━━━━━━━━━━━━━━━━\u001b[0m\u001b[37m\u001b[0m \u001b[1m0s\u001b[0m 5ms/step - loss: 5.8540e-04\n",
            "Epoch 21/50\n",
            "\u001b[1m54/54\u001b[0m \u001b[32m━━━━━━━━━━━━━━━━━━━━\u001b[0m\u001b[37m\u001b[0m \u001b[1m0s\u001b[0m 5ms/step - loss: 5.6965e-04\n",
            "Epoch 22/50\n",
            "\u001b[1m54/54\u001b[0m \u001b[32m━━━━━━━━━━━━━━━━━━━━\u001b[0m\u001b[37m\u001b[0m \u001b[1m0s\u001b[0m 7ms/step - loss: 5.5491e-04\n",
            "Epoch 23/50\n",
            "\u001b[1m54/54\u001b[0m \u001b[32m━━━━━━━━━━━━━━━━━━━━\u001b[0m\u001b[37m\u001b[0m \u001b[1m1s\u001b[0m 7ms/step - loss: 5.4112e-04\n",
            "Epoch 24/50\n",
            "\u001b[1m54/54\u001b[0m \u001b[32m━━━━━━━━━━━━━━━━━━━━\u001b[0m\u001b[37m\u001b[0m \u001b[1m1s\u001b[0m 7ms/step - loss: 5.2822e-04\n",
            "Epoch 25/50\n",
            "\u001b[1m54/54\u001b[0m \u001b[32m━━━━━━━━━━━━━━━━━━━━\u001b[0m\u001b[37m\u001b[0m \u001b[1m1s\u001b[0m 5ms/step - loss: 5.1615e-04\n",
            "Epoch 26/50\n",
            "\u001b[1m54/54\u001b[0m \u001b[32m━━━━━━━━━━━━━━━━━━━━\u001b[0m\u001b[37m\u001b[0m \u001b[1m0s\u001b[0m 5ms/step - loss: 5.0485e-04\n",
            "Epoch 27/50\n",
            "\u001b[1m54/54\u001b[0m \u001b[32m━━━━━━━━━━━━━━━━━━━━\u001b[0m\u001b[37m\u001b[0m \u001b[1m0s\u001b[0m 5ms/step - loss: 4.9424e-04\n",
            "Epoch 28/50\n",
            "\u001b[1m54/54\u001b[0m \u001b[32m━━━━━━━━━━━━━━━━━━━━\u001b[0m\u001b[37m\u001b[0m \u001b[1m0s\u001b[0m 5ms/step - loss: 4.8428e-04\n",
            "Epoch 29/50\n",
            "\u001b[1m54/54\u001b[0m \u001b[32m━━━━━━━━━━━━━━━━━━━━\u001b[0m\u001b[37m\u001b[0m \u001b[1m0s\u001b[0m 5ms/step - loss: 4.7490e-04\n",
            "Epoch 30/50\n",
            "\u001b[1m54/54\u001b[0m \u001b[32m━━━━━━━━━━━━━━━━━━━━\u001b[0m\u001b[37m\u001b[0m \u001b[1m0s\u001b[0m 5ms/step - loss: 4.6606e-04\n",
            "Epoch 31/50\n",
            "\u001b[1m54/54\u001b[0m \u001b[32m━━━━━━━━━━━━━━━━━━━━\u001b[0m\u001b[37m\u001b[0m \u001b[1m0s\u001b[0m 5ms/step - loss: 4.5772e-04\n",
            "Epoch 32/50\n",
            "\u001b[1m54/54\u001b[0m \u001b[32m━━━━━━━━━━━━━━━━━━━━\u001b[0m\u001b[37m\u001b[0m \u001b[1m0s\u001b[0m 5ms/step - loss: 4.4983e-04\n",
            "Epoch 33/50\n",
            "\u001b[1m54/54\u001b[0m \u001b[32m━━━━━━━━━━━━━━━━━━━━\u001b[0m\u001b[37m\u001b[0m \u001b[1m0s\u001b[0m 5ms/step - loss: 4.4236e-04\n",
            "Epoch 34/50\n",
            "\u001b[1m54/54\u001b[0m \u001b[32m━━━━━━━━━━━━━━━━━━━━\u001b[0m\u001b[37m\u001b[0m \u001b[1m0s\u001b[0m 5ms/step - loss: 4.3529e-04\n",
            "Epoch 35/50\n",
            "\u001b[1m54/54\u001b[0m \u001b[32m━━━━━━━━━━━━━━━━━━━━\u001b[0m\u001b[37m\u001b[0m \u001b[1m0s\u001b[0m 5ms/step - loss: 4.2857e-04\n",
            "Epoch 36/50\n",
            "\u001b[1m54/54\u001b[0m \u001b[32m━━━━━━━━━━━━━━━━━━━━\u001b[0m\u001b[37m\u001b[0m \u001b[1m0s\u001b[0m 5ms/step - loss: 4.2219e-04\n",
            "Epoch 37/50\n",
            "\u001b[1m54/54\u001b[0m \u001b[32m━━━━━━━━━━━━━━━━━━━━\u001b[0m\u001b[37m\u001b[0m \u001b[1m0s\u001b[0m 5ms/step - loss: 4.1613e-04\n",
            "Epoch 38/50\n",
            "\u001b[1m54/54\u001b[0m \u001b[32m━━━━━━━━━━━━━━━━━━━━\u001b[0m\u001b[37m\u001b[0m \u001b[1m0s\u001b[0m 5ms/step - loss: 4.1035e-04\n",
            "Epoch 39/50\n",
            "\u001b[1m54/54\u001b[0m \u001b[32m━━━━━━━━━━━━━━━━━━━━\u001b[0m\u001b[37m\u001b[0m \u001b[1m0s\u001b[0m 5ms/step - loss: 4.0485e-04\n",
            "Epoch 40/50\n",
            "\u001b[1m54/54\u001b[0m \u001b[32m━━━━━━━━━━━━━━━━━━━━\u001b[0m\u001b[37m\u001b[0m \u001b[1m0s\u001b[0m 5ms/step - loss: 3.9959e-04\n",
            "Epoch 41/50\n",
            "\u001b[1m54/54\u001b[0m \u001b[32m━━━━━━━━━━━━━━━━━━━━\u001b[0m\u001b[37m\u001b[0m \u001b[1m0s\u001b[0m 5ms/step - loss: 3.9458e-04\n",
            "Epoch 42/50\n",
            "\u001b[1m54/54\u001b[0m \u001b[32m━━━━━━━━━━━━━━━━━━━━\u001b[0m\u001b[37m\u001b[0m \u001b[1m0s\u001b[0m 5ms/step - loss: 3.8978e-04\n",
            "Epoch 43/50\n",
            "\u001b[1m54/54\u001b[0m \u001b[32m━━━━━━━━━━━━━━━━━━━━\u001b[0m\u001b[37m\u001b[0m \u001b[1m0s\u001b[0m 5ms/step - loss: 3.8518e-04\n",
            "Epoch 44/50\n",
            "\u001b[1m54/54\u001b[0m \u001b[32m━━━━━━━━━━━━━━━━━━━━\u001b[0m\u001b[37m\u001b[0m \u001b[1m0s\u001b[0m 5ms/step - loss: 3.8077e-04\n",
            "Epoch 45/50\n",
            "\u001b[1m54/54\u001b[0m \u001b[32m━━━━━━━━━━━━━━━━━━━━\u001b[0m\u001b[37m\u001b[0m \u001b[1m0s\u001b[0m 5ms/step - loss: 3.7654e-04\n",
            "Epoch 46/50\n",
            "\u001b[1m54/54\u001b[0m \u001b[32m━━━━━━━━━━━━━━━━━━━━\u001b[0m\u001b[37m\u001b[0m \u001b[1m0s\u001b[0m 5ms/step - loss: 3.7247e-04\n",
            "Epoch 47/50\n",
            "\u001b[1m54/54\u001b[0m \u001b[32m━━━━━━━━━━━━━━━━━━━━\u001b[0m\u001b[37m\u001b[0m \u001b[1m0s\u001b[0m 5ms/step - loss: 3.6856e-04\n",
            "Epoch 48/50\n",
            "\u001b[1m54/54\u001b[0m \u001b[32m━━━━━━━━━━━━━━━━━━━━\u001b[0m\u001b[37m\u001b[0m \u001b[1m0s\u001b[0m 5ms/step - loss: 3.6480e-04\n",
            "Epoch 49/50\n",
            "\u001b[1m54/54\u001b[0m \u001b[32m━━━━━━━━━━━━━━━━━━━━\u001b[0m\u001b[37m\u001b[0m \u001b[1m0s\u001b[0m 5ms/step - loss: 3.6118e-04\n",
            "Epoch 50/50\n",
            "\u001b[1m54/54\u001b[0m \u001b[32m━━━━━━━━━━━━━━━━━━━━\u001b[0m\u001b[37m\u001b[0m \u001b[1m0s\u001b[0m 5ms/step - loss: 3.5770e-04\n"
          ]
        },
        {
          "output_type": "execute_result",
          "data": {
            "text/plain": [
              "<keras.src.callbacks.history.History at 0x79cae0128310>"
            ]
          },
          "metadata": {},
          "execution_count": 34
        }
      ]
    },
    {
      "cell_type": "code",
      "source": [
        "dataset_total = dataset.loc[:,\"High\"]\n",
        "inputs = dataset_total[len(dataset_total) - len(test_set) - n_steps :].values\n",
        "inputs = inputs.reshape(-1, 1)\n",
        "#scaling\n",
        "inputs = sc.transform(inputs)\n",
        "\n",
        "# Split into samples\n",
        "X_test, y_test = split_sequence(inputs, n_steps)\n",
        "# reshape\n",
        "X_test = X_test.reshape(X_test.shape[0], X_test.shape[1], features)\n",
        "#prediction\n",
        "predicted_stock_price = model_lstm.predict(X_test)\n",
        "#inverse transform the values\n",
        "predicted_stock_price = sc.inverse_transform(predicted_stock_price)\n"
      ],
      "metadata": {
        "colab": {
          "base_uri": "https://localhost:8080/"
        },
        "id": "M3iBi2SMsrcc",
        "outputId": "9095d4bf-57e1-49e6-ce01-402cb28cc246"
      },
      "execution_count": 35,
      "outputs": [
        {
          "output_type": "stream",
          "name": "stdout",
          "text": [
            "\u001b[1m18/18\u001b[0m \u001b[32m━━━━━━━━━━━━━━━━━━━━\u001b[0m\u001b[37m\u001b[0m \u001b[1m0s\u001b[0m 8ms/step\n"
          ]
        }
      ]
    },
    {
      "cell_type": "code",
      "source": [
        "def plot_predictions(test, predicted):\n",
        "    \"\"\"\n",
        "    Visualiza comparación entre valores reales y predicciones del modelo.\n",
        "\n",
        "    Parámetros:\n",
        "    -----------\n",
        "    test : array-like\n",
        "        Valores reales de la serie temporal (normalmente el conjunto de prueba)\n",
        "    predicted : array-like\n",
        "        Valores predichos por el modelo (misma longitud que 'test')\n",
        "\n",
        "    Características del gráfico:\n",
        "    - Línea gris: Datos reales\n",
        "    - Línea roja: Predicciones\n",
        "    - Título y etiquetas descriptivas\n",
        "    - Leyenda para diferenciar series\n",
        "    \"\"\"\n",
        "    plt.figure(figsize=(12, 6))  # Tamaño óptimo para series temporales\n",
        "    plt.plot(test, color=\"gray\", linewidth=2, label=\"Real\")\n",
        "    plt.plot(predicted, color=\"red\", linewidth=1.5, linestyle=\"--\", label=\"Predicted\")\n",
        "    plt.title(\"MasterCard Stock Price Prediction\", fontsize=14, pad=20)\n",
        "    plt.xlabel(\"Time\", fontsize=12)\n",
        "    plt.ylabel(\"MasterCard Stock Price (USD)\", fontsize=12)\n",
        "    plt.legend(fontsize=12, loc='upper left')\n",
        "    plt.grid(alpha=0.3)  # Grid suave para mejor lectura\n",
        "    plt.tight_layout()\n",
        "    plt.show()\n",
        "\n",
        "\n",
        "def return_rmse(test, predicted):\n",
        "    \"\"\"\n",
        "    Calcula e imprime el Error Cuadrático Medio (RMSE) entre valores reales y predicciones.\n",
        "\n",
        "    Parámetros:\n",
        "    -----------\n",
        "    test : array-like\n",
        "        Valores reales (ground truth)\n",
        "    predicted : array-like\n",
        "        Valores predichos por el modelo\n",
        "\n",
        "    RMSE (Root Mean Squared Error):\n",
        "    - Métrica estándar para evaluar modelos de series temporales\n",
        "    - Penaliza más los errores grandes (por el cuadrado)\n",
        "    - Misma unidad que la variable original (por la raíz cuadrada)\n",
        "    - Mientras más bajo, mejor el modelo\n",
        "\n",
        "    Salida:\n",
        "    - Imprime el valor con 2 decimales\n",
        "    - No retorna valor (solo imprime)\n",
        "    \"\"\"\n",
        "    rmse = np.sqrt(mean_squared_error(test, predicted))\n",
        "    print(\"\\nResultado de evaluación:\")\n",
        "    print(f\"The root mean squared error is {rmse:.2f}.\")\n",
        "    print(f\"En porcentaje del rango: {(rmse/(test.max()-test.min()))*100:.2f}%\")  # Contexto adicional"
      ],
      "metadata": {
        "id": "iIQlK3vSs58l"
      },
      "execution_count": 36,
      "outputs": []
    },
    {
      "cell_type": "code",
      "source": [
        "plot_predictions(test_set,predicted_stock_price)\n"
      ],
      "metadata": {
        "colab": {
          "base_uri": "https://localhost:8080/",
          "height": 350
        },
        "id": "-XW7sOZztNou",
        "outputId": "85c7d5e0-5950-4f0a-a557-c4c79ab7adf6"
      },
      "execution_count": 37,
      "outputs": [
        {
          "output_type": "display_data",
          "data": {
            "text/plain": [
              "<Figure size 1200x600 with 1 Axes>"
            ],
            "image/png": "[encoded data removed]"
          },
          "metadata": {}
        }
      ]
    },
    {
      "cell_type": "code",
      "source": [
        "return_rmse(test_set,predicted_stock_price)\n"
      ],
      "metadata": {
        "colab": {
          "base_uri": "https://localhost:8080/"
        },
        "id": "y3W9sYMDtRhz",
        "outputId": "67caeb0b-4258-4eea-b613-d75c8d0478d8"
      },
      "execution_count": 38,
      "outputs": [
        {
          "output_type": "stream",
          "name": "stdout",
          "text": [
            "\n",
            "Resultado de evaluación:\n",
            "The root mean squared error is 5.41.\n",
            "En porcentaje del rango: 2.27%\n"
          ]
        }
      ]
    },
    {
      "cell_type": "markdown",
      "source": [
        "**Modelo GRU**\n",
        "\n",
        "Vamos a mantener todo igual y solo vamos a sustituir la capa LSTM por la capa GRU para comparar adecuadamente los resultados. La estructura del modelo contiene una capa GRU única con 125 unidades y una capa de salida."
      ],
      "metadata": {
        "id": "LDuTcJNktaFK"
      }
    },
    {
      "cell_type": "code",
      "source": [
        "model_gru = Sequential()\n",
        "model_gru.add(GRU(units=125, activation=\"tanh\", input_shape=(n_steps, features)))\n",
        "model_gru.add(Dense(units=1))\n",
        "# Compiling the RNN\n",
        "model_gru.compile(optimizer=\"RMSprop\", loss=\"mse\")\n",
        "\n",
        "model_gru.summary()\n"
      ],
      "metadata": {
        "colab": {
          "base_uri": "https://localhost:8080/",
          "height": 249
        },
        "id": "9q4OZ9QGtXeM",
        "outputId": "bc41044f-f399-44da-f7e9-81a859709f32"
      },
      "execution_count": 39,
      "outputs": [
        {
          "output_type": "stream",
          "name": "stderr",
          "text": [
            "/usr/local/lib/python3.11/dist-packages/keras/src/layers/rnn/rnn.py:200: UserWarning: Do not pass an `input_shape`/`input_dim` argument to a layer. When using Sequential models, prefer using an `Input(shape)` object as the first layer in the model instead.\n",
            "  super().__init__(**kwargs)\n"
          ]
        },
        {
          "output_type": "display_data",
          "data": {
            "text/plain": [
              "\u001b[1mModel: \"sequential_1\"\u001b[0m\n"
            ],
            "text/html": [
              "<pre style=\"white-space:pre;overflow-x:auto;line-height:normal;font-family:Menlo,'DejaVu Sans Mono',consolas,'Courier New',monospace\"><span style=\"font-weight: bold\">Model: \"sequential_1\"</span>\n",
              "</pre>\n"
            ]
          },
          "metadata": {}
        },
        {
          "output_type": "display_data",
          "data": {
            "text/plain": [
              "┏━━━━━━━━━━━━━━━━━━━━━━━━━━━━━━━━━┳━━━━━━━━━━━━━━━━━━━━━━━━┳━━━━━━━━━━━━━━━┓\n",
              "┃\u001b[1m \u001b[0m\u001b[1mLayer (type)                   \u001b[0m\u001b[1m \u001b[0m┃\u001b[1m \u001b[0m\u001b[1mOutput Shape          \u001b[0m\u001b[1m \u001b[0m┃\u001b[1m \u001b[0m\u001b[1m      Param #\u001b[0m\u001b[1m \u001b[0m┃\n",
              "┡━━━━━━━━━━━━━━━━━━━━━━━━━━━━━━━━━╇━━━━━━━━━━━━━━━━━━━━━━━━╇━━━━━━━━━━━━━━━┩\n",
              "│ gru (\u001b[38;5;33mGRU\u001b[0m)                       │ (\u001b[38;5;45mNone\u001b[0m, \u001b[38;5;34m125\u001b[0m)            │        \u001b[38;5;34m48,000\u001b[0m │\n",
              "├─────────────────────────────────┼────────────────────────┼───────────────┤\n",
              "│ dense_1 (\u001b[38;5;33mDense\u001b[0m)                 │ (\u001b[38;5;45mNone\u001b[0m, \u001b[38;5;34m1\u001b[0m)              │           \u001b[38;5;34m126\u001b[0m │\n",
              "└─────────────────────────────────┴────────────────────────┴───────────────┘\n"
            ],
            "text/html": [
              "<pre style=\"white-space:pre;overflow-x:auto;line-height:normal;font-family:Menlo,'DejaVu Sans Mono',consolas,'Courier New',monospace\">┏━━━━━━━━━━━━━━━━━━━━━━━━━━━━━━━━━┳━━━━━━━━━━━━━━━━━━━━━━━━┳━━━━━━━━━━━━━━━┓\n",
              "┃<span style=\"font-weight: bold\"> Layer (type)                    </span>┃<span style=\"font-weight: bold\"> Output Shape           </span>┃<span style=\"font-weight: bold\">       Param # </span>┃\n",
              "┡━━━━━━━━━━━━━━━━━━━━━━━━━━━━━━━━━╇━━━━━━━━━━━━━━━━━━━━━━━━╇━━━━━━━━━━━━━━━┩\n",
              "│ gru (<span style=\"color: #0087ff; text-decoration-color: #0087ff\">GRU</span>)                       │ (<span style=\"color: #00d7ff; text-decoration-color: #00d7ff\">None</span>, <span style=\"color: #00af00; text-decoration-color: #00af00\">125</span>)            │        <span style=\"color: #00af00; text-decoration-color: #00af00\">48,000</span> │\n",
              "├─────────────────────────────────┼────────────────────────┼───────────────┤\n",
              "│ dense_1 (<span style=\"color: #0087ff; text-decoration-color: #0087ff\">Dense</span>)                 │ (<span style=\"color: #00d7ff; text-decoration-color: #00d7ff\">None</span>, <span style=\"color: #00af00; text-decoration-color: #00af00\">1</span>)              │           <span style=\"color: #00af00; text-decoration-color: #00af00\">126</span> │\n",
              "└─────────────────────────────────┴────────────────────────┴───────────────┘\n",
              "</pre>\n"
            ]
          },
          "metadata": {}
        },
        {
          "output_type": "display_data",
          "data": {
            "text/plain": [
              "\u001b[1m Total params: \u001b[0m\u001b[38;5;34m48,126\u001b[0m (187.99 KB)\n"
            ],
            "text/html": [
              "<pre style=\"white-space:pre;overflow-x:auto;line-height:normal;font-family:Menlo,'DejaVu Sans Mono',consolas,'Courier New',monospace\"><span style=\"font-weight: bold\"> Total params: </span><span style=\"color: #00af00; text-decoration-color: #00af00\">48,126</span> (187.99 KB)\n",
              "</pre>\n"
            ]
          },
          "metadata": {}
        },
        {
          "output_type": "display_data",
          "data": {
            "text/plain": [
              "\u001b[1m Trainable params: \u001b[0m\u001b[38;5;34m48,126\u001b[0m (187.99 KB)\n"
            ],
            "text/html": [
              "<pre style=\"white-space:pre;overflow-x:auto;line-height:normal;font-family:Menlo,'DejaVu Sans Mono',consolas,'Courier New',monospace\"><span style=\"font-weight: bold\"> Trainable params: </span><span style=\"color: #00af00; text-decoration-color: #00af00\">48,126</span> (187.99 KB)\n",
              "</pre>\n"
            ]
          },
          "metadata": {}
        },
        {
          "output_type": "display_data",
          "data": {
            "text/plain": [
              "\u001b[1m Non-trainable params: \u001b[0m\u001b[38;5;34m0\u001b[0m (0.00 B)\n"
            ],
            "text/html": [
              "<pre style=\"white-space:pre;overflow-x:auto;line-height:normal;font-family:Menlo,'DejaVu Sans Mono',consolas,'Courier New',monospace\"><span style=\"font-weight: bold\"> Non-trainable params: </span><span style=\"color: #00af00; text-decoration-color: #00af00\">0</span> (0.00 B)\n",
              "</pre>\n"
            ]
          },
          "metadata": {}
        }
      ]
    },
    {
      "cell_type": "code",
      "source": [
        "model_gru.fit(X_train, y_train, epochs=50, batch_size=32)\n"
      ],
      "metadata": {
        "colab": {
          "base_uri": "https://localhost:8080/"
        },
        "id": "UgxuHmg5tiPf",
        "outputId": "325a6bf5-60be-4758-9c76-7867ce1fd409"
      },
      "execution_count": 40,
      "outputs": [
        {
          "output_type": "stream",
          "name": "stdout",
          "text": [
            "Epoch 1/50\n",
            "\u001b[1m54/54\u001b[0m \u001b[32m━━━━━━━━━━━━━━━━━━━━\u001b[0m\u001b[37m\u001b[0m \u001b[1m1s\u001b[0m 7ms/step - loss: 0.0525\n",
            "Epoch 2/50\n",
            "\u001b[1m54/54\u001b[0m \u001b[32m━━━━━━━━━━━━━━━━━━━━\u001b[0m\u001b[37m\u001b[0m \u001b[1m0s\u001b[0m 5ms/step - loss: 0.0020\n",
            "Epoch 3/50\n",
            "\u001b[1m54/54\u001b[0m \u001b[32m━━━━━━━━━━━━━━━━━━━━\u001b[0m\u001b[37m\u001b[0m \u001b[1m1s\u001b[0m 5ms/step - loss: 0.0014\n",
            "Epoch 4/50\n",
            "\u001b[1m54/54\u001b[0m \u001b[32m━━━━━━━━━━━━━━━━━━━━\u001b[0m\u001b[37m\u001b[0m \u001b[1m0s\u001b[0m 5ms/step - loss: 0.0012\n",
            "Epoch 5/50\n",
            "\u001b[1m54/54\u001b[0m \u001b[32m━━━━━━━━━━━━━━━━━━━━\u001b[0m\u001b[37m\u001b[0m \u001b[1m0s\u001b[0m 5ms/step - loss: 9.8191e-04\n",
            "Epoch 6/50\n",
            "\u001b[1m54/54\u001b[0m \u001b[32m━━━━━━━━━━━━━━━━━━━━\u001b[0m\u001b[37m\u001b[0m \u001b[1m0s\u001b[0m 5ms/step - loss: 8.6658e-04\n",
            "Epoch 7/50\n",
            "\u001b[1m54/54\u001b[0m \u001b[32m━━━━━━━━━━━━━━━━━━━━\u001b[0m\u001b[37m\u001b[0m \u001b[1m0s\u001b[0m 5ms/step - loss: 7.8615e-04\n",
            "Epoch 8/50\n",
            "\u001b[1m54/54\u001b[0m \u001b[32m━━━━━━━━━━━━━━━━━━━━\u001b[0m\u001b[37m\u001b[0m \u001b[1m0s\u001b[0m 5ms/step - loss: 7.2653e-04\n",
            "Epoch 9/50\n",
            "\u001b[1m54/54\u001b[0m \u001b[32m━━━━━━━━━━━━━━━━━━━━\u001b[0m\u001b[37m\u001b[0m \u001b[1m0s\u001b[0m 7ms/step - loss: 6.7974e-04\n",
            "Epoch 10/50\n",
            "\u001b[1m54/54\u001b[0m \u001b[32m━━━━━━━━━━━━━━━━━━━━\u001b[0m\u001b[37m\u001b[0m \u001b[1m0s\u001b[0m 6ms/step - loss: 6.4125e-04\n",
            "Epoch 11/50\n",
            "\u001b[1m54/54\u001b[0m \u001b[32m━━━━━━━━━━━━━━━━━━━━\u001b[0m\u001b[37m\u001b[0m \u001b[1m1s\u001b[0m 7ms/step - loss: 6.0755e-04\n",
            "Epoch 12/50\n",
            "\u001b[1m54/54\u001b[0m \u001b[32m━━━━━━━━━━━━━━━━━━━━\u001b[0m\u001b[37m\u001b[0m \u001b[1m0s\u001b[0m 7ms/step - loss: 5.6997e-04\n",
            "Epoch 13/50\n",
            "\u001b[1m54/54\u001b[0m \u001b[32m━━━━━━━━━━━━━━━━━━━━\u001b[0m\u001b[37m\u001b[0m \u001b[1m0s\u001b[0m 5ms/step - loss: 5.6760e-04\n",
            "Epoch 14/50\n",
            "\u001b[1m54/54\u001b[0m \u001b[32m━━━━━━━━━━━━━━━━━━━━\u001b[0m\u001b[37m\u001b[0m \u001b[1m0s\u001b[0m 5ms/step - loss: 5.5310e-04\n",
            "Epoch 15/50\n",
            "\u001b[1m54/54\u001b[0m \u001b[32m━━━━━━━━━━━━━━━━━━━━\u001b[0m\u001b[37m\u001b[0m \u001b[1m0s\u001b[0m 5ms/step - loss: 5.3718e-04\n",
            "Epoch 16/50\n",
            "\u001b[1m54/54\u001b[0m \u001b[32m━━━━━━━━━━━━━━━━━━━━\u001b[0m\u001b[37m\u001b[0m \u001b[1m0s\u001b[0m 5ms/step - loss: 5.2207e-04\n",
            "Epoch 17/50\n",
            "\u001b[1m54/54\u001b[0m \u001b[32m━━━━━━━━━━━━━━━━━━━━\u001b[0m\u001b[37m\u001b[0m \u001b[1m0s\u001b[0m 5ms/step - loss: 5.0838e-04\n",
            "Epoch 18/50\n",
            "\u001b[1m54/54\u001b[0m \u001b[32m━━━━━━━━━━━━━━━━━━━━\u001b[0m\u001b[37m\u001b[0m \u001b[1m0s\u001b[0m 5ms/step - loss: 4.9613e-04\n",
            "Epoch 19/50\n",
            "\u001b[1m54/54\u001b[0m \u001b[32m━━━━━━━━━━━━━━━━━━━━\u001b[0m\u001b[37m\u001b[0m \u001b[1m0s\u001b[0m 5ms/step - loss: 4.8510e-04\n",
            "Epoch 20/50\n",
            "\u001b[1m54/54\u001b[0m \u001b[32m━━━━━━━━━━━━━━━━━━━━\u001b[0m\u001b[37m\u001b[0m \u001b[1m0s\u001b[0m 5ms/step - loss: 4.7508e-04\n",
            "Epoch 21/50\n",
            "\u001b[1m54/54\u001b[0m \u001b[32m━━━━━━━━━━━━━━━━━━━━\u001b[0m\u001b[37m\u001b[0m \u001b[1m0s\u001b[0m 5ms/step - loss: 4.6590e-04\n",
            "Epoch 22/50\n",
            "\u001b[1m54/54\u001b[0m \u001b[32m━━━━━━━━━━━━━━━━━━━━\u001b[0m\u001b[37m\u001b[0m \u001b[1m0s\u001b[0m 5ms/step - loss: 4.5743e-04\n",
            "Epoch 23/50\n",
            "\u001b[1m54/54\u001b[0m \u001b[32m━━━━━━━━━━━━━━━━━━━━\u001b[0m\u001b[37m\u001b[0m \u001b[1m0s\u001b[0m 5ms/step - loss: 4.4960e-04\n",
            "Epoch 24/50\n",
            "\u001b[1m54/54\u001b[0m \u001b[32m━━━━━━━━━━━━━━━━━━━━\u001b[0m\u001b[37m\u001b[0m \u001b[1m0s\u001b[0m 5ms/step - loss: 4.4231e-04\n",
            "Epoch 25/50\n",
            "\u001b[1m54/54\u001b[0m \u001b[32m━━━━━━━━━━━━━━━━━━━━\u001b[0m\u001b[37m\u001b[0m \u001b[1m0s\u001b[0m 5ms/step - loss: 4.3550e-04\n",
            "Epoch 26/50\n",
            "\u001b[1m54/54\u001b[0m \u001b[32m━━━━━━━━━━━━━━━━━━━━\u001b[0m\u001b[37m\u001b[0m \u001b[1m0s\u001b[0m 5ms/step - loss: 4.2913e-04\n",
            "Epoch 27/50\n",
            "\u001b[1m54/54\u001b[0m \u001b[32m━━━━━━━━━━━━━━━━━━━━\u001b[0m\u001b[37m\u001b[0m \u001b[1m0s\u001b[0m 5ms/step - loss: 4.2314e-04\n",
            "Epoch 28/50\n",
            "\u001b[1m54/54\u001b[0m \u001b[32m━━━━━━━━━━━━━━━━━━━━\u001b[0m\u001b[37m\u001b[0m \u001b[1m0s\u001b[0m 5ms/step - loss: 4.1749e-04\n",
            "Epoch 29/50\n",
            "\u001b[1m54/54\u001b[0m \u001b[32m━━━━━━━━━━━━━━━━━━━━\u001b[0m\u001b[37m\u001b[0m \u001b[1m0s\u001b[0m 5ms/step - loss: 4.1216e-04\n",
            "Epoch 30/50\n",
            "\u001b[1m54/54\u001b[0m \u001b[32m━━━━━━━━━━━━━━━━━━━━\u001b[0m\u001b[37m\u001b[0m \u001b[1m0s\u001b[0m 5ms/step - loss: 4.0711e-04\n",
            "Epoch 31/50\n",
            "\u001b[1m54/54\u001b[0m \u001b[32m━━━━━━━━━━━━━━━━━━━━\u001b[0m\u001b[37m\u001b[0m \u001b[1m0s\u001b[0m 5ms/step - loss: 4.0233e-04\n",
            "Epoch 32/50\n",
            "\u001b[1m54/54\u001b[0m \u001b[32m━━━━━━━━━━━━━━━━━━━━\u001b[0m\u001b[37m\u001b[0m \u001b[1m0s\u001b[0m 5ms/step - loss: 3.9777e-04\n",
            "Epoch 33/50\n",
            "\u001b[1m54/54\u001b[0m \u001b[32m━━━━━━━━━━━━━━━━━━━━\u001b[0m\u001b[37m\u001b[0m \u001b[1m0s\u001b[0m 5ms/step - loss: 3.9343e-04\n",
            "Epoch 34/50\n",
            "\u001b[1m54/54\u001b[0m \u001b[32m━━━━━━━━━━━━━━━━━━━━\u001b[0m\u001b[37m\u001b[0m \u001b[1m0s\u001b[0m 5ms/step - loss: 3.8929e-04\n",
            "Epoch 35/50\n",
            "\u001b[1m54/54\u001b[0m \u001b[32m━━━━━━━━━━━━━━━━━━━━\u001b[0m\u001b[37m\u001b[0m \u001b[1m0s\u001b[0m 5ms/step - loss: 3.8534e-04\n",
            "Epoch 36/50\n",
            "\u001b[1m54/54\u001b[0m \u001b[32m━━━━━━━━━━━━━━━━━━━━\u001b[0m\u001b[37m\u001b[0m \u001b[1m0s\u001b[0m 5ms/step - loss: 3.8154e-04\n",
            "Epoch 37/50\n",
            "\u001b[1m54/54\u001b[0m \u001b[32m━━━━━━━━━━━━━━━━━━━━\u001b[0m\u001b[37m\u001b[0m \u001b[1m0s\u001b[0m 5ms/step - loss: 3.7791e-04\n",
            "Epoch 38/50\n",
            "\u001b[1m54/54\u001b[0m \u001b[32m━━━━━━━━━━━━━━━━━━━━\u001b[0m\u001b[37m\u001b[0m \u001b[1m0s\u001b[0m 5ms/step - loss: 3.7441e-04\n",
            "Epoch 39/50\n",
            "\u001b[1m54/54\u001b[0m \u001b[32m━━━━━━━━━━━━━━━━━━━━\u001b[0m\u001b[37m\u001b[0m \u001b[1m0s\u001b[0m 5ms/step - loss: 3.7105e-04\n",
            "Epoch 40/50\n",
            "\u001b[1m54/54\u001b[0m \u001b[32m━━━━━━━━━━━━━━━━━━━━\u001b[0m\u001b[37m\u001b[0m \u001b[1m0s\u001b[0m 5ms/step - loss: 3.6780e-04\n",
            "Epoch 41/50\n",
            "\u001b[1m54/54\u001b[0m \u001b[32m━━━━━━━━━━━━━━━━━━━━\u001b[0m\u001b[37m\u001b[0m \u001b[1m0s\u001b[0m 5ms/step - loss: 3.6468e-04\n",
            "Epoch 42/50\n",
            "\u001b[1m54/54\u001b[0m \u001b[32m━━━━━━━━━━━━━━━━━━━━\u001b[0m\u001b[37m\u001b[0m \u001b[1m0s\u001b[0m 5ms/step - loss: 3.6166e-04\n",
            "Epoch 43/50\n",
            "\u001b[1m54/54\u001b[0m \u001b[32m━━━━━━━━━━━━━━━━━━━━\u001b[0m\u001b[37m\u001b[0m \u001b[1m0s\u001b[0m 5ms/step - loss: 3.5874e-04\n",
            "Epoch 44/50\n",
            "\u001b[1m54/54\u001b[0m \u001b[32m━━━━━━━━━━━━━━━━━━━━\u001b[0m\u001b[37m\u001b[0m \u001b[1m0s\u001b[0m 5ms/step - loss: 3.5592e-04\n",
            "Epoch 45/50\n",
            "\u001b[1m54/54\u001b[0m \u001b[32m━━━━━━━━━━━━━━━━━━━━\u001b[0m\u001b[37m\u001b[0m \u001b[1m0s\u001b[0m 5ms/step - loss: 3.5319e-04\n",
            "Epoch 46/50\n",
            "\u001b[1m54/54\u001b[0m \u001b[32m━━━━━━━━━━━━━━━━━━━━\u001b[0m\u001b[37m\u001b[0m \u001b[1m0s\u001b[0m 5ms/step - loss: 3.5055e-04\n",
            "Epoch 47/50\n",
            "\u001b[1m54/54\u001b[0m \u001b[32m━━━━━━━━━━━━━━━━━━━━\u001b[0m\u001b[37m\u001b[0m \u001b[1m0s\u001b[0m 5ms/step - loss: 3.4799e-04\n",
            "Epoch 48/50\n",
            "\u001b[1m54/54\u001b[0m \u001b[32m━━━━━━━━━━━━━━━━━━━━\u001b[0m\u001b[37m\u001b[0m \u001b[1m0s\u001b[0m 7ms/step - loss: 3.4550e-04\n",
            "Epoch 49/50\n",
            "\u001b[1m54/54\u001b[0m \u001b[32m━━━━━━━━━━━━━━━━━━━━\u001b[0m\u001b[37m\u001b[0m \u001b[1m0s\u001b[0m 7ms/step - loss: 3.4309e-04\n",
            "Epoch 50/50\n",
            "\u001b[1m54/54\u001b[0m \u001b[32m━━━━━━━━━━━━━━━━━━━━\u001b[0m\u001b[37m\u001b[0m \u001b[1m1s\u001b[0m 7ms/step - loss: 3.4075e-04\n"
          ]
        },
        {
          "output_type": "execute_result",
          "data": {
            "text/plain": [
              "<keras.src.callbacks.history.History at 0x79cad1fd7710>"
            ]
          },
          "metadata": {},
          "execution_count": 40
        }
      ]
    },
    {
      "cell_type": "code",
      "source": [
        "GRU_predicted_stock_price = model_gru.predict(X_test)\n",
        "GRU_predicted_stock_price = sc.inverse_transform(GRU_predicted_stock_price)\n",
        "plot_predictions(test_set, GRU_predicted_stock_price)\n"
      ],
      "metadata": {
        "colab": {
          "base_uri": "https://localhost:8080/",
          "height": 644
        },
        "id": "4wZinER0tmym",
        "outputId": "df8e058f-f0e9-433f-a57c-b2f6eca4003b"
      },
      "execution_count": 41,
      "outputs": [
        {
          "output_type": "stream",
          "name": "stdout",
          "text": [
            "\u001b[1m18/18\u001b[0m \u001b[32m━━━━━━━━━━━━━━━━━━━━\u001b[0m\u001b[37m\u001b[0m \u001b[1m0s\u001b[0m 8ms/step\n"
          ]
        },
        {
          "output_type": "display_data",
          "data": {
            "text/plain": [
              "<Figure size 1200x600 with 1 Axes>"
            ],
            "image/png": "[encoded data removed]"
          },
          "metadata": {}
        }
      ]
    },
    {
      "cell_type": "code",
      "source": [
        "return_rmse(test_set,GRU_predicted_stock_price)\n"
      ],
      "metadata": {
        "colab": {
          "base_uri": "https://localhost:8080/"
        },
        "id": "nW2JfuPOtyGB",
        "outputId": "5528649f-3aa2-4087-b256-daa3dc707613"
      },
      "execution_count": 42,
      "outputs": [
        {
          "output_type": "stream",
          "name": "stdout",
          "text": [
            "\n",
            "Resultado de evaluación:\n",
            "The root mean squared error is 4.85.\n",
            "En porcentaje del rango: 2.04%\n"
          ]
        }
      ]
    },
    {
      "cell_type": "markdown",
      "source": [
        "ver tutorial original:\n",
        "\n",
        "[https://www.datacamp.com/es/tutorial/tutorial-for-recurrent-neural-network](https://www.datacamp.com/es/tutorial/tutorial-for-recurrent-neural-network)\n"
      ],
      "metadata": {
        "id": "pUA-P-B6uCiS"
      }
    },
    {
      "cell_type": "code",
      "source": [],
      "metadata": {
        "id": "ADpq3XKgt39N"
      },
      "execution_count": null,
      "outputs": []
    }
  ]
}