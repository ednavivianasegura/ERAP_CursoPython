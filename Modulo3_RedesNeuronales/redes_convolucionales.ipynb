{
  "nbformat": 4,
  "nbformat_minor": 0,
  "metadata": {
    "colab": {
      "provenance": [],
      "include_colab_link": true
    },
    "kernelspec": {
      "name": "python3",
      "display_name": "Python 3"
    },
    "language_info": {
      "name": "python"
    }
  },
  "cells": [
    {
      "cell_type": "markdown",
      "metadata": {
        "id": "view-in-github",
        "colab_type": "text"
      },
      "source": [
        "<a href=\"https://colab.research.google.com/github/ednavivianasegura/ERAP_CursoPython/blob/main/Modulo3_RedesNeuronales/redes_convolucionales.ipynb\" target=\"_parent\"><img src=\"https://colab.research.google.com/assets/colab-badge.svg\" alt=\"Open In Colab\"/></a>"
      ]
    },
    {
      "cell_type": "markdown",
      "source": [
        "**Autores:** Edna Viviana Segura Alvarado - Hans Mauricio Carrillo Hernández\n",
        "\n",
        "**Institución:** Universidad de la Rioja\n",
        "\n",
        "**Fecha:** Junio/2025\n",
        "\n",
        "**Clasificación de Imágenes con Redes Neuronales Convolucionales**\n",
        "\n",
        "Las redes neuronales convolucionales son conocidas habitualmente por sus siglas en inglés, CNNs (Convolutional Neural Networks).\n"
      ],
      "metadata": {
        "id": "df4SwpVU5rnw"
      }
    },
    {
      "cell_type": "markdown",
      "source": [
        "### Librerías\n",
        "\n",
        "Verificación versión de TensorFlow"
      ],
      "metadata": {
        "id": "-H9QnSsW6T64"
      }
    },
    {
      "cell_type": "code",
      "source": [
        "import matplotlib.pyplot as plt\n",
        "import random\n",
        "import seaborn as sns\n",
        "import os\n",
        "from PIL import Image\n",
        "import tensorflow as tf\n",
        "import numpy as np\n",
        "import kagglehub\n",
        "from sklearn.metrics import classification_report  #Cálculo de las métricas\n",
        "print(tf.__version__)"
      ],
      "metadata": {
        "id": "0OgmnU6r6Y2M"
      },
      "execution_count": null,
      "outputs": []
    },
    {
      "cell_type": "markdown",
      "source": [
        "Los imágenes a clasificar son tomadas de:\n",
        "\n",
        "Julien de la Bruère-Terreault, conjunto de datos \"Rock-Paper-Scissors Images\", disponible bajo la licencia CC BY-SA 4.0 (https://creativecommons.org/licenses/by-sa/4.0/) en https://www.kaggle.com/datasets/drgfreeman/rockpaperscissors"
      ],
      "metadata": {
        "id": "QOGktUrjGHeC"
      }
    },
    {
      "cell_type": "code",
      "source": [
        "# Clonar repositorio\n",
        "!git clone https://github.com/ednavivianasegura/ERAP_CursoPython/\n",
        "os.chdir(\"/content/ERAP_CursoPython/Modulo2_Fundamentos_AI\")\n",
        "\n"
      ],
      "metadata": {
        "id": "gElhheaSmMbm"
      },
      "execution_count": null,
      "outputs": []
    },
    {
      "cell_type": "code",
      "source": [
        "# Descarga el dataset \"rockpaperscissors\" del usuario \"drgfreeman\" usando Kaggle Hub\n",
        "# Retorna la ruta donde se guardó el dataset descargado\n",
        "path = kagglehub.dataset_download(\"drgfreeman/rockpaperscissors\")\n",
        "\n",
        "# Lista todos los archivos y directorios contenidos en la ruta de descarga\n",
        "# os.listdir() devuelve una lista con los nombres de las entradas en el directorio\n",
        "contenido = os.listdir(path)\n",
        "\n",
        "# Notas importantes:\n",
        "# 1. kagglehub.dataset_download() descarga el dataset en un formato específico de Kaggle\n",
        "# 2. El dataset puede venir en diferentes estructuras:\n",
        "#    - Como directorio con subdirectorios (rock/, paper/, scissors/)\n",
        "#    - Como archivo comprimido (dataset.zip)\n",
        "# 3. Si os.listdir() falla, puede ser porque:\n",
        "#    - La descarga no se completó correctamente\n",
        "#    - El path retornado no es un directorio directamente accesible\n",
        "#    - Se necesitan permisos adicionales\n",
        "\n"
      ],
      "metadata": {
        "id": "8jfaPe41vUXV"
      },
      "execution_count": null,
      "outputs": []
    },
    {
      "cell_type": "code",
      "source": [
        "# Imprime el número de archivos en el directorio 'rock'\n",
        "print(len(os.listdir(path + \"/\" + \"rock\")))  # Muestra cuántas imágenes de 'rock' hay disponibles\n",
        "\n",
        "# Imprime el número de archivos en el directorio 'paper'\n",
        "print(len(os.listdir(path + \"/\" + \"paper\")))  # Muestra cuántas imágenes de 'paper' hay disponibles\n",
        "\n",
        "# Lista TODOS los archivos en el directorio 'scissors' (puede ser mucha salida)\n",
        "print(os.listdir(path + \"/\" + \"scissors\"))  # Muestra los nombres de todos los archivos de 'scissors'"
      ],
      "metadata": {
        "id": "M3w05VDtxSpw"
      },
      "execution_count": null,
      "outputs": []
    },
    {
      "cell_type": "markdown",
      "source": [
        "### Cargar Imágenes del repositorio:\n",
        "\n",
        "Se considera que las imágenes están organizadas por categoría, almacenadas en directorios separados llamados *rock*, *paper* y *scissors*. Dentro de cada uno, los archivos de imagen están nombrados secuencialmente desde 0.png hasta 699.png, representando su número correspondiente.\n"
      ],
      "metadata": {
        "id": "NBP388Qk6PVw"
      }
    },
    {
      "cell_type": "code",
      "source": [
        "# Descripción de clases y su identificador\n",
        "descripcion = (\"paper\", \"rock\", \"scissors\")\n",
        "clases = {\"paper\": 0, \"rock\": 1, \"scissors\": 2}\n",
        "\n",
        "# Número de imágenes de cada clase a considerar (máximo 700)\n",
        "num_img_clase = 700\n",
        "\n",
        "# Porcentajes de división\n",
        "train_ratio = 0.7\n",
        "test_ratio = 0.3\n",
        "\n",
        "# Calcular número de imágenes para entrenamiento y prueba\n",
        "\n",
        "\n",
        "\n",
        "# Inicializar arrays para almacenar los datos\n",
        "\n",
        "\n",
        "\n",
        "\n",
        "# Para cada clase, seleccionar 700 imágenes aleatorias y dividirlas en train/test\n",
        "\n",
        "\n",
        "\n",
        "\n"
      ],
      "metadata": {
        "id": "urQdkT1Tzexq"
      },
      "execution_count": null,
      "outputs": []
    },
    {
      "cell_type": "markdown",
      "source": [
        "# Visualización de imágenes aleatorias"
      ],
      "metadata": {
        "id": "-D03FsJt9Hgv"
      }
    },
    {
      "cell_type": "code",
      "source": [
        "# Crear una figura de matplotlib con tamaño 10x10 pulgadas\n",
        "\n",
        "\n",
        "# Mostrar 100 imágenes en una cuadrícula de 10x10\n",
        "\n"
      ],
      "metadata": {
        "id": "CGuDUltr9IX1"
      },
      "execution_count": null,
      "outputs": []
    },
    {
      "cell_type": "markdown",
      "source": [
        "## Visualización de una sola imagen en tamaño grande"
      ],
      "metadata": {
        "id": "GjJSUv12K9Tp"
      }
    },
    {
      "cell_type": "code",
      "source": [
        "num_aleatorio = random.randint(0, 700)\n",
        "# Crear una nueva figura de matplotlib (tamaño por defecto)\n",
        "\n",
        "\n",
        "# Mostrar la imagen de prueba número aleatorio del conjunto de datos\n",
        "\n",
        "\n",
        "# Añadir una barra de color (colorbar) que indica la escala de valores de píxeles\n"
      ],
      "metadata": {
        "id": "OQiov_a85ap2"
      },
      "execution_count": null,
      "outputs": []
    },
    {
      "cell_type": "code",
      "source": [
        "### Escalar los píxeles de las imágenes del rango [0, 255] al rango [0, 1]\n"
      ],
      "metadata": {
        "id": "B-KOQDFw5yIV"
      },
      "execution_count": null,
      "outputs": []
    },
    {
      "cell_type": "markdown",
      "source": [
        "# Modelo CNN para Clasificación de Imágenes"
      ],
      "metadata": {
        "id": "wZqC92qm9BtP"
      }
    },
    {
      "cell_type": "code",
      "source": [
        "# Definición del modelo secuencial (capas apiladas linealmente)\n"
      ],
      "metadata": {
        "id": "FBXehGP654RF"
      },
      "execution_count": null,
      "outputs": []
    },
    {
      "cell_type": "markdown",
      "source": [
        "# Cofigurarción del Modelo para Entrenamiento"
      ],
      "metadata": {
        "id": "dKcUWbNgEaUd"
      }
    },
    {
      "cell_type": "code",
      "source": [
        "#Compilar"
      ],
      "metadata": {
        "id": "k0FU86yC59hF"
      },
      "execution_count": null,
      "outputs": []
    },
    {
      "cell_type": "markdown",
      "source": [
        "# Entrenamiento de la CNN"
      ],
      "metadata": {
        "id": "Ls3zIAGQFUgl"
      }
    },
    {
      "cell_type": "code",
      "source": [
        "# Entrena la red neuronal con las imágenes y clases del conjunto de entrenamiento.\n",
        "# El proceso se repite durante 10 épocas, es decir, el modelo verá todo el conjunto de datos 10 veces.\n",
        "\n"
      ],
      "metadata": {
        "id": "u72nLupI6CQF"
      },
      "execution_count": null,
      "outputs": []
    },
    {
      "cell_type": "markdown",
      "source": [
        "# Evaluación del modelo"
      ],
      "metadata": {
        "id": "Jr0K2DTuFctt"
      }
    },
    {
      "cell_type": "code",
      "source": [
        "# Evalúa el rendimiento del modelo sobre el conjunto de prueba (imágenes y etiquetas reales)\n",
        "# Retorna la pérdida (loss) y la exactitud (accuracy)\n",
        "\n",
        "\n"
      ],
      "metadata": {
        "id": "bzlGmvCgI6uc"
      },
      "execution_count": null,
      "outputs": []
    },
    {
      "cell_type": "markdown",
      "source": [
        "# Clasificación de las imágenes del conjunto de entrenamiento con la CNN entrenada"
      ],
      "metadata": {
        "id": "OEJUw89HG9K4"
      }
    },
    {
      "cell_type": "code",
      "source": [
        "# Genera predicciones del modelo para las imágenes del conjunto de pruentrenamiento\n",
        "# El resultado será un array con las probabilidades asignadas a cada clase para cada imagen\n"
      ],
      "metadata": {
        "id": "KLRNjpXQeZ2D"
      },
      "execution_count": null,
      "outputs": []
    },
    {
      "cell_type": "code",
      "source": [],
      "metadata": {
        "id": "4B3z7o8remZj"
      },
      "execution_count": null,
      "outputs": []
    },
    {
      "cell_type": "code",
      "source": [],
      "metadata": {
        "id": "eSjccqVzgANC"
      },
      "execution_count": null,
      "outputs": []
    },
    {
      "cell_type": "markdown",
      "source": [
        "# Clasificación de las Imágenes del conjunto de prueba con la CNN entrenada"
      ],
      "metadata": {
        "id": "8m6mYcCGeaMy"
      }
    },
    {
      "cell_type": "code",
      "source": [
        "\n"
      ],
      "metadata": {
        "id": "pM1mSUYW6ook"
      },
      "execution_count": null,
      "outputs": []
    },
    {
      "cell_type": "markdown",
      "source": [
        "# Salida de la CNN para cada imagen del conjunto de prueba"
      ],
      "metadata": {
        "id": "DBZLnGIiHOhF"
      }
    },
    {
      "cell_type": "code",
      "source": [],
      "metadata": {
        "id": "ZHbJgcEH6zJ1"
      },
      "execution_count": null,
      "outputs": []
    },
    {
      "cell_type": "markdown",
      "source": [
        "# Resultado de la evaluación: matriz de confusión:"
      ],
      "metadata": {
        "id": "LvITyWvzHjsh"
      }
    },
    {
      "cell_type": "code",
      "source": [],
      "metadata": {
        "id": "PMrUkZMR8040"
      },
      "execution_count": null,
      "outputs": []
    }
  ]
}